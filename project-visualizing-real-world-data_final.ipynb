{
 "cells": [
  {
   "cell_type": "markdown",
   "metadata": {},
   "source": [
    "# SERIAL KILLERS in NUMBERS"
   ]
  },
  {
   "cell_type": "markdown",
   "metadata": {
    "ExecuteTime": {
     "end_time": "2020-03-14T19:20:53.777147Z",
     "start_time": "2020-03-14T19:20:53.766485Z"
    },
    "code_folding": [
     0
    ]
   },
   "source": [
    "### Libraries"
   ]
  },
  {
   "cell_type": "code",
   "execution_count": 1,
   "metadata": {
    "ExecuteTime": {
     "end_time": "2020-03-14T22:22:53.283412Z",
     "start_time": "2020-03-14T22:22:52.402476Z"
    },
    "code_folding": []
   },
   "outputs": [],
   "source": [
    "import numpy as np\n",
    "import pandas as pd"
   ]
  },
  {
   "cell_type": "markdown",
   "metadata": {
    "ExecuteTime": {
     "end_time": "2020-03-14T19:19:42.534569Z",
     "start_time": "2020-03-14T19:19:42.521575Z"
    },
    "code_folding": [],
    "heading_collapsed": true
   },
   "source": [
    "### Import Data Set"
   ]
  },
  {
   "cell_type": "code",
   "execution_count": 2,
   "metadata": {
    "ExecuteTime": {
     "end_time": "2020-03-14T22:22:53.311420Z",
     "start_time": "2020-03-14T22:22:53.286020Z"
    },
    "code_folding": [],
    "hidden": true
   },
   "outputs": [],
   "source": [
    "serial_killer = pd.read_csv('killers.csv')"
   ]
  },
  {
   "cell_type": "markdown",
   "metadata": {},
   "source": [
    "### Explore DataFrame"
   ]
  },
  {
   "cell_type": "markdown",
   "metadata": {
    "ExecuteTime": {
     "end_time": "2020-03-14T21:56:18.293965Z",
     "start_time": "2020-03-14T21:56:18.290226Z"
    }
   },
   "source": [
    "#### head"
   ]
  },
  {
   "cell_type": "code",
   "execution_count": 3,
   "metadata": {
    "ExecuteTime": {
     "end_time": "2020-03-14T22:22:53.357319Z",
     "start_time": "2020-03-14T22:22:53.314558Z"
    },
    "code_folding": []
   },
   "outputs": [
    {
     "data": {
      "text/html": [
       "<div>\n",
       "<style scoped>\n",
       "    .dataframe tbody tr th:only-of-type {\n",
       "        vertical-align: middle;\n",
       "    }\n",
       "\n",
       "    .dataframe tbody tr th {\n",
       "        vertical-align: top;\n",
       "    }\n",
       "\n",
       "    .dataframe thead th {\n",
       "        text-align: right;\n",
       "    }\n",
       "</style>\n",
       "<table border=\"1\" class=\"dataframe\">\n",
       "  <thead>\n",
       "    <tr style=\"text-align: right;\">\n",
       "      <th></th>\n",
       "      <th>Name</th>\n",
       "      <th>Nickname</th>\n",
       "      <th>Victims</th>\n",
       "      <th>Years Active</th>\n",
       "      <th>Ages Active</th>\n",
       "      <th>Active Countries</th>\n",
       "      <th>Life Span</th>\n",
       "      <th>Gender</th>\n",
       "      <th>Sexual Preference</th>\n",
       "      <th>Astrological Sign</th>\n",
       "      <th>...</th>\n",
       "      <th>Executed</th>\n",
       "      <th>Previous Crimes</th>\n",
       "      <th>Previous Jail</th>\n",
       "      <th>Previous Prison</th>\n",
       "      <th>Death Date</th>\n",
       "      <th>Cause of Death</th>\n",
       "      <th>Death Location</th>\n",
       "      <th>Killed In Prison</th>\n",
       "      <th>Suicide</th>\n",
       "      <th>Unnamed: 37</th>\n",
       "    </tr>\n",
       "  </thead>\n",
       "  <tbody>\n",
       "    <tr>\n",
       "      <th>0</th>\n",
       "      <td>Seminole Heights serial killer</td>\n",
       "      <td>Seminole Heights serial killer, Tampa Bay Seri...</td>\n",
       "      <td>4 - 4</td>\n",
       "      <td>2017,2017</td>\n",
       "      <td>23/24 - 23/24</td>\n",
       "      <td>United States</td>\n",
       "      <td>1993</td>\n",
       "      <td>Male</td>\n",
       "      <td>NaN</td>\n",
       "      <td>Aquarius</td>\n",
       "      <td>...</td>\n",
       "      <td>NaN</td>\n",
       "      <td>True</td>\n",
       "      <td>True</td>\n",
       "      <td>False</td>\n",
       "      <td>NaN</td>\n",
       "      <td>NaN</td>\n",
       "      <td>NaN</td>\n",
       "      <td>NaN</td>\n",
       "      <td>NaN</td>\n",
       "      <td>NaN</td>\n",
       "    </tr>\n",
       "    <tr>\n",
       "      <th>1</th>\n",
       "      <td>Ronald Dominique</td>\n",
       "      <td>The Bayou Strangler</td>\n",
       "      <td>23 - 23</td>\n",
       "      <td>1997,2006</td>\n",
       "      <td>32/33 - 41/42</td>\n",
       "      <td>United States</td>\n",
       "      <td>1964</td>\n",
       "      <td>Male</td>\n",
       "      <td>homosexual</td>\n",
       "      <td>Capricorn</td>\n",
       "      <td>...</td>\n",
       "      <td>NaN</td>\n",
       "      <td>True</td>\n",
       "      <td>True</td>\n",
       "      <td>False</td>\n",
       "      <td>NaN</td>\n",
       "      <td>NaN</td>\n",
       "      <td>NaN</td>\n",
       "      <td>NaN</td>\n",
       "      <td>NaN</td>\n",
       "      <td>NaN</td>\n",
       "    </tr>\n",
       "    <tr>\n",
       "      <th>2</th>\n",
       "      <td>Westley Allan Dodd</td>\n",
       "      <td>The Vancouver Child Killer</td>\n",
       "      <td>3 - 3</td>\n",
       "      <td>1989,1989</td>\n",
       "      <td>27/28 - 27/28</td>\n",
       "      <td>United States</td>\n",
       "      <td>1961,1993</td>\n",
       "      <td>Male</td>\n",
       "      <td>bisexual, pedophile</td>\n",
       "      <td>Cancer</td>\n",
       "      <td>...</td>\n",
       "      <td>Jan 5, 1993 (Age 31)</td>\n",
       "      <td>True</td>\n",
       "      <td>True</td>\n",
       "      <td>False</td>\n",
       "      <td>Jan 5, 1993 (Age 31)</td>\n",
       "      <td>executed by hanging</td>\n",
       "      <td>the Washington State Penitentiary in Walla Wal...</td>\n",
       "      <td>FALSE</td>\n",
       "      <td>False</td>\n",
       "      <td>NaN</td>\n",
       "    </tr>\n",
       "    <tr>\n",
       "      <th>3</th>\n",
       "      <td>John Floyd Thomas, Jr.</td>\n",
       "      <td>Westside Rapist, The Southland Strangler</td>\n",
       "      <td>5 - 25</td>\n",
       "      <td>1957,2009</td>\n",
       "      <td>20/21 - 72/73</td>\n",
       "      <td>United States</td>\n",
       "      <td>1936</td>\n",
       "      <td>Male</td>\n",
       "      <td>heterosexual</td>\n",
       "      <td>Leo</td>\n",
       "      <td>...</td>\n",
       "      <td>NaN</td>\n",
       "      <td>True</td>\n",
       "      <td>True</td>\n",
       "      <td>True</td>\n",
       "      <td>NaN</td>\n",
       "      <td>NaN</td>\n",
       "      <td>NaN</td>\n",
       "      <td>NaN</td>\n",
       "      <td>NaN</td>\n",
       "      <td>NaN</td>\n",
       "    </tr>\n",
       "    <tr>\n",
       "      <th>4</th>\n",
       "      <td>Léopold Dion</td>\n",
       "      <td>Monster of Port-Rouge</td>\n",
       "      <td>4 - 4</td>\n",
       "      <td>1963,1963</td>\n",
       "      <td>42/43 - 42/43</td>\n",
       "      <td>Canada</td>\n",
       "      <td>1920,1972</td>\n",
       "      <td>Male</td>\n",
       "      <td>NaN</td>\n",
       "      <td>Pisces</td>\n",
       "      <td>...</td>\n",
       "      <td>NaN</td>\n",
       "      <td>NaN</td>\n",
       "      <td>NaN</td>\n",
       "      <td>NaN</td>\n",
       "      <td>Nov 17, 1972 (Age 52)</td>\n",
       "      <td>stabbed to death by a fellow inmate</td>\n",
       "      <td>Canada</td>\n",
       "      <td>NaN</td>\n",
       "      <td>NaN</td>\n",
       "      <td>NaN</td>\n",
       "    </tr>\n",
       "  </tbody>\n",
       "</table>\n",
       "<p>5 rows × 38 columns</p>\n",
       "</div>"
      ],
      "text/plain": [
       "                             Name  \\\n",
       "0  Seminole Heights serial killer   \n",
       "1                Ronald Dominique   \n",
       "2              Westley Allan Dodd   \n",
       "3          John Floyd Thomas, Jr.   \n",
       "4                    Léopold Dion   \n",
       "\n",
       "                                            Nickname  Victims Years Active  \\\n",
       "0  Seminole Heights serial killer, Tampa Bay Seri...    4 - 4    2017,2017   \n",
       "1                                The Bayou Strangler  23 - 23    1997,2006   \n",
       "2                         The Vancouver Child Killer    3 - 3    1989,1989   \n",
       "3           Westside Rapist, The Southland Strangler   5 - 25    1957,2009   \n",
       "4                              Monster of Port-Rouge    4 - 4    1963,1963   \n",
       "\n",
       "     Ages Active Active Countries  Life Span Gender    Sexual Preference  \\\n",
       "0  23/24 - 23/24    United States       1993   Male                  NaN   \n",
       "1  32/33 - 41/42    United States       1964   Male           homosexual   \n",
       "2  27/28 - 27/28    United States  1961,1993   Male  bisexual, pedophile   \n",
       "3  20/21 - 72/73    United States       1936   Male         heterosexual   \n",
       "4  42/43 - 42/43           Canada  1920,1972   Male                  NaN   \n",
       "\n",
       "  Astrological Sign  ...              Executed Previous Crimes Previous Jail  \\\n",
       "0          Aquarius  ...                   NaN            True          True   \n",
       "1         Capricorn  ...                   NaN            True          True   \n",
       "2            Cancer  ...  Jan 5, 1993 (Age 31)            True          True   \n",
       "3               Leo  ...                   NaN            True          True   \n",
       "4            Pisces  ...                   NaN             NaN           NaN   \n",
       "\n",
       "  Previous Prison             Death Date                       Cause of Death  \\\n",
       "0           False                    NaN                                  NaN   \n",
       "1           False                    NaN                                  NaN   \n",
       "2           False   Jan 5, 1993 (Age 31)                  executed by hanging   \n",
       "3            True                    NaN                                  NaN   \n",
       "4             NaN  Nov 17, 1972 (Age 52)  stabbed to death by a fellow inmate   \n",
       "\n",
       "                                      Death Location Killed In Prison Suicide  \\\n",
       "0                                                NaN              NaN     NaN   \n",
       "1                                                NaN              NaN     NaN   \n",
       "2  the Washington State Penitentiary in Walla Wal...            FALSE   False   \n",
       "3                                                NaN              NaN     NaN   \n",
       "4                                             Canada              NaN     NaN   \n",
       "\n",
       "  Unnamed: 37  \n",
       "0         NaN  \n",
       "1         NaN  \n",
       "2         NaN  \n",
       "3         NaN  \n",
       "4         NaN  \n",
       "\n",
       "[5 rows x 38 columns]"
      ]
     },
     "execution_count": 3,
     "metadata": {},
     "output_type": "execute_result"
    }
   ],
   "source": [
    "serial_killer.head()"
   ]
  },
  {
   "cell_type": "markdown",
   "metadata": {
    "ExecuteTime": {
     "end_time": "2020-03-14T21:56:39.161985Z",
     "start_time": "2020-03-14T21:56:39.158780Z"
    }
   },
   "source": [
    "#### size"
   ]
  },
  {
   "cell_type": "code",
   "execution_count": 4,
   "metadata": {
    "ExecuteTime": {
     "end_time": "2020-03-14T22:22:53.368225Z",
     "start_time": "2020-03-14T22:22:53.360615Z"
    },
    "code_folding": []
   },
   "outputs": [
    {
     "data": {
      "text/plain": [
       "24700"
      ]
     },
     "execution_count": 4,
     "metadata": {},
     "output_type": "execute_result"
    }
   ],
   "source": [
    "serial_killer.size"
   ]
  },
  {
   "cell_type": "markdown",
   "metadata": {},
   "source": [
    "#### describe"
   ]
  },
  {
   "cell_type": "code",
   "execution_count": 5,
   "metadata": {
    "ExecuteTime": {
     "end_time": "2020-03-14T22:22:53.586960Z",
     "start_time": "2020-03-14T22:22:53.371175Z"
    },
    "code_folding": []
   },
   "outputs": [
    {
     "data": {
      "text/html": [
       "<div>\n",
       "<style scoped>\n",
       "    .dataframe tbody tr th:only-of-type {\n",
       "        vertical-align: middle;\n",
       "    }\n",
       "\n",
       "    .dataframe tbody tr th {\n",
       "        vertical-align: top;\n",
       "    }\n",
       "\n",
       "    .dataframe thead th {\n",
       "        text-align: right;\n",
       "    }\n",
       "</style>\n",
       "<table border=\"1\" class=\"dataframe\">\n",
       "  <thead>\n",
       "    <tr style=\"text-align: right;\">\n",
       "      <th></th>\n",
       "      <th>Name</th>\n",
       "      <th>Nickname</th>\n",
       "      <th>Victims</th>\n",
       "      <th>Years Active</th>\n",
       "      <th>Ages Active</th>\n",
       "      <th>Active Countries</th>\n",
       "      <th>Life Span</th>\n",
       "      <th>Gender</th>\n",
       "      <th>Sexual Preference</th>\n",
       "      <th>Astrological Sign</th>\n",
       "      <th>...</th>\n",
       "      <th>Executed</th>\n",
       "      <th>Previous Crimes</th>\n",
       "      <th>Previous Jail</th>\n",
       "      <th>Previous Prison</th>\n",
       "      <th>Death Date</th>\n",
       "      <th>Cause of Death</th>\n",
       "      <th>Death Location</th>\n",
       "      <th>Killed In Prison</th>\n",
       "      <th>Suicide</th>\n",
       "      <th>Unnamed: 37</th>\n",
       "    </tr>\n",
       "  </thead>\n",
       "  <tbody>\n",
       "    <tr>\n",
       "      <th>count</th>\n",
       "      <td>650</td>\n",
       "      <td>547</td>\n",
       "      <td>650</td>\n",
       "      <td>650</td>\n",
       "      <td>487</td>\n",
       "      <td>650</td>\n",
       "      <td>526</td>\n",
       "      <td>621</td>\n",
       "      <td>374</td>\n",
       "      <td>487</td>\n",
       "      <td>...</td>\n",
       "      <td>110</td>\n",
       "      <td>362</td>\n",
       "      <td>349</td>\n",
       "      <td>334</td>\n",
       "      <td>291</td>\n",
       "      <td>286</td>\n",
       "      <td>295</td>\n",
       "      <td>212</td>\n",
       "      <td>217</td>\n",
       "      <td>2</td>\n",
       "    </tr>\n",
       "    <tr>\n",
       "      <th>unique</th>\n",
       "      <td>649</td>\n",
       "      <td>522</td>\n",
       "      <td>223</td>\n",
       "      <td>462</td>\n",
       "      <td>314</td>\n",
       "      <td>69</td>\n",
       "      <td>299</td>\n",
       "      <td>2</td>\n",
       "      <td>18</td>\n",
       "      <td>12</td>\n",
       "      <td>...</td>\n",
       "      <td>109</td>\n",
       "      <td>2</td>\n",
       "      <td>2</td>\n",
       "      <td>2</td>\n",
       "      <td>290</td>\n",
       "      <td>138</td>\n",
       "      <td>286</td>\n",
       "      <td>4</td>\n",
       "      <td>2</td>\n",
       "      <td>1</td>\n",
       "    </tr>\n",
       "    <tr>\n",
       "      <th>top</th>\n",
       "      <td>Graham Young</td>\n",
       "      <td>Southside Slayer murders</td>\n",
       "      <td>3 - 3</td>\n",
       "      <td>2005,2006</td>\n",
       "      <td>29/30 - 30/31</td>\n",
       "      <td>United States</td>\n",
       "      <td>1962</td>\n",
       "      <td>Male</td>\n",
       "      <td>heterosexual</td>\n",
       "      <td>Capricorn</td>\n",
       "      <td>...</td>\n",
       "      <td>Feb 3, 1903</td>\n",
       "      <td>True</td>\n",
       "      <td>True</td>\n",
       "      <td>False</td>\n",
       "      <td>Feb 3, 1903</td>\n",
       "      <td>executed by hanging</td>\n",
       "      <td>London, capital and largest city of the United...</td>\n",
       "      <td>FALSE</td>\n",
       "      <td>False</td>\n",
       "      <td>False</td>\n",
       "    </tr>\n",
       "    <tr>\n",
       "      <th>freq</th>\n",
       "      <td>2</td>\n",
       "      <td>4</td>\n",
       "      <td>79</td>\n",
       "      <td>7</td>\n",
       "      <td>9</td>\n",
       "      <td>317</td>\n",
       "      <td>16</td>\n",
       "      <td>546</td>\n",
       "      <td>275</td>\n",
       "      <td>55</td>\n",
       "      <td>...</td>\n",
       "      <td>2</td>\n",
       "      <td>295</td>\n",
       "      <td>239</td>\n",
       "      <td>169</td>\n",
       "      <td>2</td>\n",
       "      <td>41</td>\n",
       "      <td>2</td>\n",
       "      <td>199</td>\n",
       "      <td>179</td>\n",
       "      <td>2</td>\n",
       "    </tr>\n",
       "  </tbody>\n",
       "</table>\n",
       "<p>4 rows × 38 columns</p>\n",
       "</div>"
      ],
      "text/plain": [
       "                Name                  Nickname Victims Years Active  \\\n",
       "count            650                       547     650          650   \n",
       "unique           649                       522     223          462   \n",
       "top     Graham Young  Southside Slayer murders   3 - 3    2005,2006   \n",
       "freq               2                         4      79            7   \n",
       "\n",
       "          Ages Active Active Countries Life Span Gender Sexual Preference  \\\n",
       "count             487              650       526    621               374   \n",
       "unique            314               69       299      2                18   \n",
       "top     29/30 - 30/31    United States      1962   Male      heterosexual   \n",
       "freq                9              317        16    546               275   \n",
       "\n",
       "       Astrological Sign  ...     Executed Previous Crimes Previous Jail  \\\n",
       "count                487  ...          110             362           349   \n",
       "unique                12  ...          109               2             2   \n",
       "top            Capricorn  ...  Feb 3, 1903            True          True   \n",
       "freq                  55  ...            2             295           239   \n",
       "\n",
       "       Previous Prison   Death Date       Cause of Death  \\\n",
       "count              334          291                  286   \n",
       "unique               2          290                  138   \n",
       "top              False  Feb 3, 1903  executed by hanging   \n",
       "freq               169            2                   41   \n",
       "\n",
       "                                           Death Location Killed In Prison  \\\n",
       "count                                                 295              212   \n",
       "unique                                                286                4   \n",
       "top     London, capital and largest city of the United...            FALSE   \n",
       "freq                                                    2              199   \n",
       "\n",
       "       Suicide Unnamed: 37  \n",
       "count      217           2  \n",
       "unique       2           1  \n",
       "top      False       False  \n",
       "freq       179           2  \n",
       "\n",
       "[4 rows x 38 columns]"
      ]
     },
     "execution_count": 5,
     "metadata": {},
     "output_type": "execute_result"
    }
   ],
   "source": [
    "serial_killer.describe()"
   ]
  },
  {
   "cell_type": "markdown",
   "metadata": {
    "ExecuteTime": {
     "end_time": "2020-03-14T21:57:16.016428Z",
     "start_time": "2020-03-14T21:57:16.013185Z"
    }
   },
   "source": [
    "#### duplicates"
   ]
  },
  {
   "cell_type": "code",
   "execution_count": 6,
   "metadata": {
    "ExecuteTime": {
     "end_time": "2020-03-14T22:22:53.615977Z",
     "start_time": "2020-03-14T22:22:53.589991Z"
    },
    "code_folding": []
   },
   "outputs": [
    {
     "data": {
      "text/plain": [
       "0"
      ]
     },
     "execution_count": 6,
     "metadata": {},
     "output_type": "execute_result"
    }
   ],
   "source": [
    "serial_killer.duplicated().sum()"
   ]
  },
  {
   "cell_type": "markdown",
   "metadata": {
    "heading_collapsed": true
   },
   "source": [
    "#### nulls"
   ]
  },
  {
   "cell_type": "code",
   "execution_count": 7,
   "metadata": {
    "ExecuteTime": {
     "end_time": "2020-03-14T22:22:53.642052Z",
     "start_time": "2020-03-14T22:22:53.619002Z"
    },
    "code_folding": [],
    "hidden": true
   },
   "outputs": [
    {
     "data": {
      "text/html": [
       "<div>\n",
       "<style scoped>\n",
       "    .dataframe tbody tr th:only-of-type {\n",
       "        vertical-align: middle;\n",
       "    }\n",
       "\n",
       "    .dataframe tbody tr th {\n",
       "        vertical-align: top;\n",
       "    }\n",
       "\n",
       "    .dataframe thead th {\n",
       "        text-align: right;\n",
       "    }\n",
       "</style>\n",
       "<table border=\"1\" class=\"dataframe\">\n",
       "  <thead>\n",
       "    <tr style=\"text-align: right;\">\n",
       "      <th></th>\n",
       "      <th>column_name</th>\n",
       "      <th>percent_missing</th>\n",
       "    </tr>\n",
       "  </thead>\n",
       "  <tbody>\n",
       "    <tr>\n",
       "      <th>Unnamed: 37</th>\n",
       "      <td>Unnamed: 37</td>\n",
       "      <td>99.692308</td>\n",
       "    </tr>\n",
       "    <tr>\n",
       "      <th>Unnamed: 14</th>\n",
       "      <td>Unnamed: 14</td>\n",
       "      <td>88.769231</td>\n",
       "    </tr>\n",
       "    <tr>\n",
       "      <th>Executed</th>\n",
       "      <td>Executed</td>\n",
       "      <td>83.076923</td>\n",
       "    </tr>\n",
       "    <tr>\n",
       "      <th>Birth Order</th>\n",
       "      <td>Birth Order</td>\n",
       "      <td>72.615385</td>\n",
       "    </tr>\n",
       "    <tr>\n",
       "      <th>Birth Category</th>\n",
       "      <td>Birth Category</td>\n",
       "      <td>72.153846</td>\n",
       "    </tr>\n",
       "    <tr>\n",
       "      <th>Highest School</th>\n",
       "      <td>Highest School</td>\n",
       "      <td>71.230769</td>\n",
       "    </tr>\n",
       "    <tr>\n",
       "      <th>Highest Degree</th>\n",
       "      <td>Highest Degree</td>\n",
       "      <td>69.692308</td>\n",
       "    </tr>\n",
       "    <tr>\n",
       "      <th>Killed In Prison</th>\n",
       "      <td>Killed In Prison</td>\n",
       "      <td>67.384615</td>\n",
       "    </tr>\n",
       "    <tr>\n",
       "      <th>Suicide</th>\n",
       "      <td>Suicide</td>\n",
       "      <td>66.615385</td>\n",
       "    </tr>\n",
       "    <tr>\n",
       "      <th>Siblings</th>\n",
       "      <td>Siblings</td>\n",
       "      <td>63.692308</td>\n",
       "    </tr>\n",
       "    <tr>\n",
       "      <th>Mother</th>\n",
       "      <td>Mother</td>\n",
       "      <td>62.307692</td>\n",
       "    </tr>\n",
       "    <tr>\n",
       "      <th>Father</th>\n",
       "      <td>Father</td>\n",
       "      <td>60.923077</td>\n",
       "    </tr>\n",
       "    <tr>\n",
       "      <th>Raised By</th>\n",
       "      <td>Raised By</td>\n",
       "      <td>58.153846</td>\n",
       "    </tr>\n",
       "    <tr>\n",
       "      <th>Cause of Death</th>\n",
       "      <td>Cause of Death</td>\n",
       "      <td>56.000000</td>\n",
       "    </tr>\n",
       "    <tr>\n",
       "      <th>Death Date</th>\n",
       "      <td>Death Date</td>\n",
       "      <td>55.230769</td>\n",
       "    </tr>\n",
       "    <tr>\n",
       "      <th>Death Location</th>\n",
       "      <td>Death Location</td>\n",
       "      <td>54.615385</td>\n",
       "    </tr>\n",
       "    <tr>\n",
       "      <th>Previous Prison</th>\n",
       "      <td>Previous Prison</td>\n",
       "      <td>48.615385</td>\n",
       "    </tr>\n",
       "    <tr>\n",
       "      <th>Living With</th>\n",
       "      <td>Living With</td>\n",
       "      <td>48.307692</td>\n",
       "    </tr>\n",
       "    <tr>\n",
       "      <th>Marital Status</th>\n",
       "      <td>Marital Status</td>\n",
       "      <td>47.384615</td>\n",
       "    </tr>\n",
       "    <tr>\n",
       "      <th>Children</th>\n",
       "      <td>Children</td>\n",
       "      <td>46.923077</td>\n",
       "    </tr>\n",
       "    <tr>\n",
       "      <th>Previous Jail</th>\n",
       "      <td>Previous Jail</td>\n",
       "      <td>46.307692</td>\n",
       "    </tr>\n",
       "    <tr>\n",
       "      <th>Previous Crimes</th>\n",
       "      <td>Previous Crimes</td>\n",
       "      <td>44.307692</td>\n",
       "    </tr>\n",
       "    <tr>\n",
       "      <th>Convicted</th>\n",
       "      <td>Convicted</td>\n",
       "      <td>42.923077</td>\n",
       "    </tr>\n",
       "    <tr>\n",
       "      <th>Sexual Preference</th>\n",
       "      <td>Sexual Preference</td>\n",
       "      <td>42.461538</td>\n",
       "    </tr>\n",
       "    <tr>\n",
       "      <th>Arrested</th>\n",
       "      <td>Arrested</td>\n",
       "      <td>32.307692</td>\n",
       "    </tr>\n",
       "    <tr>\n",
       "      <th>Prison Location</th>\n",
       "      <td>Prison Location</td>\n",
       "      <td>27.384615</td>\n",
       "    </tr>\n",
       "    <tr>\n",
       "      <th>Ages Active</th>\n",
       "      <td>Ages Active</td>\n",
       "      <td>25.076923</td>\n",
       "    </tr>\n",
       "    <tr>\n",
       "      <th>Astrological Sign</th>\n",
       "      <td>Astrological Sign</td>\n",
       "      <td>25.076923</td>\n",
       "    </tr>\n",
       "    <tr>\n",
       "      <th>Birth Month</th>\n",
       "      <td>Birth Month</td>\n",
       "      <td>25.076923</td>\n",
       "    </tr>\n",
       "    <tr>\n",
       "      <th>Sentence</th>\n",
       "      <td>Sentence</td>\n",
       "      <td>22.769231</td>\n",
       "    </tr>\n",
       "    <tr>\n",
       "      <th>Life Span</th>\n",
       "      <td>Life Span</td>\n",
       "      <td>19.076923</td>\n",
       "    </tr>\n",
       "    <tr>\n",
       "      <th>Birth Location</th>\n",
       "      <td>Birth Location</td>\n",
       "      <td>17.692308</td>\n",
       "    </tr>\n",
       "    <tr>\n",
       "      <th>Nickname</th>\n",
       "      <td>Nickname</td>\n",
       "      <td>15.846154</td>\n",
       "    </tr>\n",
       "    <tr>\n",
       "      <th>Gender</th>\n",
       "      <td>Gender</td>\n",
       "      <td>4.461538</td>\n",
       "    </tr>\n",
       "    <tr>\n",
       "      <th>Active Countries</th>\n",
       "      <td>Active Countries</td>\n",
       "      <td>0.000000</td>\n",
       "    </tr>\n",
       "    <tr>\n",
       "      <th>Victims</th>\n",
       "      <td>Victims</td>\n",
       "      <td>0.000000</td>\n",
       "    </tr>\n",
       "    <tr>\n",
       "      <th>Years Active</th>\n",
       "      <td>Years Active</td>\n",
       "      <td>0.000000</td>\n",
       "    </tr>\n",
       "    <tr>\n",
       "      <th>Name</th>\n",
       "      <td>Name</td>\n",
       "      <td>0.000000</td>\n",
       "    </tr>\n",
       "  </tbody>\n",
       "</table>\n",
       "</div>"
      ],
      "text/plain": [
       "                         column_name  percent_missing\n",
       "Unnamed: 37              Unnamed: 37        99.692308\n",
       "Unnamed: 14              Unnamed: 14        88.769231\n",
       "Executed                    Executed        83.076923\n",
       "Birth Order              Birth Order        72.615385\n",
       "Birth Category        Birth Category        72.153846\n",
       "Highest School        Highest School        71.230769\n",
       "Highest Degree        Highest Degree        69.692308\n",
       "Killed In Prison    Killed In Prison        67.384615\n",
       "Suicide                      Suicide        66.615385\n",
       "Siblings                    Siblings        63.692308\n",
       "Mother                        Mother        62.307692\n",
       "Father                        Father        60.923077\n",
       "Raised By                  Raised By        58.153846\n",
       "Cause of Death        Cause of Death        56.000000\n",
       "Death Date                Death Date        55.230769\n",
       "Death Location        Death Location        54.615385\n",
       "Previous Prison      Previous Prison        48.615385\n",
       "Living With              Living With        48.307692\n",
       "Marital Status        Marital Status        47.384615\n",
       "Children                    Children        46.923077\n",
       "Previous Jail          Previous Jail        46.307692\n",
       "Previous Crimes      Previous Crimes        44.307692\n",
       "Convicted                  Convicted        42.923077\n",
       "Sexual Preference  Sexual Preference        42.461538\n",
       "Arrested                    Arrested        32.307692\n",
       "Prison Location      Prison Location        27.384615\n",
       "Ages Active              Ages Active        25.076923\n",
       "Astrological Sign  Astrological Sign        25.076923\n",
       "Birth Month              Birth Month        25.076923\n",
       "Sentence                    Sentence        22.769231\n",
       "Life Span                  Life Span        19.076923\n",
       "Birth Location        Birth Location        17.692308\n",
       "Nickname                    Nickname        15.846154\n",
       "Gender                        Gender         4.461538\n",
       "Active Countries    Active Countries         0.000000\n",
       "Victims                      Victims         0.000000\n",
       "Years Active            Years Active         0.000000\n",
       "Name                            Name         0.000000"
      ]
     },
     "execution_count": 7,
     "metadata": {},
     "output_type": "execute_result"
    }
   ],
   "source": [
    "percent_missing = (serial_killer.isnull().sum()* 100 / len(serial_killer))\n",
    "missing_value_df = pd.DataFrame({'column_name': serial_killer.columns,'percent_missing': percent_missing}).sort_values('percent_missing', ascending =False)\n",
    "missing_value_df"
   ]
  },
  {
   "cell_type": "markdown",
   "metadata": {
    "heading_collapsed": true
   },
   "source": [
    "#### high nulls (to drop)"
   ]
  },
  {
   "cell_type": "code",
   "execution_count": 8,
   "metadata": {
    "ExecuteTime": {
     "end_time": "2020-03-14T22:22:53.658399Z",
     "start_time": "2020-03-14T22:22:53.645756Z"
    },
    "code_folding": [],
    "hidden": true
   },
   "outputs": [
    {
     "data": {
      "text/html": [
       "<div>\n",
       "<style scoped>\n",
       "    .dataframe tbody tr th:only-of-type {\n",
       "        vertical-align: middle;\n",
       "    }\n",
       "\n",
       "    .dataframe tbody tr th {\n",
       "        vertical-align: top;\n",
       "    }\n",
       "\n",
       "    .dataframe thead th {\n",
       "        text-align: right;\n",
       "    }\n",
       "</style>\n",
       "<table border=\"1\" class=\"dataframe\">\n",
       "  <thead>\n",
       "    <tr style=\"text-align: right;\">\n",
       "      <th></th>\n",
       "      <th>column_name</th>\n",
       "      <th>percent_missing</th>\n",
       "    </tr>\n",
       "  </thead>\n",
       "  <tbody>\n",
       "    <tr>\n",
       "      <th>Unnamed: 37</th>\n",
       "      <td>Unnamed: 37</td>\n",
       "      <td>99.692308</td>\n",
       "    </tr>\n",
       "    <tr>\n",
       "      <th>Unnamed: 14</th>\n",
       "      <td>Unnamed: 14</td>\n",
       "      <td>88.769231</td>\n",
       "    </tr>\n",
       "  </tbody>\n",
       "</table>\n",
       "</div>"
      ],
      "text/plain": [
       "             column_name  percent_missing\n",
       "Unnamed: 37  Unnamed: 37        99.692308\n",
       "Unnamed: 14  Unnamed: 14        88.769231"
      ]
     },
     "execution_count": 8,
     "metadata": {},
     "output_type": "execute_result"
    }
   ],
   "source": [
    "high_nulls = missing_value_df.loc[missing_value_df.percent_missing >= 85]\n",
    "high_nulls"
   ]
  },
  {
   "cell_type": "markdown",
   "metadata": {
    "ExecuteTime": {
     "end_time": "2020-03-14T21:57:59.576945Z",
     "start_time": "2020-03-14T21:57:59.573787Z"
    },
    "heading_collapsed": true
   },
   "source": [
    "#### datatype"
   ]
  },
  {
   "cell_type": "code",
   "execution_count": 9,
   "metadata": {
    "ExecuteTime": {
     "end_time": "2020-03-14T22:22:53.672434Z",
     "start_time": "2020-03-14T22:22:53.663092Z"
    },
    "hidden": true
   },
   "outputs": [
    {
     "data": {
      "text/plain": [
       "Name                 object\n",
       "Nickname             object\n",
       "Victims              object\n",
       "Years Active         object\n",
       "Ages Active          object\n",
       "Active Countries     object\n",
       "Life Span            object\n",
       "Gender               object\n",
       "Sexual Preference    object\n",
       "Astrological Sign    object\n",
       "Birth Month          object\n",
       "Marital Status       object\n",
       "Children             object\n",
       "Living With          object\n",
       "Unnamed: 14          object\n",
       "Birth Location       object\n",
       "Birth Order          object\n",
       "Siblings             object\n",
       "Raised By            object\n",
       "Birth Category       object\n",
       "Mother               object\n",
       "Father               object\n",
       "Highest School       object\n",
       "Highest Degree       object\n",
       "Arrested             object\n",
       "Convicted            object\n",
       "Sentence             object\n",
       "Prison Location      object\n",
       "Executed             object\n",
       "Previous Crimes      object\n",
       "Previous Jail        object\n",
       "Previous Prison      object\n",
       "Death Date           object\n",
       "Cause of Death       object\n",
       "Death Location       object\n",
       "Killed In Prison     object\n",
       "Suicide              object\n",
       "Unnamed: 37          object\n",
       "dtype: object"
      ]
     },
     "execution_count": 9,
     "metadata": {},
     "output_type": "execute_result"
    }
   ],
   "source": [
    "serial_killer.dtypes"
   ]
  },
  {
   "cell_type": "code",
   "execution_count": 10,
   "metadata": {
    "ExecuteTime": {
     "end_time": "2020-03-14T22:22:53.678634Z",
     "start_time": "2020-03-14T22:22:53.675049Z"
    },
    "hidden": true
   },
   "outputs": [],
   "source": [
    "#### columns "
   ]
  },
  {
   "cell_type": "code",
   "execution_count": 11,
   "metadata": {
    "ExecuteTime": {
     "end_time": "2020-03-14T22:22:53.689790Z",
     "start_time": "2020-03-14T22:22:53.682079Z"
    },
    "code_folding": [],
    "hidden": true
   },
   "outputs": [
    {
     "data": {
      "text/plain": [
       "Index(['Name', 'Nickname', 'Victims', 'Years Active', 'Ages Active',\n",
       "       'Active Countries', 'Life Span', 'Gender', 'Sexual Preference',\n",
       "       'Astrological Sign', 'Birth Month', 'Marital Status', 'Children',\n",
       "       'Living With', 'Unnamed: 14', 'Birth Location', 'Birth Order',\n",
       "       'Siblings', 'Raised By', 'Birth Category', 'Mother', 'Father',\n",
       "       'Highest School', 'Highest Degree', 'Arrested', 'Convicted', 'Sentence',\n",
       "       'Prison Location', 'Executed', 'Previous Crimes', 'Previous Jail',\n",
       "       'Previous Prison', 'Death Date', 'Cause of Death', 'Death Location',\n",
       "       'Killed In Prison', 'Suicide', 'Unnamed: 37'],\n",
       "      dtype='object')"
      ]
     },
     "execution_count": 11,
     "metadata": {},
     "output_type": "execute_result"
    }
   ],
   "source": [
    "serial_killer.columns"
   ]
  },
  {
   "cell_type": "markdown",
   "metadata": {},
   "source": [
    "### Data Cleaning"
   ]
  },
  {
   "cell_type": "markdown",
   "metadata": {
    "heading_collapsed": true
   },
   "source": [
    "#### drop > 85% nulls"
   ]
  },
  {
   "cell_type": "code",
   "execution_count": 13,
   "metadata": {
    "ExecuteTime": {
     "end_time": "2020-03-14T22:22:53.711447Z",
     "start_time": "2020-03-14T22:22:53.703812Z"
    },
    "code_folding": [],
    "hidden": true
   },
   "outputs": [],
   "source": [
    "def remove_null_columns(df):\n",
    "    dff = pd.DataFrame()\n",
    "    for cl in df:\n",
    "        if df[cl].isnull().sum()* 100 / len(df) >= 85:\n",
    "            pass\n",
    "        else:\n",
    "            dff[cl] = df[cl]\n",
    "    return dff "
   ]
  },
  {
   "cell_type": "code",
   "execution_count": 14,
   "metadata": {
    "ExecuteTime": {
     "end_time": "2020-03-14T22:22:53.771997Z",
     "start_time": "2020-03-14T22:22:53.715332Z"
    },
    "code_folding": [],
    "hidden": true
   },
   "outputs": [],
   "source": [
    "serial_killer = remove_null_columns(serial_killer)"
   ]
  },
  {
   "cell_type": "markdown",
   "metadata": {
    "ExecuteTime": {
     "end_time": "2020-03-14T22:22:53.779152Z",
     "start_time": "2020-03-14T22:22:53.775195Z"
    },
    "heading_collapsed": true
   },
   "source": [
    "#### lowersnake_case"
   ]
  },
  {
   "cell_type": "code",
   "execution_count": 16,
   "metadata": {
    "ExecuteTime": {
     "end_time": "2020-03-14T22:22:53.794557Z",
     "start_time": "2020-03-14T22:22:53.783888Z"
    },
    "code_folding": [],
    "hidden": true
   },
   "outputs": [
    {
     "data": {
      "text/plain": [
       "Index(['name', 'nickname', 'victims', 'years_active', 'ages_active',\n",
       "       'active_countries', 'life_span', 'gender', 'sexual_preference',\n",
       "       'astrological_sign', 'birth_month', 'marital_status', 'children',\n",
       "       'living_with', 'birth_location', 'birth_order', 'siblings', 'raised_by',\n",
       "       'birth_category', 'mother', 'father', 'highest_school',\n",
       "       'highest_degree', 'arrested', 'convicted', 'sentence',\n",
       "       'prison_location', 'executed', 'previous_crimes', 'previous_jail',\n",
       "       'previous_prison', 'death_date', 'cause_of_death', 'death_location',\n",
       "       'killed_in_prison', 'suicide'],\n",
       "      dtype='object')"
      ]
     },
     "execution_count": 16,
     "metadata": {},
     "output_type": "execute_result"
    }
   ],
   "source": [
    "serial_killer.columns =  serial_killer.columns.str.lower()\n",
    "serial_killer.columns =  serial_killer.columns.str.replace(\" \", \"_\")\n",
    "serial_killer.columns"
   ]
  },
  {
   "cell_type": "markdown",
   "metadata": {
    "ExecuteTime": {
     "end_time": "2020-03-14T22:28:50.571241Z",
     "start_time": "2020-03-14T22:28:50.567443Z"
    },
    "heading_collapsed": true
   },
   "source": [
    "#### group by similiarity:"
   ]
  },
  {
   "cell_type": "code",
   "execution_count": 46,
   "metadata": {
    "ExecuteTime": {
     "end_time": "2020-03-14T22:28:56.049393Z",
     "start_time": "2020-03-14T22:28:56.022706Z"
    },
    "code_folding": [],
    "hidden": true
   },
   "outputs": [
    {
     "data": {
      "text/plain": [
       "Index(['name', 'nickname', 'gender', 'sexual_preference', 'birth_location',\n",
       "       'birth_month', 'astrological_sign', 'victims', 'ages_active',\n",
       "       'years_active', 'active_countries', 'mother', 'father', 'siblings',\n",
       "       'raised_by', 'birth_order', 'birth_category', 'highest_school',\n",
       "       'highest_degree', 'life_span', 'marital_status', 'children',\n",
       "       'living_with', 'arrested', 'convicted', 'sentence', 'prison_location',\n",
       "       'previous_crimes', 'previous_jail', 'previous_prison', 'death_date',\n",
       "       'death_location', 'cause_of_death', 'executed', 'killed_in_prison',\n",
       "       'suicide'],\n",
       "      dtype='object')"
      ]
     },
     "execution_count": 46,
     "metadata": {},
     "output_type": "execute_result"
    }
   ],
   "source": [
    "column_org = ['name', 'nickname', 'gender', 'sexual_preference', 'birth_location', 'birth_month',\\\n",
    "              'astrological_sign', 'victims', 'ages_active', 'years_active', 'active_countries',\\\n",
    "              'mother', 'father', 'siblings', 'raised_by', 'birth_order', 'birth_category',\\\n",
    "              'highest_school', 'highest_degree','life_span','marital_status', 'children',\\\n",
    "              'living_with','arrested', 'convicted', 'sentence', 'prison_location',  \\\n",
    "              'previous_crimes', 'previous_jail', 'previous_prison','death_date',\\\n",
    "              'death_location', 'cause_of_death', 'executed', 'killed_in_prison', 'suicide']\n",
    "\n",
    "serial_killer = serial_killer[column_org]\n",
    "serial_killer.columns"
   ]
  },
  {
   "cell_type": "markdown",
   "metadata": {
    "hidden": true
   },
   "source": [
    "#####  `serial_killer['sexual_preference']`"
   ]
  },
  {
   "cell_type": "code",
   "execution_count": 47,
   "metadata": {
    "ExecuteTime": {
     "end_time": "2020-03-14T22:29:11.803571Z",
     "start_time": "2020-03-14T22:29:11.794966Z"
    },
    "hidden": true
   },
   "outputs": [
    {
     "data": {
      "text/plain": [
       "array([nan, 'homosexual', 'bisexual, pedophile', 'heterosexual',\n",
       "       'Heterosexual', 'heterosexual, pedophile', 'necrophile',\n",
       "       'homosexual, pedophile', 'bisexual', 'pedophile',\n",
       "       'Heterosexual, Necrophile', 'heterosexual, necrophile',\n",
       "       'pedophile, necrophile', 'transsexual',\n",
       "       'homosexual , homosexuality', 'Homosexual', 'bisexual, necrophile',\n",
       "       'pedophile, necrophile, homosexual', 'homosexual, necrophile'],\n",
       "      dtype=object)"
      ]
     },
     "execution_count": 47,
     "metadata": {},
     "output_type": "execute_result"
    }
   ],
   "source": [
    "serial_killer['sexual_preference'].unique()"
   ]
  },
  {
   "cell_type": "code",
   "execution_count": 48,
   "metadata": {
    "ExecuteTime": {
     "end_time": "2020-03-14T22:29:14.513141Z",
     "start_time": "2020-03-14T22:29:14.492539Z"
    },
    "hidden": true
   },
   "outputs": [
    {
     "name": "stderr",
     "output_type": "stream",
     "text": [
      "/usr/local/lib/python3.7/site-packages/ipykernel_launcher.py:1: SettingWithCopyWarning: \n",
      "A value is trying to be set on a copy of a slice from a DataFrame.\n",
      "Try using .loc[row_indexer,col_indexer] = value instead\n",
      "\n",
      "See the caveats in the documentation: http://pandas.pydata.org/pandas-docs/stable/user_guide/indexing.html#returning-a-view-versus-a-copy\n",
      "  \"\"\"Entry point for launching an IPython kernel.\n"
     ]
    }
   ],
   "source": [
    "serial_killer['sexual_preference'] = serial_killer['sexual_preference'].str.lower()"
   ]
  },
  {
   "cell_type": "code",
   "execution_count": 49,
   "metadata": {
    "ExecuteTime": {
     "end_time": "2020-03-14T22:29:38.755119Z",
     "start_time": "2020-03-14T22:29:38.742817Z"
    },
    "hidden": true
   },
   "outputs": [
    {
     "data": {
      "text/plain": [
       "heterosexual                         285\n",
       "homosexual                            19\n",
       "bisexual                              18\n",
       "pedophile                             10\n",
       "heterosexual, pedophile                9\n",
       "heterosexual, necrophile               7\n",
       "homosexual, pedophile                  6\n",
       "necrophile                             5\n",
       "bisexual, pedophile                    5\n",
       "pedophile, necrophile                  5\n",
       "transsexual                            1\n",
       "homosexual , homosexuality             1\n",
       "homosexual, necrophile                 1\n",
       "pedophile, necrophile, homosexual      1\n",
       "bisexual, necrophile                   1\n",
       "Name: sexual_preference, dtype: int64"
      ]
     },
     "execution_count": 49,
     "metadata": {},
     "output_type": "execute_result"
    }
   ],
   "source": [
    "serial_killer['sexual_preference'].value_counts().sort_values(ascending=False)   "
   ]
  },
  {
   "cell_type": "code",
   "execution_count": 50,
   "metadata": {
    "ExecuteTime": {
     "end_time": "2020-03-14T22:29:42.381304Z",
     "start_time": "2020-03-14T22:29:42.374189Z"
    },
    "hidden": true
   },
   "outputs": [
    {
     "name": "stderr",
     "output_type": "stream",
     "text": [
      "/usr/local/lib/python3.7/site-packages/ipykernel_launcher.py:1: SettingWithCopyWarning: \n",
      "A value is trying to be set on a copy of a slice from a DataFrame.\n",
      "Try using .loc[row_indexer,col_indexer] = value instead\n",
      "\n",
      "See the caveats in the documentation: http://pandas.pydata.org/pandas-docs/stable/user_guide/indexing.html#returning-a-view-versus-a-copy\n",
      "  \"\"\"Entry point for launching an IPython kernel.\n"
     ]
    }
   ],
   "source": [
    "serial_killer['sexual_preference'] = serial_killer['sexual_preference'].str.replace('homosexual , homosexuality', \"homosexual\")"
   ]
  },
  {
   "cell_type": "markdown",
   "metadata": {
    "ExecuteTime": {
     "end_time": "2020-03-14T21:54:11.437739Z",
     "start_time": "2020-03-14T21:54:11.433813Z"
    }
   },
   "source": [
    "### Data Transformation"
   ]
  },
  {
   "cell_type": "code",
   "execution_count": 23,
   "metadata": {
    "ExecuteTime": {
     "end_time": "2020-03-14T22:22:53.923475Z",
     "start_time": "2020-03-14T22:22:53.897911Z"
    }
   },
   "outputs": [
    {
     "data": {
      "text/html": [
       "<div>\n",
       "<style scoped>\n",
       "    .dataframe tbody tr th:only-of-type {\n",
       "        vertical-align: middle;\n",
       "    }\n",
       "\n",
       "    .dataframe tbody tr th {\n",
       "        vertical-align: top;\n",
       "    }\n",
       "\n",
       "    .dataframe thead th {\n",
       "        text-align: right;\n",
       "    }\n",
       "</style>\n",
       "<table border=\"1\" class=\"dataframe\">\n",
       "  <thead>\n",
       "    <tr style=\"text-align: right;\">\n",
       "      <th></th>\n",
       "      <th>name</th>\n",
       "      <th>nickname</th>\n",
       "      <th>gender</th>\n",
       "      <th>sexual_preference</th>\n",
       "      <th>birth_location</th>\n",
       "      <th>birth_month</th>\n",
       "      <th>astrological_sign</th>\n",
       "      <th>victims</th>\n",
       "      <th>ages_active</th>\n",
       "      <th>years_active</th>\n",
       "      <th>...</th>\n",
       "      <th>prison_location</th>\n",
       "      <th>previous_crimes</th>\n",
       "      <th>previous_jail</th>\n",
       "      <th>previous_prison</th>\n",
       "      <th>death_date</th>\n",
       "      <th>death_location</th>\n",
       "      <th>cause_of_death</th>\n",
       "      <th>executed</th>\n",
       "      <th>killed_in_prison</th>\n",
       "      <th>suicide</th>\n",
       "    </tr>\n",
       "  </thead>\n",
       "  <tbody>\n",
       "    <tr>\n",
       "      <th>0</th>\n",
       "      <td>Seminole Heights serial killer</td>\n",
       "      <td>Seminole Heights serial killer, Tampa Bay Seri...</td>\n",
       "      <td>Male</td>\n",
       "      <td>NaN</td>\n",
       "      <td>North Carolina</td>\n",
       "      <td>January</td>\n",
       "      <td>Aquarius</td>\n",
       "      <td>4 - 4</td>\n",
       "      <td>23/24 - 23/24</td>\n",
       "      <td>2017,2017</td>\n",
       "      <td>...</td>\n",
       "      <td>NaN</td>\n",
       "      <td>True</td>\n",
       "      <td>True</td>\n",
       "      <td>False</td>\n",
       "      <td>NaN</td>\n",
       "      <td>NaN</td>\n",
       "      <td>NaN</td>\n",
       "      <td>NaN</td>\n",
       "      <td>NaN</td>\n",
       "      <td>NaN</td>\n",
       "    </tr>\n",
       "  </tbody>\n",
       "</table>\n",
       "<p>1 rows × 36 columns</p>\n",
       "</div>"
      ],
      "text/plain": [
       "                             name  \\\n",
       "0  Seminole Heights serial killer   \n",
       "\n",
       "                                            nickname gender sexual_preference  \\\n",
       "0  Seminole Heights serial killer, Tampa Bay Seri...   Male               NaN   \n",
       "\n",
       "   birth_location birth_month astrological_sign victims    ages_active  \\\n",
       "0  North Carolina     January          Aquarius   4 - 4  23/24 - 23/24   \n",
       "\n",
       "  years_active  ... prison_location previous_crimes previous_jail  \\\n",
       "0    2017,2017  ...             NaN            True          True   \n",
       "\n",
       "  previous_prison death_date death_location cause_of_death executed  \\\n",
       "0           False        NaN            NaN            NaN      NaN   \n",
       "\n",
       "  killed_in_prison suicide  \n",
       "0              NaN     NaN  \n",
       "\n",
       "[1 rows x 36 columns]"
      ]
     },
     "execution_count": 23,
     "metadata": {},
     "output_type": "execute_result"
    }
   ],
   "source": [
    "serial_killer.head(1)"
   ]
  },
  {
   "cell_type": "markdown",
   "metadata": {},
   "source": [
    "######  `victims`"
   ]
  },
  {
   "cell_type": "code",
   "execution_count": 81,
   "metadata": {
    "ExecuteTime": {
     "end_time": "2020-03-14T22:40:52.141047Z",
     "start_time": "2020-03-14T22:40:52.135170Z"
    }
   },
   "outputs": [],
   "source": [
    "serial_killer['victims'] = [victim.split(' - ')[1] for victim in serial_killer['victims']]"
   ]
  },
  {
   "cell_type": "code",
   "execution_count": 82,
   "metadata": {
    "ExecuteTime": {
     "end_time": "2020-03-14T22:40:52.927521Z",
     "start_time": "2020-03-14T22:40:52.921589Z"
    }
   },
   "outputs": [],
   "source": [
    "serial_killer['victims'] = serial_killer['victims'].astype('int64')"
   ]
  },
  {
   "cell_type": "markdown",
   "metadata": {
    "heading_collapsed": true
   },
   "source": [
    "###### `years_active`"
   ]
  },
  {
   "cell_type": "code",
   "execution_count": 26,
   "metadata": {
    "ExecuteTime": {
     "end_time": "2020-03-14T22:22:53.953983Z",
     "start_time": "2020-03-14T22:22:53.947102Z"
    },
    "hidden": true,
    "scrolled": true
   },
   "outputs": [],
   "source": [
    "serial_killer['years_active'] = ([year.replace(' - ', ',') for year in serial_killer['years_active']])"
   ]
  },
  {
   "cell_type": "code",
   "execution_count": 27,
   "metadata": {
    "ExecuteTime": {
     "end_time": "2020-03-14T22:22:53.964165Z",
     "start_time": "2020-03-14T22:22:53.957582Z"
    },
    "hidden": true
   },
   "outputs": [],
   "source": [
    "serial_killer['years_active'] = [year.split(',') for year in serial_killer['years_active']]"
   ]
  },
  {
   "cell_type": "code",
   "execution_count": 28,
   "metadata": {
    "ExecuteTime": {
     "end_time": "2020-03-14T22:22:53.973247Z",
     "start_time": "2020-03-14T22:22:53.967459Z"
    },
    "hidden": true
   },
   "outputs": [],
   "source": [
    "serial_killer['start_active_years'] = [year[0] for year in serial_killer['years_active']]"
   ]
  },
  {
   "cell_type": "code",
   "execution_count": 29,
   "metadata": {
    "ExecuteTime": {
     "end_time": "2020-03-14T22:22:53.982199Z",
     "start_time": "2020-03-14T22:22:53.976546Z"
    },
    "hidden": true
   },
   "outputs": [],
   "source": [
    "serial_killer['start_active_years'] = serial_killer['start_active_years'].astype('int64')"
   ]
  },
  {
   "cell_type": "code",
   "execution_count": 30,
   "metadata": {
    "ExecuteTime": {
     "end_time": "2020-03-14T22:22:53.992446Z",
     "start_time": "2020-03-14T22:22:53.985071Z"
    },
    "hidden": true
   },
   "outputs": [],
   "source": [
    "serial_killer['end_active_years'] = [year[1] if len(year) > 1 and len(year[1])== 4 else 2020 for year in serial_killer['years_active']] "
   ]
  },
  {
   "cell_type": "code",
   "execution_count": 31,
   "metadata": {
    "ExecuteTime": {
     "end_time": "2020-03-14T22:22:54.000480Z",
     "start_time": "2020-03-14T22:22:53.995110Z"
    },
    "hidden": true
   },
   "outputs": [],
   "source": [
    "serial_killer['end_active_years'] = serial_killer['end_active_years'].astype('int64')"
   ]
  },
  {
   "cell_type": "code",
   "execution_count": 32,
   "metadata": {
    "ExecuteTime": {
     "end_time": "2020-03-14T22:22:54.010866Z",
     "start_time": "2020-03-14T22:22:54.004259Z"
    },
    "hidden": true
   },
   "outputs": [],
   "source": [
    "serial_killer['total_active_years'] = serial_killer['end_active_years'] - serial_killer['start_active_years']"
   ]
  },
  {
   "cell_type": "code",
   "execution_count": 33,
   "metadata": {
    "ExecuteTime": {
     "end_time": "2020-03-14T22:22:54.018892Z",
     "start_time": "2020-03-14T22:22:54.013495Z"
    },
    "hidden": true
   },
   "outputs": [],
   "source": [
    "serial_killer['total_active_years'] = serial_killer['total_active_years'].astype('int64')"
   ]
  },
  {
   "cell_type": "code",
   "execution_count": 34,
   "metadata": {
    "ExecuteTime": {
     "end_time": "2020-03-14T22:22:54.027550Z",
     "start_time": "2020-03-14T22:22:54.021858Z"
    },
    "hidden": true
   },
   "outputs": [],
   "source": [
    "serial_killer['total_active_years'] = [years if years != 0 else 1 for years in serial_killer['total_active_years'] ]"
   ]
  },
  {
   "cell_type": "markdown",
   "metadata": {},
   "source": [
    "#####  `ages_active`"
   ]
  },
  {
   "cell_type": "code",
   "execution_count": 89,
   "metadata": {
    "ExecuteTime": {
     "end_time": "2020-03-14T22:42:05.711544Z",
     "start_time": "2020-03-14T22:42:05.706991Z"
    }
   },
   "outputs": [],
   "source": [
    "serial_killer['ages_active'] = serial_killer['ages_active'].astype('str')"
   ]
  },
  {
   "cell_type": "code",
   "execution_count": 90,
   "metadata": {
    "ExecuteTime": {
     "end_time": "2020-03-14T22:42:06.088893Z",
     "start_time": "2020-03-14T22:42:06.082940Z"
    }
   },
   "outputs": [],
   "source": [
    "serial_killer['ages_active'] = ([age.split(' - ') for age in serial_killer['ages_active']])"
   ]
  },
  {
   "cell_type": "code",
   "execution_count": 91,
   "metadata": {
    "ExecuteTime": {
     "end_time": "2020-03-14T22:42:06.558954Z",
     "start_time": "2020-03-14T22:42:06.554028Z"
    }
   },
   "outputs": [],
   "source": [
    "serial_killer['ages_active'] = serial_killer['ages_active'].astype('str')"
   ]
  },
  {
   "cell_type": "code",
   "execution_count": 92,
   "metadata": {
    "ExecuteTime": {
     "end_time": "2020-03-14T22:42:06.887662Z",
     "start_time": "2020-03-14T22:42:06.881485Z"
    }
   },
   "outputs": [],
   "source": [
    "serial_killer['ages_active'] = ([age.split('/') for age in serial_killer['ages_active']])"
   ]
  },
  {
   "cell_type": "code",
   "execution_count": 93,
   "metadata": {
    "ExecuteTime": {
     "end_time": "2020-03-14T22:42:07.168525Z",
     "start_time": "2020-03-14T22:42:07.162416Z"
    }
   },
   "outputs": [],
   "source": [
    "serial_killer['starting_killing_age'] = [age[0][2:4] for age in serial_killer['ages_active']]"
   ]
  },
  {
   "cell_type": "code",
   "execution_count": 94,
   "metadata": {
    "ExecuteTime": {
     "end_time": "2020-03-14T22:42:07.465518Z",
     "start_time": "2020-03-14T22:42:07.460023Z"
    }
   },
   "outputs": [],
   "source": [
    "serial_killer['ages_active'] = [age[1] if len(age) > 2 else age[0][4:6] for age in serial_killer['ages_active']]"
   ]
  },
  {
   "cell_type": "code",
   "execution_count": 95,
   "metadata": {
    "ExecuteTime": {
     "end_time": "2020-03-14T22:42:07.903739Z",
     "start_time": "2020-03-14T22:42:07.893774Z"
    }
   },
   "outputs": [],
   "source": [
    "serial_killer_boolean  = serial_killer[['previous_crimes', 'previous_jail', 'previous_prison','killed_in_prison', 'suicide']]"
   ]
  },
  {
   "cell_type": "markdown",
   "metadata": {},
   "source": [
    "### Visualization"
   ]
  },
  {
   "cell_type": "code",
   "execution_count": 96,
   "metadata": {
    "ExecuteTime": {
     "end_time": "2020-03-14T22:42:09.870750Z",
     "start_time": "2020-03-14T22:42:09.866719Z"
    }
   },
   "outputs": [],
   "source": [
    "import plotly.express as px\n",
    "import seaborn as sns"
   ]
  },
  {
   "cell_type": "code",
   "execution_count": 97,
   "metadata": {
    "ExecuteTime": {
     "end_time": "2020-03-14T22:42:10.283287Z",
     "start_time": "2020-03-14T22:42:10.274382Z"
    }
   },
   "outputs": [
    {
     "data": {
      "text/plain": [
       "Index(['name', 'nickname', 'gender', 'sexual_preference', 'birth_location',\n",
       "       'birth_month', 'astrological_sign', 'victims', 'ages_active',\n",
       "       'years_active', 'active_countries', 'mother', 'father', 'siblings',\n",
       "       'raised_by', 'birth_order', 'birth_category', 'highest_school',\n",
       "       'highest_degree', 'life_span', 'marital_status', 'children',\n",
       "       'living_with', 'arrested', 'convicted', 'sentence', 'prison_location',\n",
       "       'previous_crimes', 'previous_jail', 'previous_prison', 'death_date',\n",
       "       'death_location', 'cause_of_death', 'executed', 'killed_in_prison',\n",
       "       'suicide', 'starting_killing_age'],\n",
       "      dtype='object')"
      ]
     },
     "execution_count": 97,
     "metadata": {},
     "output_type": "execute_result"
    }
   ],
   "source": [
    "serial_killer.columns"
   ]
  },
  {
   "cell_type": "code",
   "execution_count": 98,
   "metadata": {
    "ExecuteTime": {
     "end_time": "2020-03-14T22:42:11.051691Z",
     "start_time": "2020-03-14T22:42:10.802121Z"
    },
    "scrolled": true
   },
   "outputs": [
    {
     "data": {
      "image/png": "[encoded data removed]",
      "text/plain": [
       "<Figure size 432x288 with 1 Axes>"
      ]
     },
     "metadata": {
      "needs_background": "light"
     },
     "output_type": "display_data"
    }
   ],
   "source": [
    "_ =sns.boxplot(x = \"gender\", y=\"victims\", data=serial_killer.get(serial_killer.victims < 100))"
   ]
  },
  {
   "cell_type": "code",
   "execution_count": 99,
   "metadata": {
    "ExecuteTime": {
     "end_time": "2020-03-14T22:42:11.672119Z",
     "start_time": "2020-03-14T22:42:11.108137Z"
    }
   },
   "outputs": [
    {
     "data": {
      "application/vnd.plotly.v1+json": {
       "config": {
        "plotlyServerURL": "https://plot.ly"
       },
       "data": [
        {
         "hoverlabel": {
          "namelength": 0
         },
         "hovertemplate": "sexual_preference=%{x}<br>astrological_sign=%{y}",
         "legendgroup": "",
         "marker": {
          "color": "#636efa",
          "symbol": "circle"
         },
         "mode": "markers",
         "name": "",
         "showlegend": false,
         "type": "scatter",
         "x": [
          null,
          "homosexual",
          "bisexual, pedophile",
          "heterosexual",
          null,
          "heterosexual",
          "heterosexual",
          "homosexual",
          "heterosexual",
          "heterosexual",
          null,
          null,
          null,
          null,
          null,
          "homosexual",
          null,
          "heterosexual",
          null,
          "heterosexual",
          null,
          null,
          "heterosexual, pedophile",
          "heterosexual",
          "heterosexual",
          null,
          null,
          "necrophile",
          "heterosexual",
          "heterosexual",
          "heterosexual",
          null,
          "heterosexual, pedophile",
          "heterosexual",
          null,
          null,
          "heterosexual",
          "homosexual",
          "heterosexual",
          null,
          "heterosexual",
          null,
          null,
          null,
          "homosexual, pedophile",
          "heterosexual",
          null,
          "heterosexual",
          "bisexual",
          "heterosexual",
          null,
          "heterosexual",
          null,
          null,
          null,
          "heterosexual",
          "heterosexual",
          null,
          "heterosexual",
          null,
          "heterosexual",
          "heterosexual",
          "bisexual, pedophile",
          "heterosexual",
          null,
          null,
          null,
          null,
          "heterosexual",
          null,
          "heterosexual",
          null,
          null,
          "heterosexual",
          null,
          "heterosexual",
          null,
          "heterosexual",
          null,
          "bisexual",
          "heterosexual",
          null,
          "heterosexual",
          null,
          "bisexual",
          "heterosexual, pedophile",
          "bisexual",
          "homosexual",
          "heterosexual",
          "heterosexual, pedophile",
          "pedophile",
          "heterosexual",
          null,
          "heterosexual",
          "bisexual, pedophile",
          "bisexual",
          null,
          "heterosexual",
          "heterosexual",
          "heterosexual",
          "heterosexual",
          "pedophile",
          "heterosexual",
          "heterosexual",
          "heterosexual",
          "heterosexual",
          "heterosexual",
          null,
          "heterosexual",
          "bisexual",
          "heterosexual",
          null,
          "heterosexual",
          "heterosexual",
          null,
          null,
          "heterosexual",
          null,
          "heterosexual, necrophile",
          "heterosexual",
          "heterosexual, necrophile",
          "heterosexual",
          null,
          "heterosexual",
          "heterosexual",
          "homosexual",
          null,
          null,
          "heterosexual",
          null,
          null,
          "heterosexual",
          "heterosexual",
          "heterosexual",
          null,
          "heterosexual, pedophile",
          null,
          "homosexual, pedophile",
          "heterosexual",
          null,
          null,
          "heterosexual",
          "heterosexual",
          null,
          null,
          "heterosexual",
          "heterosexual",
          "heterosexual",
          "heterosexual",
          null,
          "heterosexual",
          "heterosexual",
          "pedophile, necrophile",
          "heterosexual",
          "heterosexual",
          "heterosexual",
          "heterosexual",
          "pedophile",
          "pedophile, necrophile",
          null,
          "heterosexual",
          null,
          null,
          null,
          "heterosexual",
          null,
          null,
          "heterosexual",
          "homosexual",
          null,
          "heterosexual",
          "heterosexual",
          null,
          null,
          "heterosexual",
          "bisexual",
          "homosexual",
          "heterosexual",
          null,
          "bisexual",
          "heterosexual",
          "heterosexual",
          null,
          null,
          null,
          null,
          "homosexual",
          "heterosexual",
          "bisexual",
          "heterosexual",
          null,
          "heterosexual",
          "heterosexual",
          null,
          null,
          null,
          null,
          null,
          "heterosexual",
          null,
          "heterosexual",
          "heterosexual",
          null,
          "heterosexual",
          "heterosexual",
          "heterosexual",
          null,
          null,
          "heterosexual",
          null,
          "necrophile",
          null,
          "heterosexual, necrophile",
          null,
          "heterosexual",
          "bisexual",
          "heterosexual",
          null,
          "heterosexual",
          "bisexual",
          "heterosexual",
          "heterosexual",
          "heterosexual",
          "homosexual, pedophile",
          "heterosexual",
          null,
          null,
          null,
          "heterosexual",
          "bisexual",
          "heterosexual",
          "transsexual",
          null,
          null,
          null,
          null,
          "pedophile",
          "homosexual",
          "heterosexual",
          "heterosexual",
          "heterosexual",
          "heterosexual",
          "heterosexual",
          "heterosexual",
          null,
          null,
          "pedophile, necrophile",
          null,
          null,
          "heterosexual",
          "heterosexual",
          "heterosexual",
          "heterosexual",
          "heterosexual",
          "heterosexual",
          null,
          "homosexual, pedophile",
          "heterosexual",
          null,
          "heterosexual",
          null,
          "heterosexual",
          "heterosexual",
          null,
          null,
          "necrophile",
          "heterosexual",
          null,
          "heterosexual",
          null,
          "homosexual",
          null,
          null,
          null,
          "heterosexual",
          null,
          "heterosexual",
          null,
          "heterosexual",
          null,
          "heterosexual",
          "homosexual",
          null,
          "heterosexual",
          "heterosexual",
          null,
          "heterosexual",
          "heterosexual",
          null,
          "heterosexual",
          "heterosexual",
          null,
          null,
          "heterosexual",
          "heterosexual",
          null,
          "heterosexual",
          null,
          "bisexual, pedophile",
          null,
          "heterosexual",
          "heterosexual",
          "heterosexual",
          null,
          null,
          null,
          null,
          "homosexual",
          null,
          "heterosexual",
          null,
          null,
          null,
          "heterosexual",
          "heterosexual",
          null,
          "heterosexual",
          "heterosexual",
          null,
          null,
          "heterosexual",
          null,
          "heterosexual",
          null,
          null,
          "heterosexual",
          "heterosexual",
          null,
          "bisexual",
          null,
          null,
          null,
          null,
          null,
          "heterosexual",
          "heterosexual",
          null,
          null,
          null,
          "heterosexual",
          "pedophile",
          "heterosexual",
          "heterosexual",
          "heterosexual",
          "homosexual",
          null,
          null,
          "heterosexual",
          null,
          "heterosexual",
          "heterosexual",
          "heterosexual",
          "heterosexual",
          null,
          null,
          "heterosexual",
          "homosexual",
          null,
          null,
          null,
          "homosexual",
          null,
          "heterosexual",
          null,
          null,
          null,
          "heterosexual",
          "heterosexual, necrophile",
          "heterosexual",
          "bisexual",
          null,
          null,
          null,
          "heterosexual",
          "heterosexual, pedophile",
          null,
          null,
          null,
          null,
          "heterosexual",
          "heterosexual",
          "heterosexual",
          "heterosexual",
          "heterosexual",
          null,
          "pedophile, necrophile",
          null,
          null,
          null,
          null,
          null,
          null,
          null,
          "heterosexual",
          "heterosexual",
          null,
          null,
          null,
          "heterosexual",
          null,
          null,
          null,
          null,
          null,
          "heterosexual",
          "homosexual, pedophile",
          "heterosexual",
          null,
          "heterosexual",
          "heterosexual",
          null,
          "heterosexual",
          null,
          "pedophile",
          "heterosexual",
          "heterosexual",
          null,
          null,
          "heterosexual",
          "heterosexual, necrophile",
          "heterosexual, pedophile",
          null,
          "heterosexual",
          "heterosexual",
          "heterosexual",
          "heterosexual",
          null,
          "heterosexual",
          null,
          "heterosexual",
          null,
          null,
          "heterosexual",
          "heterosexual",
          "heterosexual",
          "heterosexual",
          null,
          "necrophile",
          "heterosexual",
          null,
          null,
          "heterosexual, pedophile",
          "heterosexual",
          null,
          "heterosexual",
          null,
          "heterosexual",
          null,
          "heterosexual",
          null,
          null,
          null,
          null,
          null,
          null,
          null,
          null,
          null,
          null,
          "heterosexual",
          null,
          null,
          null,
          "heterosexual",
          "heterosexual",
          null,
          null,
          "heterosexual",
          null,
          null,
          "homosexual",
          "heterosexual",
          null,
          "heterosexual",
          "heterosexual",
          "heterosexual",
          "heterosexual",
          null,
          "heterosexual",
          "heterosexual",
          null,
          "heterosexual",
          "heterosexual",
          "heterosexual",
          null,
          "heterosexual",
          null,
          "heterosexual",
          null,
          "heterosexual",
          "heterosexual, necrophile",
          null,
          "heterosexual",
          null,
          null,
          "heterosexual",
          "heterosexual",
          "heterosexual",
          "heterosexual",
          "heterosexual",
          "heterosexual",
          "heterosexual",
          "heterosexual",
          "heterosexual",
          "heterosexual",
          null,
          null,
          "heterosexual",
          "heterosexual",
          "heterosexual",
          "heterosexual",
          "heterosexual",
          "heterosexual",
          null,
          null,
          null,
          "heterosexual",
          "homosexual",
          "heterosexual",
          null,
          "heterosexual",
          null,
          "heterosexual",
          "heterosexual",
          null,
          null,
          "bisexual",
          "pedophile",
          "bisexual",
          "heterosexual",
          null,
          "heterosexual",
          null,
          null,
          "bisexual, pedophile",
          "homosexual",
          "heterosexual",
          "heterosexual",
          "heterosexual",
          null,
          "heterosexual",
          "heterosexual",
          null,
          "heterosexual",
          "heterosexual",
          "heterosexual",
          "heterosexual",
          "heterosexual",
          "heterosexual",
          "heterosexual",
          "heterosexual",
          "bisexual",
          null,
          null,
          "bisexual, necrophile",
          "heterosexual",
          "heterosexual",
          "heterosexual",
          "heterosexual",
          "heterosexual",
          null,
          "heterosexual",
          "heterosexual",
          null,
          null,
          "heterosexual",
          null,
          "heterosexual",
          "pedophile, necrophile",
          "heterosexual",
          "heterosexual",
          null,
          "heterosexual",
          null,
          null,
          null,
          null,
          "heterosexual",
          "heterosexual",
          null,
          null,
          "heterosexual",
          null,
          "heterosexual",
          null,
          null,
          null,
          null,
          "heterosexual",
          "heterosexual",
          "bisexual",
          null,
          "heterosexual",
          "heterosexual",
          null,
          "heterosexual",
          null,
          "heterosexual",
          "heterosexual",
          null,
          "heterosexual",
          "heterosexual",
          "heterosexual",
          null,
          "pedophile, necrophile, homosexual",
          null,
          null,
          null,
          "heterosexual",
          "homosexual, pedophile",
          "heterosexual, pedophile",
          null,
          "heterosexual",
          "pedophile",
          "heterosexual",
          null,
          null,
          null,
          null,
          "homosexual",
          null,
          "heterosexual",
          "heterosexual",
          "heterosexual",
          "heterosexual",
          null,
          null,
          "homosexual, necrophile",
          null,
          null,
          "heterosexual",
          null,
          "heterosexual",
          null,
          "pedophile",
          "heterosexual",
          null,
          "heterosexual",
          null,
          "necrophile",
          "pedophile",
          null,
          "heterosexual",
          null,
          "heterosexual",
          "heterosexual",
          "heterosexual",
          null,
          "heterosexual, necrophile",
          null
         ],
         "xaxis": "x",
         "y": [
          "Aquarius",
          "Capricorn",
          "Cancer",
          "Leo",
          "Pisces",
          "Cancer",
          null,
          null,
          "Taurus",
          "Taurus",
          null,
          "Leo",
          "Sagittarius",
          null,
          "Libra",
          "Sagittarius",
          "Capricorn",
          "Virgo",
          null,
          "Leo",
          "Scorpio",
          "Capricorn",
          "Sagittarius",
          "Sagittarius",
          "Sagittarius",
          "Scorpio",
          null,
          "Aries",
          "Sagittarius",
          "Cancer",
          null,
          null,
          "Gemini",
          "Scorpio",
          "Taurus",
          "Aquarius",
          "Pisces",
          "Aquarius",
          "Aquarius",
          null,
          "Scorpio",
          null,
          "Cancer",
          "Aries",
          "Cancer",
          "Gemini",
          null,
          "Gemini",
          null,
          "Capricorn",
          null,
          "Aquarius",
          null,
          "Cancer",
          "Cancer",
          "Sagittarius",
          "Aquarius",
          "Leo",
          "Virgo",
          "Gemini",
          "Virgo",
          "Cancer",
          "Scorpio",
          "Scorpio",
          "Aquarius",
          null,
          null,
          null,
          null,
          "Cancer",
          "Leo",
          "Sagittarius",
          "Capricorn",
          "Capricorn",
          null,
          "Scorpio",
          "Libra",
          "Libra",
          "Virgo",
          "Cancer",
          "Libra",
          "Pisces",
          "Libra",
          "Aquarius",
          "Libra",
          "Pisces",
          "Pisces",
          "Libra",
          "Pisces",
          "Leo",
          "Cancer",
          null,
          "Gemini",
          "Gemini",
          "Sagittarius",
          "Cancer",
          null,
          "Leo",
          "Leo",
          "Libra",
          "Gemini",
          "Cancer",
          "Virgo",
          "Aries",
          "Gemini",
          "Aries",
          "Leo",
          null,
          "Sagittarius",
          "Pisces",
          "Gemini",
          null,
          "Virgo",
          "Gemini",
          "Aries",
          "Pisces",
          "Aries",
          "Pisces",
          "Aries",
          "Virgo",
          "Capricorn",
          "Scorpio",
          "Sagittarius",
          "Libra",
          "Gemini",
          "Virgo",
          null,
          "Scorpio",
          null,
          "Sagittarius",
          "Cancer",
          null,
          "Scorpio",
          "Leo",
          null,
          "Scorpio",
          "Cancer",
          "Pisces",
          "Aries",
          "Scorpio",
          null,
          "Cancer",
          "Sagittarius",
          "Taurus",
          "Cancer",
          "Virgo",
          "Virgo",
          "Aries",
          "Cancer",
          "Libra",
          "Libra",
          "Sagittarius",
          "Aquarius",
          "Cancer",
          "Gemini",
          "Virgo",
          "Virgo",
          "Libra",
          "Aquarius",
          null,
          "Gemini",
          null,
          "Gemini",
          "Aries",
          "Aquarius",
          null,
          "Aries",
          "Libra",
          "Capricorn",
          "Virgo",
          "Sagittarius",
          "Capricorn",
          "Leo",
          "Virgo",
          "Virgo",
          "Scorpio",
          "Taurus",
          "Gemini",
          "Gemini",
          "Scorpio",
          "Pisces",
          "Taurus",
          "Capricorn",
          "Virgo",
          null,
          "Pisces",
          "Aquarius",
          "Taurus",
          "Aries",
          "Leo",
          "Scorpio",
          "Sagittarius",
          "Scorpio",
          null,
          "Capricorn",
          null,
          "Capricorn",
          null,
          "Capricorn",
          null,
          "Sagittarius",
          "Aquarius",
          "Gemini",
          "Gemini",
          "Aries",
          "Pisces",
          "Pisces",
          "Sagittarius",
          null,
          null,
          "Aries",
          null,
          "Leo",
          "Libra",
          "Aquarius",
          "Capricorn",
          "Aries",
          "Scorpio",
          "Scorpio",
          "Aquarius",
          "Scorpio",
          null,
          "Capricorn",
          null,
          null,
          "Capricorn",
          "Aquarius",
          "Capricorn",
          "Leo",
          null,
          "Virgo",
          "Aries",
          "Leo",
          "Capricorn",
          "Libra",
          "Cancer",
          "Aquarius",
          "Gemini",
          null,
          "Aries",
          "Scorpio",
          "Sagittarius",
          "Virgo",
          "Libra",
          null,
          "Virgo",
          "Capricorn",
          "Libra",
          "Aquarius",
          "Leo",
          "Sagittarius",
          "Virgo",
          "Leo",
          "Leo",
          "Pisces",
          null,
          null,
          "Capricorn",
          null,
          "Aries",
          "Scorpio",
          null,
          "Taurus",
          null,
          "Virgo",
          "Aries",
          "Capricorn",
          null,
          null,
          null,
          "Sagittarius",
          null,
          "Capricorn",
          "Capricorn",
          "Pisces",
          "Aries",
          "Capricorn",
          "Leo",
          "Scorpio",
          "Libra",
          null,
          "Pisces",
          "Virgo",
          "Sagittarius",
          "Gemini",
          "Cancer",
          "Scorpio",
          "Leo",
          "Cancer",
          "Leo",
          "Pisces",
          "Scorpio",
          null,
          null,
          "Scorpio",
          null,
          "Pisces",
          null,
          null,
          null,
          "Pisces",
          "Aquarius",
          "Taurus",
          "Aquarius",
          "Leo",
          "Libra",
          null,
          "Sagittarius",
          "Sagittarius",
          "Taurus",
          "Leo",
          "Sagittarius",
          null,
          "Libra",
          "Capricorn",
          "Pisces",
          "Libra",
          "Gemini",
          "Aries",
          null,
          "Scorpio",
          "Capricorn",
          null,
          "Capricorn",
          null,
          null,
          "Scorpio",
          "Sagittarius",
          "Sagittarius",
          null,
          null,
          "Gemini",
          "Aquarius",
          "Capricorn",
          "Taurus",
          null,
          "Leo",
          null,
          null,
          "Virgo",
          "Capricorn",
          "Capricorn",
          "Libra",
          "Aquarius",
          "Cancer",
          "Aquarius",
          "Scorpio",
          "Aries",
          "Capricorn",
          null,
          "Aries",
          "Virgo",
          "Capricorn",
          "Aries",
          "Gemini",
          "Gemini",
          "Libra",
          "Aquarius",
          "Cancer",
          null,
          "Cancer",
          null,
          null,
          "Libra",
          null,
          null,
          "Aries",
          "Taurus",
          "Taurus",
          "Aries",
          "Aquarius",
          null,
          null,
          "Gemini",
          null,
          "Pisces",
          null,
          "Gemini",
          null,
          "Taurus",
          "Sagittarius",
          "Capricorn",
          "Virgo",
          "Aquarius",
          "Sagittarius",
          "Leo",
          "Libra",
          "Pisces",
          null,
          null,
          null,
          null,
          null,
          "Libra",
          "Gemini",
          "Libra",
          null,
          null,
          null,
          "Pisces",
          "Leo",
          "Aquarius",
          "Leo",
          null,
          "Sagittarius",
          "Libra",
          "Capricorn",
          "Aquarius",
          "Virgo",
          "Sagittarius",
          "Leo",
          "Capricorn",
          null,
          "Cancer",
          "Sagittarius",
          null,
          "Cancer",
          "Leo",
          "Pisces",
          "Aquarius",
          "Libra",
          "Aquarius",
          "Gemini",
          "Libra",
          "Libra",
          null,
          null,
          "Sagittarius",
          "Aquarius",
          "Libra",
          null,
          "Capricorn",
          "Leo",
          "Aquarius",
          "Aries",
          "Scorpio",
          "Gemini",
          "Scorpio",
          "Scorpio",
          "Aquarius",
          "Gemini",
          null,
          "Leo",
          "Capricorn",
          "Aries",
          null,
          "Aries",
          null,
          "Sagittarius",
          null,
          null,
          null,
          null,
          null,
          null,
          null,
          null,
          null,
          null,
          "Aries",
          null,
          null,
          null,
          "Virgo",
          "Gemini",
          "Sagittarius",
          null,
          "Virgo",
          null,
          null,
          "Pisces",
          null,
          null,
          "Virgo",
          null,
          null,
          "Aquarius",
          "Capricorn",
          null,
          null,
          "Aries",
          "Leo",
          "Pisces",
          "Taurus",
          null,
          "Libra",
          null,
          "Aquarius",
          "Taurus",
          "Leo",
          "Pisces",
          "Virgo",
          "Capricorn",
          "Scorpio",
          "Taurus",
          "Leo",
          "Gemini",
          "Cancer",
          "Libra",
          "Aquarius",
          "Capricorn",
          "Capricorn",
          "Scorpio",
          null,
          "Sagittarius",
          "Aries",
          null,
          "Aries",
          "Capricorn",
          null,
          "Libra",
          null,
          null,
          "Virgo",
          null,
          "Capricorn",
          "Libra",
          "Scorpio",
          null,
          null,
          "Gemini",
          "Leo",
          "Taurus",
          "Capricorn",
          "Leo",
          null,
          "Pisces",
          "Pisces",
          "Pisces",
          "Sagittarius",
          "Virgo",
          "Pisces",
          null,
          "Sagittarius",
          "Scorpio",
          "Gemini",
          "Aries",
          null,
          "Pisces",
          "Leo",
          "Cancer",
          "Libra",
          "Gemini",
          "Sagittarius",
          "Libra",
          "Scorpio",
          "Pisces",
          null,
          null,
          "Aquarius",
          "Scorpio",
          "Sagittarius",
          "Aquarius",
          "Capricorn",
          "Aquarius",
          "Taurus",
          "Scorpio",
          "Aries",
          "Capricorn",
          "Gemini",
          null,
          "Leo",
          "Scorpio",
          "Cancer",
          "Pisces",
          "Virgo",
          "Aries",
          "Virgo",
          "Virgo",
          "Scorpio",
          null,
          "Sagittarius",
          null,
          "Leo",
          null,
          "Aries",
          null,
          "Virgo",
          "Capricorn",
          null,
          "Aries",
          "Leo",
          "Gemini",
          "Aries",
          null,
          null,
          null,
          null,
          "Aries",
          "Virgo",
          "Gemini",
          null,
          "Pisces",
          "Leo",
          "Virgo",
          "Virgo",
          "Pisces",
          "Pisces",
          "Leo",
          "Leo",
          "Sagittarius",
          "Pisces",
          "Aries",
          "Libra",
          "Capricorn",
          null,
          null,
          null,
          "Scorpio",
          "Capricorn",
          null,
          null,
          "Pisces",
          "Cancer",
          "Gemini",
          null,
          null,
          "Cancer",
          "Capricorn",
          "Gemini",
          null,
          null,
          "Cancer",
          "Capricorn",
          null,
          null,
          "Aquarius",
          "Libra",
          "Leo",
          "Aries",
          "Cancer",
          "Aquarius",
          "Capricorn",
          "Libra",
          null,
          "Taurus",
          "Scorpio",
          null,
          "Taurus",
          "Capricorn",
          null,
          "Capricorn",
          "Taurus",
          null,
          "Leo",
          "Leo",
          "Capricorn",
          "Sagittarius",
          "Aquarius",
          "Libra"
         ],
         "yaxis": "y"
        }
       ],
       "layout": {
        "height": 800,
        "legend": {
         "tracegroupgap": 0
        },
        "margin": {
         "t": 60
        },
        "template": {
         "data": {
          "bar": [
           {
            "error_x": {
             "color": "#2a3f5f"
            },
            "error_y": {
             "color": "#2a3f5f"
            },
            "marker": {
             "line": {
              "color": "#E5ECF6",
              "width": 0.5
             }
            },
            "type": "bar"
           }
          ],
          "barpolar": [
           {
            "marker": {
             "line": {
              "color": "#E5ECF6",
              "width": 0.5
             }
            },
            "type": "barpolar"
           }
          ],
          "carpet": [
           {
            "aaxis": {
             "endlinecolor": "#2a3f5f",
             "gridcolor": "white",
             "linecolor": "white",
             "minorgridcolor": "white",
             "startlinecolor": "#2a3f5f"
            },
            "baxis": {
             "endlinecolor": "#2a3f5f",
             "gridcolor": "white",
             "linecolor": "white",
             "minorgridcolor": "white",
             "startlinecolor": "#2a3f5f"
            },
            "type": "carpet"
           }
          ],
          "choropleth": [
           {
            "colorbar": {
             "outlinewidth": 0,
             "ticks": ""
            },
            "type": "choropleth"
           }
          ],
          "contour": [
           {
            "colorbar": {
             "outlinewidth": 0,
             "ticks": ""
            },
            "colorscale": [
             [
              0,
              "#0d0887"
             ],
             [
              0.1111111111111111,
              "#46039f"
             ],
             [
              0.2222222222222222,
              "#7201a8"
             ],
             [
              0.3333333333333333,
              "#9c179e"
             ],
             [
              0.4444444444444444,
              "#bd3786"
             ],
             [
              0.5555555555555556,
              "#d8576b"
             ],
             [
              0.6666666666666666,
              "#ed7953"
             ],
             [
              0.7777777777777778,
              "#fb9f3a"
             ],
             [
              0.8888888888888888,
              "#fdca26"
             ],
             [
              1,
              "#f0f921"
             ]
            ],
            "type": "contour"
           }
          ],
          "contourcarpet": [
           {
            "colorbar": {
             "outlinewidth": 0,
             "ticks": ""
            },
            "type": "contourcarpet"
           }
          ],
          "heatmap": [
           {
            "colorbar": {
             "outlinewidth": 0,
             "ticks": ""
            },
            "colorscale": [
             [
              0,
              "#0d0887"
             ],
             [
              0.1111111111111111,
              "#46039f"
             ],
             [
              0.2222222222222222,
              "#7201a8"
             ],
             [
              0.3333333333333333,
              "#9c179e"
             ],
             [
              0.4444444444444444,
              "#bd3786"
             ],
             [
              0.5555555555555556,
              "#d8576b"
             ],
             [
              0.6666666666666666,
              "#ed7953"
             ],
             [
              0.7777777777777778,
              "#fb9f3a"
             ],
             [
              0.8888888888888888,
              "#fdca26"
             ],
             [
              1,
              "#f0f921"
             ]
            ],
            "type": "heatmap"
           }
          ],
          "heatmapgl": [
           {
            "colorbar": {
             "outlinewidth": 0,
             "ticks": ""
            },
            "colorscale": [
             [
              0,
              "#0d0887"
             ],
             [
              0.1111111111111111,
              "#46039f"
             ],
             [
              0.2222222222222222,
              "#7201a8"
             ],
             [
              0.3333333333333333,
              "#9c179e"
             ],
             [
              0.4444444444444444,
              "#bd3786"
             ],
             [
              0.5555555555555556,
              "#d8576b"
             ],
             [
              0.6666666666666666,
              "#ed7953"
             ],
             [
              0.7777777777777778,
              "#fb9f3a"
             ],
             [
              0.8888888888888888,
              "#fdca26"
             ],
             [
              1,
              "#f0f921"
             ]
            ],
            "type": "heatmapgl"
           }
          ],
          "histogram": [
           {
            "marker": {
             "colorbar": {
              "outlinewidth": 0,
              "ticks": ""
             }
            },
            "type": "histogram"
           }
          ],
          "histogram2d": [
           {
            "colorbar": {
             "outlinewidth": 0,
             "ticks": ""
            },
            "colorscale": [
             [
              0,
              "#0d0887"
             ],
             [
              0.1111111111111111,
              "#46039f"
             ],
             [
              0.2222222222222222,
              "#7201a8"
             ],
             [
              0.3333333333333333,
              "#9c179e"
             ],
             [
              0.4444444444444444,
              "#bd3786"
             ],
             [
              0.5555555555555556,
              "#d8576b"
             ],
             [
              0.6666666666666666,
              "#ed7953"
             ],
             [
              0.7777777777777778,
              "#fb9f3a"
             ],
             [
              0.8888888888888888,
              "#fdca26"
             ],
             [
              1,
              "#f0f921"
             ]
            ],
            "type": "histogram2d"
           }
          ],
          "histogram2dcontour": [
           {
            "colorbar": {
             "outlinewidth": 0,
             "ticks": ""
            },
            "colorscale": [
             [
              0,
              "#0d0887"
             ],
             [
              0.1111111111111111,
              "#46039f"
             ],
             [
              0.2222222222222222,
              "#7201a8"
             ],
             [
              0.3333333333333333,
              "#9c179e"
             ],
             [
              0.4444444444444444,
              "#bd3786"
             ],
             [
              0.5555555555555556,
              "#d8576b"
             ],
             [
              0.6666666666666666,
              "#ed7953"
             ],
             [
              0.7777777777777778,
              "#fb9f3a"
             ],
             [
              0.8888888888888888,
              "#fdca26"
             ],
             [
              1,
              "#f0f921"
             ]
            ],
            "type": "histogram2dcontour"
           }
          ],
          "mesh3d": [
           {
            "colorbar": {
             "outlinewidth": 0,
             "ticks": ""
            },
            "type": "mesh3d"
           }
          ],
          "parcoords": [
           {
            "line": {
             "colorbar": {
              "outlinewidth": 0,
              "ticks": ""
             }
            },
            "type": "parcoords"
           }
          ],
          "pie": [
           {
            "automargin": true,
            "type": "pie"
           }
          ],
          "scatter": [
           {
            "marker": {
             "colorbar": {
              "outlinewidth": 0,
              "ticks": ""
             }
            },
            "type": "scatter"
           }
          ],
          "scatter3d": [
           {
            "line": {
             "colorbar": {
              "outlinewidth": 0,
              "ticks": ""
             }
            },
            "marker": {
             "colorbar": {
              "outlinewidth": 0,
              "ticks": ""
             }
            },
            "type": "scatter3d"
           }
          ],
          "scattercarpet": [
           {
            "marker": {
             "colorbar": {
              "outlinewidth": 0,
              "ticks": ""
             }
            },
            "type": "scattercarpet"
           }
          ],
          "scattergeo": [
           {
            "marker": {
             "colorbar": {
              "outlinewidth": 0,
              "ticks": ""
             }
            },
            "type": "scattergeo"
           }
          ],
          "scattergl": [
           {
            "marker": {
             "colorbar": {
              "outlinewidth": 0,
              "ticks": ""
             }
            },
            "type": "scattergl"
           }
          ],
          "scattermapbox": [
           {
            "marker": {
             "colorbar": {
              "outlinewidth": 0,
              "ticks": ""
             }
            },
            "type": "scattermapbox"
           }
          ],
          "scatterpolar": [
           {
            "marker": {
             "colorbar": {
              "outlinewidth": 0,
              "ticks": ""
             }
            },
            "type": "scatterpolar"
           }
          ],
          "scatterpolargl": [
           {
            "marker": {
             "colorbar": {
              "outlinewidth": 0,
              "ticks": ""
             }
            },
            "type": "scatterpolargl"
           }
          ],
          "scatterternary": [
           {
            "marker": {
             "colorbar": {
              "outlinewidth": 0,
              "ticks": ""
             }
            },
            "type": "scatterternary"
           }
          ],
          "surface": [
           {
            "colorbar": {
             "outlinewidth": 0,
             "ticks": ""
            },
            "colorscale": [
             [
              0,
              "#0d0887"
             ],
             [
              0.1111111111111111,
              "#46039f"
             ],
             [
              0.2222222222222222,
              "#7201a8"
             ],
             [
              0.3333333333333333,
              "#9c179e"
             ],
             [
              0.4444444444444444,
              "#bd3786"
             ],
             [
              0.5555555555555556,
              "#d8576b"
             ],
             [
              0.6666666666666666,
              "#ed7953"
             ],
             [
              0.7777777777777778,
              "#fb9f3a"
             ],
             [
              0.8888888888888888,
              "#fdca26"
             ],
             [
              1,
              "#f0f921"
             ]
            ],
            "type": "surface"
           }
          ],
          "table": [
           {
            "cells": {
             "fill": {
              "color": "#EBF0F8"
             },
             "line": {
              "color": "white"
             }
            },
            "header": {
             "fill": {
              "color": "#C8D4E3"
             },
             "line": {
              "color": "white"
             }
            },
            "type": "table"
           }
          ]
         },
         "layout": {
          "annotationdefaults": {
           "arrowcolor": "#2a3f5f",
           "arrowhead": 0,
           "arrowwidth": 1
          },
          "coloraxis": {
           "colorbar": {
            "outlinewidth": 0,
            "ticks": ""
           }
          },
          "colorscale": {
           "diverging": [
            [
             0,
             "#8e0152"
            ],
            [
             0.1,
             "#c51b7d"
            ],
            [
             0.2,
             "#de77ae"
            ],
            [
             0.3,
             "#f1b6da"
            ],
            [
             0.4,
             "#fde0ef"
            ],
            [
             0.5,
             "#f7f7f7"
            ],
            [
             0.6,
             "#e6f5d0"
            ],
            [
             0.7,
             "#b8e186"
            ],
            [
             0.8,
             "#7fbc41"
            ],
            [
             0.9,
             "#4d9221"
            ],
            [
             1,
             "#276419"
            ]
           ],
           "sequential": [
            [
             0,
             "#0d0887"
            ],
            [
             0.1111111111111111,
             "#46039f"
            ],
            [
             0.2222222222222222,
             "#7201a8"
            ],
            [
             0.3333333333333333,
             "#9c179e"
            ],
            [
             0.4444444444444444,
             "#bd3786"
            ],
            [
             0.5555555555555556,
             "#d8576b"
            ],
            [
             0.6666666666666666,
             "#ed7953"
            ],
            [
             0.7777777777777778,
             "#fb9f3a"
            ],
            [
             0.8888888888888888,
             "#fdca26"
            ],
            [
             1,
             "#f0f921"
            ]
           ],
           "sequentialminus": [
            [
             0,
             "#0d0887"
            ],
            [
             0.1111111111111111,
             "#46039f"
            ],
            [
             0.2222222222222222,
             "#7201a8"
            ],
            [
             0.3333333333333333,
             "#9c179e"
            ],
            [
             0.4444444444444444,
             "#bd3786"
            ],
            [
             0.5555555555555556,
             "#d8576b"
            ],
            [
             0.6666666666666666,
             "#ed7953"
            ],
            [
             0.7777777777777778,
             "#fb9f3a"
            ],
            [
             0.8888888888888888,
             "#fdca26"
            ],
            [
             1,
             "#f0f921"
            ]
           ]
          },
          "colorway": [
           "#636efa",
           "#EF553B",
           "#00cc96",
           "#ab63fa",
           "#FFA15A",
           "#19d3f3",
           "#FF6692",
           "#B6E880",
           "#FF97FF",
           "#FECB52"
          ],
          "font": {
           "color": "#2a3f5f"
          },
          "geo": {
           "bgcolor": "white",
           "lakecolor": "white",
           "landcolor": "#E5ECF6",
           "showlakes": true,
           "showland": true,
           "subunitcolor": "white"
          },
          "hoverlabel": {
           "align": "left"
          },
          "hovermode": "closest",
          "mapbox": {
           "style": "light"
          },
          "paper_bgcolor": "white",
          "plot_bgcolor": "#E5ECF6",
          "polar": {
           "angularaxis": {
            "gridcolor": "white",
            "linecolor": "white",
            "ticks": ""
           },
           "bgcolor": "#E5ECF6",
           "radialaxis": {
            "gridcolor": "white",
            "linecolor": "white",
            "ticks": ""
           }
          },
          "scene": {
           "xaxis": {
            "backgroundcolor": "#E5ECF6",
            "gridcolor": "white",
            "gridwidth": 2,
            "linecolor": "white",
            "showbackground": true,
            "ticks": "",
            "zerolinecolor": "white"
           },
           "yaxis": {
            "backgroundcolor": "#E5ECF6",
            "gridcolor": "white",
            "gridwidth": 2,
            "linecolor": "white",
            "showbackground": true,
            "ticks": "",
            "zerolinecolor": "white"
           },
           "zaxis": {
            "backgroundcolor": "#E5ECF6",
            "gridcolor": "white",
            "gridwidth": 2,
            "linecolor": "white",
            "showbackground": true,
            "ticks": "",
            "zerolinecolor": "white"
           }
          },
          "shapedefaults": {
           "line": {
            "color": "#2a3f5f"
           }
          },
          "ternary": {
           "aaxis": {
            "gridcolor": "white",
            "linecolor": "white",
            "ticks": ""
           },
           "baxis": {
            "gridcolor": "white",
            "linecolor": "white",
            "ticks": ""
           },
           "bgcolor": "#E5ECF6",
           "caxis": {
            "gridcolor": "white",
            "linecolor": "white",
            "ticks": ""
           }
          },
          "title": {
           "x": 0.05
          },
          "xaxis": {
           "automargin": true,
           "gridcolor": "white",
           "linecolor": "white",
           "ticks": "",
           "title": {
            "standoff": 15
           },
           "zerolinecolor": "white",
           "zerolinewidth": 2
          },
          "yaxis": {
           "automargin": true,
           "gridcolor": "white",
           "linecolor": "white",
           "ticks": "",
           "title": {
            "standoff": 15
           },
           "zerolinecolor": "white",
           "zerolinewidth": 2
          }
         }
        },
        "xaxis": {
         "anchor": "y",
         "domain": [
          0,
          1
         ],
         "title": {
          "text": "sexual_preference"
         }
        },
        "yaxis": {
         "anchor": "x",
         "domain": [
          0,
          1
         ],
         "title": {
          "text": "astrological_sign"
         }
        }
       }
      },
      "text/html": [
       "<div>\n",
       "        \n",
       "        \n",
       "            <div id=\"747e6cbd-9c0f-492c-bdfc-e2fb04af155b\" class=\"plotly-graph-div\" style=\"height:800px; width:100%;\"></div>\n",
       "            <script type=\"text/javascript\">\n",
       "                require([\"plotly\"], function(Plotly) {\n",
       "                    window.PLOTLYENV=window.PLOTLYENV || {};\n",
       "                    \n",
       "                if (document.getElementById(\"747e6cbd-9c0f-492c-bdfc-e2fb04af155b\")) {\n",
       "                    Plotly.newPlot(\n",
       "                        '747e6cbd-9c0f-492c-bdfc-e2fb04af155b',\n",
       "                        [{\"hoverlabel\": {\"namelength\": 0}, \"hovertemplate\": \"sexual_preference=%{x}<br>astrological_sign=%{y}\", \"legendgroup\": \"\", \"marker\": {\"color\": \"#636efa\", \"symbol\": \"circle\"}, \"mode\": \"markers\", \"name\": \"\", \"showlegend\": false, \"type\": \"scatter\", \"x\": [null, \"homosexual\", \"bisexual, pedophile\", \"heterosexual\", null, \"heterosexual\", \"heterosexual\", \"homosexual\", \"heterosexual\", \"heterosexual\", null, null, null, null, null, \"homosexual\", null, \"heterosexual\", null, \"heterosexual\", null, null, \"heterosexual, pedophile\", \"heterosexual\", \"heterosexual\", null, null, \"necrophile\", \"heterosexual\", \"heterosexual\", \"heterosexual\", null, \"heterosexual, pedophile\", \"heterosexual\", null, null, \"heterosexual\", \"homosexual\", \"heterosexual\", null, \"heterosexual\", null, null, null, \"homosexual, pedophile\", \"heterosexual\", null, \"heterosexual\", \"bisexual\", \"heterosexual\", null, \"heterosexual\", null, null, null, \"heterosexual\", \"heterosexual\", null, \"heterosexual\", null, \"heterosexual\", \"heterosexual\", \"bisexual, pedophile\", \"heterosexual\", null, null, null, null, \"heterosexual\", null, \"heterosexual\", null, null, \"heterosexual\", null, \"heterosexual\", null, \"heterosexual\", null, \"bisexual\", \"heterosexual\", null, \"heterosexual\", null, \"bisexual\", \"heterosexual, pedophile\", \"bisexual\", \"homosexual\", \"heterosexual\", \"heterosexual, pedophile\", \"pedophile\", \"heterosexual\", null, \"heterosexual\", \"bisexual, pedophile\", \"bisexual\", null, \"heterosexual\", \"heterosexual\", \"heterosexual\", \"heterosexual\", \"pedophile\", \"heterosexual\", \"heterosexual\", \"heterosexual\", \"heterosexual\", \"heterosexual\", null, \"heterosexual\", \"bisexual\", \"heterosexual\", null, \"heterosexual\", \"heterosexual\", null, null, \"heterosexual\", null, \"heterosexual, necrophile\", \"heterosexual\", \"heterosexual, necrophile\", \"heterosexual\", null, \"heterosexual\", \"heterosexual\", \"homosexual\", null, null, \"heterosexual\", null, null, \"heterosexual\", \"heterosexual\", \"heterosexual\", null, \"heterosexual, pedophile\", null, \"homosexual, pedophile\", \"heterosexual\", null, null, \"heterosexual\", \"heterosexual\", null, null, \"heterosexual\", \"heterosexual\", \"heterosexual\", \"heterosexual\", null, \"heterosexual\", \"heterosexual\", \"pedophile, necrophile\", \"heterosexual\", \"heterosexual\", \"heterosexual\", \"heterosexual\", \"pedophile\", \"pedophile, necrophile\", null, \"heterosexual\", null, null, null, \"heterosexual\", null, null, \"heterosexual\", \"homosexual\", null, \"heterosexual\", \"heterosexual\", null, null, \"heterosexual\", \"bisexual\", \"homosexual\", \"heterosexual\", null, \"bisexual\", \"heterosexual\", \"heterosexual\", null, null, null, null, \"homosexual\", \"heterosexual\", \"bisexual\", \"heterosexual\", null, \"heterosexual\", \"heterosexual\", null, null, null, null, null, \"heterosexual\", null, \"heterosexual\", \"heterosexual\", null, \"heterosexual\", \"heterosexual\", \"heterosexual\", null, null, \"heterosexual\", null, \"necrophile\", null, \"heterosexual, necrophile\", null, \"heterosexual\", \"bisexual\", \"heterosexual\", null, \"heterosexual\", \"bisexual\", \"heterosexual\", \"heterosexual\", \"heterosexual\", \"homosexual, pedophile\", \"heterosexual\", null, null, null, \"heterosexual\", \"bisexual\", \"heterosexual\", \"transsexual\", null, null, null, null, \"pedophile\", \"homosexual\", \"heterosexual\", \"heterosexual\", \"heterosexual\", \"heterosexual\", \"heterosexual\", \"heterosexual\", null, null, \"pedophile, necrophile\", null, null, \"heterosexual\", \"heterosexual\", \"heterosexual\", \"heterosexual\", \"heterosexual\", \"heterosexual\", null, \"homosexual, pedophile\", \"heterosexual\", null, \"heterosexual\", null, \"heterosexual\", \"heterosexual\", null, null, \"necrophile\", \"heterosexual\", null, \"heterosexual\", null, \"homosexual\", null, null, null, \"heterosexual\", null, \"heterosexual\", null, \"heterosexual\", null, \"heterosexual\", \"homosexual\", null, \"heterosexual\", \"heterosexual\", null, \"heterosexual\", \"heterosexual\", null, \"heterosexual\", \"heterosexual\", null, null, \"heterosexual\", \"heterosexual\", null, \"heterosexual\", null, \"bisexual, pedophile\", null, \"heterosexual\", \"heterosexual\", \"heterosexual\", null, null, null, null, \"homosexual\", null, \"heterosexual\", null, null, null, \"heterosexual\", \"heterosexual\", null, \"heterosexual\", \"heterosexual\", null, null, \"heterosexual\", null, \"heterosexual\", null, null, \"heterosexual\", \"heterosexual\", null, \"bisexual\", null, null, null, null, null, \"heterosexual\", \"heterosexual\", null, null, null, \"heterosexual\", \"pedophile\", \"heterosexual\", \"heterosexual\", \"heterosexual\", \"homosexual\", null, null, \"heterosexual\", null, \"heterosexual\", \"heterosexual\", \"heterosexual\", \"heterosexual\", null, null, \"heterosexual\", \"homosexual\", null, null, null, \"homosexual\", null, \"heterosexual\", null, null, null, \"heterosexual\", \"heterosexual, necrophile\", \"heterosexual\", \"bisexual\", null, null, null, \"heterosexual\", \"heterosexual, pedophile\", null, null, null, null, \"heterosexual\", \"heterosexual\", \"heterosexual\", \"heterosexual\", \"heterosexual\", null, \"pedophile, necrophile\", null, null, null, null, null, null, null, \"heterosexual\", \"heterosexual\", null, null, null, \"heterosexual\", null, null, null, null, null, \"heterosexual\", \"homosexual, pedophile\", \"heterosexual\", null, \"heterosexual\", \"heterosexual\", null, \"heterosexual\", null, \"pedophile\", \"heterosexual\", \"heterosexual\", null, null, \"heterosexual\", \"heterosexual, necrophile\", \"heterosexual, pedophile\", null, \"heterosexual\", \"heterosexual\", \"heterosexual\", \"heterosexual\", null, \"heterosexual\", null, \"heterosexual\", null, null, \"heterosexual\", \"heterosexual\", \"heterosexual\", \"heterosexual\", null, \"necrophile\", \"heterosexual\", null, null, \"heterosexual, pedophile\", \"heterosexual\", null, \"heterosexual\", null, \"heterosexual\", null, \"heterosexual\", null, null, null, null, null, null, null, null, null, null, \"heterosexual\", null, null, null, \"heterosexual\", \"heterosexual\", null, null, \"heterosexual\", null, null, \"homosexual\", \"heterosexual\", null, \"heterosexual\", \"heterosexual\", \"heterosexual\", \"heterosexual\", null, \"heterosexual\", \"heterosexual\", null, \"heterosexual\", \"heterosexual\", \"heterosexual\", null, \"heterosexual\", null, \"heterosexual\", null, \"heterosexual\", \"heterosexual, necrophile\", null, \"heterosexual\", null, null, \"heterosexual\", \"heterosexual\", \"heterosexual\", \"heterosexual\", \"heterosexual\", \"heterosexual\", \"heterosexual\", \"heterosexual\", \"heterosexual\", \"heterosexual\", null, null, \"heterosexual\", \"heterosexual\", \"heterosexual\", \"heterosexual\", \"heterosexual\", \"heterosexual\", null, null, null, \"heterosexual\", \"homosexual\", \"heterosexual\", null, \"heterosexual\", null, \"heterosexual\", \"heterosexual\", null, null, \"bisexual\", \"pedophile\", \"bisexual\", \"heterosexual\", null, \"heterosexual\", null, null, \"bisexual, pedophile\", \"homosexual\", \"heterosexual\", \"heterosexual\", \"heterosexual\", null, \"heterosexual\", \"heterosexual\", null, \"heterosexual\", \"heterosexual\", \"heterosexual\", \"heterosexual\", \"heterosexual\", \"heterosexual\", \"heterosexual\", \"heterosexual\", \"bisexual\", null, null, \"bisexual, necrophile\", \"heterosexual\", \"heterosexual\", \"heterosexual\", \"heterosexual\", \"heterosexual\", null, \"heterosexual\", \"heterosexual\", null, null, \"heterosexual\", null, \"heterosexual\", \"pedophile, necrophile\", \"heterosexual\", \"heterosexual\", null, \"heterosexual\", null, null, null, null, \"heterosexual\", \"heterosexual\", null, null, \"heterosexual\", null, \"heterosexual\", null, null, null, null, \"heterosexual\", \"heterosexual\", \"bisexual\", null, \"heterosexual\", \"heterosexual\", null, \"heterosexual\", null, \"heterosexual\", \"heterosexual\", null, \"heterosexual\", \"heterosexual\", \"heterosexual\", null, \"pedophile, necrophile, homosexual\", null, null, null, \"heterosexual\", \"homosexual, pedophile\", \"heterosexual, pedophile\", null, \"heterosexual\", \"pedophile\", \"heterosexual\", null, null, null, null, \"homosexual\", null, \"heterosexual\", \"heterosexual\", \"heterosexual\", \"heterosexual\", null, null, \"homosexual, necrophile\", null, null, \"heterosexual\", null, \"heterosexual\", null, \"pedophile\", \"heterosexual\", null, \"heterosexual\", null, \"necrophile\", \"pedophile\", null, \"heterosexual\", null, \"heterosexual\", \"heterosexual\", \"heterosexual\", null, \"heterosexual, necrophile\", null], \"xaxis\": \"x\", \"y\": [\"Aquarius\", \"Capricorn\", \"Cancer\", \"Leo\", \"Pisces\", \"Cancer\", null, null, \"Taurus\", \"Taurus\", null, \"Leo\", \"Sagittarius\", null, \"Libra\", \"Sagittarius\", \"Capricorn\", \"Virgo\", null, \"Leo\", \"Scorpio\", \"Capricorn\", \"Sagittarius\", \"Sagittarius\", \"Sagittarius\", \"Scorpio\", null, \"Aries\", \"Sagittarius\", \"Cancer\", null, null, \"Gemini\", \"Scorpio\", \"Taurus\", \"Aquarius\", \"Pisces\", \"Aquarius\", \"Aquarius\", null, \"Scorpio\", null, \"Cancer\", \"Aries\", \"Cancer\", \"Gemini\", null, \"Gemini\", null, \"Capricorn\", null, \"Aquarius\", null, \"Cancer\", \"Cancer\", \"Sagittarius\", \"Aquarius\", \"Leo\", \"Virgo\", \"Gemini\", \"Virgo\", \"Cancer\", \"Scorpio\", \"Scorpio\", \"Aquarius\", null, null, null, null, \"Cancer\", \"Leo\", \"Sagittarius\", \"Capricorn\", \"Capricorn\", null, \"Scorpio\", \"Libra\", \"Libra\", \"Virgo\", \"Cancer\", \"Libra\", \"Pisces\", \"Libra\", \"Aquarius\", \"Libra\", \"Pisces\", \"Pisces\", \"Libra\", \"Pisces\", \"Leo\", \"Cancer\", null, \"Gemini\", \"Gemini\", \"Sagittarius\", \"Cancer\", null, \"Leo\", \"Leo\", \"Libra\", \"Gemini\", \"Cancer\", \"Virgo\", \"Aries\", \"Gemini\", \"Aries\", \"Leo\", null, \"Sagittarius\", \"Pisces\", \"Gemini\", null, \"Virgo\", \"Gemini\", \"Aries\", \"Pisces\", \"Aries\", \"Pisces\", \"Aries\", \"Virgo\", \"Capricorn\", \"Scorpio\", \"Sagittarius\", \"Libra\", \"Gemini\", \"Virgo\", null, \"Scorpio\", null, \"Sagittarius\", \"Cancer\", null, \"Scorpio\", \"Leo\", null, \"Scorpio\", \"Cancer\", \"Pisces\", \"Aries\", \"Scorpio\", null, \"Cancer\", \"Sagittarius\", \"Taurus\", \"Cancer\", \"Virgo\", \"Virgo\", \"Aries\", \"Cancer\", \"Libra\", \"Libra\", \"Sagittarius\", \"Aquarius\", \"Cancer\", \"Gemini\", \"Virgo\", \"Virgo\", \"Libra\", \"Aquarius\", null, \"Gemini\", null, \"Gemini\", \"Aries\", \"Aquarius\", null, \"Aries\", \"Libra\", \"Capricorn\", \"Virgo\", \"Sagittarius\", \"Capricorn\", \"Leo\", \"Virgo\", \"Virgo\", \"Scorpio\", \"Taurus\", \"Gemini\", \"Gemini\", \"Scorpio\", \"Pisces\", \"Taurus\", \"Capricorn\", \"Virgo\", null, \"Pisces\", \"Aquarius\", \"Taurus\", \"Aries\", \"Leo\", \"Scorpio\", \"Sagittarius\", \"Scorpio\", null, \"Capricorn\", null, \"Capricorn\", null, \"Capricorn\", null, \"Sagittarius\", \"Aquarius\", \"Gemini\", \"Gemini\", \"Aries\", \"Pisces\", \"Pisces\", \"Sagittarius\", null, null, \"Aries\", null, \"Leo\", \"Libra\", \"Aquarius\", \"Capricorn\", \"Aries\", \"Scorpio\", \"Scorpio\", \"Aquarius\", \"Scorpio\", null, \"Capricorn\", null, null, \"Capricorn\", \"Aquarius\", \"Capricorn\", \"Leo\", null, \"Virgo\", \"Aries\", \"Leo\", \"Capricorn\", \"Libra\", \"Cancer\", \"Aquarius\", \"Gemini\", null, \"Aries\", \"Scorpio\", \"Sagittarius\", \"Virgo\", \"Libra\", null, \"Virgo\", \"Capricorn\", \"Libra\", \"Aquarius\", \"Leo\", \"Sagittarius\", \"Virgo\", \"Leo\", \"Leo\", \"Pisces\", null, null, \"Capricorn\", null, \"Aries\", \"Scorpio\", null, \"Taurus\", null, \"Virgo\", \"Aries\", \"Capricorn\", null, null, null, \"Sagittarius\", null, \"Capricorn\", \"Capricorn\", \"Pisces\", \"Aries\", \"Capricorn\", \"Leo\", \"Scorpio\", \"Libra\", null, \"Pisces\", \"Virgo\", \"Sagittarius\", \"Gemini\", \"Cancer\", \"Scorpio\", \"Leo\", \"Cancer\", \"Leo\", \"Pisces\", \"Scorpio\", null, null, \"Scorpio\", null, \"Pisces\", null, null, null, \"Pisces\", \"Aquarius\", \"Taurus\", \"Aquarius\", \"Leo\", \"Libra\", null, \"Sagittarius\", \"Sagittarius\", \"Taurus\", \"Leo\", \"Sagittarius\", null, \"Libra\", \"Capricorn\", \"Pisces\", \"Libra\", \"Gemini\", \"Aries\", null, \"Scorpio\", \"Capricorn\", null, \"Capricorn\", null, null, \"Scorpio\", \"Sagittarius\", \"Sagittarius\", null, null, \"Gemini\", \"Aquarius\", \"Capricorn\", \"Taurus\", null, \"Leo\", null, null, \"Virgo\", \"Capricorn\", \"Capricorn\", \"Libra\", \"Aquarius\", \"Cancer\", \"Aquarius\", \"Scorpio\", \"Aries\", \"Capricorn\", null, \"Aries\", \"Virgo\", \"Capricorn\", \"Aries\", \"Gemini\", \"Gemini\", \"Libra\", \"Aquarius\", \"Cancer\", null, \"Cancer\", null, null, \"Libra\", null, null, \"Aries\", \"Taurus\", \"Taurus\", \"Aries\", \"Aquarius\", null, null, \"Gemini\", null, \"Pisces\", null, \"Gemini\", null, \"Taurus\", \"Sagittarius\", \"Capricorn\", \"Virgo\", \"Aquarius\", \"Sagittarius\", \"Leo\", \"Libra\", \"Pisces\", null, null, null, null, null, \"Libra\", \"Gemini\", \"Libra\", null, null, null, \"Pisces\", \"Leo\", \"Aquarius\", \"Leo\", null, \"Sagittarius\", \"Libra\", \"Capricorn\", \"Aquarius\", \"Virgo\", \"Sagittarius\", \"Leo\", \"Capricorn\", null, \"Cancer\", \"Sagittarius\", null, \"Cancer\", \"Leo\", \"Pisces\", \"Aquarius\", \"Libra\", \"Aquarius\", \"Gemini\", \"Libra\", \"Libra\", null, null, \"Sagittarius\", \"Aquarius\", \"Libra\", null, \"Capricorn\", \"Leo\", \"Aquarius\", \"Aries\", \"Scorpio\", \"Gemini\", \"Scorpio\", \"Scorpio\", \"Aquarius\", \"Gemini\", null, \"Leo\", \"Capricorn\", \"Aries\", null, \"Aries\", null, \"Sagittarius\", null, null, null, null, null, null, null, null, null, null, \"Aries\", null, null, null, \"Virgo\", \"Gemini\", \"Sagittarius\", null, \"Virgo\", null, null, \"Pisces\", null, null, \"Virgo\", null, null, \"Aquarius\", \"Capricorn\", null, null, \"Aries\", \"Leo\", \"Pisces\", \"Taurus\", null, \"Libra\", null, \"Aquarius\", \"Taurus\", \"Leo\", \"Pisces\", \"Virgo\", \"Capricorn\", \"Scorpio\", \"Taurus\", \"Leo\", \"Gemini\", \"Cancer\", \"Libra\", \"Aquarius\", \"Capricorn\", \"Capricorn\", \"Scorpio\", null, \"Sagittarius\", \"Aries\", null, \"Aries\", \"Capricorn\", null, \"Libra\", null, null, \"Virgo\", null, \"Capricorn\", \"Libra\", \"Scorpio\", null, null, \"Gemini\", \"Leo\", \"Taurus\", \"Capricorn\", \"Leo\", null, \"Pisces\", \"Pisces\", \"Pisces\", \"Sagittarius\", \"Virgo\", \"Pisces\", null, \"Sagittarius\", \"Scorpio\", \"Gemini\", \"Aries\", null, \"Pisces\", \"Leo\", \"Cancer\", \"Libra\", \"Gemini\", \"Sagittarius\", \"Libra\", \"Scorpio\", \"Pisces\", null, null, \"Aquarius\", \"Scorpio\", \"Sagittarius\", \"Aquarius\", \"Capricorn\", \"Aquarius\", \"Taurus\", \"Scorpio\", \"Aries\", \"Capricorn\", \"Gemini\", null, \"Leo\", \"Scorpio\", \"Cancer\", \"Pisces\", \"Virgo\", \"Aries\", \"Virgo\", \"Virgo\", \"Scorpio\", null, \"Sagittarius\", null, \"Leo\", null, \"Aries\", null, \"Virgo\", \"Capricorn\", null, \"Aries\", \"Leo\", \"Gemini\", \"Aries\", null, null, null, null, \"Aries\", \"Virgo\", \"Gemini\", null, \"Pisces\", \"Leo\", \"Virgo\", \"Virgo\", \"Pisces\", \"Pisces\", \"Leo\", \"Leo\", \"Sagittarius\", \"Pisces\", \"Aries\", \"Libra\", \"Capricorn\", null, null, null, \"Scorpio\", \"Capricorn\", null, null, \"Pisces\", \"Cancer\", \"Gemini\", null, null, \"Cancer\", \"Capricorn\", \"Gemini\", null, null, \"Cancer\", \"Capricorn\", null, null, \"Aquarius\", \"Libra\", \"Leo\", \"Aries\", \"Cancer\", \"Aquarius\", \"Capricorn\", \"Libra\", null, \"Taurus\", \"Scorpio\", null, \"Taurus\", \"Capricorn\", null, \"Capricorn\", \"Taurus\", null, \"Leo\", \"Leo\", \"Capricorn\", \"Sagittarius\", \"Aquarius\", \"Libra\"], \"yaxis\": \"y\"}],\n",
       "                        {\"height\": 800, \"legend\": {\"tracegroupgap\": 0}, \"margin\": {\"t\": 60}, \"template\": {\"data\": {\"bar\": [{\"error_x\": {\"color\": \"#2a3f5f\"}, \"error_y\": {\"color\": \"#2a3f5f\"}, \"marker\": {\"line\": {\"color\": \"#E5ECF6\", \"width\": 0.5}}, \"type\": \"bar\"}], \"barpolar\": [{\"marker\": {\"line\": {\"color\": \"#E5ECF6\", \"width\": 0.5}}, \"type\": \"barpolar\"}], \"carpet\": [{\"aaxis\": {\"endlinecolor\": \"#2a3f5f\", \"gridcolor\": \"white\", \"linecolor\": \"white\", \"minorgridcolor\": \"white\", \"startlinecolor\": \"#2a3f5f\"}, \"baxis\": {\"endlinecolor\": \"#2a3f5f\", \"gridcolor\": \"white\", \"linecolor\": \"white\", \"minorgridcolor\": \"white\", \"startlinecolor\": \"#2a3f5f\"}, \"type\": \"carpet\"}], \"choropleth\": [{\"colorbar\": {\"outlinewidth\": 0, \"ticks\": \"\"}, \"type\": \"choropleth\"}], \"contour\": [{\"colorbar\": {\"outlinewidth\": 0, \"ticks\": \"\"}, \"colorscale\": [[0.0, \"#0d0887\"], [0.1111111111111111, \"#46039f\"], [0.2222222222222222, \"#7201a8\"], [0.3333333333333333, \"#9c179e\"], [0.4444444444444444, \"#bd3786\"], [0.5555555555555556, \"#d8576b\"], [0.6666666666666666, \"#ed7953\"], [0.7777777777777778, \"#fb9f3a\"], [0.8888888888888888, \"#fdca26\"], [1.0, \"#f0f921\"]], \"type\": \"contour\"}], \"contourcarpet\": [{\"colorbar\": {\"outlinewidth\": 0, \"ticks\": \"\"}, \"type\": \"contourcarpet\"}], \"heatmap\": [{\"colorbar\": {\"outlinewidth\": 0, \"ticks\": \"\"}, \"colorscale\": [[0.0, \"#0d0887\"], [0.1111111111111111, \"#46039f\"], [0.2222222222222222, \"#7201a8\"], [0.3333333333333333, \"#9c179e\"], [0.4444444444444444, \"#bd3786\"], [0.5555555555555556, \"#d8576b\"], [0.6666666666666666, \"#ed7953\"], [0.7777777777777778, \"#fb9f3a\"], [0.8888888888888888, \"#fdca26\"], [1.0, \"#f0f921\"]], \"type\": \"heatmap\"}], \"heatmapgl\": [{\"colorbar\": {\"outlinewidth\": 0, \"ticks\": \"\"}, \"colorscale\": [[0.0, \"#0d0887\"], [0.1111111111111111, \"#46039f\"], [0.2222222222222222, \"#7201a8\"], [0.3333333333333333, \"#9c179e\"], [0.4444444444444444, \"#bd3786\"], [0.5555555555555556, \"#d8576b\"], [0.6666666666666666, \"#ed7953\"], [0.7777777777777778, \"#fb9f3a\"], [0.8888888888888888, \"#fdca26\"], [1.0, \"#f0f921\"]], \"type\": \"heatmapgl\"}], \"histogram\": [{\"marker\": {\"colorbar\": {\"outlinewidth\": 0, \"ticks\": \"\"}}, \"type\": \"histogram\"}], \"histogram2d\": [{\"colorbar\": {\"outlinewidth\": 0, \"ticks\": \"\"}, \"colorscale\": [[0.0, \"#0d0887\"], [0.1111111111111111, \"#46039f\"], [0.2222222222222222, \"#7201a8\"], [0.3333333333333333, \"#9c179e\"], [0.4444444444444444, \"#bd3786\"], [0.5555555555555556, \"#d8576b\"], [0.6666666666666666, \"#ed7953\"], [0.7777777777777778, \"#fb9f3a\"], [0.8888888888888888, \"#fdca26\"], [1.0, \"#f0f921\"]], \"type\": \"histogram2d\"}], \"histogram2dcontour\": [{\"colorbar\": {\"outlinewidth\": 0, \"ticks\": \"\"}, \"colorscale\": [[0.0, \"#0d0887\"], [0.1111111111111111, \"#46039f\"], [0.2222222222222222, \"#7201a8\"], [0.3333333333333333, \"#9c179e\"], [0.4444444444444444, \"#bd3786\"], [0.5555555555555556, \"#d8576b\"], [0.6666666666666666, \"#ed7953\"], [0.7777777777777778, \"#fb9f3a\"], [0.8888888888888888, \"#fdca26\"], [1.0, \"#f0f921\"]], \"type\": \"histogram2dcontour\"}], \"mesh3d\": [{\"colorbar\": {\"outlinewidth\": 0, \"ticks\": \"\"}, \"type\": \"mesh3d\"}], \"parcoords\": [{\"line\": {\"colorbar\": {\"outlinewidth\": 0, \"ticks\": \"\"}}, \"type\": \"parcoords\"}], \"pie\": [{\"automargin\": true, \"type\": \"pie\"}], \"scatter\": [{\"marker\": {\"colorbar\": {\"outlinewidth\": 0, \"ticks\": \"\"}}, \"type\": \"scatter\"}], \"scatter3d\": [{\"line\": {\"colorbar\": {\"outlinewidth\": 0, \"ticks\": \"\"}}, \"marker\": {\"colorbar\": {\"outlinewidth\": 0, \"ticks\": \"\"}}, \"type\": \"scatter3d\"}], \"scattercarpet\": [{\"marker\": {\"colorbar\": {\"outlinewidth\": 0, \"ticks\": \"\"}}, \"type\": \"scattercarpet\"}], \"scattergeo\": [{\"marker\": {\"colorbar\": {\"outlinewidth\": 0, \"ticks\": \"\"}}, \"type\": \"scattergeo\"}], \"scattergl\": [{\"marker\": {\"colorbar\": {\"outlinewidth\": 0, \"ticks\": \"\"}}, \"type\": \"scattergl\"}], \"scattermapbox\": [{\"marker\": {\"colorbar\": {\"outlinewidth\": 0, \"ticks\": \"\"}}, \"type\": \"scattermapbox\"}], \"scatterpolar\": [{\"marker\": {\"colorbar\": {\"outlinewidth\": 0, \"ticks\": \"\"}}, \"type\": \"scatterpolar\"}], \"scatterpolargl\": [{\"marker\": {\"colorbar\": {\"outlinewidth\": 0, \"ticks\": \"\"}}, \"type\": \"scatterpolargl\"}], \"scatterternary\": [{\"marker\": {\"colorbar\": {\"outlinewidth\": 0, \"ticks\": \"\"}}, \"type\": \"scatterternary\"}], \"surface\": [{\"colorbar\": {\"outlinewidth\": 0, \"ticks\": \"\"}, \"colorscale\": [[0.0, \"#0d0887\"], [0.1111111111111111, \"#46039f\"], [0.2222222222222222, \"#7201a8\"], [0.3333333333333333, \"#9c179e\"], [0.4444444444444444, \"#bd3786\"], [0.5555555555555556, \"#d8576b\"], [0.6666666666666666, \"#ed7953\"], [0.7777777777777778, \"#fb9f3a\"], [0.8888888888888888, \"#fdca26\"], [1.0, \"#f0f921\"]], \"type\": \"surface\"}], \"table\": [{\"cells\": {\"fill\": {\"color\": \"#EBF0F8\"}, \"line\": {\"color\": \"white\"}}, \"header\": {\"fill\": {\"color\": \"#C8D4E3\"}, \"line\": {\"color\": \"white\"}}, \"type\": \"table\"}]}, \"layout\": {\"annotationdefaults\": {\"arrowcolor\": \"#2a3f5f\", \"arrowhead\": 0, \"arrowwidth\": 1}, \"coloraxis\": {\"colorbar\": {\"outlinewidth\": 0, \"ticks\": \"\"}}, \"colorscale\": {\"diverging\": [[0, \"#8e0152\"], [0.1, \"#c51b7d\"], [0.2, \"#de77ae\"], [0.3, \"#f1b6da\"], [0.4, \"#fde0ef\"], [0.5, \"#f7f7f7\"], [0.6, \"#e6f5d0\"], [0.7, \"#b8e186\"], [0.8, \"#7fbc41\"], [0.9, \"#4d9221\"], [1, \"#276419\"]], \"sequential\": [[0.0, \"#0d0887\"], [0.1111111111111111, \"#46039f\"], [0.2222222222222222, \"#7201a8\"], [0.3333333333333333, \"#9c179e\"], [0.4444444444444444, \"#bd3786\"], [0.5555555555555556, \"#d8576b\"], [0.6666666666666666, \"#ed7953\"], [0.7777777777777778, \"#fb9f3a\"], [0.8888888888888888, \"#fdca26\"], [1.0, \"#f0f921\"]], \"sequentialminus\": [[0.0, \"#0d0887\"], [0.1111111111111111, \"#46039f\"], [0.2222222222222222, \"#7201a8\"], [0.3333333333333333, \"#9c179e\"], [0.4444444444444444, \"#bd3786\"], [0.5555555555555556, \"#d8576b\"], [0.6666666666666666, \"#ed7953\"], [0.7777777777777778, \"#fb9f3a\"], [0.8888888888888888, \"#fdca26\"], [1.0, \"#f0f921\"]]}, \"colorway\": [\"#636efa\", \"#EF553B\", \"#00cc96\", \"#ab63fa\", \"#FFA15A\", \"#19d3f3\", \"#FF6692\", \"#B6E880\", \"#FF97FF\", \"#FECB52\"], \"font\": {\"color\": \"#2a3f5f\"}, \"geo\": {\"bgcolor\": \"white\", \"lakecolor\": \"white\", \"landcolor\": \"#E5ECF6\", \"showlakes\": true, \"showland\": true, \"subunitcolor\": \"white\"}, \"hoverlabel\": {\"align\": \"left\"}, \"hovermode\": \"closest\", \"mapbox\": {\"style\": \"light\"}, \"paper_bgcolor\": \"white\", \"plot_bgcolor\": \"#E5ECF6\", \"polar\": {\"angularaxis\": {\"gridcolor\": \"white\", \"linecolor\": \"white\", \"ticks\": \"\"}, \"bgcolor\": \"#E5ECF6\", \"radialaxis\": {\"gridcolor\": \"white\", \"linecolor\": \"white\", \"ticks\": \"\"}}, \"scene\": {\"xaxis\": {\"backgroundcolor\": \"#E5ECF6\", \"gridcolor\": \"white\", \"gridwidth\": 2, \"linecolor\": \"white\", \"showbackground\": true, \"ticks\": \"\", \"zerolinecolor\": \"white\"}, \"yaxis\": {\"backgroundcolor\": \"#E5ECF6\", \"gridcolor\": \"white\", \"gridwidth\": 2, \"linecolor\": \"white\", \"showbackground\": true, \"ticks\": \"\", \"zerolinecolor\": \"white\"}, \"zaxis\": {\"backgroundcolor\": \"#E5ECF6\", \"gridcolor\": \"white\", \"gridwidth\": 2, \"linecolor\": \"white\", \"showbackground\": true, \"ticks\": \"\", \"zerolinecolor\": \"white\"}}, \"shapedefaults\": {\"line\": {\"color\": \"#2a3f5f\"}}, \"ternary\": {\"aaxis\": {\"gridcolor\": \"white\", \"linecolor\": \"white\", \"ticks\": \"\"}, \"baxis\": {\"gridcolor\": \"white\", \"linecolor\": \"white\", \"ticks\": \"\"}, \"bgcolor\": \"#E5ECF6\", \"caxis\": {\"gridcolor\": \"white\", \"linecolor\": \"white\", \"ticks\": \"\"}}, \"title\": {\"x\": 0.05}, \"xaxis\": {\"automargin\": true, \"gridcolor\": \"white\", \"linecolor\": \"white\", \"ticks\": \"\", \"title\": {\"standoff\": 15}, \"zerolinecolor\": \"white\", \"zerolinewidth\": 2}, \"yaxis\": {\"automargin\": true, \"gridcolor\": \"white\", \"linecolor\": \"white\", \"ticks\": \"\", \"title\": {\"standoff\": 15}, \"zerolinecolor\": \"white\", \"zerolinewidth\": 2}}}, \"xaxis\": {\"anchor\": \"y\", \"domain\": [0.0, 1.0], \"title\": {\"text\": \"sexual_preference\"}}, \"yaxis\": {\"anchor\": \"x\", \"domain\": [0.0, 1.0], \"title\": {\"text\": \"astrological_sign\"}}},\n",
       "                        {\"responsive\": true}\n",
       "                    ).then(function(){\n",
       "                            \n",
       "var gd = document.getElementById('747e6cbd-9c0f-492c-bdfc-e2fb04af155b');\n",
       "var x = new MutationObserver(function (mutations, observer) {{\n",
       "        var display = window.getComputedStyle(gd).display;\n",
       "        if (!display || display === 'none') {{\n",
       "            console.log([gd, 'removed!']);\n",
       "            Plotly.purge(gd);\n",
       "            observer.disconnect();\n",
       "        }}\n",
       "}});\n",
       "\n",
       "// Listen for the removal of the full notebook cells\n",
       "var notebookContainer = gd.closest('#notebook-container');\n",
       "if (notebookContainer) {{\n",
       "    x.observe(notebookContainer, {childList: true});\n",
       "}}\n",
       "\n",
       "// Listen for the clearing of the current output cell\n",
       "var outputEl = gd.closest('.output');\n",
       "if (outputEl) {{\n",
       "    x.observe(outputEl, {childList: true});\n",
       "}}\n",
       "\n",
       "                        })\n",
       "                };\n",
       "                });\n",
       "            </script>\n",
       "        </div>"
      ]
     },
     "metadata": {},
     "output_type": "display_data"
    }
   ],
   "source": [
    "px.scatter(serial_killer, x = 'sexual_preference', y = 'astrological_sign', height = 800) "
   ]
  },
  {
   "cell_type": "code",
   "execution_count": 100,
   "metadata": {
    "ExecuteTime": {
     "end_time": "2020-03-14T22:42:13.935595Z",
     "start_time": "2020-03-14T22:42:13.523523Z"
    }
   },
   "outputs": [
    {
     "data": {
      "application/vnd.plotly.v1+json": {
       "config": {
        "plotlyServerURL": "https://plot.ly"
       },
       "data": [
        {
         "alignmentgroup": "True",
         "hoverlabel": {
          "namelength": 0
         },
         "hovertemplate": "starting_killing_age=%{x}<br>victims=%{y}",
         "legendgroup": "",
         "marker": {
          "color": "#636efa"
         },
         "name": "",
         "offsetgroup": "",
         "orientation": "v",
         "showlegend": false,
         "textposition": "auto",
         "type": "bar",
         "x": [
          "24",
          "33",
          "28",
          "21",
          "43",
          "23",
          "n'",
          "n'",
          "49",
          "22",
          "n'",
          "34",
          "30",
          "n'",
          "45",
          "23",
          "34",
          "41",
          "n'",
          "28",
          "29",
          "42",
          "27",
          "57",
          "30",
          "16",
          "n'",
          "20",
          "30",
          "32",
          "n'",
          "n'",
          "27",
          "21",
          "16",
          "22",
          "25",
          "29",
          "32",
          "n'",
          "17",
          "n'",
          "30",
          "18",
          "40",
          "49",
          "n'",
          "29",
          "n'",
          "25",
          "n'",
          "32",
          "n'",
          "28",
          "53",
          "25",
          "23",
          "35",
          "22",
          "25",
          "21",
          "27",
          "39",
          "41",
          "17",
          "n'",
          "n'",
          "n'",
          "n'",
          "26",
          "29",
          "37",
          "40",
          "34",
          "n'",
          "30",
          "29",
          "49",
          "28",
          "32",
          "25",
          "20",
          "30",
          "33",
          "22",
          "17",
          "30",
          "31",
          "24",
          "33",
          "28",
          "n'",
          "33",
          "47",
          "27",
          "23",
          "n'",
          "30",
          "26",
          "35",
          "44",
          "47",
          "33",
          "27",
          "34",
          "45",
          "25",
          "n'",
          "36",
          "54",
          "13",
          "n'",
          "21",
          "22",
          "45",
          "17",
          "18",
          "33",
          "44",
          "25",
          "19",
          "24",
          "44",
          "42",
          "27",
          "41",
          "n'",
          "34",
          "n'",
          "32",
          "15",
          "n'",
          "28",
          "27",
          "n'",
          "39",
          "44",
          "33",
          "45",
          "22",
          "n'",
          "34",
          "27",
          "23",
          "20",
          "21",
          "27",
          "34",
          "27",
          "27",
          "39",
          "29",
          "33",
          "46",
          "26",
          "26",
          "18",
          "38",
          "29",
          "n'",
          "23",
          "n'",
          "35",
          "21",
          "44",
          "n'",
          "28",
          "43",
          "31",
          "38",
          "28",
          "72",
          "65",
          "41",
          "26",
          "24",
          "40",
          "29",
          "20",
          "29",
          "28",
          "10",
          "24",
          "40",
          "n'",
          "32",
          "35",
          "34",
          "43",
          "30",
          "16",
          "31",
          "39",
          "n'",
          "41",
          "n'",
          "40",
          "n'",
          "21",
          "n'",
          "26",
          "28",
          "29",
          "31",
          "19",
          "24",
          "36",
          "21",
          "n'",
          "n'",
          "31",
          "n'",
          "24",
          "24",
          "29",
          "36",
          "34",
          "18",
          "22",
          "32",
          "28",
          "n'",
          "25",
          "n'",
          "n'",
          "32",
          "50",
          "20",
          "28",
          "n'",
          "31",
          "21",
          "39",
          "23",
          "30",
          "44",
          "35",
          "18",
          "n'",
          "25",
          "30",
          "19",
          "23",
          "42",
          "n'",
          "25",
          "24",
          "23",
          "25",
          "37",
          "27",
          "33",
          "28",
          "57",
          "17",
          "n'",
          "n'",
          "30",
          "n'",
          "35",
          "35",
          "n'",
          "33",
          "n'",
          "23",
          "25",
          "44",
          "n'",
          "n'",
          "n'",
          "24",
          "n'",
          "20",
          "53",
          "22",
          "32",
          "19",
          "23",
          "23",
          "14",
          "n'",
          "39",
          "33",
          "15",
          "22",
          "22",
          "30",
          "27",
          "22",
          "36",
          "28",
          "40",
          "n'",
          "n'",
          "18",
          "n'",
          "24",
          "n'",
          "n'",
          "n'",
          "29",
          "31",
          "26",
          "25",
          "21",
          "27",
          "n'",
          "33",
          "22",
          "29",
          "35",
          "38",
          "n'",
          "43",
          "43",
          "26",
          "32",
          "34",
          "18",
          "n'",
          "46",
          "29",
          "n'",
          "21",
          "n'",
          "n'",
          "64",
          "30",
          "21",
          "n'",
          "n'",
          "59",
          "31",
          "43",
          "26",
          "n'",
          "30",
          "n'",
          "n'",
          "32",
          "40",
          "36",
          "28",
          "29",
          "28",
          "36",
          "22",
          "24",
          "43",
          "n'",
          "56",
          "27",
          "20",
          "20",
          "18",
          "37",
          "59",
          "39",
          "19",
          "n'",
          "20",
          "n'",
          "n'",
          "26",
          "n'",
          "n'",
          "20",
          "24",
          "35",
          "25",
          "30",
          "n'",
          "n'",
          "30",
          "n'",
          "23",
          "n'",
          "33",
          "n'",
          "29",
          "37",
          "30",
          "25",
          "32",
          "27",
          "26",
          "37",
          "29",
          "n'",
          "n'",
          "n'",
          "n'",
          "n'",
          "35",
          "37",
          "21",
          "n'",
          "n'",
          "n'",
          "32",
          "37",
          "19",
          "24",
          "n'",
          "16",
          "26",
          "20",
          "34",
          "34",
          "39",
          "27",
          "26",
          "n'",
          "19",
          "34",
          "n'",
          "27",
          "19",
          "32",
          "23",
          "21",
          "41",
          "30",
          "27",
          "28",
          "n'",
          "n'",
          "25",
          "41",
          "31",
          "n'",
          "22",
          "43",
          "19",
          "46",
          "27",
          "30",
          "22",
          "24",
          "22",
          "71",
          "n'",
          "21",
          "28",
          "14",
          "n'",
          "22",
          "n'",
          "33",
          "n'",
          "n'",
          "n'",
          "n'",
          "n'",
          "n'",
          "n'",
          "n'",
          "n'",
          "n'",
          "28",
          "n'",
          "n'",
          "n'",
          "19",
          "38",
          "21",
          "n'",
          "37",
          "n'",
          "n'",
          "26",
          "n'",
          "n'",
          "23",
          "n'",
          "n'",
          "34",
          "32",
          "n'",
          "n'",
          "30",
          "31",
          "39",
          "19",
          "n'",
          "37",
          "n'",
          "33",
          "20",
          "36",
          "20",
          "31",
          "23",
          "59",
          "25",
          "21",
          "35",
          "31",
          "30",
          "23",
          "41",
          "46",
          "40",
          "n'",
          "18",
          "37",
          "n'",
          "31",
          "40",
          "n'",
          "29",
          "n'",
          "n'",
          "15",
          "n'",
          "52",
          "20",
          "27",
          "n'",
          "n'",
          "23",
          "31",
          "48",
          "29",
          "17",
          "n'",
          "33",
          "17",
          "25",
          "29",
          "18",
          "23",
          "n'",
          "34",
          "24",
          "21",
          "33",
          "n'",
          "39",
          "31",
          "49",
          "26",
          "40",
          "18",
          "31",
          "21",
          "25",
          "n'",
          "n'",
          "29",
          "25",
          "21",
          "41",
          "18",
          "21",
          "41",
          "25",
          "42",
          "25",
          "22",
          "n'",
          "24",
          "21",
          "28",
          "14",
          "43",
          "41",
          "30",
          "32",
          "35",
          "n'",
          "30",
          "n'",
          "20",
          "n'",
          "26",
          "n'",
          "41",
          "37",
          "n'",
          "36",
          "36",
          "29",
          "19",
          "n'",
          "n'",
          "n'",
          "n'",
          "16",
          "36",
          "27",
          "n'",
          "21",
          "38",
          "18",
          "25",
          "21",
          "22",
          "48",
          "17",
          "31",
          "42",
          "27",
          "23",
          "23",
          "n'",
          "n'",
          "n'",
          "30",
          "19",
          "n'",
          "n'",
          "22",
          "24",
          "25",
          "n'",
          "n'",
          "35",
          "25",
          "27",
          "n'",
          "n'",
          "16",
          "38",
          "n'",
          "n'",
          "25",
          "23",
          "23",
          "23",
          "22",
          "23",
          "23",
          "19",
          "n'",
          "48",
          "35",
          "n'",
          "32",
          "26",
          "n'",
          "17",
          "24",
          "n'",
          "22",
          "26",
          "30",
          "35",
          "33",
          "24"
         ],
         "xaxis": "x",
         "y": [
          4,
          23,
          3,
          25,
          4,
          5,
          3,
          3,
          11,
          5,
          6,
          12,
          23,
          30,
          3,
          5,
          4,
          9,
          100,
          6,
          12,
          20,
          40,
          13,
          4,
          4,
          5,
          5,
          12,
          8,
          17,
          6,
          13,
          4,
          6,
          11,
          20,
          11,
          8,
          50,
          3,
          50,
          3,
          87,
          16,
          9,
          16,
          3,
          3,
          4,
          5,
          21,
          16,
          5,
          5,
          54,
          24,
          9,
          25,
          4,
          7,
          5,
          27,
          40,
          3,
          5,
          5,
          13,
          4,
          4,
          5,
          3,
          14,
          5,
          5,
          5,
          7,
          6,
          7,
          10,
          7,
          80,
          17,
          6,
          10,
          7,
          34,
          5,
          9,
          3,
          70,
          32,
          11,
          7,
          3,
          11,
          19,
          8,
          20,
          18,
          5,
          7,
          25,
          20,
          20,
          11,
          9,
          4,
          4,
          9,
          100,
          15,
          10,
          4,
          3,
          6,
          6,
          19,
          8,
          12,
          4,
          11,
          18,
          56,
          6,
          3,
          3,
          8,
          9,
          3,
          19,
          100,
          100,
          9,
          4,
          11,
          6,
          7,
          3,
          11,
          14,
          6,
          3,
          7,
          19,
          9,
          5,
          18,
          3,
          5,
          5,
          46,
          5,
          17,
          15,
          5,
          11,
          50,
          20,
          3,
          6,
          5,
          8,
          11,
          150,
          16,
          5,
          10,
          29,
          6,
          36,
          12,
          12,
          4,
          11,
          23,
          12,
          6,
          8,
          8,
          8,
          35,
          5,
          11,
          11,
          6,
          6,
          3,
          25,
          650,
          4,
          4,
          6,
          15,
          49,
          30,
          20,
          18,
          3,
          30,
          5,
          6,
          4,
          8,
          4,
          45,
          3,
          100,
          3,
          21,
          11,
          5,
          7,
          3,
          4,
          25,
          10,
          48,
          8,
          6,
          3,
          3,
          5,
          33,
          4,
          36,
          5,
          4,
          4,
          3,
          13,
          5,
          42,
          3,
          8,
          5,
          300,
          17,
          3,
          8,
          13,
          18,
          11,
          50,
          3,
          25,
          14,
          4,
          3,
          3,
          7,
          5,
          100,
          3,
          7,
          5,
          100,
          6,
          7,
          185,
          6,
          4,
          17,
          3,
          5,
          4,
          33,
          19,
          11,
          11,
          6,
          14,
          45,
          25,
          9,
          5,
          11,
          6,
          9,
          4,
          5,
          4,
          6,
          2,
          3,
          25,
          50,
          18,
          4,
          3,
          81,
          7,
          18,
          9,
          60,
          10,
          20,
          5,
          200,
          10,
          10,
          5,
          4,
          4,
          8,
          30,
          5,
          16,
          5,
          29,
          4,
          5,
          7,
          3,
          10,
          3,
          10,
          3,
          60,
          6,
          49,
          63,
          38,
          7,
          6,
          21,
          3,
          11,
          21,
          6,
          10,
          14,
          5,
          16,
          15,
          4,
          52,
          6,
          3,
          3,
          11,
          8,
          8,
          4,
          22,
          7,
          20,
          55,
          7,
          7,
          6,
          3,
          3,
          14,
          4,
          3,
          8,
          30,
          18,
          3,
          4,
          40,
          3,
          7,
          15,
          8,
          9,
          6,
          9,
          13,
          30,
          4,
          16,
          9,
          13,
          8,
          8,
          6,
          6,
          3,
          3,
          6,
          4,
          12,
          3,
          4,
          21,
          9,
          13,
          32,
          16,
          130,
          5,
          3,
          5,
          11,
          20,
          4,
          35,
          25,
          3,
          4,
          40,
          6,
          10,
          43,
          11,
          10,
          22,
          3,
          28,
          4,
          10,
          3,
          10,
          8,
          60,
          3,
          7,
          11,
          300,
          7,
          93,
          6,
          4,
          3,
          6,
          3,
          7,
          10,
          26,
          5,
          3,
          4,
          11,
          11,
          9,
          8,
          10,
          3,
          20,
          15,
          4,
          13,
          100,
          5,
          14,
          5,
          9,
          5,
          7,
          37,
          4,
          7,
          8,
          10,
          16,
          10,
          11,
          35,
          7,
          24,
          11,
          5,
          38,
          3,
          12,
          4,
          2,
          3,
          67,
          34,
          7,
          11,
          19,
          13,
          20,
          5,
          36,
          169,
          6,
          4,
          5,
          5,
          3,
          10,
          8,
          7,
          3,
          4,
          7,
          5,
          106,
          6,
          27,
          5,
          8,
          3,
          8,
          39,
          8,
          3,
          5,
          5,
          3,
          5,
          16,
          13,
          3,
          19,
          6,
          3,
          26,
          3,
          18,
          17,
          8,
          25,
          40,
          16,
          23,
          67,
          22,
          44,
          3,
          3,
          8,
          4,
          5,
          12,
          10,
          6,
          3,
          3,
          10,
          25,
          26,
          7,
          13,
          6,
          5,
          13,
          15,
          10,
          10,
          80,
          5,
          3,
          12,
          6,
          10,
          10,
          5,
          4,
          48,
          10,
          27,
          18,
          9,
          8,
          16,
          12,
          15,
          5,
          108,
          13,
          31,
          8,
          100,
          17,
          19,
          16,
          3,
          4,
          13,
          7,
          4,
          90,
          80,
          4,
          7,
          22,
          15,
          7,
          8,
          5,
          4,
          7,
          3,
          3,
          2,
          5,
          3,
          4,
          41,
          3,
          82,
          5,
          11,
          6,
          4,
          7,
          5,
          6,
          7,
          4,
          5,
          9,
          38,
          22,
          8,
          45,
          14,
          5,
          13,
          7,
          9,
          14,
          250,
          14,
          3,
          6,
          70,
          12,
          20,
          6,
          6,
          6,
          3,
          30,
          3,
          4,
          3,
          50,
          10,
          14,
          5,
          12,
          1,
          19,
          20,
          7,
          3,
          21,
          8,
          7,
          17,
          9,
          90,
          4
         ],
         "yaxis": "y"
        }
       ],
       "layout": {
        "barmode": "relative",
        "legend": {
         "tracegroupgap": 0
        },
        "margin": {
         "t": 60
        },
        "template": {
         "data": {
          "bar": [
           {
            "error_x": {
             "color": "#2a3f5f"
            },
            "error_y": {
             "color": "#2a3f5f"
            },
            "marker": {
             "line": {
              "color": "#E5ECF6",
              "width": 0.5
             }
            },
            "type": "bar"
           }
          ],
          "barpolar": [
           {
            "marker": {
             "line": {
              "color": "#E5ECF6",
              "width": 0.5
             }
            },
            "type": "barpolar"
           }
          ],
          "carpet": [
           {
            "aaxis": {
             "endlinecolor": "#2a3f5f",
             "gridcolor": "white",
             "linecolor": "white",
             "minorgridcolor": "white",
             "startlinecolor": "#2a3f5f"
            },
            "baxis": {
             "endlinecolor": "#2a3f5f",
             "gridcolor": "white",
             "linecolor": "white",
             "minorgridcolor": "white",
             "startlinecolor": "#2a3f5f"
            },
            "type": "carpet"
           }
          ],
          "choropleth": [
           {
            "colorbar": {
             "outlinewidth": 0,
             "ticks": ""
            },
            "type": "choropleth"
           }
          ],
          "contour": [
           {
            "colorbar": {
             "outlinewidth": 0,
             "ticks": ""
            },
            "colorscale": [
             [
              0,
              "#0d0887"
             ],
             [
              0.1111111111111111,
              "#46039f"
             ],
             [
              0.2222222222222222,
              "#7201a8"
             ],
             [
              0.3333333333333333,
              "#9c179e"
             ],
             [
              0.4444444444444444,
              "#bd3786"
             ],
             [
              0.5555555555555556,
              "#d8576b"
             ],
             [
              0.6666666666666666,
              "#ed7953"
             ],
             [
              0.7777777777777778,
              "#fb9f3a"
             ],
             [
              0.8888888888888888,
              "#fdca26"
             ],
             [
              1,
              "#f0f921"
             ]
            ],
            "type": "contour"
           }
          ],
          "contourcarpet": [
           {
            "colorbar": {
             "outlinewidth": 0,
             "ticks": ""
            },
            "type": "contourcarpet"
           }
          ],
          "heatmap": [
           {
            "colorbar": {
             "outlinewidth": 0,
             "ticks": ""
            },
            "colorscale": [
             [
              0,
              "#0d0887"
             ],
             [
              0.1111111111111111,
              "#46039f"
             ],
             [
              0.2222222222222222,
              "#7201a8"
             ],
             [
              0.3333333333333333,
              "#9c179e"
             ],
             [
              0.4444444444444444,
              "#bd3786"
             ],
             [
              0.5555555555555556,
              "#d8576b"
             ],
             [
              0.6666666666666666,
              "#ed7953"
             ],
             [
              0.7777777777777778,
              "#fb9f3a"
             ],
             [
              0.8888888888888888,
              "#fdca26"
             ],
             [
              1,
              "#f0f921"
             ]
            ],
            "type": "heatmap"
           }
          ],
          "heatmapgl": [
           {
            "colorbar": {
             "outlinewidth": 0,
             "ticks": ""
            },
            "colorscale": [
             [
              0,
              "#0d0887"
             ],
             [
              0.1111111111111111,
              "#46039f"
             ],
             [
              0.2222222222222222,
              "#7201a8"
             ],
             [
              0.3333333333333333,
              "#9c179e"
             ],
             [
              0.4444444444444444,
              "#bd3786"
             ],
             [
              0.5555555555555556,
              "#d8576b"
             ],
             [
              0.6666666666666666,
              "#ed7953"
             ],
             [
              0.7777777777777778,
              "#fb9f3a"
             ],
             [
              0.8888888888888888,
              "#fdca26"
             ],
             [
              1,
              "#f0f921"
             ]
            ],
            "type": "heatmapgl"
           }
          ],
          "histogram": [
           {
            "marker": {
             "colorbar": {
              "outlinewidth": 0,
              "ticks": ""
             }
            },
            "type": "histogram"
           }
          ],
          "histogram2d": [
           {
            "colorbar": {
             "outlinewidth": 0,
             "ticks": ""
            },
            "colorscale": [
             [
              0,
              "#0d0887"
             ],
             [
              0.1111111111111111,
              "#46039f"
             ],
             [
              0.2222222222222222,
              "#7201a8"
             ],
             [
              0.3333333333333333,
              "#9c179e"
             ],
             [
              0.4444444444444444,
              "#bd3786"
             ],
             [
              0.5555555555555556,
              "#d8576b"
             ],
             [
              0.6666666666666666,
              "#ed7953"
             ],
             [
              0.7777777777777778,
              "#fb9f3a"
             ],
             [
              0.8888888888888888,
              "#fdca26"
             ],
             [
              1,
              "#f0f921"
             ]
            ],
            "type": "histogram2d"
           }
          ],
          "histogram2dcontour": [
           {
            "colorbar": {
             "outlinewidth": 0,
             "ticks": ""
            },
            "colorscale": [
             [
              0,
              "#0d0887"
             ],
             [
              0.1111111111111111,
              "#46039f"
             ],
             [
              0.2222222222222222,
              "#7201a8"
             ],
             [
              0.3333333333333333,
              "#9c179e"
             ],
             [
              0.4444444444444444,
              "#bd3786"
             ],
             [
              0.5555555555555556,
              "#d8576b"
             ],
             [
              0.6666666666666666,
              "#ed7953"
             ],
             [
              0.7777777777777778,
              "#fb9f3a"
             ],
             [
              0.8888888888888888,
              "#fdca26"
             ],
             [
              1,
              "#f0f921"
             ]
            ],
            "type": "histogram2dcontour"
           }
          ],
          "mesh3d": [
           {
            "colorbar": {
             "outlinewidth": 0,
             "ticks": ""
            },
            "type": "mesh3d"
           }
          ],
          "parcoords": [
           {
            "line": {
             "colorbar": {
              "outlinewidth": 0,
              "ticks": ""
             }
            },
            "type": "parcoords"
           }
          ],
          "pie": [
           {
            "automargin": true,
            "type": "pie"
           }
          ],
          "scatter": [
           {
            "marker": {
             "colorbar": {
              "outlinewidth": 0,
              "ticks": ""
             }
            },
            "type": "scatter"
           }
          ],
          "scatter3d": [
           {
            "line": {
             "colorbar": {
              "outlinewidth": 0,
              "ticks": ""
             }
            },
            "marker": {
             "colorbar": {
              "outlinewidth": 0,
              "ticks": ""
             }
            },
            "type": "scatter3d"
           }
          ],
          "scattercarpet": [
           {
            "marker": {
             "colorbar": {
              "outlinewidth": 0,
              "ticks": ""
             }
            },
            "type": "scattercarpet"
           }
          ],
          "scattergeo": [
           {
            "marker": {
             "colorbar": {
              "outlinewidth": 0,
              "ticks": ""
             }
            },
            "type": "scattergeo"
           }
          ],
          "scattergl": [
           {
            "marker": {
             "colorbar": {
              "outlinewidth": 0,
              "ticks": ""
             }
            },
            "type": "scattergl"
           }
          ],
          "scattermapbox": [
           {
            "marker": {
             "colorbar": {
              "outlinewidth": 0,
              "ticks": ""
             }
            },
            "type": "scattermapbox"
           }
          ],
          "scatterpolar": [
           {
            "marker": {
             "colorbar": {
              "outlinewidth": 0,
              "ticks": ""
             }
            },
            "type": "scatterpolar"
           }
          ],
          "scatterpolargl": [
           {
            "marker": {
             "colorbar": {
              "outlinewidth": 0,
              "ticks": ""
             }
            },
            "type": "scatterpolargl"
           }
          ],
          "scatterternary": [
           {
            "marker": {
             "colorbar": {
              "outlinewidth": 0,
              "ticks": ""
             }
            },
            "type": "scatterternary"
           }
          ],
          "surface": [
           {
            "colorbar": {
             "outlinewidth": 0,
             "ticks": ""
            },
            "colorscale": [
             [
              0,
              "#0d0887"
             ],
             [
              0.1111111111111111,
              "#46039f"
             ],
             [
              0.2222222222222222,
              "#7201a8"
             ],
             [
              0.3333333333333333,
              "#9c179e"
             ],
             [
              0.4444444444444444,
              "#bd3786"
             ],
             [
              0.5555555555555556,
              "#d8576b"
             ],
             [
              0.6666666666666666,
              "#ed7953"
             ],
             [
              0.7777777777777778,
              "#fb9f3a"
             ],
             [
              0.8888888888888888,
              "#fdca26"
             ],
             [
              1,
              "#f0f921"
             ]
            ],
            "type": "surface"
           }
          ],
          "table": [
           {
            "cells": {
             "fill": {
              "color": "#EBF0F8"
             },
             "line": {
              "color": "white"
             }
            },
            "header": {
             "fill": {
              "color": "#C8D4E3"
             },
             "line": {
              "color": "white"
             }
            },
            "type": "table"
           }
          ]
         },
         "layout": {
          "annotationdefaults": {
           "arrowcolor": "#2a3f5f",
           "arrowhead": 0,
           "arrowwidth": 1
          },
          "coloraxis": {
           "colorbar": {
            "outlinewidth": 0,
            "ticks": ""
           }
          },
          "colorscale": {
           "diverging": [
            [
             0,
             "#8e0152"
            ],
            [
             0.1,
             "#c51b7d"
            ],
            [
             0.2,
             "#de77ae"
            ],
            [
             0.3,
             "#f1b6da"
            ],
            [
             0.4,
             "#fde0ef"
            ],
            [
             0.5,
             "#f7f7f7"
            ],
            [
             0.6,
             "#e6f5d0"
            ],
            [
             0.7,
             "#b8e186"
            ],
            [
             0.8,
             "#7fbc41"
            ],
            [
             0.9,
             "#4d9221"
            ],
            [
             1,
             "#276419"
            ]
           ],
           "sequential": [
            [
             0,
             "#0d0887"
            ],
            [
             0.1111111111111111,
             "#46039f"
            ],
            [
             0.2222222222222222,
             "#7201a8"
            ],
            [
             0.3333333333333333,
             "#9c179e"
            ],
            [
             0.4444444444444444,
             "#bd3786"
            ],
            [
             0.5555555555555556,
             "#d8576b"
            ],
            [
             0.6666666666666666,
             "#ed7953"
            ],
            [
             0.7777777777777778,
             "#fb9f3a"
            ],
            [
             0.8888888888888888,
             "#fdca26"
            ],
            [
             1,
             "#f0f921"
            ]
           ],
           "sequentialminus": [
            [
             0,
             "#0d0887"
            ],
            [
             0.1111111111111111,
             "#46039f"
            ],
            [
             0.2222222222222222,
             "#7201a8"
            ],
            [
             0.3333333333333333,
             "#9c179e"
            ],
            [
             0.4444444444444444,
             "#bd3786"
            ],
            [
             0.5555555555555556,
             "#d8576b"
            ],
            [
             0.6666666666666666,
             "#ed7953"
            ],
            [
             0.7777777777777778,
             "#fb9f3a"
            ],
            [
             0.8888888888888888,
             "#fdca26"
            ],
            [
             1,
             "#f0f921"
            ]
           ]
          },
          "colorway": [
           "#636efa",
           "#EF553B",
           "#00cc96",
           "#ab63fa",
           "#FFA15A",
           "#19d3f3",
           "#FF6692",
           "#B6E880",
           "#FF97FF",
           "#FECB52"
          ],
          "font": {
           "color": "#2a3f5f"
          },
          "geo": {
           "bgcolor": "white",
           "lakecolor": "white",
           "landcolor": "#E5ECF6",
           "showlakes": true,
           "showland": true,
           "subunitcolor": "white"
          },
          "hoverlabel": {
           "align": "left"
          },
          "hovermode": "closest",
          "mapbox": {
           "style": "light"
          },
          "paper_bgcolor": "white",
          "plot_bgcolor": "#E5ECF6",
          "polar": {
           "angularaxis": {
            "gridcolor": "white",
            "linecolor": "white",
            "ticks": ""
           },
           "bgcolor": "#E5ECF6",
           "radialaxis": {
            "gridcolor": "white",
            "linecolor": "white",
            "ticks": ""
           }
          },
          "scene": {
           "xaxis": {
            "backgroundcolor": "#E5ECF6",
            "gridcolor": "white",
            "gridwidth": 2,
            "linecolor": "white",
            "showbackground": true,
            "ticks": "",
            "zerolinecolor": "white"
           },
           "yaxis": {
            "backgroundcolor": "#E5ECF6",
            "gridcolor": "white",
            "gridwidth": 2,
            "linecolor": "white",
            "showbackground": true,
            "ticks": "",
            "zerolinecolor": "white"
           },
           "zaxis": {
            "backgroundcolor": "#E5ECF6",
            "gridcolor": "white",
            "gridwidth": 2,
            "linecolor": "white",
            "showbackground": true,
            "ticks": "",
            "zerolinecolor": "white"
           }
          },
          "shapedefaults": {
           "line": {
            "color": "#2a3f5f"
           }
          },
          "ternary": {
           "aaxis": {
            "gridcolor": "white",
            "linecolor": "white",
            "ticks": ""
           },
           "baxis": {
            "gridcolor": "white",
            "linecolor": "white",
            "ticks": ""
           },
           "bgcolor": "#E5ECF6",
           "caxis": {
            "gridcolor": "white",
            "linecolor": "white",
            "ticks": ""
           }
          },
          "title": {
           "x": 0.05
          },
          "xaxis": {
           "automargin": true,
           "gridcolor": "white",
           "linecolor": "white",
           "ticks": "",
           "title": {
            "standoff": 15
           },
           "zerolinecolor": "white",
           "zerolinewidth": 2
          },
          "yaxis": {
           "automargin": true,
           "gridcolor": "white",
           "linecolor": "white",
           "ticks": "",
           "title": {
            "standoff": 15
           },
           "zerolinecolor": "white",
           "zerolinewidth": 2
          }
         }
        },
        "xaxis": {
         "anchor": "y",
         "domain": [
          0,
          1
         ],
         "title": {
          "text": "starting_killing_age"
         }
        },
        "yaxis": {
         "anchor": "x",
         "domain": [
          0,
          1
         ],
         "title": {
          "text": "victims"
         }
        }
       }
      },
      "text/html": [
       "<div>\n",
       "        \n",
       "        \n",
       "            <div id=\"c39598e8-08ef-419a-9fc8-44cdf1ef4709\" class=\"plotly-graph-div\" style=\"height:525px; width:100%;\"></div>\n",
       "            <script type=\"text/javascript\">\n",
       "                require([\"plotly\"], function(Plotly) {\n",
       "                    window.PLOTLYENV=window.PLOTLYENV || {};\n",
       "                    \n",
       "                if (document.getElementById(\"c39598e8-08ef-419a-9fc8-44cdf1ef4709\")) {\n",
       "                    Plotly.newPlot(\n",
       "                        'c39598e8-08ef-419a-9fc8-44cdf1ef4709',\n",
       "                        [{\"alignmentgroup\": \"True\", \"hoverlabel\": {\"namelength\": 0}, \"hovertemplate\": \"starting_killing_age=%{x}<br>victims=%{y}\", \"legendgroup\": \"\", \"marker\": {\"color\": \"#636efa\"}, \"name\": \"\", \"offsetgroup\": \"\", \"orientation\": \"v\", \"showlegend\": false, \"textposition\": \"auto\", \"type\": \"bar\", \"x\": [\"24\", \"33\", \"28\", \"21\", \"43\", \"23\", \"n'\", \"n'\", \"49\", \"22\", \"n'\", \"34\", \"30\", \"n'\", \"45\", \"23\", \"34\", \"41\", \"n'\", \"28\", \"29\", \"42\", \"27\", \"57\", \"30\", \"16\", \"n'\", \"20\", \"30\", \"32\", \"n'\", \"n'\", \"27\", \"21\", \"16\", \"22\", \"25\", \"29\", \"32\", \"n'\", \"17\", \"n'\", \"30\", \"18\", \"40\", \"49\", \"n'\", \"29\", \"n'\", \"25\", \"n'\", \"32\", \"n'\", \"28\", \"53\", \"25\", \"23\", \"35\", \"22\", \"25\", \"21\", \"27\", \"39\", \"41\", \"17\", \"n'\", \"n'\", \"n'\", \"n'\", \"26\", \"29\", \"37\", \"40\", \"34\", \"n'\", \"30\", \"29\", \"49\", \"28\", \"32\", \"25\", \"20\", \"30\", \"33\", \"22\", \"17\", \"30\", \"31\", \"24\", \"33\", \"28\", \"n'\", \"33\", \"47\", \"27\", \"23\", \"n'\", \"30\", \"26\", \"35\", \"44\", \"47\", \"33\", \"27\", \"34\", \"45\", \"25\", \"n'\", \"36\", \"54\", \"13\", \"n'\", \"21\", \"22\", \"45\", \"17\", \"18\", \"33\", \"44\", \"25\", \"19\", \"24\", \"44\", \"42\", \"27\", \"41\", \"n'\", \"34\", \"n'\", \"32\", \"15\", \"n'\", \"28\", \"27\", \"n'\", \"39\", \"44\", \"33\", \"45\", \"22\", \"n'\", \"34\", \"27\", \"23\", \"20\", \"21\", \"27\", \"34\", \"27\", \"27\", \"39\", \"29\", \"33\", \"46\", \"26\", \"26\", \"18\", \"38\", \"29\", \"n'\", \"23\", \"n'\", \"35\", \"21\", \"44\", \"n'\", \"28\", \"43\", \"31\", \"38\", \"28\", \"72\", \"65\", \"41\", \"26\", \"24\", \"40\", \"29\", \"20\", \"29\", \"28\", \"10\", \"24\", \"40\", \"n'\", \"32\", \"35\", \"34\", \"43\", \"30\", \"16\", \"31\", \"39\", \"n'\", \"41\", \"n'\", \"40\", \"n'\", \"21\", \"n'\", \"26\", \"28\", \"29\", \"31\", \"19\", \"24\", \"36\", \"21\", \"n'\", \"n'\", \"31\", \"n'\", \"24\", \"24\", \"29\", \"36\", \"34\", \"18\", \"22\", \"32\", \"28\", \"n'\", \"25\", \"n'\", \"n'\", \"32\", \"50\", \"20\", \"28\", \"n'\", \"31\", \"21\", \"39\", \"23\", \"30\", \"44\", \"35\", \"18\", \"n'\", \"25\", \"30\", \"19\", \"23\", \"42\", \"n'\", \"25\", \"24\", \"23\", \"25\", \"37\", \"27\", \"33\", \"28\", \"57\", \"17\", \"n'\", \"n'\", \"30\", \"n'\", \"35\", \"35\", \"n'\", \"33\", \"n'\", \"23\", \"25\", \"44\", \"n'\", \"n'\", \"n'\", \"24\", \"n'\", \"20\", \"53\", \"22\", \"32\", \"19\", \"23\", \"23\", \"14\", \"n'\", \"39\", \"33\", \"15\", \"22\", \"22\", \"30\", \"27\", \"22\", \"36\", \"28\", \"40\", \"n'\", \"n'\", \"18\", \"n'\", \"24\", \"n'\", \"n'\", \"n'\", \"29\", \"31\", \"26\", \"25\", \"21\", \"27\", \"n'\", \"33\", \"22\", \"29\", \"35\", \"38\", \"n'\", \"43\", \"43\", \"26\", \"32\", \"34\", \"18\", \"n'\", \"46\", \"29\", \"n'\", \"21\", \"n'\", \"n'\", \"64\", \"30\", \"21\", \"n'\", \"n'\", \"59\", \"31\", \"43\", \"26\", \"n'\", \"30\", \"n'\", \"n'\", \"32\", \"40\", \"36\", \"28\", \"29\", \"28\", \"36\", \"22\", \"24\", \"43\", \"n'\", \"56\", \"27\", \"20\", \"20\", \"18\", \"37\", \"59\", \"39\", \"19\", \"n'\", \"20\", \"n'\", \"n'\", \"26\", \"n'\", \"n'\", \"20\", \"24\", \"35\", \"25\", \"30\", \"n'\", \"n'\", \"30\", \"n'\", \"23\", \"n'\", \"33\", \"n'\", \"29\", \"37\", \"30\", \"25\", \"32\", \"27\", \"26\", \"37\", \"29\", \"n'\", \"n'\", \"n'\", \"n'\", \"n'\", \"35\", \"37\", \"21\", \"n'\", \"n'\", \"n'\", \"32\", \"37\", \"19\", \"24\", \"n'\", \"16\", \"26\", \"20\", \"34\", \"34\", \"39\", \"27\", \"26\", \"n'\", \"19\", \"34\", \"n'\", \"27\", \"19\", \"32\", \"23\", \"21\", \"41\", \"30\", \"27\", \"28\", \"n'\", \"n'\", \"25\", \"41\", \"31\", \"n'\", \"22\", \"43\", \"19\", \"46\", \"27\", \"30\", \"22\", \"24\", \"22\", \"71\", \"n'\", \"21\", \"28\", \"14\", \"n'\", \"22\", \"n'\", \"33\", \"n'\", \"n'\", \"n'\", \"n'\", \"n'\", \"n'\", \"n'\", \"n'\", \"n'\", \"n'\", \"28\", \"n'\", \"n'\", \"n'\", \"19\", \"38\", \"21\", \"n'\", \"37\", \"n'\", \"n'\", \"26\", \"n'\", \"n'\", \"23\", \"n'\", \"n'\", \"34\", \"32\", \"n'\", \"n'\", \"30\", \"31\", \"39\", \"19\", \"n'\", \"37\", \"n'\", \"33\", \"20\", \"36\", \"20\", \"31\", \"23\", \"59\", \"25\", \"21\", \"35\", \"31\", \"30\", \"23\", \"41\", \"46\", \"40\", \"n'\", \"18\", \"37\", \"n'\", \"31\", \"40\", \"n'\", \"29\", \"n'\", \"n'\", \"15\", \"n'\", \"52\", \"20\", \"27\", \"n'\", \"n'\", \"23\", \"31\", \"48\", \"29\", \"17\", \"n'\", \"33\", \"17\", \"25\", \"29\", \"18\", \"23\", \"n'\", \"34\", \"24\", \"21\", \"33\", \"n'\", \"39\", \"31\", \"49\", \"26\", \"40\", \"18\", \"31\", \"21\", \"25\", \"n'\", \"n'\", \"29\", \"25\", \"21\", \"41\", \"18\", \"21\", \"41\", \"25\", \"42\", \"25\", \"22\", \"n'\", \"24\", \"21\", \"28\", \"14\", \"43\", \"41\", \"30\", \"32\", \"35\", \"n'\", \"30\", \"n'\", \"20\", \"n'\", \"26\", \"n'\", \"41\", \"37\", \"n'\", \"36\", \"36\", \"29\", \"19\", \"n'\", \"n'\", \"n'\", \"n'\", \"16\", \"36\", \"27\", \"n'\", \"21\", \"38\", \"18\", \"25\", \"21\", \"22\", \"48\", \"17\", \"31\", \"42\", \"27\", \"23\", \"23\", \"n'\", \"n'\", \"n'\", \"30\", \"19\", \"n'\", \"n'\", \"22\", \"24\", \"25\", \"n'\", \"n'\", \"35\", \"25\", \"27\", \"n'\", \"n'\", \"16\", \"38\", \"n'\", \"n'\", \"25\", \"23\", \"23\", \"23\", \"22\", \"23\", \"23\", \"19\", \"n'\", \"48\", \"35\", \"n'\", \"32\", \"26\", \"n'\", \"17\", \"24\", \"n'\", \"22\", \"26\", \"30\", \"35\", \"33\", \"24\"], \"xaxis\": \"x\", \"y\": [4, 23, 3, 25, 4, 5, 3, 3, 11, 5, 6, 12, 23, 30, 3, 5, 4, 9, 100, 6, 12, 20, 40, 13, 4, 4, 5, 5, 12, 8, 17, 6, 13, 4, 6, 11, 20, 11, 8, 50, 3, 50, 3, 87, 16, 9, 16, 3, 3, 4, 5, 21, 16, 5, 5, 54, 24, 9, 25, 4, 7, 5, 27, 40, 3, 5, 5, 13, 4, 4, 5, 3, 14, 5, 5, 5, 7, 6, 7, 10, 7, 80, 17, 6, 10, 7, 34, 5, 9, 3, 70, 32, 11, 7, 3, 11, 19, 8, 20, 18, 5, 7, 25, 20, 20, 11, 9, 4, 4, 9, 100, 15, 10, 4, 3, 6, 6, 19, 8, 12, 4, 11, 18, 56, 6, 3, 3, 8, 9, 3, 19, 100, 100, 9, 4, 11, 6, 7, 3, 11, 14, 6, 3, 7, 19, 9, 5, 18, 3, 5, 5, 46, 5, 17, 15, 5, 11, 50, 20, 3, 6, 5, 8, 11, 150, 16, 5, 10, 29, 6, 36, 12, 12, 4, 11, 23, 12, 6, 8, 8, 8, 35, 5, 11, 11, 6, 6, 3, 25, 650, 4, 4, 6, 15, 49, 30, 20, 18, 3, 30, 5, 6, 4, 8, 4, 45, 3, 100, 3, 21, 11, 5, 7, 3, 4, 25, 10, 48, 8, 6, 3, 3, 5, 33, 4, 36, 5, 4, 4, 3, 13, 5, 42, 3, 8, 5, 300, 17, 3, 8, 13, 18, 11, 50, 3, 25, 14, 4, 3, 3, 7, 5, 100, 3, 7, 5, 100, 6, 7, 185, 6, 4, 17, 3, 5, 4, 33, 19, 11, 11, 6, 14, 45, 25, 9, 5, 11, 6, 9, 4, 5, 4, 6, 2, 3, 25, 50, 18, 4, 3, 81, 7, 18, 9, 60, 10, 20, 5, 200, 10, 10, 5, 4, 4, 8, 30, 5, 16, 5, 29, 4, 5, 7, 3, 10, 3, 10, 3, 60, 6, 49, 63, 38, 7, 6, 21, 3, 11, 21, 6, 10, 14, 5, 16, 15, 4, 52, 6, 3, 3, 11, 8, 8, 4, 22, 7, 20, 55, 7, 7, 6, 3, 3, 14, 4, 3, 8, 30, 18, 3, 4, 40, 3, 7, 15, 8, 9, 6, 9, 13, 30, 4, 16, 9, 13, 8, 8, 6, 6, 3, 3, 6, 4, 12, 3, 4, 21, 9, 13, 32, 16, 130, 5, 3, 5, 11, 20, 4, 35, 25, 3, 4, 40, 6, 10, 43, 11, 10, 22, 3, 28, 4, 10, 3, 10, 8, 60, 3, 7, 11, 300, 7, 93, 6, 4, 3, 6, 3, 7, 10, 26, 5, 3, 4, 11, 11, 9, 8, 10, 3, 20, 15, 4, 13, 100, 5, 14, 5, 9, 5, 7, 37, 4, 7, 8, 10, 16, 10, 11, 35, 7, 24, 11, 5, 38, 3, 12, 4, 2, 3, 67, 34, 7, 11, 19, 13, 20, 5, 36, 169, 6, 4, 5, 5, 3, 10, 8, 7, 3, 4, 7, 5, 106, 6, 27, 5, 8, 3, 8, 39, 8, 3, 5, 5, 3, 5, 16, 13, 3, 19, 6, 3, 26, 3, 18, 17, 8, 25, 40, 16, 23, 67, 22, 44, 3, 3, 8, 4, 5, 12, 10, 6, 3, 3, 10, 25, 26, 7, 13, 6, 5, 13, 15, 10, 10, 80, 5, 3, 12, 6, 10, 10, 5, 4, 48, 10, 27, 18, 9, 8, 16, 12, 15, 5, 108, 13, 31, 8, 100, 17, 19, 16, 3, 4, 13, 7, 4, 90, 80, 4, 7, 22, 15, 7, 8, 5, 4, 7, 3, 3, 2, 5, 3, 4, 41, 3, 82, 5, 11, 6, 4, 7, 5, 6, 7, 4, 5, 9, 38, 22, 8, 45, 14, 5, 13, 7, 9, 14, 250, 14, 3, 6, 70, 12, 20, 6, 6, 6, 3, 30, 3, 4, 3, 50, 10, 14, 5, 12, 1, 19, 20, 7, 3, 21, 8, 7, 17, 9, 90, 4], \"yaxis\": \"y\"}],\n",
       "                        {\"barmode\": \"relative\", \"legend\": {\"tracegroupgap\": 0}, \"margin\": {\"t\": 60}, \"template\": {\"data\": {\"bar\": [{\"error_x\": {\"color\": \"#2a3f5f\"}, \"error_y\": {\"color\": \"#2a3f5f\"}, \"marker\": {\"line\": {\"color\": \"#E5ECF6\", \"width\": 0.5}}, \"type\": \"bar\"}], \"barpolar\": [{\"marker\": {\"line\": {\"color\": \"#E5ECF6\", \"width\": 0.5}}, \"type\": \"barpolar\"}], \"carpet\": [{\"aaxis\": {\"endlinecolor\": \"#2a3f5f\", \"gridcolor\": \"white\", \"linecolor\": \"white\", \"minorgridcolor\": \"white\", \"startlinecolor\": \"#2a3f5f\"}, \"baxis\": {\"endlinecolor\": \"#2a3f5f\", \"gridcolor\": \"white\", \"linecolor\": \"white\", \"minorgridcolor\": \"white\", \"startlinecolor\": \"#2a3f5f\"}, \"type\": \"carpet\"}], \"choropleth\": [{\"colorbar\": {\"outlinewidth\": 0, \"ticks\": \"\"}, \"type\": \"choropleth\"}], \"contour\": [{\"colorbar\": {\"outlinewidth\": 0, \"ticks\": \"\"}, \"colorscale\": [[0.0, \"#0d0887\"], [0.1111111111111111, \"#46039f\"], [0.2222222222222222, \"#7201a8\"], [0.3333333333333333, \"#9c179e\"], [0.4444444444444444, \"#bd3786\"], [0.5555555555555556, \"#d8576b\"], [0.6666666666666666, \"#ed7953\"], [0.7777777777777778, \"#fb9f3a\"], [0.8888888888888888, \"#fdca26\"], [1.0, \"#f0f921\"]], \"type\": \"contour\"}], \"contourcarpet\": [{\"colorbar\": {\"outlinewidth\": 0, \"ticks\": \"\"}, \"type\": \"contourcarpet\"}], \"heatmap\": [{\"colorbar\": {\"outlinewidth\": 0, \"ticks\": \"\"}, \"colorscale\": [[0.0, \"#0d0887\"], [0.1111111111111111, \"#46039f\"], [0.2222222222222222, \"#7201a8\"], [0.3333333333333333, \"#9c179e\"], [0.4444444444444444, \"#bd3786\"], [0.5555555555555556, \"#d8576b\"], [0.6666666666666666, \"#ed7953\"], [0.7777777777777778, \"#fb9f3a\"], [0.8888888888888888, \"#fdca26\"], [1.0, \"#f0f921\"]], \"type\": \"heatmap\"}], \"heatmapgl\": [{\"colorbar\": {\"outlinewidth\": 0, \"ticks\": \"\"}, \"colorscale\": [[0.0, \"#0d0887\"], [0.1111111111111111, \"#46039f\"], [0.2222222222222222, \"#7201a8\"], [0.3333333333333333, \"#9c179e\"], [0.4444444444444444, \"#bd3786\"], [0.5555555555555556, \"#d8576b\"], [0.6666666666666666, \"#ed7953\"], [0.7777777777777778, \"#fb9f3a\"], [0.8888888888888888, \"#fdca26\"], [1.0, \"#f0f921\"]], \"type\": \"heatmapgl\"}], \"histogram\": [{\"marker\": {\"colorbar\": {\"outlinewidth\": 0, \"ticks\": \"\"}}, \"type\": \"histogram\"}], \"histogram2d\": [{\"colorbar\": {\"outlinewidth\": 0, \"ticks\": \"\"}, \"colorscale\": [[0.0, \"#0d0887\"], [0.1111111111111111, \"#46039f\"], [0.2222222222222222, \"#7201a8\"], [0.3333333333333333, \"#9c179e\"], [0.4444444444444444, \"#bd3786\"], [0.5555555555555556, \"#d8576b\"], [0.6666666666666666, \"#ed7953\"], [0.7777777777777778, \"#fb9f3a\"], [0.8888888888888888, \"#fdca26\"], [1.0, \"#f0f921\"]], \"type\": \"histogram2d\"}], \"histogram2dcontour\": [{\"colorbar\": {\"outlinewidth\": 0, \"ticks\": \"\"}, \"colorscale\": [[0.0, \"#0d0887\"], [0.1111111111111111, \"#46039f\"], [0.2222222222222222, \"#7201a8\"], [0.3333333333333333, \"#9c179e\"], [0.4444444444444444, \"#bd3786\"], [0.5555555555555556, \"#d8576b\"], [0.6666666666666666, \"#ed7953\"], [0.7777777777777778, \"#fb9f3a\"], [0.8888888888888888, \"#fdca26\"], [1.0, \"#f0f921\"]], \"type\": \"histogram2dcontour\"}], \"mesh3d\": [{\"colorbar\": {\"outlinewidth\": 0, \"ticks\": \"\"}, \"type\": \"mesh3d\"}], \"parcoords\": [{\"line\": {\"colorbar\": {\"outlinewidth\": 0, \"ticks\": \"\"}}, \"type\": \"parcoords\"}], \"pie\": [{\"automargin\": true, \"type\": \"pie\"}], \"scatter\": [{\"marker\": {\"colorbar\": {\"outlinewidth\": 0, \"ticks\": \"\"}}, \"type\": \"scatter\"}], \"scatter3d\": [{\"line\": {\"colorbar\": {\"outlinewidth\": 0, \"ticks\": \"\"}}, \"marker\": {\"colorbar\": {\"outlinewidth\": 0, \"ticks\": \"\"}}, \"type\": \"scatter3d\"}], \"scattercarpet\": [{\"marker\": {\"colorbar\": {\"outlinewidth\": 0, \"ticks\": \"\"}}, \"type\": \"scattercarpet\"}], \"scattergeo\": [{\"marker\": {\"colorbar\": {\"outlinewidth\": 0, \"ticks\": \"\"}}, \"type\": \"scattergeo\"}], \"scattergl\": [{\"marker\": {\"colorbar\": {\"outlinewidth\": 0, \"ticks\": \"\"}}, \"type\": \"scattergl\"}], \"scattermapbox\": [{\"marker\": {\"colorbar\": {\"outlinewidth\": 0, \"ticks\": \"\"}}, \"type\": \"scattermapbox\"}], \"scatterpolar\": [{\"marker\": {\"colorbar\": {\"outlinewidth\": 0, \"ticks\": \"\"}}, \"type\": \"scatterpolar\"}], \"scatterpolargl\": [{\"marker\": {\"colorbar\": {\"outlinewidth\": 0, \"ticks\": \"\"}}, \"type\": \"scatterpolargl\"}], \"scatterternary\": [{\"marker\": {\"colorbar\": {\"outlinewidth\": 0, \"ticks\": \"\"}}, \"type\": \"scatterternary\"}], \"surface\": [{\"colorbar\": {\"outlinewidth\": 0, \"ticks\": \"\"}, \"colorscale\": [[0.0, \"#0d0887\"], [0.1111111111111111, \"#46039f\"], [0.2222222222222222, \"#7201a8\"], [0.3333333333333333, \"#9c179e\"], [0.4444444444444444, \"#bd3786\"], [0.5555555555555556, \"#d8576b\"], [0.6666666666666666, \"#ed7953\"], [0.7777777777777778, \"#fb9f3a\"], [0.8888888888888888, \"#fdca26\"], [1.0, \"#f0f921\"]], \"type\": \"surface\"}], \"table\": [{\"cells\": {\"fill\": {\"color\": \"#EBF0F8\"}, \"line\": {\"color\": \"white\"}}, \"header\": {\"fill\": {\"color\": \"#C8D4E3\"}, \"line\": {\"color\": \"white\"}}, \"type\": \"table\"}]}, \"layout\": {\"annotationdefaults\": {\"arrowcolor\": \"#2a3f5f\", \"arrowhead\": 0, \"arrowwidth\": 1}, \"coloraxis\": {\"colorbar\": {\"outlinewidth\": 0, \"ticks\": \"\"}}, \"colorscale\": {\"diverging\": [[0, \"#8e0152\"], [0.1, \"#c51b7d\"], [0.2, \"#de77ae\"], [0.3, \"#f1b6da\"], [0.4, \"#fde0ef\"], [0.5, \"#f7f7f7\"], [0.6, \"#e6f5d0\"], [0.7, \"#b8e186\"], [0.8, \"#7fbc41\"], [0.9, \"#4d9221\"], [1, \"#276419\"]], \"sequential\": [[0.0, \"#0d0887\"], [0.1111111111111111, \"#46039f\"], [0.2222222222222222, \"#7201a8\"], [0.3333333333333333, \"#9c179e\"], [0.4444444444444444, \"#bd3786\"], [0.5555555555555556, \"#d8576b\"], [0.6666666666666666, \"#ed7953\"], [0.7777777777777778, \"#fb9f3a\"], [0.8888888888888888, \"#fdca26\"], [1.0, \"#f0f921\"]], \"sequentialminus\": [[0.0, \"#0d0887\"], [0.1111111111111111, \"#46039f\"], [0.2222222222222222, \"#7201a8\"], [0.3333333333333333, \"#9c179e\"], [0.4444444444444444, \"#bd3786\"], [0.5555555555555556, \"#d8576b\"], [0.6666666666666666, \"#ed7953\"], [0.7777777777777778, \"#fb9f3a\"], [0.8888888888888888, \"#fdca26\"], [1.0, \"#f0f921\"]]}, \"colorway\": [\"#636efa\", \"#EF553B\", \"#00cc96\", \"#ab63fa\", \"#FFA15A\", \"#19d3f3\", \"#FF6692\", \"#B6E880\", \"#FF97FF\", \"#FECB52\"], \"font\": {\"color\": \"#2a3f5f\"}, \"geo\": {\"bgcolor\": \"white\", \"lakecolor\": \"white\", \"landcolor\": \"#E5ECF6\", \"showlakes\": true, \"showland\": true, \"subunitcolor\": \"white\"}, \"hoverlabel\": {\"align\": \"left\"}, \"hovermode\": \"closest\", \"mapbox\": {\"style\": \"light\"}, \"paper_bgcolor\": \"white\", \"plot_bgcolor\": \"#E5ECF6\", \"polar\": {\"angularaxis\": {\"gridcolor\": \"white\", \"linecolor\": \"white\", \"ticks\": \"\"}, \"bgcolor\": \"#E5ECF6\", \"radialaxis\": {\"gridcolor\": \"white\", \"linecolor\": \"white\", \"ticks\": \"\"}}, \"scene\": {\"xaxis\": {\"backgroundcolor\": \"#E5ECF6\", \"gridcolor\": \"white\", \"gridwidth\": 2, \"linecolor\": \"white\", \"showbackground\": true, \"ticks\": \"\", \"zerolinecolor\": \"white\"}, \"yaxis\": {\"backgroundcolor\": \"#E5ECF6\", \"gridcolor\": \"white\", \"gridwidth\": 2, \"linecolor\": \"white\", \"showbackground\": true, \"ticks\": \"\", \"zerolinecolor\": \"white\"}, \"zaxis\": {\"backgroundcolor\": \"#E5ECF6\", \"gridcolor\": \"white\", \"gridwidth\": 2, \"linecolor\": \"white\", \"showbackground\": true, \"ticks\": \"\", \"zerolinecolor\": \"white\"}}, \"shapedefaults\": {\"line\": {\"color\": \"#2a3f5f\"}}, \"ternary\": {\"aaxis\": {\"gridcolor\": \"white\", \"linecolor\": \"white\", \"ticks\": \"\"}, \"baxis\": {\"gridcolor\": \"white\", \"linecolor\": \"white\", \"ticks\": \"\"}, \"bgcolor\": \"#E5ECF6\", \"caxis\": {\"gridcolor\": \"white\", \"linecolor\": \"white\", \"ticks\": \"\"}}, \"title\": {\"x\": 0.05}, \"xaxis\": {\"automargin\": true, \"gridcolor\": \"white\", \"linecolor\": \"white\", \"ticks\": \"\", \"title\": {\"standoff\": 15}, \"zerolinecolor\": \"white\", \"zerolinewidth\": 2}, \"yaxis\": {\"automargin\": true, \"gridcolor\": \"white\", \"linecolor\": \"white\", \"ticks\": \"\", \"title\": {\"standoff\": 15}, \"zerolinecolor\": \"white\", \"zerolinewidth\": 2}}}, \"xaxis\": {\"anchor\": \"y\", \"domain\": [0.0, 1.0], \"title\": {\"text\": \"starting_killing_age\"}}, \"yaxis\": {\"anchor\": \"x\", \"domain\": [0.0, 1.0], \"title\": {\"text\": \"victims\"}}},\n",
       "                        {\"responsive\": true}\n",
       "                    ).then(function(){\n",
       "                            \n",
       "var gd = document.getElementById('c39598e8-08ef-419a-9fc8-44cdf1ef4709');\n",
       "var x = new MutationObserver(function (mutations, observer) {{\n",
       "        var display = window.getComputedStyle(gd).display;\n",
       "        if (!display || display === 'none') {{\n",
       "            console.log([gd, 'removed!']);\n",
       "            Plotly.purge(gd);\n",
       "            observer.disconnect();\n",
       "        }}\n",
       "}});\n",
       "\n",
       "// Listen for the removal of the full notebook cells\n",
       "var notebookContainer = gd.closest('#notebook-container');\n",
       "if (notebookContainer) {{\n",
       "    x.observe(notebookContainer, {childList: true});\n",
       "}}\n",
       "\n",
       "// Listen for the clearing of the current output cell\n",
       "var outputEl = gd.closest('.output');\n",
       "if (outputEl) {{\n",
       "    x.observe(outputEl, {childList: true});\n",
       "}}\n",
       "\n",
       "                        })\n",
       "                };\n",
       "                });\n",
       "            </script>\n",
       "        </div>"
      ]
     },
     "metadata": {},
     "output_type": "display_data"
    }
   ],
   "source": [
    "px.bar(serial_killer, x = 'starting_killing_age', y = 'victims')"
   ]
  },
  {
   "cell_type": "code",
   "execution_count": 102,
   "metadata": {
    "ExecuteTime": {
     "end_time": "2020-03-14T22:42:25.001153Z",
     "start_time": "2020-03-14T22:42:24.240315Z"
    }
   },
   "outputs": [
    {
     "data": {
      "application/vnd.plotly.v1+json": {
       "config": {
        "plotlyServerURL": "https://plot.ly"
       },
       "data": [
        {
         "alignmentgroup": "True",
         "bingroup": "x",
         "hoverlabel": {
          "namelength": 0
         },
         "hovertemplate": "astrological_sign=%{x}<br>count of starting_killing_age=%{y}",
         "legendgroup": "",
         "marker": {
          "color": "#636efa"
         },
         "name": "",
         "offsetgroup": "",
         "orientation": "v",
         "showlegend": false,
         "type": "histogram",
         "x": [
          "Aquarius",
          "Capricorn",
          "Cancer",
          "Leo",
          "Pisces",
          "Cancer",
          null,
          null,
          "Taurus",
          "Taurus",
          null,
          "Leo",
          "Sagittarius",
          null,
          "Libra",
          "Sagittarius",
          "Capricorn",
          "Virgo",
          null,
          "Leo",
          "Scorpio",
          "Capricorn",
          "Sagittarius",
          "Sagittarius",
          "Sagittarius",
          "Scorpio",
          null,
          "Aries",
          "Sagittarius",
          "Cancer",
          null,
          null,
          "Gemini",
          "Scorpio",
          "Taurus",
          "Aquarius",
          "Pisces",
          "Aquarius",
          "Aquarius",
          null,
          "Scorpio",
          null,
          "Cancer",
          "Aries",
          "Cancer",
          "Gemini",
          null,
          "Gemini",
          null,
          "Capricorn",
          null,
          "Aquarius",
          null,
          "Cancer",
          "Cancer",
          "Sagittarius",
          "Aquarius",
          "Leo",
          "Virgo",
          "Gemini",
          "Virgo",
          "Cancer",
          "Scorpio",
          "Scorpio",
          "Aquarius",
          null,
          null,
          null,
          null,
          "Cancer",
          "Leo",
          "Sagittarius",
          "Capricorn",
          "Capricorn",
          null,
          "Scorpio",
          "Libra",
          "Libra",
          "Virgo",
          "Cancer",
          "Libra",
          "Pisces",
          "Libra",
          "Aquarius",
          "Libra",
          "Pisces",
          "Pisces",
          "Libra",
          "Pisces",
          "Leo",
          "Cancer",
          null,
          "Gemini",
          "Gemini",
          "Sagittarius",
          "Cancer",
          null,
          "Leo",
          "Leo",
          "Libra",
          "Gemini",
          "Cancer",
          "Virgo",
          "Aries",
          "Gemini",
          "Aries",
          "Leo",
          null,
          "Sagittarius",
          "Pisces",
          "Gemini",
          null,
          "Virgo",
          "Gemini",
          "Aries",
          "Pisces",
          "Aries",
          "Pisces",
          "Aries",
          "Virgo",
          "Capricorn",
          "Scorpio",
          "Sagittarius",
          "Libra",
          "Gemini",
          "Virgo",
          null,
          "Scorpio",
          null,
          "Sagittarius",
          "Cancer",
          null,
          "Scorpio",
          "Leo",
          null,
          "Scorpio",
          "Cancer",
          "Pisces",
          "Aries",
          "Scorpio",
          null,
          "Cancer",
          "Sagittarius",
          "Taurus",
          "Cancer",
          "Virgo",
          "Virgo",
          "Aries",
          "Cancer",
          "Libra",
          "Libra",
          "Sagittarius",
          "Aquarius",
          "Cancer",
          "Gemini",
          "Virgo",
          "Virgo",
          "Libra",
          "Aquarius",
          null,
          "Gemini",
          null,
          "Gemini",
          "Aries",
          "Aquarius",
          null,
          "Aries",
          "Libra",
          "Capricorn",
          "Virgo",
          "Sagittarius",
          "Capricorn",
          "Leo",
          "Virgo",
          "Virgo",
          "Scorpio",
          "Taurus",
          "Gemini",
          "Gemini",
          "Scorpio",
          "Pisces",
          "Taurus",
          "Capricorn",
          "Virgo",
          null,
          "Pisces",
          "Aquarius",
          "Taurus",
          "Aries",
          "Leo",
          "Scorpio",
          "Sagittarius",
          "Scorpio",
          null,
          "Capricorn",
          null,
          "Capricorn",
          null,
          "Capricorn",
          null,
          "Sagittarius",
          "Aquarius",
          "Gemini",
          "Gemini",
          "Aries",
          "Pisces",
          "Pisces",
          "Sagittarius",
          null,
          null,
          "Aries",
          null,
          "Leo",
          "Libra",
          "Aquarius",
          "Capricorn",
          "Aries",
          "Scorpio",
          "Scorpio",
          "Aquarius",
          "Scorpio",
          null,
          "Capricorn",
          null,
          null,
          "Capricorn",
          "Aquarius",
          "Capricorn",
          "Leo",
          null,
          "Virgo",
          "Aries",
          "Leo",
          "Capricorn",
          "Libra",
          "Cancer",
          "Aquarius",
          "Gemini",
          null,
          "Aries",
          "Scorpio",
          "Sagittarius",
          "Virgo",
          "Libra",
          null,
          "Virgo",
          "Capricorn",
          "Libra",
          "Aquarius",
          "Leo",
          "Sagittarius",
          "Virgo",
          "Leo",
          "Leo",
          "Pisces",
          null,
          null,
          "Capricorn",
          null,
          "Aries",
          "Scorpio",
          null,
          "Taurus",
          null,
          "Virgo",
          "Aries",
          "Capricorn",
          null,
          null,
          null,
          "Sagittarius",
          null,
          "Capricorn",
          "Capricorn",
          "Pisces",
          "Aries",
          "Capricorn",
          "Leo",
          "Scorpio",
          "Libra",
          null,
          "Pisces",
          "Virgo",
          "Sagittarius",
          "Gemini",
          "Cancer",
          "Scorpio",
          "Leo",
          "Cancer",
          "Leo",
          "Pisces",
          "Scorpio",
          null,
          null,
          "Scorpio",
          null,
          "Pisces",
          null,
          null,
          null,
          "Pisces",
          "Aquarius",
          "Taurus",
          "Aquarius",
          "Leo",
          "Libra",
          null,
          "Sagittarius",
          "Sagittarius",
          "Taurus",
          "Leo",
          "Sagittarius",
          null,
          "Libra",
          "Capricorn",
          "Pisces",
          "Libra",
          "Gemini",
          "Aries",
          null,
          "Scorpio",
          "Capricorn",
          null,
          "Capricorn",
          null,
          null,
          "Scorpio",
          "Sagittarius",
          "Sagittarius",
          null,
          null,
          "Gemini",
          "Aquarius",
          "Capricorn",
          "Taurus",
          null,
          "Leo",
          null,
          null,
          "Virgo",
          "Capricorn",
          "Capricorn",
          "Libra",
          "Aquarius",
          "Cancer",
          "Aquarius",
          "Scorpio",
          "Aries",
          "Capricorn",
          null,
          "Aries",
          "Virgo",
          "Capricorn",
          "Aries",
          "Gemini",
          "Gemini",
          "Libra",
          "Aquarius",
          "Cancer",
          null,
          "Cancer",
          null,
          null,
          "Libra",
          null,
          null,
          "Aries",
          "Taurus",
          "Taurus",
          "Aries",
          "Aquarius",
          null,
          null,
          "Gemini",
          null,
          "Pisces",
          null,
          "Gemini",
          null,
          "Taurus",
          "Sagittarius",
          "Capricorn",
          "Virgo",
          "Aquarius",
          "Sagittarius",
          "Leo",
          "Libra",
          "Pisces",
          null,
          null,
          null,
          null,
          null,
          "Libra",
          "Gemini",
          "Libra",
          null,
          null,
          null,
          "Pisces",
          "Leo",
          "Aquarius",
          "Leo",
          null,
          "Sagittarius",
          "Libra",
          "Capricorn",
          "Aquarius",
          "Virgo",
          "Sagittarius",
          "Leo",
          "Capricorn",
          null,
          "Cancer",
          "Sagittarius",
          null,
          "Cancer",
          "Leo",
          "Pisces",
          "Aquarius",
          "Libra",
          "Aquarius",
          "Gemini",
          "Libra",
          "Libra",
          null,
          null,
          "Sagittarius",
          "Aquarius",
          "Libra",
          null,
          "Capricorn",
          "Leo",
          "Aquarius",
          "Aries",
          "Scorpio",
          "Gemini",
          "Scorpio",
          "Scorpio",
          "Aquarius",
          "Gemini",
          null,
          "Leo",
          "Capricorn",
          "Aries",
          null,
          "Aries",
          null,
          "Sagittarius",
          null,
          null,
          null,
          null,
          null,
          null,
          null,
          null,
          null,
          null,
          "Aries",
          null,
          null,
          null,
          "Virgo",
          "Gemini",
          "Sagittarius",
          null,
          "Virgo",
          null,
          null,
          "Pisces",
          null,
          null,
          "Virgo",
          null,
          null,
          "Aquarius",
          "Capricorn",
          null,
          null,
          "Aries",
          "Leo",
          "Pisces",
          "Taurus",
          null,
          "Libra",
          null,
          "Aquarius",
          "Taurus",
          "Leo",
          "Pisces",
          "Virgo",
          "Capricorn",
          "Scorpio",
          "Taurus",
          "Leo",
          "Gemini",
          "Cancer",
          "Libra",
          "Aquarius",
          "Capricorn",
          "Capricorn",
          "Scorpio",
          null,
          "Sagittarius",
          "Aries",
          null,
          "Aries",
          "Capricorn",
          null,
          "Libra",
          null,
          null,
          "Virgo",
          null,
          "Capricorn",
          "Libra",
          "Scorpio",
          null,
          null,
          "Gemini",
          "Leo",
          "Taurus",
          "Capricorn",
          "Leo",
          null,
          "Pisces",
          "Pisces",
          "Pisces",
          "Sagittarius",
          "Virgo",
          "Pisces",
          null,
          "Sagittarius",
          "Scorpio",
          "Gemini",
          "Aries",
          null,
          "Pisces",
          "Leo",
          "Cancer",
          "Libra",
          "Gemini",
          "Sagittarius",
          "Libra",
          "Scorpio",
          "Pisces",
          null,
          null,
          "Aquarius",
          "Scorpio",
          "Sagittarius",
          "Aquarius",
          "Capricorn",
          "Aquarius",
          "Taurus",
          "Scorpio",
          "Aries",
          "Capricorn",
          "Gemini",
          null,
          "Leo",
          "Scorpio",
          "Cancer",
          "Pisces",
          "Virgo",
          "Aries",
          "Virgo",
          "Virgo",
          "Scorpio",
          null,
          "Sagittarius",
          null,
          "Leo",
          null,
          "Aries",
          null,
          "Virgo",
          "Capricorn",
          null,
          "Aries",
          "Leo",
          "Gemini",
          "Aries",
          null,
          null,
          null,
          null,
          "Aries",
          "Virgo",
          "Gemini",
          null,
          "Pisces",
          "Leo",
          "Virgo",
          "Virgo",
          "Pisces",
          "Pisces",
          "Leo",
          "Leo",
          "Sagittarius",
          "Pisces",
          "Aries",
          "Libra",
          "Capricorn",
          null,
          null,
          null,
          "Scorpio",
          "Capricorn",
          null,
          null,
          "Pisces",
          "Cancer",
          "Gemini",
          null,
          null,
          "Cancer",
          "Capricorn",
          "Gemini",
          null,
          null,
          "Cancer",
          "Capricorn",
          null,
          null,
          "Aquarius",
          "Libra",
          "Leo",
          "Aries",
          "Cancer",
          "Aquarius",
          "Capricorn",
          "Libra",
          null,
          "Taurus",
          "Scorpio",
          null,
          "Taurus",
          "Capricorn",
          null,
          "Capricorn",
          "Taurus",
          null,
          "Leo",
          "Leo",
          "Capricorn",
          "Sagittarius",
          "Aquarius",
          "Libra"
         ],
         "xaxis": "x",
         "y": [
          "24",
          "33",
          "28",
          "21",
          "43",
          "23",
          "n'",
          "n'",
          "49",
          "22",
          "n'",
          "34",
          "30",
          "n'",
          "45",
          "23",
          "34",
          "41",
          "n'",
          "28",
          "29",
          "42",
          "27",
          "57",
          "30",
          "16",
          "n'",
          "20",
          "30",
          "32",
          "n'",
          "n'",
          "27",
          "21",
          "16",
          "22",
          "25",
          "29",
          "32",
          "n'",
          "17",
          "n'",
          "30",
          "18",
          "40",
          "49",
          "n'",
          "29",
          "n'",
          "25",
          "n'",
          "32",
          "n'",
          "28",
          "53",
          "25",
          "23",
          "35",
          "22",
          "25",
          "21",
          "27",
          "39",
          "41",
          "17",
          "n'",
          "n'",
          "n'",
          "n'",
          "26",
          "29",
          "37",
          "40",
          "34",
          "n'",
          "30",
          "29",
          "49",
          "28",
          "32",
          "25",
          "20",
          "30",
          "33",
          "22",
          "17",
          "30",
          "31",
          "24",
          "33",
          "28",
          "n'",
          "33",
          "47",
          "27",
          "23",
          "n'",
          "30",
          "26",
          "35",
          "44",
          "47",
          "33",
          "27",
          "34",
          "45",
          "25",
          "n'",
          "36",
          "54",
          "13",
          "n'",
          "21",
          "22",
          "45",
          "17",
          "18",
          "33",
          "44",
          "25",
          "19",
          "24",
          "44",
          "42",
          "27",
          "41",
          "n'",
          "34",
          "n'",
          "32",
          "15",
          "n'",
          "28",
          "27",
          "n'",
          "39",
          "44",
          "33",
          "45",
          "22",
          "n'",
          "34",
          "27",
          "23",
          "20",
          "21",
          "27",
          "34",
          "27",
          "27",
          "39",
          "29",
          "33",
          "46",
          "26",
          "26",
          "18",
          "38",
          "29",
          "n'",
          "23",
          "n'",
          "35",
          "21",
          "44",
          "n'",
          "28",
          "43",
          "31",
          "38",
          "28",
          "72",
          "65",
          "41",
          "26",
          "24",
          "40",
          "29",
          "20",
          "29",
          "28",
          "10",
          "24",
          "40",
          "n'",
          "32",
          "35",
          "34",
          "43",
          "30",
          "16",
          "31",
          "39",
          "n'",
          "41",
          "n'",
          "40",
          "n'",
          "21",
          "n'",
          "26",
          "28",
          "29",
          "31",
          "19",
          "24",
          "36",
          "21",
          "n'",
          "n'",
          "31",
          "n'",
          "24",
          "24",
          "29",
          "36",
          "34",
          "18",
          "22",
          "32",
          "28",
          "n'",
          "25",
          "n'",
          "n'",
          "32",
          "50",
          "20",
          "28",
          "n'",
          "31",
          "21",
          "39",
          "23",
          "30",
          "44",
          "35",
          "18",
          "n'",
          "25",
          "30",
          "19",
          "23",
          "42",
          "n'",
          "25",
          "24",
          "23",
          "25",
          "37",
          "27",
          "33",
          "28",
          "57",
          "17",
          "n'",
          "n'",
          "30",
          "n'",
          "35",
          "35",
          "n'",
          "33",
          "n'",
          "23",
          "25",
          "44",
          "n'",
          "n'",
          "n'",
          "24",
          "n'",
          "20",
          "53",
          "22",
          "32",
          "19",
          "23",
          "23",
          "14",
          "n'",
          "39",
          "33",
          "15",
          "22",
          "22",
          "30",
          "27",
          "22",
          "36",
          "28",
          "40",
          "n'",
          "n'",
          "18",
          "n'",
          "24",
          "n'",
          "n'",
          "n'",
          "29",
          "31",
          "26",
          "25",
          "21",
          "27",
          "n'",
          "33",
          "22",
          "29",
          "35",
          "38",
          "n'",
          "43",
          "43",
          "26",
          "32",
          "34",
          "18",
          "n'",
          "46",
          "29",
          "n'",
          "21",
          "n'",
          "n'",
          "64",
          "30",
          "21",
          "n'",
          "n'",
          "59",
          "31",
          "43",
          "26",
          "n'",
          "30",
          "n'",
          "n'",
          "32",
          "40",
          "36",
          "28",
          "29",
          "28",
          "36",
          "22",
          "24",
          "43",
          "n'",
          "56",
          "27",
          "20",
          "20",
          "18",
          "37",
          "59",
          "39",
          "19",
          "n'",
          "20",
          "n'",
          "n'",
          "26",
          "n'",
          "n'",
          "20",
          "24",
          "35",
          "25",
          "30",
          "n'",
          "n'",
          "30",
          "n'",
          "23",
          "n'",
          "33",
          "n'",
          "29",
          "37",
          "30",
          "25",
          "32",
          "27",
          "26",
          "37",
          "29",
          "n'",
          "n'",
          "n'",
          "n'",
          "n'",
          "35",
          "37",
          "21",
          "n'",
          "n'",
          "n'",
          "32",
          "37",
          "19",
          "24",
          "n'",
          "16",
          "26",
          "20",
          "34",
          "34",
          "39",
          "27",
          "26",
          "n'",
          "19",
          "34",
          "n'",
          "27",
          "19",
          "32",
          "23",
          "21",
          "41",
          "30",
          "27",
          "28",
          "n'",
          "n'",
          "25",
          "41",
          "31",
          "n'",
          "22",
          "43",
          "19",
          "46",
          "27",
          "30",
          "22",
          "24",
          "22",
          "71",
          "n'",
          "21",
          "28",
          "14",
          "n'",
          "22",
          "n'",
          "33",
          "n'",
          "n'",
          "n'",
          "n'",
          "n'",
          "n'",
          "n'",
          "n'",
          "n'",
          "n'",
          "28",
          "n'",
          "n'",
          "n'",
          "19",
          "38",
          "21",
          "n'",
          "37",
          "n'",
          "n'",
          "26",
          "n'",
          "n'",
          "23",
          "n'",
          "n'",
          "34",
          "32",
          "n'",
          "n'",
          "30",
          "31",
          "39",
          "19",
          "n'",
          "37",
          "n'",
          "33",
          "20",
          "36",
          "20",
          "31",
          "23",
          "59",
          "25",
          "21",
          "35",
          "31",
          "30",
          "23",
          "41",
          "46",
          "40",
          "n'",
          "18",
          "37",
          "n'",
          "31",
          "40",
          "n'",
          "29",
          "n'",
          "n'",
          "15",
          "n'",
          "52",
          "20",
          "27",
          "n'",
          "n'",
          "23",
          "31",
          "48",
          "29",
          "17",
          "n'",
          "33",
          "17",
          "25",
          "29",
          "18",
          "23",
          "n'",
          "34",
          "24",
          "21",
          "33",
          "n'",
          "39",
          "31",
          "49",
          "26",
          "40",
          "18",
          "31",
          "21",
          "25",
          "n'",
          "n'",
          "29",
          "25",
          "21",
          "41",
          "18",
          "21",
          "41",
          "25",
          "42",
          "25",
          "22",
          "n'",
          "24",
          "21",
          "28",
          "14",
          "43",
          "41",
          "30",
          "32",
          "35",
          "n'",
          "30",
          "n'",
          "20",
          "n'",
          "26",
          "n'",
          "41",
          "37",
          "n'",
          "36",
          "36",
          "29",
          "19",
          "n'",
          "n'",
          "n'",
          "n'",
          "16",
          "36",
          "27",
          "n'",
          "21",
          "38",
          "18",
          "25",
          "21",
          "22",
          "48",
          "17",
          "31",
          "42",
          "27",
          "23",
          "23",
          "n'",
          "n'",
          "n'",
          "30",
          "19",
          "n'",
          "n'",
          "22",
          "24",
          "25",
          "n'",
          "n'",
          "35",
          "25",
          "27",
          "n'",
          "n'",
          "16",
          "38",
          "n'",
          "n'",
          "25",
          "23",
          "23",
          "23",
          "22",
          "23",
          "23",
          "19",
          "n'",
          "48",
          "35",
          "n'",
          "32",
          "26",
          "n'",
          "17",
          "24",
          "n'",
          "22",
          "26",
          "30",
          "35",
          "33",
          "24"
         ],
         "yaxis": "y"
        }
       ],
       "layout": {
        "barmode": "relative",
        "legend": {
         "tracegroupgap": 0
        },
        "margin": {
         "t": 60
        },
        "template": {
         "data": {
          "bar": [
           {
            "error_x": {
             "color": "#2a3f5f"
            },
            "error_y": {
             "color": "#2a3f5f"
            },
            "marker": {
             "line": {
              "color": "#E5ECF6",
              "width": 0.5
             }
            },
            "type": "bar"
           }
          ],
          "barpolar": [
           {
            "marker": {
             "line": {
              "color": "#E5ECF6",
              "width": 0.5
             }
            },
            "type": "barpolar"
           }
          ],
          "carpet": [
           {
            "aaxis": {
             "endlinecolor": "#2a3f5f",
             "gridcolor": "white",
             "linecolor": "white",
             "minorgridcolor": "white",
             "startlinecolor": "#2a3f5f"
            },
            "baxis": {
             "endlinecolor": "#2a3f5f",
             "gridcolor": "white",
             "linecolor": "white",
             "minorgridcolor": "white",
             "startlinecolor": "#2a3f5f"
            },
            "type": "carpet"
           }
          ],
          "choropleth": [
           {
            "colorbar": {
             "outlinewidth": 0,
             "ticks": ""
            },
            "type": "choropleth"
           }
          ],
          "contour": [
           {
            "colorbar": {
             "outlinewidth": 0,
             "ticks": ""
            },
            "colorscale": [
             [
              0,
              "#0d0887"
             ],
             [
              0.1111111111111111,
              "#46039f"
             ],
             [
              0.2222222222222222,
              "#7201a8"
             ],
             [
              0.3333333333333333,
              "#9c179e"
             ],
             [
              0.4444444444444444,
              "#bd3786"
             ],
             [
              0.5555555555555556,
              "#d8576b"
             ],
             [
              0.6666666666666666,
              "#ed7953"
             ],
             [
              0.7777777777777778,
              "#fb9f3a"
             ],
             [
              0.8888888888888888,
              "#fdca26"
             ],
             [
              1,
              "#f0f921"
             ]
            ],
            "type": "contour"
           }
          ],
          "contourcarpet": [
           {
            "colorbar": {
             "outlinewidth": 0,
             "ticks": ""
            },
            "type": "contourcarpet"
           }
          ],
          "heatmap": [
           {
            "colorbar": {
             "outlinewidth": 0,
             "ticks": ""
            },
            "colorscale": [
             [
              0,
              "#0d0887"
             ],
             [
              0.1111111111111111,
              "#46039f"
             ],
             [
              0.2222222222222222,
              "#7201a8"
             ],
             [
              0.3333333333333333,
              "#9c179e"
             ],
             [
              0.4444444444444444,
              "#bd3786"
             ],
             [
              0.5555555555555556,
              "#d8576b"
             ],
             [
              0.6666666666666666,
              "#ed7953"
             ],
             [
              0.7777777777777778,
              "#fb9f3a"
             ],
             [
              0.8888888888888888,
              "#fdca26"
             ],
             [
              1,
              "#f0f921"
             ]
            ],
            "type": "heatmap"
           }
          ],
          "heatmapgl": [
           {
            "colorbar": {
             "outlinewidth": 0,
             "ticks": ""
            },
            "colorscale": [
             [
              0,
              "#0d0887"
             ],
             [
              0.1111111111111111,
              "#46039f"
             ],
             [
              0.2222222222222222,
              "#7201a8"
             ],
             [
              0.3333333333333333,
              "#9c179e"
             ],
             [
              0.4444444444444444,
              "#bd3786"
             ],
             [
              0.5555555555555556,
              "#d8576b"
             ],
             [
              0.6666666666666666,
              "#ed7953"
             ],
             [
              0.7777777777777778,
              "#fb9f3a"
             ],
             [
              0.8888888888888888,
              "#fdca26"
             ],
             [
              1,
              "#f0f921"
             ]
            ],
            "type": "heatmapgl"
           }
          ],
          "histogram": [
           {
            "marker": {
             "colorbar": {
              "outlinewidth": 0,
              "ticks": ""
             }
            },
            "type": "histogram"
           }
          ],
          "histogram2d": [
           {
            "colorbar": {
             "outlinewidth": 0,
             "ticks": ""
            },
            "colorscale": [
             [
              0,
              "#0d0887"
             ],
             [
              0.1111111111111111,
              "#46039f"
             ],
             [
              0.2222222222222222,
              "#7201a8"
             ],
             [
              0.3333333333333333,
              "#9c179e"
             ],
             [
              0.4444444444444444,
              "#bd3786"
             ],
             [
              0.5555555555555556,
              "#d8576b"
             ],
             [
              0.6666666666666666,
              "#ed7953"
             ],
             [
              0.7777777777777778,
              "#fb9f3a"
             ],
             [
              0.8888888888888888,
              "#fdca26"
             ],
             [
              1,
              "#f0f921"
             ]
            ],
            "type": "histogram2d"
           }
          ],
          "histogram2dcontour": [
           {
            "colorbar": {
             "outlinewidth": 0,
             "ticks": ""
            },
            "colorscale": [
             [
              0,
              "#0d0887"
             ],
             [
              0.1111111111111111,
              "#46039f"
             ],
             [
              0.2222222222222222,
              "#7201a8"
             ],
             [
              0.3333333333333333,
              "#9c179e"
             ],
             [
              0.4444444444444444,
              "#bd3786"
             ],
             [
              0.5555555555555556,
              "#d8576b"
             ],
             [
              0.6666666666666666,
              "#ed7953"
             ],
             [
              0.7777777777777778,
              "#fb9f3a"
             ],
             [
              0.8888888888888888,
              "#fdca26"
             ],
             [
              1,
              "#f0f921"
             ]
            ],
            "type": "histogram2dcontour"
           }
          ],
          "mesh3d": [
           {
            "colorbar": {
             "outlinewidth": 0,
             "ticks": ""
            },
            "type": "mesh3d"
           }
          ],
          "parcoords": [
           {
            "line": {
             "colorbar": {
              "outlinewidth": 0,
              "ticks": ""
             }
            },
            "type": "parcoords"
           }
          ],
          "pie": [
           {
            "automargin": true,
            "type": "pie"
           }
          ],
          "scatter": [
           {
            "marker": {
             "colorbar": {
              "outlinewidth": 0,
              "ticks": ""
             }
            },
            "type": "scatter"
           }
          ],
          "scatter3d": [
           {
            "line": {
             "colorbar": {
              "outlinewidth": 0,
              "ticks": ""
             }
            },
            "marker": {
             "colorbar": {
              "outlinewidth": 0,
              "ticks": ""
             }
            },
            "type": "scatter3d"
           }
          ],
          "scattercarpet": [
           {
            "marker": {
             "colorbar": {
              "outlinewidth": 0,
              "ticks": ""
             }
            },
            "type": "scattercarpet"
           }
          ],
          "scattergeo": [
           {
            "marker": {
             "colorbar": {
              "outlinewidth": 0,
              "ticks": ""
             }
            },
            "type": "scattergeo"
           }
          ],
          "scattergl": [
           {
            "marker": {
             "colorbar": {
              "outlinewidth": 0,
              "ticks": ""
             }
            },
            "type": "scattergl"
           }
          ],
          "scattermapbox": [
           {
            "marker": {
             "colorbar": {
              "outlinewidth": 0,
              "ticks": ""
             }
            },
            "type": "scattermapbox"
           }
          ],
          "scatterpolar": [
           {
            "marker": {
             "colorbar": {
              "outlinewidth": 0,
              "ticks": ""
             }
            },
            "type": "scatterpolar"
           }
          ],
          "scatterpolargl": [
           {
            "marker": {
             "colorbar": {
              "outlinewidth": 0,
              "ticks": ""
             }
            },
            "type": "scatterpolargl"
           }
          ],
          "scatterternary": [
           {
            "marker": {
             "colorbar": {
              "outlinewidth": 0,
              "ticks": ""
             }
            },
            "type": "scatterternary"
           }
          ],
          "surface": [
           {
            "colorbar": {
             "outlinewidth": 0,
             "ticks": ""
            },
            "colorscale": [
             [
              0,
              "#0d0887"
             ],
             [
              0.1111111111111111,
              "#46039f"
             ],
             [
              0.2222222222222222,
              "#7201a8"
             ],
             [
              0.3333333333333333,
              "#9c179e"
             ],
             [
              0.4444444444444444,
              "#bd3786"
             ],
             [
              0.5555555555555556,
              "#d8576b"
             ],
             [
              0.6666666666666666,
              "#ed7953"
             ],
             [
              0.7777777777777778,
              "#fb9f3a"
             ],
             [
              0.8888888888888888,
              "#fdca26"
             ],
             [
              1,
              "#f0f921"
             ]
            ],
            "type": "surface"
           }
          ],
          "table": [
           {
            "cells": {
             "fill": {
              "color": "#EBF0F8"
             },
             "line": {
              "color": "white"
             }
            },
            "header": {
             "fill": {
              "color": "#C8D4E3"
             },
             "line": {
              "color": "white"
             }
            },
            "type": "table"
           }
          ]
         },
         "layout": {
          "annotationdefaults": {
           "arrowcolor": "#2a3f5f",
           "arrowhead": 0,
           "arrowwidth": 1
          },
          "coloraxis": {
           "colorbar": {
            "outlinewidth": 0,
            "ticks": ""
           }
          },
          "colorscale": {
           "diverging": [
            [
             0,
             "#8e0152"
            ],
            [
             0.1,
             "#c51b7d"
            ],
            [
             0.2,
             "#de77ae"
            ],
            [
             0.3,
             "#f1b6da"
            ],
            [
             0.4,
             "#fde0ef"
            ],
            [
             0.5,
             "#f7f7f7"
            ],
            [
             0.6,
             "#e6f5d0"
            ],
            [
             0.7,
             "#b8e186"
            ],
            [
             0.8,
             "#7fbc41"
            ],
            [
             0.9,
             "#4d9221"
            ],
            [
             1,
             "#276419"
            ]
           ],
           "sequential": [
            [
             0,
             "#0d0887"
            ],
            [
             0.1111111111111111,
             "#46039f"
            ],
            [
             0.2222222222222222,
             "#7201a8"
            ],
            [
             0.3333333333333333,
             "#9c179e"
            ],
            [
             0.4444444444444444,
             "#bd3786"
            ],
            [
             0.5555555555555556,
             "#d8576b"
            ],
            [
             0.6666666666666666,
             "#ed7953"
            ],
            [
             0.7777777777777778,
             "#fb9f3a"
            ],
            [
             0.8888888888888888,
             "#fdca26"
            ],
            [
             1,
             "#f0f921"
            ]
           ],
           "sequentialminus": [
            [
             0,
             "#0d0887"
            ],
            [
             0.1111111111111111,
             "#46039f"
            ],
            [
             0.2222222222222222,
             "#7201a8"
            ],
            [
             0.3333333333333333,
             "#9c179e"
            ],
            [
             0.4444444444444444,
             "#bd3786"
            ],
            [
             0.5555555555555556,
             "#d8576b"
            ],
            [
             0.6666666666666666,
             "#ed7953"
            ],
            [
             0.7777777777777778,
             "#fb9f3a"
            ],
            [
             0.8888888888888888,
             "#fdca26"
            ],
            [
             1,
             "#f0f921"
            ]
           ]
          },
          "colorway": [
           "#636efa",
           "#EF553B",
           "#00cc96",
           "#ab63fa",
           "#FFA15A",
           "#19d3f3",
           "#FF6692",
           "#B6E880",
           "#FF97FF",
           "#FECB52"
          ],
          "font": {
           "color": "#2a3f5f"
          },
          "geo": {
           "bgcolor": "white",
           "lakecolor": "white",
           "landcolor": "#E5ECF6",
           "showlakes": true,
           "showland": true,
           "subunitcolor": "white"
          },
          "hoverlabel": {
           "align": "left"
          },
          "hovermode": "closest",
          "mapbox": {
           "style": "light"
          },
          "paper_bgcolor": "white",
          "plot_bgcolor": "#E5ECF6",
          "polar": {
           "angularaxis": {
            "gridcolor": "white",
            "linecolor": "white",
            "ticks": ""
           },
           "bgcolor": "#E5ECF6",
           "radialaxis": {
            "gridcolor": "white",
            "linecolor": "white",
            "ticks": ""
           }
          },
          "scene": {
           "xaxis": {
            "backgroundcolor": "#E5ECF6",
            "gridcolor": "white",
            "gridwidth": 2,
            "linecolor": "white",
            "showbackground": true,
            "ticks": "",
            "zerolinecolor": "white"
           },
           "yaxis": {
            "backgroundcolor": "#E5ECF6",
            "gridcolor": "white",
            "gridwidth": 2,
            "linecolor": "white",
            "showbackground": true,
            "ticks": "",
            "zerolinecolor": "white"
           },
           "zaxis": {
            "backgroundcolor": "#E5ECF6",
            "gridcolor": "white",
            "gridwidth": 2,
            "linecolor": "white",
            "showbackground": true,
            "ticks": "",
            "zerolinecolor": "white"
           }
          },
          "shapedefaults": {
           "line": {
            "color": "#2a3f5f"
           }
          },
          "ternary": {
           "aaxis": {
            "gridcolor": "white",
            "linecolor": "white",
            "ticks": ""
           },
           "baxis": {
            "gridcolor": "white",
            "linecolor": "white",
            "ticks": ""
           },
           "bgcolor": "#E5ECF6",
           "caxis": {
            "gridcolor": "white",
            "linecolor": "white",
            "ticks": ""
           }
          },
          "title": {
           "x": 0.05
          },
          "xaxis": {
           "automargin": true,
           "gridcolor": "white",
           "linecolor": "white",
           "ticks": "",
           "title": {
            "standoff": 15
           },
           "zerolinecolor": "white",
           "zerolinewidth": 2
          },
          "yaxis": {
           "automargin": true,
           "gridcolor": "white",
           "linecolor": "white",
           "ticks": "",
           "title": {
            "standoff": 15
           },
           "zerolinecolor": "white",
           "zerolinewidth": 2
          }
         }
        },
        "xaxis": {
         "anchor": "y",
         "domain": [
          0,
          1
         ],
         "title": {
          "text": "astrological_sign"
         }
        },
        "yaxis": {
         "anchor": "x",
         "domain": [
          0,
          1
         ],
         "title": {
          "text": "count of starting_killing_age"
         }
        }
       }
      },
      "text/html": [
       "<div>\n",
       "        \n",
       "        \n",
       "            <div id=\"71bc5fd3-88d3-48e4-8019-fb31e8b0a216\" class=\"plotly-graph-div\" style=\"height:525px; width:100%;\"></div>\n",
       "            <script type=\"text/javascript\">\n",
       "                require([\"plotly\"], function(Plotly) {\n",
       "                    window.PLOTLYENV=window.PLOTLYENV || {};\n",
       "                    \n",
       "                if (document.getElementById(\"71bc5fd3-88d3-48e4-8019-fb31e8b0a216\")) {\n",
       "                    Plotly.newPlot(\n",
       "                        '71bc5fd3-88d3-48e4-8019-fb31e8b0a216',\n",
       "                        [{\"alignmentgroup\": \"True\", \"bingroup\": \"x\", \"hoverlabel\": {\"namelength\": 0}, \"hovertemplate\": \"astrological_sign=%{x}<br>count of starting_killing_age=%{y}\", \"legendgroup\": \"\", \"marker\": {\"color\": \"#636efa\"}, \"name\": \"\", \"offsetgroup\": \"\", \"orientation\": \"v\", \"showlegend\": false, \"type\": \"histogram\", \"x\": [\"Aquarius\", \"Capricorn\", \"Cancer\", \"Leo\", \"Pisces\", \"Cancer\", null, null, \"Taurus\", \"Taurus\", null, \"Leo\", \"Sagittarius\", null, \"Libra\", \"Sagittarius\", \"Capricorn\", \"Virgo\", null, \"Leo\", \"Scorpio\", \"Capricorn\", \"Sagittarius\", \"Sagittarius\", \"Sagittarius\", \"Scorpio\", null, \"Aries\", \"Sagittarius\", \"Cancer\", null, null, \"Gemini\", \"Scorpio\", \"Taurus\", \"Aquarius\", \"Pisces\", \"Aquarius\", \"Aquarius\", null, \"Scorpio\", null, \"Cancer\", \"Aries\", \"Cancer\", \"Gemini\", null, \"Gemini\", null, \"Capricorn\", null, \"Aquarius\", null, \"Cancer\", \"Cancer\", \"Sagittarius\", \"Aquarius\", \"Leo\", \"Virgo\", \"Gemini\", \"Virgo\", \"Cancer\", \"Scorpio\", \"Scorpio\", \"Aquarius\", null, null, null, null, \"Cancer\", \"Leo\", \"Sagittarius\", \"Capricorn\", \"Capricorn\", null, \"Scorpio\", \"Libra\", \"Libra\", \"Virgo\", \"Cancer\", \"Libra\", \"Pisces\", \"Libra\", \"Aquarius\", \"Libra\", \"Pisces\", \"Pisces\", \"Libra\", \"Pisces\", \"Leo\", \"Cancer\", null, \"Gemini\", \"Gemini\", \"Sagittarius\", \"Cancer\", null, \"Leo\", \"Leo\", \"Libra\", \"Gemini\", \"Cancer\", \"Virgo\", \"Aries\", \"Gemini\", \"Aries\", \"Leo\", null, \"Sagittarius\", \"Pisces\", \"Gemini\", null, \"Virgo\", \"Gemini\", \"Aries\", \"Pisces\", \"Aries\", \"Pisces\", \"Aries\", \"Virgo\", \"Capricorn\", \"Scorpio\", \"Sagittarius\", \"Libra\", \"Gemini\", \"Virgo\", null, \"Scorpio\", null, \"Sagittarius\", \"Cancer\", null, \"Scorpio\", \"Leo\", null, \"Scorpio\", \"Cancer\", \"Pisces\", \"Aries\", \"Scorpio\", null, \"Cancer\", \"Sagittarius\", \"Taurus\", \"Cancer\", \"Virgo\", \"Virgo\", \"Aries\", \"Cancer\", \"Libra\", \"Libra\", \"Sagittarius\", \"Aquarius\", \"Cancer\", \"Gemini\", \"Virgo\", \"Virgo\", \"Libra\", \"Aquarius\", null, \"Gemini\", null, \"Gemini\", \"Aries\", \"Aquarius\", null, \"Aries\", \"Libra\", \"Capricorn\", \"Virgo\", \"Sagittarius\", \"Capricorn\", \"Leo\", \"Virgo\", \"Virgo\", \"Scorpio\", \"Taurus\", \"Gemini\", \"Gemini\", \"Scorpio\", \"Pisces\", \"Taurus\", \"Capricorn\", \"Virgo\", null, \"Pisces\", \"Aquarius\", \"Taurus\", \"Aries\", \"Leo\", \"Scorpio\", \"Sagittarius\", \"Scorpio\", null, \"Capricorn\", null, \"Capricorn\", null, \"Capricorn\", null, \"Sagittarius\", \"Aquarius\", \"Gemini\", \"Gemini\", \"Aries\", \"Pisces\", \"Pisces\", \"Sagittarius\", null, null, \"Aries\", null, \"Leo\", \"Libra\", \"Aquarius\", \"Capricorn\", \"Aries\", \"Scorpio\", \"Scorpio\", \"Aquarius\", \"Scorpio\", null, \"Capricorn\", null, null, \"Capricorn\", \"Aquarius\", \"Capricorn\", \"Leo\", null, \"Virgo\", \"Aries\", \"Leo\", \"Capricorn\", \"Libra\", \"Cancer\", \"Aquarius\", \"Gemini\", null, \"Aries\", \"Scorpio\", \"Sagittarius\", \"Virgo\", \"Libra\", null, \"Virgo\", \"Capricorn\", \"Libra\", \"Aquarius\", \"Leo\", \"Sagittarius\", \"Virgo\", \"Leo\", \"Leo\", \"Pisces\", null, null, \"Capricorn\", null, \"Aries\", \"Scorpio\", null, \"Taurus\", null, \"Virgo\", \"Aries\", \"Capricorn\", null, null, null, \"Sagittarius\", null, \"Capricorn\", \"Capricorn\", \"Pisces\", \"Aries\", \"Capricorn\", \"Leo\", \"Scorpio\", \"Libra\", null, \"Pisces\", \"Virgo\", \"Sagittarius\", \"Gemini\", \"Cancer\", \"Scorpio\", \"Leo\", \"Cancer\", \"Leo\", \"Pisces\", \"Scorpio\", null, null, \"Scorpio\", null, \"Pisces\", null, null, null, \"Pisces\", \"Aquarius\", \"Taurus\", \"Aquarius\", \"Leo\", \"Libra\", null, \"Sagittarius\", \"Sagittarius\", \"Taurus\", \"Leo\", \"Sagittarius\", null, \"Libra\", \"Capricorn\", \"Pisces\", \"Libra\", \"Gemini\", \"Aries\", null, \"Scorpio\", \"Capricorn\", null, \"Capricorn\", null, null, \"Scorpio\", \"Sagittarius\", \"Sagittarius\", null, null, \"Gemini\", \"Aquarius\", \"Capricorn\", \"Taurus\", null, \"Leo\", null, null, \"Virgo\", \"Capricorn\", \"Capricorn\", \"Libra\", \"Aquarius\", \"Cancer\", \"Aquarius\", \"Scorpio\", \"Aries\", \"Capricorn\", null, \"Aries\", \"Virgo\", \"Capricorn\", \"Aries\", \"Gemini\", \"Gemini\", \"Libra\", \"Aquarius\", \"Cancer\", null, \"Cancer\", null, null, \"Libra\", null, null, \"Aries\", \"Taurus\", \"Taurus\", \"Aries\", \"Aquarius\", null, null, \"Gemini\", null, \"Pisces\", null, \"Gemini\", null, \"Taurus\", \"Sagittarius\", \"Capricorn\", \"Virgo\", \"Aquarius\", \"Sagittarius\", \"Leo\", \"Libra\", \"Pisces\", null, null, null, null, null, \"Libra\", \"Gemini\", \"Libra\", null, null, null, \"Pisces\", \"Leo\", \"Aquarius\", \"Leo\", null, \"Sagittarius\", \"Libra\", \"Capricorn\", \"Aquarius\", \"Virgo\", \"Sagittarius\", \"Leo\", \"Capricorn\", null, \"Cancer\", \"Sagittarius\", null, \"Cancer\", \"Leo\", \"Pisces\", \"Aquarius\", \"Libra\", \"Aquarius\", \"Gemini\", \"Libra\", \"Libra\", null, null, \"Sagittarius\", \"Aquarius\", \"Libra\", null, \"Capricorn\", \"Leo\", \"Aquarius\", \"Aries\", \"Scorpio\", \"Gemini\", \"Scorpio\", \"Scorpio\", \"Aquarius\", \"Gemini\", null, \"Leo\", \"Capricorn\", \"Aries\", null, \"Aries\", null, \"Sagittarius\", null, null, null, null, null, null, null, null, null, null, \"Aries\", null, null, null, \"Virgo\", \"Gemini\", \"Sagittarius\", null, \"Virgo\", null, null, \"Pisces\", null, null, \"Virgo\", null, null, \"Aquarius\", \"Capricorn\", null, null, \"Aries\", \"Leo\", \"Pisces\", \"Taurus\", null, \"Libra\", null, \"Aquarius\", \"Taurus\", \"Leo\", \"Pisces\", \"Virgo\", \"Capricorn\", \"Scorpio\", \"Taurus\", \"Leo\", \"Gemini\", \"Cancer\", \"Libra\", \"Aquarius\", \"Capricorn\", \"Capricorn\", \"Scorpio\", null, \"Sagittarius\", \"Aries\", null, \"Aries\", \"Capricorn\", null, \"Libra\", null, null, \"Virgo\", null, \"Capricorn\", \"Libra\", \"Scorpio\", null, null, \"Gemini\", \"Leo\", \"Taurus\", \"Capricorn\", \"Leo\", null, \"Pisces\", \"Pisces\", \"Pisces\", \"Sagittarius\", \"Virgo\", \"Pisces\", null, \"Sagittarius\", \"Scorpio\", \"Gemini\", \"Aries\", null, \"Pisces\", \"Leo\", \"Cancer\", \"Libra\", \"Gemini\", \"Sagittarius\", \"Libra\", \"Scorpio\", \"Pisces\", null, null, \"Aquarius\", \"Scorpio\", \"Sagittarius\", \"Aquarius\", \"Capricorn\", \"Aquarius\", \"Taurus\", \"Scorpio\", \"Aries\", \"Capricorn\", \"Gemini\", null, \"Leo\", \"Scorpio\", \"Cancer\", \"Pisces\", \"Virgo\", \"Aries\", \"Virgo\", \"Virgo\", \"Scorpio\", null, \"Sagittarius\", null, \"Leo\", null, \"Aries\", null, \"Virgo\", \"Capricorn\", null, \"Aries\", \"Leo\", \"Gemini\", \"Aries\", null, null, null, null, \"Aries\", \"Virgo\", \"Gemini\", null, \"Pisces\", \"Leo\", \"Virgo\", \"Virgo\", \"Pisces\", \"Pisces\", \"Leo\", \"Leo\", \"Sagittarius\", \"Pisces\", \"Aries\", \"Libra\", \"Capricorn\", null, null, null, \"Scorpio\", \"Capricorn\", null, null, \"Pisces\", \"Cancer\", \"Gemini\", null, null, \"Cancer\", \"Capricorn\", \"Gemini\", null, null, \"Cancer\", \"Capricorn\", null, null, \"Aquarius\", \"Libra\", \"Leo\", \"Aries\", \"Cancer\", \"Aquarius\", \"Capricorn\", \"Libra\", null, \"Taurus\", \"Scorpio\", null, \"Taurus\", \"Capricorn\", null, \"Capricorn\", \"Taurus\", null, \"Leo\", \"Leo\", \"Capricorn\", \"Sagittarius\", \"Aquarius\", \"Libra\"], \"xaxis\": \"x\", \"y\": [\"24\", \"33\", \"28\", \"21\", \"43\", \"23\", \"n'\", \"n'\", \"49\", \"22\", \"n'\", \"34\", \"30\", \"n'\", \"45\", \"23\", \"34\", \"41\", \"n'\", \"28\", \"29\", \"42\", \"27\", \"57\", \"30\", \"16\", \"n'\", \"20\", \"30\", \"32\", \"n'\", \"n'\", \"27\", \"21\", \"16\", \"22\", \"25\", \"29\", \"32\", \"n'\", \"17\", \"n'\", \"30\", \"18\", \"40\", \"49\", \"n'\", \"29\", \"n'\", \"25\", \"n'\", \"32\", \"n'\", \"28\", \"53\", \"25\", \"23\", \"35\", \"22\", \"25\", \"21\", \"27\", \"39\", \"41\", \"17\", \"n'\", \"n'\", \"n'\", \"n'\", \"26\", \"29\", \"37\", \"40\", \"34\", \"n'\", \"30\", \"29\", \"49\", \"28\", \"32\", \"25\", \"20\", \"30\", \"33\", \"22\", \"17\", \"30\", \"31\", \"24\", \"33\", \"28\", \"n'\", \"33\", \"47\", \"27\", \"23\", \"n'\", \"30\", \"26\", \"35\", \"44\", \"47\", \"33\", \"27\", \"34\", \"45\", \"25\", \"n'\", \"36\", \"54\", \"13\", \"n'\", \"21\", \"22\", \"45\", \"17\", \"18\", \"33\", \"44\", \"25\", \"19\", \"24\", \"44\", \"42\", \"27\", \"41\", \"n'\", \"34\", \"n'\", \"32\", \"15\", \"n'\", \"28\", \"27\", \"n'\", \"39\", \"44\", \"33\", \"45\", \"22\", \"n'\", \"34\", \"27\", \"23\", \"20\", \"21\", \"27\", \"34\", \"27\", \"27\", \"39\", \"29\", \"33\", \"46\", \"26\", \"26\", \"18\", \"38\", \"29\", \"n'\", \"23\", \"n'\", \"35\", \"21\", \"44\", \"n'\", \"28\", \"43\", \"31\", \"38\", \"28\", \"72\", \"65\", \"41\", \"26\", \"24\", \"40\", \"29\", \"20\", \"29\", \"28\", \"10\", \"24\", \"40\", \"n'\", \"32\", \"35\", \"34\", \"43\", \"30\", \"16\", \"31\", \"39\", \"n'\", \"41\", \"n'\", \"40\", \"n'\", \"21\", \"n'\", \"26\", \"28\", \"29\", \"31\", \"19\", \"24\", \"36\", \"21\", \"n'\", \"n'\", \"31\", \"n'\", \"24\", \"24\", \"29\", \"36\", \"34\", \"18\", \"22\", \"32\", \"28\", \"n'\", \"25\", \"n'\", \"n'\", \"32\", \"50\", \"20\", \"28\", \"n'\", \"31\", \"21\", \"39\", \"23\", \"30\", \"44\", \"35\", \"18\", \"n'\", \"25\", \"30\", \"19\", \"23\", \"42\", \"n'\", \"25\", \"24\", \"23\", \"25\", \"37\", \"27\", \"33\", \"28\", \"57\", \"17\", \"n'\", \"n'\", \"30\", \"n'\", \"35\", \"35\", \"n'\", \"33\", \"n'\", \"23\", \"25\", \"44\", \"n'\", \"n'\", \"n'\", \"24\", \"n'\", \"20\", \"53\", \"22\", \"32\", \"19\", \"23\", \"23\", \"14\", \"n'\", \"39\", \"33\", \"15\", \"22\", \"22\", \"30\", \"27\", \"22\", \"36\", \"28\", \"40\", \"n'\", \"n'\", \"18\", \"n'\", \"24\", \"n'\", \"n'\", \"n'\", \"29\", \"31\", \"26\", \"25\", \"21\", \"27\", \"n'\", \"33\", \"22\", \"29\", \"35\", \"38\", \"n'\", \"43\", \"43\", \"26\", \"32\", \"34\", \"18\", \"n'\", \"46\", \"29\", \"n'\", \"21\", \"n'\", \"n'\", \"64\", \"30\", \"21\", \"n'\", \"n'\", \"59\", \"31\", \"43\", \"26\", \"n'\", \"30\", \"n'\", \"n'\", \"32\", \"40\", \"36\", \"28\", \"29\", \"28\", \"36\", \"22\", \"24\", \"43\", \"n'\", \"56\", \"27\", \"20\", \"20\", \"18\", \"37\", \"59\", \"39\", \"19\", \"n'\", \"20\", \"n'\", \"n'\", \"26\", \"n'\", \"n'\", \"20\", \"24\", \"35\", \"25\", \"30\", \"n'\", \"n'\", \"30\", \"n'\", \"23\", \"n'\", \"33\", \"n'\", \"29\", \"37\", \"30\", \"25\", \"32\", \"27\", \"26\", \"37\", \"29\", \"n'\", \"n'\", \"n'\", \"n'\", \"n'\", \"35\", \"37\", \"21\", \"n'\", \"n'\", \"n'\", \"32\", \"37\", \"19\", \"24\", \"n'\", \"16\", \"26\", \"20\", \"34\", \"34\", \"39\", \"27\", \"26\", \"n'\", \"19\", \"34\", \"n'\", \"27\", \"19\", \"32\", \"23\", \"21\", \"41\", \"30\", \"27\", \"28\", \"n'\", \"n'\", \"25\", \"41\", \"31\", \"n'\", \"22\", \"43\", \"19\", \"46\", \"27\", \"30\", \"22\", \"24\", \"22\", \"71\", \"n'\", \"21\", \"28\", \"14\", \"n'\", \"22\", \"n'\", \"33\", \"n'\", \"n'\", \"n'\", \"n'\", \"n'\", \"n'\", \"n'\", \"n'\", \"n'\", \"n'\", \"28\", \"n'\", \"n'\", \"n'\", \"19\", \"38\", \"21\", \"n'\", \"37\", \"n'\", \"n'\", \"26\", \"n'\", \"n'\", \"23\", \"n'\", \"n'\", \"34\", \"32\", \"n'\", \"n'\", \"30\", \"31\", \"39\", \"19\", \"n'\", \"37\", \"n'\", \"33\", \"20\", \"36\", \"20\", \"31\", \"23\", \"59\", \"25\", \"21\", \"35\", \"31\", \"30\", \"23\", \"41\", \"46\", \"40\", \"n'\", \"18\", \"37\", \"n'\", \"31\", \"40\", \"n'\", \"29\", \"n'\", \"n'\", \"15\", \"n'\", \"52\", \"20\", \"27\", \"n'\", \"n'\", \"23\", \"31\", \"48\", \"29\", \"17\", \"n'\", \"33\", \"17\", \"25\", \"29\", \"18\", \"23\", \"n'\", \"34\", \"24\", \"21\", \"33\", \"n'\", \"39\", \"31\", \"49\", \"26\", \"40\", \"18\", \"31\", \"21\", \"25\", \"n'\", \"n'\", \"29\", \"25\", \"21\", \"41\", \"18\", \"21\", \"41\", \"25\", \"42\", \"25\", \"22\", \"n'\", \"24\", \"21\", \"28\", \"14\", \"43\", \"41\", \"30\", \"32\", \"35\", \"n'\", \"30\", \"n'\", \"20\", \"n'\", \"26\", \"n'\", \"41\", \"37\", \"n'\", \"36\", \"36\", \"29\", \"19\", \"n'\", \"n'\", \"n'\", \"n'\", \"16\", \"36\", \"27\", \"n'\", \"21\", \"38\", \"18\", \"25\", \"21\", \"22\", \"48\", \"17\", \"31\", \"42\", \"27\", \"23\", \"23\", \"n'\", \"n'\", \"n'\", \"30\", \"19\", \"n'\", \"n'\", \"22\", \"24\", \"25\", \"n'\", \"n'\", \"35\", \"25\", \"27\", \"n'\", \"n'\", \"16\", \"38\", \"n'\", \"n'\", \"25\", \"23\", \"23\", \"23\", \"22\", \"23\", \"23\", \"19\", \"n'\", \"48\", \"35\", \"n'\", \"32\", \"26\", \"n'\", \"17\", \"24\", \"n'\", \"22\", \"26\", \"30\", \"35\", \"33\", \"24\"], \"yaxis\": \"y\"}],\n",
       "                        {\"barmode\": \"relative\", \"legend\": {\"tracegroupgap\": 0}, \"margin\": {\"t\": 60}, \"template\": {\"data\": {\"bar\": [{\"error_x\": {\"color\": \"#2a3f5f\"}, \"error_y\": {\"color\": \"#2a3f5f\"}, \"marker\": {\"line\": {\"color\": \"#E5ECF6\", \"width\": 0.5}}, \"type\": \"bar\"}], \"barpolar\": [{\"marker\": {\"line\": {\"color\": \"#E5ECF6\", \"width\": 0.5}}, \"type\": \"barpolar\"}], \"carpet\": [{\"aaxis\": {\"endlinecolor\": \"#2a3f5f\", \"gridcolor\": \"white\", \"linecolor\": \"white\", \"minorgridcolor\": \"white\", \"startlinecolor\": \"#2a3f5f\"}, \"baxis\": {\"endlinecolor\": \"#2a3f5f\", \"gridcolor\": \"white\", \"linecolor\": \"white\", \"minorgridcolor\": \"white\", \"startlinecolor\": \"#2a3f5f\"}, \"type\": \"carpet\"}], \"choropleth\": [{\"colorbar\": {\"outlinewidth\": 0, \"ticks\": \"\"}, \"type\": \"choropleth\"}], \"contour\": [{\"colorbar\": {\"outlinewidth\": 0, \"ticks\": \"\"}, \"colorscale\": [[0.0, \"#0d0887\"], [0.1111111111111111, \"#46039f\"], [0.2222222222222222, \"#7201a8\"], [0.3333333333333333, \"#9c179e\"], [0.4444444444444444, \"#bd3786\"], [0.5555555555555556, \"#d8576b\"], [0.6666666666666666, \"#ed7953\"], [0.7777777777777778, \"#fb9f3a\"], [0.8888888888888888, \"#fdca26\"], [1.0, \"#f0f921\"]], \"type\": \"contour\"}], \"contourcarpet\": [{\"colorbar\": {\"outlinewidth\": 0, \"ticks\": \"\"}, \"type\": \"contourcarpet\"}], \"heatmap\": [{\"colorbar\": {\"outlinewidth\": 0, \"ticks\": \"\"}, \"colorscale\": [[0.0, \"#0d0887\"], [0.1111111111111111, \"#46039f\"], [0.2222222222222222, \"#7201a8\"], [0.3333333333333333, \"#9c179e\"], [0.4444444444444444, \"#bd3786\"], [0.5555555555555556, \"#d8576b\"], [0.6666666666666666, \"#ed7953\"], [0.7777777777777778, \"#fb9f3a\"], [0.8888888888888888, \"#fdca26\"], [1.0, \"#f0f921\"]], \"type\": \"heatmap\"}], \"heatmapgl\": [{\"colorbar\": {\"outlinewidth\": 0, \"ticks\": \"\"}, \"colorscale\": [[0.0, \"#0d0887\"], [0.1111111111111111, \"#46039f\"], [0.2222222222222222, \"#7201a8\"], [0.3333333333333333, \"#9c179e\"], [0.4444444444444444, \"#bd3786\"], [0.5555555555555556, \"#d8576b\"], [0.6666666666666666, \"#ed7953\"], [0.7777777777777778, \"#fb9f3a\"], [0.8888888888888888, \"#fdca26\"], [1.0, \"#f0f921\"]], \"type\": \"heatmapgl\"}], \"histogram\": [{\"marker\": {\"colorbar\": {\"outlinewidth\": 0, \"ticks\": \"\"}}, \"type\": \"histogram\"}], \"histogram2d\": [{\"colorbar\": {\"outlinewidth\": 0, \"ticks\": \"\"}, \"colorscale\": [[0.0, \"#0d0887\"], [0.1111111111111111, \"#46039f\"], [0.2222222222222222, \"#7201a8\"], [0.3333333333333333, \"#9c179e\"], [0.4444444444444444, \"#bd3786\"], [0.5555555555555556, \"#d8576b\"], [0.6666666666666666, \"#ed7953\"], [0.7777777777777778, \"#fb9f3a\"], [0.8888888888888888, \"#fdca26\"], [1.0, \"#f0f921\"]], \"type\": \"histogram2d\"}], \"histogram2dcontour\": [{\"colorbar\": {\"outlinewidth\": 0, \"ticks\": \"\"}, \"colorscale\": [[0.0, \"#0d0887\"], [0.1111111111111111, \"#46039f\"], [0.2222222222222222, \"#7201a8\"], [0.3333333333333333, \"#9c179e\"], [0.4444444444444444, \"#bd3786\"], [0.5555555555555556, \"#d8576b\"], [0.6666666666666666, \"#ed7953\"], [0.7777777777777778, \"#fb9f3a\"], [0.8888888888888888, \"#fdca26\"], [1.0, \"#f0f921\"]], \"type\": \"histogram2dcontour\"}], \"mesh3d\": [{\"colorbar\": {\"outlinewidth\": 0, \"ticks\": \"\"}, \"type\": \"mesh3d\"}], \"parcoords\": [{\"line\": {\"colorbar\": {\"outlinewidth\": 0, \"ticks\": \"\"}}, \"type\": \"parcoords\"}], \"pie\": [{\"automargin\": true, \"type\": \"pie\"}], \"scatter\": [{\"marker\": {\"colorbar\": {\"outlinewidth\": 0, \"ticks\": \"\"}}, \"type\": \"scatter\"}], \"scatter3d\": [{\"line\": {\"colorbar\": {\"outlinewidth\": 0, \"ticks\": \"\"}}, \"marker\": {\"colorbar\": {\"outlinewidth\": 0, \"ticks\": \"\"}}, \"type\": \"scatter3d\"}], \"scattercarpet\": [{\"marker\": {\"colorbar\": {\"outlinewidth\": 0, \"ticks\": \"\"}}, \"type\": \"scattercarpet\"}], \"scattergeo\": [{\"marker\": {\"colorbar\": {\"outlinewidth\": 0, \"ticks\": \"\"}}, \"type\": \"scattergeo\"}], \"scattergl\": [{\"marker\": {\"colorbar\": {\"outlinewidth\": 0, \"ticks\": \"\"}}, \"type\": \"scattergl\"}], \"scattermapbox\": [{\"marker\": {\"colorbar\": {\"outlinewidth\": 0, \"ticks\": \"\"}}, \"type\": \"scattermapbox\"}], \"scatterpolar\": [{\"marker\": {\"colorbar\": {\"outlinewidth\": 0, \"ticks\": \"\"}}, \"type\": \"scatterpolar\"}], \"scatterpolargl\": [{\"marker\": {\"colorbar\": {\"outlinewidth\": 0, \"ticks\": \"\"}}, \"type\": \"scatterpolargl\"}], \"scatterternary\": [{\"marker\": {\"colorbar\": {\"outlinewidth\": 0, \"ticks\": \"\"}}, \"type\": \"scatterternary\"}], \"surface\": [{\"colorbar\": {\"outlinewidth\": 0, \"ticks\": \"\"}, \"colorscale\": [[0.0, \"#0d0887\"], [0.1111111111111111, \"#46039f\"], [0.2222222222222222, \"#7201a8\"], [0.3333333333333333, \"#9c179e\"], [0.4444444444444444, \"#bd3786\"], [0.5555555555555556, \"#d8576b\"], [0.6666666666666666, \"#ed7953\"], [0.7777777777777778, \"#fb9f3a\"], [0.8888888888888888, \"#fdca26\"], [1.0, \"#f0f921\"]], \"type\": \"surface\"}], \"table\": [{\"cells\": {\"fill\": {\"color\": \"#EBF0F8\"}, \"line\": {\"color\": \"white\"}}, \"header\": {\"fill\": {\"color\": \"#C8D4E3\"}, \"line\": {\"color\": \"white\"}}, \"type\": \"table\"}]}, \"layout\": {\"annotationdefaults\": {\"arrowcolor\": \"#2a3f5f\", \"arrowhead\": 0, \"arrowwidth\": 1}, \"coloraxis\": {\"colorbar\": {\"outlinewidth\": 0, \"ticks\": \"\"}}, \"colorscale\": {\"diverging\": [[0, \"#8e0152\"], [0.1, \"#c51b7d\"], [0.2, \"#de77ae\"], [0.3, \"#f1b6da\"], [0.4, \"#fde0ef\"], [0.5, \"#f7f7f7\"], [0.6, \"#e6f5d0\"], [0.7, \"#b8e186\"], [0.8, \"#7fbc41\"], [0.9, \"#4d9221\"], [1, \"#276419\"]], \"sequential\": [[0.0, \"#0d0887\"], [0.1111111111111111, \"#46039f\"], [0.2222222222222222, \"#7201a8\"], [0.3333333333333333, \"#9c179e\"], [0.4444444444444444, \"#bd3786\"], [0.5555555555555556, \"#d8576b\"], [0.6666666666666666, \"#ed7953\"], [0.7777777777777778, \"#fb9f3a\"], [0.8888888888888888, \"#fdca26\"], [1.0, \"#f0f921\"]], \"sequentialminus\": [[0.0, \"#0d0887\"], [0.1111111111111111, \"#46039f\"], [0.2222222222222222, \"#7201a8\"], [0.3333333333333333, \"#9c179e\"], [0.4444444444444444, \"#bd3786\"], [0.5555555555555556, \"#d8576b\"], [0.6666666666666666, \"#ed7953\"], [0.7777777777777778, \"#fb9f3a\"], [0.8888888888888888, \"#fdca26\"], [1.0, \"#f0f921\"]]}, \"colorway\": [\"#636efa\", \"#EF553B\", \"#00cc96\", \"#ab63fa\", \"#FFA15A\", \"#19d3f3\", \"#FF6692\", \"#B6E880\", \"#FF97FF\", \"#FECB52\"], \"font\": {\"color\": \"#2a3f5f\"}, \"geo\": {\"bgcolor\": \"white\", \"lakecolor\": \"white\", \"landcolor\": \"#E5ECF6\", \"showlakes\": true, \"showland\": true, \"subunitcolor\": \"white\"}, \"hoverlabel\": {\"align\": \"left\"}, \"hovermode\": \"closest\", \"mapbox\": {\"style\": \"light\"}, \"paper_bgcolor\": \"white\", \"plot_bgcolor\": \"#E5ECF6\", \"polar\": {\"angularaxis\": {\"gridcolor\": \"white\", \"linecolor\": \"white\", \"ticks\": \"\"}, \"bgcolor\": \"#E5ECF6\", \"radialaxis\": {\"gridcolor\": \"white\", \"linecolor\": \"white\", \"ticks\": \"\"}}, \"scene\": {\"xaxis\": {\"backgroundcolor\": \"#E5ECF6\", \"gridcolor\": \"white\", \"gridwidth\": 2, \"linecolor\": \"white\", \"showbackground\": true, \"ticks\": \"\", \"zerolinecolor\": \"white\"}, \"yaxis\": {\"backgroundcolor\": \"#E5ECF6\", \"gridcolor\": \"white\", \"gridwidth\": 2, \"linecolor\": \"white\", \"showbackground\": true, \"ticks\": \"\", \"zerolinecolor\": \"white\"}, \"zaxis\": {\"backgroundcolor\": \"#E5ECF6\", \"gridcolor\": \"white\", \"gridwidth\": 2, \"linecolor\": \"white\", \"showbackground\": true, \"ticks\": \"\", \"zerolinecolor\": \"white\"}}, \"shapedefaults\": {\"line\": {\"color\": \"#2a3f5f\"}}, \"ternary\": {\"aaxis\": {\"gridcolor\": \"white\", \"linecolor\": \"white\", \"ticks\": \"\"}, \"baxis\": {\"gridcolor\": \"white\", \"linecolor\": \"white\", \"ticks\": \"\"}, \"bgcolor\": \"#E5ECF6\", \"caxis\": {\"gridcolor\": \"white\", \"linecolor\": \"white\", \"ticks\": \"\"}}, \"title\": {\"x\": 0.05}, \"xaxis\": {\"automargin\": true, \"gridcolor\": \"white\", \"linecolor\": \"white\", \"ticks\": \"\", \"title\": {\"standoff\": 15}, \"zerolinecolor\": \"white\", \"zerolinewidth\": 2}, \"yaxis\": {\"automargin\": true, \"gridcolor\": \"white\", \"linecolor\": \"white\", \"ticks\": \"\", \"title\": {\"standoff\": 15}, \"zerolinecolor\": \"white\", \"zerolinewidth\": 2}}}, \"xaxis\": {\"anchor\": \"y\", \"domain\": [0.0, 1.0], \"title\": {\"text\": \"astrological_sign\"}}, \"yaxis\": {\"anchor\": \"x\", \"domain\": [0.0, 1.0], \"title\": {\"text\": \"count of starting_killing_age\"}}},\n",
       "                        {\"responsive\": true}\n",
       "                    ).then(function(){\n",
       "                            \n",
       "var gd = document.getElementById('71bc5fd3-88d3-48e4-8019-fb31e8b0a216');\n",
       "var x = new MutationObserver(function (mutations, observer) {{\n",
       "        var display = window.getComputedStyle(gd).display;\n",
       "        if (!display || display === 'none') {{\n",
       "            console.log([gd, 'removed!']);\n",
       "            Plotly.purge(gd);\n",
       "            observer.disconnect();\n",
       "        }}\n",
       "}});\n",
       "\n",
       "// Listen for the removal of the full notebook cells\n",
       "var notebookContainer = gd.closest('#notebook-container');\n",
       "if (notebookContainer) {{\n",
       "    x.observe(notebookContainer, {childList: true});\n",
       "}}\n",
       "\n",
       "// Listen for the clearing of the current output cell\n",
       "var outputEl = gd.closest('.output');\n",
       "if (outputEl) {{\n",
       "    x.observe(outputEl, {childList: true});\n",
       "}}\n",
       "\n",
       "                        })\n",
       "                };\n",
       "                });\n",
       "            </script>\n",
       "        </div>"
      ]
     },
     "metadata": {},
     "output_type": "display_data"
    }
   ],
   "source": [
    "px.histogram(serial_killer, y = 'starting_killing_age', x = 'astrological_sign')"
   ]
  },
  {
   "cell_type": "code",
   "execution_count": 104,
   "metadata": {
    "ExecuteTime": {
     "end_time": "2020-03-14T22:42:37.181860Z",
     "start_time": "2020-03-14T22:42:36.060193Z"
    }
   },
   "outputs": [
    {
     "data": {
      "application/vnd.plotly.v1+json": {
       "config": {
        "plotlyServerURL": "https://plot.ly"
       },
       "data": [
        {
         "alignmentgroup": "True",
         "hoverlabel": {
          "namelength": 0
         },
         "hovertemplate": "active_countries=United States<br>astrological_sign=%{x}<br>victims=%{y}",
         "legendgroup": "United States",
         "marker": {
          "color": "#636efa"
         },
         "name": "United States",
         "offsetgroup": "United States",
         "orientation": "v",
         "showlegend": true,
         "textposition": "auto",
         "type": "bar",
         "x": [
          "Aquarius",
          "Capricorn",
          "Cancer",
          "Leo",
          "Cancer",
          null,
          "Taurus",
          "Taurus",
          "Leo",
          "Sagittarius",
          "Libra",
          "Virgo",
          null,
          "Leo",
          "Scorpio",
          "Capricorn",
          "Sagittarius",
          "Aries",
          "Cancer",
          null,
          null,
          "Gemini",
          "Scorpio",
          "Taurus",
          "Aquarius",
          "Aquarius",
          null,
          "Scorpio",
          null,
          "Aries",
          "Cancer",
          "Capricorn",
          null,
          "Aquarius",
          "Cancer",
          "Sagittarius",
          "Aquarius",
          "Cancer",
          "Scorpio",
          null,
          "Cancer",
          "Leo",
          "Sagittarius",
          "Capricorn",
          null,
          "Scorpio",
          "Virgo",
          "Cancer",
          "Libra",
          "Pisces",
          "Aquarius",
          "Libra",
          "Pisces",
          "Libra",
          "Leo",
          "Cancer",
          null,
          "Gemini",
          "Sagittarius",
          "Leo",
          "Libra",
          "Gemini",
          "Virgo",
          "Aries",
          "Leo",
          "Sagittarius",
          "Pisces",
          "Pisces",
          "Aries",
          "Virgo",
          "Capricorn",
          "Sagittarius",
          "Gemini",
          "Virgo",
          null,
          "Leo",
          null,
          "Pisces",
          "Scorpio",
          null,
          "Cancer",
          "Virgo",
          "Virgo",
          "Cancer",
          "Libra",
          "Libra",
          "Sagittarius",
          "Gemini",
          "Virgo",
          "Gemini",
          "Aries",
          "Libra",
          "Capricorn",
          "Virgo",
          "Sagittarius",
          "Capricorn",
          "Leo",
          "Taurus",
          "Gemini",
          "Gemini",
          "Scorpio",
          "Taurus",
          "Capricorn",
          null,
          "Pisces",
          "Aquarius",
          "Aries",
          "Sagittarius",
          "Scorpio",
          "Capricorn",
          "Sagittarius",
          "Pisces",
          "Pisces",
          "Sagittarius",
          "Aries",
          null,
          "Leo",
          "Aquarius",
          "Capricorn",
          "Aries",
          "Scorpio",
          "Scorpio",
          "Aquarius",
          "Capricorn",
          "Leo",
          "Virgo",
          "Libra",
          "Gemini",
          "Aries",
          "Scorpio",
          "Sagittarius",
          "Virgo",
          "Libra",
          "Virgo",
          "Aquarius",
          "Leo",
          "Sagittarius",
          "Virgo",
          "Leo",
          "Leo",
          "Capricorn",
          "Aries",
          "Scorpio",
          null,
          "Taurus",
          "Sagittarius",
          "Capricorn",
          "Pisces",
          "Leo",
          "Scorpio",
          "Libra",
          null,
          "Sagittarius",
          "Scorpio",
          "Scorpio",
          null,
          "Scorpio",
          null,
          "Pisces",
          null,
          "Pisces",
          "Aquarius",
          "Taurus",
          "Leo",
          null,
          "Taurus",
          "Libra",
          "Capricorn",
          "Gemini",
          null,
          "Capricorn",
          "Scorpio",
          null,
          "Aquarius",
          null,
          null,
          "Virgo",
          "Aquarius",
          "Cancer",
          "Scorpio",
          "Aries",
          "Capricorn",
          "Aries",
          "Gemini",
          null,
          null,
          null,
          "Taurus",
          "Aries",
          "Aquarius",
          "Gemini",
          "Taurus",
          "Capricorn",
          "Sagittarius",
          null,
          null,
          "Libra",
          "Leo",
          "Sagittarius",
          "Libra",
          "Capricorn",
          "Sagittarius",
          "Capricorn",
          "Cancer",
          "Cancer",
          "Leo",
          "Pisces",
          "Gemini",
          "Libra",
          "Libra",
          "Leo",
          "Scorpio",
          "Leo",
          "Aries",
          null,
          null,
          "Sagittarius",
          null,
          null,
          null,
          null,
          null,
          null,
          null,
          null,
          null,
          "Aries",
          null,
          null,
          "Virgo",
          "Gemini",
          "Virgo",
          null,
          null,
          "Pisces",
          "Aquarius",
          "Capricorn",
          "Aries",
          "Leo",
          "Taurus",
          null,
          "Aquarius",
          "Scorpio",
          "Taurus",
          "Gemini",
          "Cancer",
          "Libra",
          "Capricorn",
          "Capricorn",
          "Scorpio",
          null,
          "Sagittarius",
          "Aries",
          "Libra",
          null,
          "Libra",
          "Gemini",
          "Capricorn",
          "Pisces",
          "Pisces",
          "Sagittarius",
          "Virgo",
          "Pisces",
          "Sagittarius",
          "Gemini",
          "Pisces",
          "Leo",
          "Scorpio",
          "Pisces",
          null,
          "Scorpio",
          "Aries",
          "Gemini",
          "Scorpio",
          "Pisces",
          "Aries",
          "Virgo",
          "Scorpio",
          "Aries",
          null,
          "Leo",
          null,
          null,
          null,
          "Virgo",
          null,
          "Leo",
          "Virgo",
          "Virgo",
          "Pisces",
          "Leo",
          "Leo",
          "Pisces",
          "Libra",
          null,
          null,
          null,
          "Pisces",
          "Cancer",
          "Gemini",
          "Gemini",
          null,
          "Cancer",
          "Capricorn",
          "Leo",
          "Aries",
          "Cancer",
          "Aquarius",
          "Capricorn",
          "Libra",
          "Scorpio",
          "Taurus",
          null,
          "Leo",
          "Leo",
          "Capricorn",
          "Aquarius"
         ],
         "xaxis": "x",
         "y": [
          4,
          23,
          3,
          25,
          5,
          3,
          11,
          5,
          12,
          23,
          3,
          9,
          100,
          6,
          12,
          20,
          4,
          5,
          8,
          17,
          6,
          13,
          4,
          6,
          11,
          8,
          50,
          3,
          50,
          87,
          16,
          4,
          5,
          21,
          5,
          54,
          24,
          5,
          40,
          13,
          4,
          5,
          3,
          5,
          5,
          5,
          7,
          10,
          7,
          80,
          6,
          10,
          34,
          5,
          3,
          70,
          32,
          7,
          3,
          20,
          18,
          5,
          25,
          20,
          9,
          4,
          9,
          6,
          6,
          12,
          4,
          18,
          6,
          3,
          3,
          9,
          4,
          7,
          11,
          14,
          6,
          9,
          5,
          3,
          5,
          5,
          46,
          15,
          11,
          6,
          5,
          10,
          29,
          6,
          36,
          12,
          12,
          12,
          6,
          8,
          8,
          35,
          5,
          11,
          6,
          6,
          25,
          4,
          6,
          20,
          5,
          45,
          3,
          100,
          11,
          5,
          7,
          4,
          25,
          10,
          48,
          8,
          6,
          36,
          4,
          13,
          8,
          17,
          8,
          13,
          18,
          11,
          50,
          25,
          3,
          3,
          7,
          5,
          100,
          3,
          6,
          185,
          6,
          4,
          17,
          6,
          25,
          9,
          6,
          9,
          4,
          5,
          2,
          50,
          7,
          9,
          60,
          10,
          20,
          5,
          10,
          5,
          4,
          8,
          5,
          29,
          3,
          10,
          3,
          6,
          7,
          3,
          6,
          5,
          4,
          6,
          3,
          4,
          22,
          20,
          6,
          3,
          14,
          4,
          3,
          40,
          8,
          6,
          13,
          30,
          6,
          3,
          6,
          3,
          130,
          5,
          3,
          40,
          10,
          43,
          11,
          3,
          4,
          3,
          60,
          3,
          7,
          93,
          6,
          10,
          3,
          10,
          4,
          100,
          5,
          5,
          9,
          5,
          7,
          37,
          4,
          7,
          8,
          10,
          16,
          11,
          35,
          7,
          11,
          5,
          38,
          4,
          2,
          3,
          67,
          20,
          5,
          6,
          4,
          5,
          8,
          7,
          6,
          27,
          8,
          3,
          8,
          8,
          3,
          5,
          5,
          3,
          5,
          6,
          3,
          8,
          23,
          44,
          8,
          5,
          12,
          10,
          6,
          3,
          25,
          13,
          6,
          80,
          5,
          3,
          10,
          18,
          8,
          15,
          108,
          31,
          8,
          17,
          7,
          4,
          22,
          5,
          4,
          7,
          3,
          5,
          4,
          41,
          3,
          5,
          11,
          6,
          7,
          6,
          4,
          5,
          9,
          14,
          5,
          13,
          14,
          3,
          70,
          12,
          3,
          30,
          3,
          4,
          3,
          50,
          5,
          3,
          21,
          8,
          7,
          17,
          90
         ],
         "yaxis": "y"
        },
        {
         "alignmentgroup": "True",
         "hoverlabel": {
          "namelength": 0
         },
         "hovertemplate": "active_countries=Canada<br>astrological_sign=%{x}<br>victims=%{y}",
         "legendgroup": "Canada",
         "marker": {
          "color": "#EF553B"
         },
         "name": "Canada",
         "offsetgroup": "Canada",
         "orientation": "v",
         "showlegend": true,
         "textposition": "auto",
         "type": "bar",
         "x": [
          "Pisces",
          "Pisces",
          "Virgo",
          "Aries",
          "Capricorn",
          null,
          "Scorpio",
          "Capricorn",
          "Virgo",
          "Libra",
          "Sagittarius",
          "Aquarius",
          "Aquarius",
          "Taurus",
          "Pisces",
          "Gemini"
         ],
         "xaxis": "x",
         "y": [
          4,
          9,
          5,
          4,
          4,
          7,
          49,
          11,
          3,
          8,
          10,
          7,
          4,
          3,
          4,
          15
         ],
         "yaxis": "y"
        },
        {
         "alignmentgroup": "True",
         "hoverlabel": {
          "namelength": 0
         },
         "hovertemplate": "active_countries=Greece<br>astrological_sign=%{x}<br>victims=%{y}",
         "legendgroup": "Greece",
         "marker": {
          "color": "#00cc96"
         },
         "name": "Greece",
         "offsetgroup": "Greece",
         "orientation": "v",
         "showlegend": true,
         "textposition": "auto",
         "type": "bar",
         "x": [
          null
         ],
         "xaxis": "x",
         "y": [
          3
         ],
         "yaxis": "y"
        },
        {
         "alignmentgroup": "True",
         "hoverlabel": {
          "namelength": 0
         },
         "hovertemplate": "active_countries=United States,Mexico<br>astrological_sign=%{x}<br>victims=%{y}",
         "legendgroup": "United States,Mexico",
         "marker": {
          "color": "#ab63fa"
         },
         "name": "United States,Mexico",
         "offsetgroup": "United States,Mexico",
         "orientation": "v",
         "showlegend": true,
         "textposition": "auto",
         "type": "bar",
         "x": [
          null,
          "Scorpio",
          "Leo",
          "Sagittarius"
         ],
         "xaxis": "x",
         "y": [
          6,
          23,
          18,
          3
         ],
         "yaxis": "y"
        },
        {
         "alignmentgroup": "True",
         "hoverlabel": {
          "namelength": 0
         },
         "hovertemplate": "active_countries=Slovakia<br>astrological_sign=%{x}<br>victims=%{y}",
         "legendgroup": "Slovakia",
         "marker": {
          "color": "#FFA15A"
         },
         "name": "Slovakia",
         "offsetgroup": "Slovakia",
         "orientation": "v",
         "showlegend": true,
         "textposition": "auto",
         "type": "bar",
         "x": [
          null,
          "Leo"
         ],
         "xaxis": "x",
         "y": [
          30,
          650
         ],
         "yaxis": "y"
        },
        {
         "alignmentgroup": "True",
         "hoverlabel": {
          "namelength": 0
         },
         "hovertemplate": "active_countries=United Kingdom<br>astrological_sign=%{x}<br>victims=%{y}",
         "legendgroup": "United Kingdom",
         "marker": {
          "color": "#19d3f3"
         },
         "name": "United Kingdom",
         "offsetgroup": "United Kingdom",
         "orientation": "v",
         "showlegend": true,
         "textposition": "auto",
         "type": "bar",
         "x": [
          "Sagittarius",
          "Gemini",
          null,
          "Gemini",
          "Cancer",
          "Leo",
          "Capricorn",
          "Cancer",
          "Aries",
          "Sagittarius",
          null,
          "Aries",
          "Sagittarius",
          "Aries",
          null,
          "Virgo",
          "Taurus",
          "Aquarius",
          "Gemini",
          null,
          "Libra",
          null,
          "Capricorn",
          null,
          "Libra",
          "Pisces",
          null,
          "Pisces",
          "Aquarius",
          "Sagittarius",
          "Leo",
          "Pisces",
          "Cancer",
          null,
          null,
          "Pisces",
          "Libra",
          null,
          null,
          null,
          "Virgo",
          "Pisces",
          "Leo",
          null,
          "Capricorn",
          null,
          "Virgo",
          "Taurus",
          null,
          null,
          "Libra",
          "Sagittarius",
          null,
          "Virgo",
          "Gemini",
          null,
          "Pisces",
          null,
          "Capricorn",
          null,
          null
         ],
         "xaxis": "x",
         "y": [
          5,
          9,
          16,
          3,
          5,
          9,
          14,
          11,
          8,
          3,
          100,
          3,
          3,
          18,
          16,
          4,
          3,
          6,
          4,
          21,
          3,
          3,
          5,
          3,
          4,
          7,
          3,
          4,
          4,
          16,
          4,
          3,
          4,
          3,
          4,
          9,
          11,
          4,
          3,
          26,
          11,
          5,
          5,
          16,
          3,
          19,
          3,
          22,
          3,
          7,
          13,
          10,
          12,
          13,
          15,
          8,
          3,
          8,
          250,
          6,
          12
         ],
         "yaxis": "y"
        },
        {
         "alignmentgroup": "True",
         "hoverlabel": {
          "namelength": 0
         },
         "hovertemplate": "active_countries=Japan<br>astrological_sign=%{x}<br>victims=%{y}",
         "legendgroup": "Japan",
         "marker": {
          "color": "#FF6692"
         },
         "name": "Japan",
         "offsetgroup": "Japan",
         "orientation": "v",
         "showlegend": true,
         "textposition": "auto",
         "type": "bar",
         "x": [
          "Capricorn",
          "Pisces",
          null,
          "Sagittarius",
          "Capricorn",
          "Leo",
          "Leo",
          "Virgo",
          "Scorpio",
          null,
          null,
          "Leo",
          null
         ],
         "xaxis": "x",
         "y": [
          4,
          7,
          11,
          5,
          8,
          4,
          3,
          22,
          8,
          12,
          169,
          3,
          9
         ],
         "yaxis": "y"
        },
        {
         "alignmentgroup": "True",
         "hoverlabel": {
          "namelength": 0
         },
         "hovertemplate": "active_countries=Russia<br>astrological_sign=%{x}<br>victims=%{y}",
         "legendgroup": "Russia",
         "marker": {
          "color": "#B6E880"
         },
         "name": "Russia",
         "offsetgroup": "Russia",
         "orientation": "v",
         "showlegend": true,
         "textposition": "auto",
         "type": "bar",
         "x": [
          "Sagittarius",
          null,
          "Libra",
          null,
          "Pisces",
          "Libra",
          "Scorpio",
          "Aquarius",
          "Aries",
          null,
          null,
          null,
          "Capricorn",
          "Pisces",
          "Aries",
          "Aries",
          "Taurus",
          "Gemini",
          "Capricorn",
          "Capricorn",
          "Leo",
          "Aries",
          "Pisces",
          "Capricorn",
          "Taurus",
          "Capricorn"
         ],
         "xaxis": "x",
         "y": [
          40,
          5,
          17,
          19,
          19,
          56,
          100,
          5,
          11,
          30,
          30,
          3,
          33,
          81,
          60,
          55,
          9,
          9,
          13,
          9,
          4,
          7,
          82,
          7,
          14,
          19
         ],
         "yaxis": "y"
        },
        {
         "alignmentgroup": "True",
         "hoverlabel": {
          "namelength": 0
         },
         "hovertemplate": "active_countries=Australia<br>astrological_sign=%{x}<br>victims=%{y}",
         "legendgroup": "Australia",
         "marker": {
          "color": "#FF97FF"
         },
         "name": "Australia",
         "offsetgroup": "Australia",
         "orientation": "v",
         "showlegend": true,
         "textposition": "auto",
         "type": "bar",
         "x": [
          "Sagittarius",
          "Cancer",
          "Virgo",
          null,
          "Cancer",
          "Gemini",
          "Cancer",
          "Virgo",
          "Pisces",
          "Scorpio",
          "Aries",
          "Cancer",
          null,
          "Leo",
          "Aquarius",
          "Capricorn",
          "Gemini",
          "Sagittarius",
          "Sagittarius",
          "Capricorn",
          "Sagittarius"
         ],
         "xaxis": "x",
         "y": [
          13,
          3,
          7,
          4,
          7,
          4,
          6,
          11,
          8,
          3,
          5,
          5,
          3,
          3,
          7,
          7,
          5,
          3,
          10,
          4,
          4
         ],
         "yaxis": "y"
        },
        {
         "alignmentgroup": "True",
         "hoverlabel": {
          "namelength": 0
         },
         "hovertemplate": "active_countries=Argentina<br>astrological_sign=%{x}<br>victims=%{y}",
         "legendgroup": "Argentina",
         "marker": {
          "color": "#FECB52"
         },
         "name": "Argentina",
         "offsetgroup": "Argentina",
         "orientation": "v",
         "showlegend": true,
         "textposition": "auto",
         "type": "bar",
         "x": [
          "Scorpio",
          null,
          null,
          null,
          "Capricorn",
          null
         ],
         "xaxis": "x",
         "y": [
          4,
          5,
          5,
          15,
          11,
          13
         ],
         "yaxis": "y"
        },
        {
         "alignmentgroup": "True",
         "hoverlabel": {
          "namelength": 0
         },
         "hovertemplate": "active_countries=Netherlands<br>astrological_sign=%{x}<br>victims=%{y}",
         "legendgroup": "Netherlands",
         "marker": {
          "color": "#636efa"
         },
         "name": "Netherlands",
         "offsetgroup": "Netherlands",
         "orientation": "v",
         "showlegend": true,
         "textposition": "auto",
         "type": "bar",
         "x": [
          "Sagittarius",
          "Leo",
          "Virgo"
         ],
         "xaxis": "x",
         "y": [
          12,
          8,
          90
         ],
         "yaxis": "y"
        },
        {
         "alignmentgroup": "True",
         "hoverlabel": {
          "namelength": 0
         },
         "hovertemplate": "active_countries=France<br>astrological_sign=%{x}<br>victims=%{y}",
         "legendgroup": "France",
         "marker": {
          "color": "#EF553B"
         },
         "name": "France",
         "offsetgroup": "France",
         "orientation": "v",
         "showlegend": true,
         "textposition": "auto",
         "type": "bar",
         "x": [
          "Pisces",
          "Libra",
          "Aries",
          "Scorpio",
          null,
          "Capricorn",
          "Sagittarius",
          "Aquarius",
          null,
          "Capricorn",
          "Aries",
          null,
          "Libra",
          "Aquarius",
          "Scorpio",
          "Taurus"
         ],
         "xaxis": "x",
         "y": [
          20,
          7,
          11,
          8,
          200,
          63,
          21,
          7,
          6,
          5,
          11,
          36,
          10,
          6,
          27,
          1
         ],
         "yaxis": "y"
        },
        {
         "alignmentgroup": "True",
         "hoverlabel": {
          "namelength": 0
         },
         "hovertemplate": "active_countries=Indonesia<br>astrological_sign=%{x}<br>victims=%{y}",
         "legendgroup": "Indonesia",
         "marker": {
          "color": "#00cc96"
         },
         "name": "Indonesia",
         "offsetgroup": "Indonesia",
         "orientation": "v",
         "showlegend": true,
         "textposition": "auto",
         "type": "bar",
         "x": [
          "Aquarius",
          "Capricorn"
         ],
         "xaxis": "x",
         "y": [
          11,
          80
         ],
         "yaxis": "y"
        },
        {
         "alignmentgroup": "True",
         "hoverlabel": {
          "namelength": 0
         },
         "hovertemplate": "active_countries=Estonia<br>astrological_sign=%{x}<br>victims=%{y}",
         "legendgroup": "Estonia",
         "marker": {
          "color": "#ab63fa"
         },
         "name": "Estonia",
         "offsetgroup": "Estonia",
         "orientation": "v",
         "showlegend": true,
         "textposition": "auto",
         "type": "bar",
         "x": [
          null,
          "Capricorn"
         ],
         "xaxis": "x",
         "y": [
          3,
          7
         ],
         "yaxis": "y"
        },
        {
         "alignmentgroup": "True",
         "hoverlabel": {
          "namelength": 0
         },
         "hovertemplate": "active_countries=Iran<br>astrological_sign=%{x}<br>victims=%{y}",
         "legendgroup": "Iran",
         "marker": {
          "color": "#FFA15A"
         },
         "name": "Iran",
         "offsetgroup": "Iran",
         "orientation": "v",
         "showlegend": true,
         "textposition": "auto",
         "type": "bar",
         "x": [
          null,
          "Aquarius"
         ],
         "xaxis": "x",
         "y": [
          16,
          20
         ],
         "yaxis": "y"
        },
        {
         "alignmentgroup": "True",
         "hoverlabel": {
          "namelength": 0
         },
         "hovertemplate": "active_countries=Finland<br>astrological_sign=%{x}<br>victims=%{y}",
         "legendgroup": "Finland",
         "marker": {
          "color": "#19d3f3"
         },
         "name": "Finland",
         "offsetgroup": "Finland",
         "orientation": "v",
         "showlegend": true,
         "textposition": "auto",
         "type": "bar",
         "x": [
          "Virgo"
         ],
         "xaxis": "x",
         "y": [
          25
         ],
         "yaxis": "y"
        },
        {
         "alignmentgroup": "True",
         "hoverlabel": {
          "namelength": 0
         },
         "hovertemplate": "active_countries=Germany<br>astrological_sign=%{x}<br>victims=%{y}",
         "legendgroup": "Germany",
         "marker": {
          "color": "#FF6692"
         },
         "name": "Germany",
         "offsetgroup": "Germany",
         "orientation": "v",
         "showlegend": true,
         "textposition": "auto",
         "type": "bar",
         "x": [
          "Gemini",
          "Scorpio",
          "Aquarius",
          "Scorpio",
          "Leo",
          "Virgo",
          "Cancer",
          "Cancer",
          "Sagittarius",
          "Libra",
          "Gemini",
          "Aries",
          "Leo",
          "Capricorn",
          "Cancer",
          "Aquarius",
          "Libra"
         ],
         "xaxis": "x",
         "y": [
          4,
          27,
          3,
          4,
          42,
          6,
          25,
          4,
          5,
          8,
          9,
          14,
          4,
          106,
          5,
          6,
          6
         ],
         "yaxis": "y"
        },
        {
         "alignmentgroup": "True",
         "hoverlabel": {
          "namelength": 0
         },
         "hovertemplate": "active_countries=Spain<br>astrological_sign=%{x}<br>victims=%{y}",
         "legendgroup": "Spain",
         "marker": {
          "color": "#B6E880"
         },
         "name": "Spain",
         "offsetgroup": "Spain",
         "orientation": "v",
         "showlegend": true,
         "textposition": "auto",
         "type": "bar",
         "x": [
          "Libra",
          "Gemini",
          null,
          "Capricorn",
          "Sagittarius",
          "Aquarius",
          "Sagittarius",
          null
         ],
         "xaxis": "x",
         "y": [
          6,
          11,
          9,
          3,
          3,
          12,
          16,
          3
         ],
         "yaxis": "y"
        },
        {
         "alignmentgroup": "True",
         "hoverlabel": {
          "namelength": 0
         },
         "hovertemplate": "active_countries=United States,Canada<br>astrological_sign=%{x}<br>victims=%{y}",
         "legendgroup": "United States,Canada",
         "marker": {
          "color": "#FF97FF"
         },
         "name": "United States,Canada",
         "offsetgroup": "United States,Canada",
         "orientation": "v",
         "showlegend": true,
         "textposition": "auto",
         "type": "bar",
         "x": [
          "Gemini",
          "Cancer"
         ],
         "xaxis": "x",
         "y": [
          20,
          18
         ],
         "yaxis": "y"
        },
        {
         "alignmentgroup": "True",
         "hoverlabel": {
          "namelength": 0
         },
         "hovertemplate": "active_countries=Antigua<br>astrological_sign=%{x}<br>victims=%{y}",
         "legendgroup": "Antigua",
         "marker": {
          "color": "#FECB52"
         },
         "name": "Antigua",
         "offsetgroup": "Antigua",
         "orientation": "v",
         "showlegend": true,
         "textposition": "auto",
         "type": "bar",
         "x": [
          null
         ],
         "xaxis": "x",
         "y": [
          4
         ],
         "yaxis": "y"
        },
        {
         "alignmentgroup": "True",
         "hoverlabel": {
          "namelength": 0
         },
         "hovertemplate": "active_countries=Brazil<br>astrological_sign=%{x}<br>victims=%{y}",
         "legendgroup": "Brazil",
         "marker": {
          "color": "#636efa"
         },
         "name": "Brazil",
         "offsetgroup": "Brazil",
         "orientation": "v",
         "showlegend": true,
         "textposition": "auto",
         "type": "bar",
         "x": [
          "Gemini",
          "Capricorn",
          "Sagittarius",
          null,
          "Aquarius"
         ],
         "xaxis": "x",
         "y": [
          100,
          14,
          11,
          13,
          39
         ],
         "yaxis": "y"
        },
        {
         "alignmentgroup": "True",
         "hoverlabel": {
          "namelength": 0
         },
         "hovertemplate": "active_countries=Czech Republic<br>astrological_sign=%{x}<br>victims=%{y}",
         "legendgroup": "Czech Republic",
         "marker": {
          "color": "#EF553B"
         },
         "name": "Czech Republic",
         "offsetgroup": "Czech Republic",
         "orientation": "v",
         "showlegend": true,
         "textposition": "auto",
         "type": "bar",
         "x": [
          "Virgo",
          "Libra",
          "Libra",
          "Scorpio",
          "Pisces",
          "Aries",
          "Gemini"
         ],
         "xaxis": "x",
         "y": [
          10,
          10,
          7,
          11,
          7,
          3,
          2
         ],
         "yaxis": "y"
        },
        {
         "alignmentgroup": "True",
         "hoverlabel": {
          "namelength": 0
         },
         "hovertemplate": "active_countries=Italy<br>astrological_sign=%{x}<br>victims=%{y}",
         "legendgroup": "Italy",
         "marker": {
          "color": "#00cc96"
         },
         "name": "Italy",
         "offsetgroup": "Italy",
         "orientation": "v",
         "showlegend": true,
         "textposition": "auto",
         "type": "bar",
         "x": [
          "Aries",
          "Cancer",
          "Capricorn",
          null
         ],
         "xaxis": "x",
         "y": [
          3,
          17,
          16,
          16
         ],
         "yaxis": "y"
        },
        {
         "alignmentgroup": "True",
         "hoverlabel": {
          "namelength": 0
         },
         "hovertemplate": "active_countries=China<br>astrological_sign=%{x}<br>victims=%{y}",
         "legendgroup": "China",
         "marker": {
          "color": "#ab63fa"
         },
         "name": "China",
         "offsetgroup": "China",
         "orientation": "v",
         "showlegend": true,
         "textposition": "auto",
         "type": "bar",
         "x": [
          "Scorpio",
          null,
          "Capricorn",
          "Aquarius",
          "Leo",
          "Capricorn",
          "Scorpio",
          "Leo",
          null
         ],
         "xaxis": "x",
         "y": [
          11,
          15,
          45,
          10,
          28,
          17,
          25,
          67,
          20
         ],
         "yaxis": "y"
        },
        {
         "alignmentgroup": "True",
         "hoverlabel": {
          "namelength": 0
         },
         "hovertemplate": "active_countries=France,Germany,Spain,Czech Republic,Italy<br>astrological_sign=%{x}<br>victims=%{y}",
         "legendgroup": "France,Germany,Spain,Czech Republic,Italy",
         "marker": {
          "color": "#FFA15A"
         },
         "name": "France,Germany,Spain,Czech Republic,Italy",
         "offsetgroup": "France,Germany,Spain,Czech Republic,Italy",
         "orientation": "v",
         "showlegend": true,
         "textposition": "auto",
         "type": "bar",
         "x": [
          "Cancer"
         ],
         "xaxis": "x",
         "y": [
          19
         ],
         "yaxis": "y"
        },
        {
         "alignmentgroup": "True",
         "hoverlabel": {
          "namelength": 0
         },
         "hovertemplate": "active_countries=Belgium<br>astrological_sign=%{x}<br>victims=%{y}",
         "legendgroup": "Belgium",
         "marker": {
          "color": "#19d3f3"
         },
         "name": "Belgium",
         "offsetgroup": "Belgium",
         "orientation": "v",
         "showlegend": true,
         "textposition": "auto",
         "type": "bar",
         "x": [
          "Scorpio",
          "Gemini"
         ],
         "xaxis": "x",
         "y": [
          11,
          14
         ],
         "yaxis": "y"
        },
        {
         "alignmentgroup": "True",
         "hoverlabel": {
          "namelength": 0
         },
         "hovertemplate": "active_countries=South Africa<br>astrological_sign=%{x}<br>victims=%{y}",
         "legendgroup": "South Africa",
         "marker": {
          "color": "#FF6692"
         },
         "name": "South Africa",
         "offsetgroup": "South Africa",
         "orientation": "v",
         "showlegend": true,
         "textposition": "auto",
         "type": "bar",
         "x": [
          "Taurus",
          null,
          null,
          null,
          "Gemini",
          null,
          null,
          null,
          null,
          null,
          null,
          null,
          null,
          "Scorpio",
          null,
          null,
          "Scorpio",
          "Capricorn",
          null,
          null
         ],
         "xaxis": "x",
         "y": [
          7,
          18,
          10,
          6,
          3,
          15,
          16,
          13,
          16,
          20,
          35,
          18,
          16,
          10,
          19,
          13,
          38,
          22,
          7,
          6
         ],
         "yaxis": "y"
        },
        {
         "alignmentgroup": "True",
         "hoverlabel": {
          "namelength": 0
         },
         "hovertemplate": "active_countries=Ukraine<br>astrological_sign=%{x}<br>victims=%{y}",
         "legendgroup": "Ukraine",
         "marker": {
          "color": "#B6E880"
         },
         "name": "Ukraine",
         "offsetgroup": "Ukraine",
         "orientation": "v",
         "showlegend": true,
         "textposition": "auto",
         "type": "bar",
         "x": [
          "Cancer"
         ],
         "xaxis": "x",
         "y": [
          19
         ],
         "yaxis": "y"
        },
        {
         "alignmentgroup": "True",
         "hoverlabel": {
          "namelength": 0
         },
         "hovertemplate": "active_countries=Colombia<br>astrological_sign=%{x}<br>victims=%{y}",
         "legendgroup": "Colombia",
         "marker": {
          "color": "#FF97FF"
         },
         "name": "Colombia",
         "offsetgroup": "Colombia",
         "orientation": "v",
         "showlegend": true,
         "textposition": "auto",
         "type": "bar",
         "x": [
          "Libra",
          "Aquarius",
          "Aquarius",
          "Libra"
         ],
         "xaxis": "x",
         "y": [
          50,
          150,
          300,
          30
         ],
         "yaxis": "y"
        },
        {
         "alignmentgroup": "True",
         "hoverlabel": {
          "namelength": 0
         },
         "hovertemplate": "active_countries=Mexico<br>astrological_sign=%{x}<br>victims=%{y}",
         "legendgroup": "Mexico",
         "marker": {
          "color": "#FECB52"
         },
         "name": "Mexico",
         "offsetgroup": "Mexico",
         "orientation": "v",
         "showlegend": true,
         "textposition": "auto",
         "type": "bar",
         "x": [
          null,
          "Gemini",
          "Capricorn",
          null,
          null,
          null,
          "Virgo",
          null
         ],
         "xaxis": "x",
         "y": [
          3,
          8,
          49,
          21,
          8,
          6,
          4,
          3
         ],
         "yaxis": "y"
        },
        {
         "alignmentgroup": "True",
         "hoverlabel": {
          "namelength": 0
         },
         "hovertemplate": "active_countries=Namibia<br>astrological_sign=%{x}<br>victims=%{y}",
         "legendgroup": "Namibia",
         "marker": {
          "color": "#636efa"
         },
         "name": "Namibia",
         "offsetgroup": "Namibia",
         "orientation": "v",
         "showlegend": true,
         "textposition": "auto",
         "type": "bar",
         "x": [
          null
         ],
         "xaxis": "x",
         "y": [
          5
         ],
         "yaxis": "y"
        },
        {
         "alignmentgroup": "True",
         "hoverlabel": {
          "namelength": 0
         },
         "hovertemplate": "active_countries=Turkey<br>astrological_sign=%{x}<br>victims=%{y}",
         "legendgroup": "Turkey",
         "marker": {
          "color": "#EF553B"
         },
         "name": "Turkey",
         "offsetgroup": "Turkey",
         "orientation": "v",
         "showlegend": true,
         "textposition": "auto",
         "type": "bar",
         "x": [
          "Virgo",
          "Capricorn",
          null,
          null,
          null,
          null
         ],
         "xaxis": "x",
         "y": [
          11,
          3,
          5,
          10,
          8,
          40
         ],
         "yaxis": "y"
        },
        {
         "alignmentgroup": "True",
         "hoverlabel": {
          "namelength": 0
         },
         "hovertemplate": "active_countries=United States,United Kingdom<br>astrological_sign=%{x}<br>victims=%{y}",
         "legendgroup": "United States,United Kingdom",
         "marker": {
          "color": "#00cc96"
         },
         "name": "United States,United Kingdom",
         "offsetgroup": "United States,United Kingdom",
         "orientation": "v",
         "showlegend": true,
         "textposition": "auto",
         "type": "bar",
         "x": [
          "Gemini"
         ],
         "xaxis": "x",
         "y": [
          8
         ],
         "yaxis": "y"
        },
        {
         "alignmentgroup": "True",
         "hoverlabel": {
          "namelength": 0
         },
         "hovertemplate": "active_countries=Portugal<br>astrological_sign=%{x}<br>victims=%{y}",
         "legendgroup": "Portugal",
         "marker": {
          "color": "#ab63fa"
         },
         "name": "Portugal",
         "offsetgroup": "Portugal",
         "orientation": "v",
         "showlegend": true,
         "textposition": "auto",
         "type": "bar",
         "x": [
          null
         ],
         "xaxis": "x",
         "y": [
          3
         ],
         "yaxis": "y"
        },
        {
         "alignmentgroup": "True",
         "hoverlabel": {
          "namelength": 0
         },
         "hovertemplate": "active_countries=Iraq<br>astrological_sign=%{x}<br>victims=%{y}",
         "legendgroup": "Iraq",
         "marker": {
          "color": "#FFA15A"
         },
         "name": "Iraq",
         "offsetgroup": "Iraq",
         "orientation": "v",
         "showlegend": true,
         "textposition": "auto",
         "type": "bar",
         "x": [
          null
         ],
         "xaxis": "x",
         "y": [
          33
         ],
         "yaxis": "y"
        },
        {
         "alignmentgroup": "True",
         "hoverlabel": {
          "namelength": 0
         },
         "hovertemplate": "active_countries=Israel<br>astrological_sign=%{x}<br>victims=%{y}",
         "legendgroup": "Israel",
         "marker": {
          "color": "#19d3f3"
         },
         "name": "Israel",
         "offsetgroup": "Israel",
         "orientation": "v",
         "showlegend": true,
         "textposition": "auto",
         "type": "bar",
         "x": [
          null
         ],
         "xaxis": "x",
         "y": [
          4
         ],
         "yaxis": "y"
        },
        {
         "alignmentgroup": "True",
         "hoverlabel": {
          "namelength": 0
         },
         "hovertemplate": "active_countries=Austria<br>astrological_sign=%{x}<br>victims=%{y}",
         "legendgroup": "Austria",
         "marker": {
          "color": "#FF6692"
         },
         "name": "Austria",
         "offsetgroup": "Austria",
         "orientation": "v",
         "showlegend": true,
         "textposition": "auto",
         "type": "bar",
         "x": [
          "Aquarius"
         ],
         "xaxis": "x",
         "y": [
          5
         ],
         "yaxis": "y"
        },
        {
         "alignmentgroup": "True",
         "hoverlabel": {
          "namelength": 0
         },
         "hovertemplate": "active_countries=Pakistan<br>astrological_sign=%{x}<br>victims=%{y}",
         "legendgroup": "Pakistan",
         "marker": {
          "color": "#B6E880"
         },
         "name": "Pakistan",
         "offsetgroup": "Pakistan",
         "orientation": "v",
         "showlegend": true,
         "textposition": "auto",
         "type": "bar",
         "x": [
          null,
          null
         ],
         "xaxis": "x",
         "y": [
          100,
          14
         ],
         "yaxis": "y"
        },
        {
         "alignmentgroup": "True",
         "hoverlabel": {
          "namelength": 0
         },
         "hovertemplate": "active_countries=Poland<br>astrological_sign=%{x}<br>victims=%{y}",
         "legendgroup": "Poland",
         "marker": {
          "color": "#FF97FF"
         },
         "name": "Poland",
         "offsetgroup": "Poland",
         "orientation": "v",
         "showlegend": true,
         "textposition": "auto",
         "type": "bar",
         "x": [
          "Virgo",
          "Aquarius",
          "Pisces",
          "Libra"
         ],
         "xaxis": "x",
         "y": [
          5,
          30,
          8,
          21
         ],
         "yaxis": "y"
        },
        {
         "alignmentgroup": "True",
         "hoverlabel": {
          "namelength": 0
         },
         "hovertemplate": "active_countries=Hong Kong<br>astrological_sign=%{x}<br>victims=%{y}",
         "legendgroup": "Hong Kong",
         "marker": {
          "color": "#FECB52"
         },
         "name": "Hong Kong",
         "offsetgroup": "Hong Kong",
         "orientation": "v",
         "showlegend": true,
         "textposition": "auto",
         "type": "bar",
         "x": [
          "Aries",
          "Aquarius"
         ],
         "xaxis": "x",
         "y": [
          4,
          3
         ],
         "yaxis": "y"
        },
        {
         "alignmentgroup": "True",
         "hoverlabel": {
          "namelength": 0
         },
         "hovertemplate": "active_countries=India<br>astrological_sign=%{x}<br>victims=%{y}",
         "legendgroup": "India",
         "marker": {
          "color": "#636efa"
         },
         "name": "India",
         "offsetgroup": "India",
         "orientation": "v",
         "showlegend": true,
         "textposition": "auto",
         "type": "bar",
         "x": [
          null,
          null,
          null,
          null,
          null,
          "Gemini",
          null,
          null,
          null,
          null,
          null,
          null
         ],
         "xaxis": "x",
         "y": [
          19,
          18,
          7,
          10,
          6,
          20,
          15,
          34,
          7,
          19,
          3,
          10
         ],
         "yaxis": "y"
        },
        {
         "alignmentgroup": "True",
         "hoverlabel": {
          "namelength": 0
         },
         "hovertemplate": "active_countries=Russia,Ukraine<br>astrological_sign=%{x}<br>victims=%{y}",
         "legendgroup": "Russia,Ukraine",
         "marker": {
          "color": "#EF553B"
         },
         "name": "Russia,Ukraine",
         "offsetgroup": "Russia,Ukraine",
         "orientation": "v",
         "showlegend": true,
         "textposition": "auto",
         "type": "bar",
         "x": [
          null,
          "Leo",
          "Virgo"
         ],
         "xaxis": "x",
         "y": [
          11,
          52,
          100
         ],
         "yaxis": "y"
        },
        {
         "alignmentgroup": "True",
         "hoverlabel": {
          "namelength": 0
         },
         "hovertemplate": "active_countries=Croatia<br>astrological_sign=%{x}<br>victims=%{y}",
         "legendgroup": "Croatia",
         "marker": {
          "color": "#00cc96"
         },
         "name": "Croatia",
         "offsetgroup": "Croatia",
         "orientation": "v",
         "showlegend": true,
         "textposition": "auto",
         "type": "bar",
         "x": [
          "Aries"
         ],
         "xaxis": "x",
         "y": [
          5
         ],
         "yaxis": "y"
        },
        {
         "alignmentgroup": "True",
         "hoverlabel": {
          "namelength": 0
         },
         "hovertemplate": "active_countries=Slovenia<br>astrological_sign=%{x}<br>victims=%{y}",
         "legendgroup": "Slovenia",
         "marker": {
          "color": "#ab63fa"
         },
         "name": "Slovenia",
         "offsetgroup": "Slovenia",
         "orientation": "v",
         "showlegend": true,
         "textposition": "auto",
         "type": "bar",
         "x": [
          "Gemini",
          "Cancer"
         ],
         "xaxis": "x",
         "y": [
          3,
          5
         ],
         "yaxis": "y"
        },
        {
         "alignmentgroup": "True",
         "hoverlabel": {
          "namelength": 0
         },
         "hovertemplate": "active_countries=Latvia<br>astrological_sign=%{x}<br>victims=%{y}",
         "legendgroup": "Latvia",
         "marker": {
          "color": "#FFA15A"
         },
         "name": "Latvia",
         "offsetgroup": "Latvia",
         "orientation": "v",
         "showlegend": true,
         "textposition": "auto",
         "type": "bar",
         "x": [
          null
         ],
         "xaxis": "x",
         "y": [
          38
         ],
         "yaxis": "y"
        },
        {
         "alignmentgroup": "True",
         "hoverlabel": {
          "namelength": 0
         },
         "hovertemplate": "active_countries=Denmark<br>astrological_sign=%{x}<br>victims=%{y}",
         "legendgroup": "Denmark",
         "marker": {
          "color": "#19d3f3"
         },
         "name": "Denmark",
         "offsetgroup": "Denmark",
         "orientation": "v",
         "showlegend": true,
         "textposition": "auto",
         "type": "bar",
         "x": [
          "Taurus",
          "Aquarius"
         ],
         "xaxis": "x",
         "y": [
          15,
          4
         ],
         "yaxis": "y"
        },
        {
         "alignmentgroup": "True",
         "hoverlabel": {
          "namelength": 0
         },
         "hovertemplate": "active_countries=Thailand<br>astrological_sign=%{x}<br>victims=%{y}",
         "legendgroup": "Thailand",
         "marker": {
          "color": "#FF6692"
         },
         "name": "Thailand",
         "offsetgroup": "Thailand",
         "orientation": "v",
         "showlegend": true,
         "textposition": "auto",
         "type": "bar",
         "x": [
          null
         ],
         "xaxis": "x",
         "y": [
          3
         ],
         "yaxis": "y"
        },
        {
         "alignmentgroup": "True",
         "hoverlabel": {
          "namelength": 0
         },
         "hovertemplate": "active_countries=Cyprus<br>astrological_sign=%{x}<br>victims=%{y}",
         "legendgroup": "Cyprus",
         "marker": {
          "color": "#B6E880"
         },
         "name": "Cyprus",
         "offsetgroup": "Cyprus",
         "orientation": "v",
         "showlegend": true,
         "textposition": "auto",
         "type": "bar",
         "x": [
          null
         ],
         "xaxis": "x",
         "y": [
          7
         ],
         "yaxis": "y"
        },
        {
         "alignmentgroup": "True",
         "hoverlabel": {
          "namelength": 0
         },
         "hovertemplate": "active_countries=United States,Germany<br>astrological_sign=%{x}<br>victims=%{y}",
         "legendgroup": "United States,Germany",
         "marker": {
          "color": "#FF97FF"
         },
         "name": "United States,Germany",
         "offsetgroup": "United States,Germany",
         "orientation": "v",
         "showlegend": true,
         "textposition": "auto",
         "type": "bar",
         "x": [
          "Aries"
         ],
         "xaxis": "x",
         "y": [
          9
         ],
         "yaxis": "y"
        },
        {
         "alignmentgroup": "True",
         "hoverlabel": {
          "namelength": 0
         },
         "hovertemplate": "active_countries=Egypt<br>astrological_sign=%{x}<br>victims=%{y}",
         "legendgroup": "Egypt",
         "marker": {
          "color": "#FECB52"
         },
         "name": "Egypt",
         "offsetgroup": "Egypt",
         "orientation": "v",
         "showlegend": true,
         "textposition": "auto",
         "type": "bar",
         "x": [
          null
         ],
         "xaxis": "x",
         "y": [
          32
         ],
         "yaxis": "y"
        },
        {
         "alignmentgroup": "True",
         "hoverlabel": {
          "namelength": 0
         },
         "hovertemplate": "active_countries=Peru<br>astrological_sign=%{x}<br>victims=%{y}",
         "legendgroup": "Peru",
         "marker": {
          "color": "#636efa"
         },
         "name": "Peru",
         "offsetgroup": "Peru",
         "orientation": "v",
         "showlegend": true,
         "textposition": "auto",
         "type": "bar",
         "x": [
          "Pisces"
         ],
         "xaxis": "x",
         "y": [
          25
         ],
         "yaxis": "y"
        },
        {
         "alignmentgroup": "True",
         "hoverlabel": {
          "namelength": 0
         },
         "hovertemplate": "active_countries=Japan,China<br>astrological_sign=%{x}<br>victims=%{y}",
         "legendgroup": "Japan,China",
         "marker": {
          "color": "#EF553B"
         },
         "name": "Japan,China",
         "offsetgroup": "Japan,China",
         "orientation": "v",
         "showlegend": true,
         "textposition": "auto",
         "type": "bar",
         "x": [
          "Aquarius"
         ],
         "xaxis": "x",
         "y": [
          11
         ],
         "yaxis": "y"
        },
        {
         "alignmentgroup": "True",
         "hoverlabel": {
          "namelength": 0
         },
         "hovertemplate": "active_countries=Colombia,Peru<br>astrological_sign=%{x}<br>victims=%{y}",
         "legendgroup": "Colombia,Peru",
         "marker": {
          "color": "#00cc96"
         },
         "name": "Colombia,Peru",
         "offsetgroup": "Colombia,Peru",
         "orientation": "v",
         "showlegend": true,
         "textposition": "auto",
         "type": "bar",
         "x": [
          "Libra"
         ],
         "xaxis": "x",
         "y": [
          300
         ],
         "yaxis": "y"
        },
        {
         "alignmentgroup": "True",
         "hoverlabel": {
          "namelength": 0
         },
         "hovertemplate": "active_countries=Sweden<br>astrological_sign=%{x}<br>victims=%{y}",
         "legendgroup": "Sweden",
         "marker": {
          "color": "#ab63fa"
         },
         "name": "Sweden",
         "offsetgroup": "Sweden",
         "orientation": "v",
         "showlegend": true,
         "textposition": "auto",
         "type": "bar",
         "x": [
          "Libra"
         ],
         "xaxis": "x",
         "y": [
          4
         ],
         "yaxis": "y"
        },
        {
         "alignmentgroup": "True",
         "hoverlabel": {
          "namelength": 0
         },
         "hovertemplate": "active_countries=South Korea<br>astrological_sign=%{x}<br>victims=%{y}",
         "legendgroup": "South Korea",
         "marker": {
          "color": "#FFA15A"
         },
         "name": "South Korea",
         "offsetgroup": "South Korea",
         "orientation": "v",
         "showlegend": true,
         "textposition": "auto",
         "type": "bar",
         "x": [
          null,
          "Libra",
          "Aries"
         ],
         "xaxis": "x",
         "y": [
          10,
          10,
          26
         ],
         "yaxis": "y"
        },
        {
         "alignmentgroup": "True",
         "hoverlabel": {
          "namelength": 0
         },
         "hovertemplate": "active_countries=Hungary<br>astrological_sign=%{x}<br>victims=%{y}",
         "legendgroup": "Hungary",
         "marker": {
          "color": "#19d3f3"
         },
         "name": "Hungary",
         "offsetgroup": "Hungary",
         "orientation": "v",
         "showlegend": true,
         "textposition": "auto",
         "type": "bar",
         "x": [
          null
         ],
         "xaxis": "x",
         "y": [
          24
         ],
         "yaxis": "y"
        },
        {
         "alignmentgroup": "True",
         "hoverlabel": {
          "namelength": 0
         },
         "hovertemplate": "active_countries=Panama<br>astrological_sign=%{x}<br>victims=%{y}",
         "legendgroup": "Panama",
         "marker": {
          "color": "#FF6692"
         },
         "name": "Panama",
         "offsetgroup": "Panama",
         "orientation": "v",
         "showlegend": true,
         "textposition": "auto",
         "type": "bar",
         "x": [
          "Virgo"
         ],
         "xaxis": "x",
         "y": [
          5
         ],
         "yaxis": "y"
        },
        {
         "alignmentgroup": "True",
         "hoverlabel": {
          "namelength": 0
         },
         "hovertemplate": "active_countries=France,India,Turkey,Greece,Afghanistan,Thailand<br>astrological_sign=%{x}<br>victims=%{y}",
         "legendgroup": "France,India,Turkey,Greece,Afghanistan,Thailand",
         "marker": {
          "color": "#B6E880"
         },
         "name": "France,India,Turkey,Greece,Afghanistan,Thailand",
         "offsetgroup": "France,India,Turkey,Greece,Afghanistan,Thailand",
         "orientation": "v",
         "showlegend": true,
         "textposition": "auto",
         "type": "bar",
         "x": [
          "Aries"
         ],
         "xaxis": "x",
         "y": [
          13
         ],
         "yaxis": "y"
        },
        {
         "alignmentgroup": "True",
         "hoverlabel": {
          "namelength": 0
         },
         "hovertemplate": "active_countries=Romania<br>astrological_sign=%{x}<br>victims=%{y}",
         "legendgroup": "Romania",
         "marker": {
          "color": "#FF97FF"
         },
         "name": "Romania",
         "offsetgroup": "Romania",
         "orientation": "v",
         "showlegend": true,
         "textposition": "auto",
         "type": "bar",
         "x": [
          null,
          "Aquarius",
          "Libra"
         ],
         "xaxis": "x",
         "y": [
          26,
          5,
          4
         ],
         "yaxis": "y"
        },
        {
         "alignmentgroup": "True",
         "hoverlabel": {
          "namelength": 0
         },
         "hovertemplate": "active_countries=France,Spain,Italy<br>astrological_sign=%{x}<br>victims=%{y}",
         "legendgroup": "France,Spain,Italy",
         "marker": {
          "color": "#FECB52"
         },
         "name": "France,Spain,Italy",
         "offsetgroup": "France,Spain,Italy",
         "orientation": "v",
         "showlegend": true,
         "textposition": "auto",
         "type": "bar",
         "x": [
          "Aquarius"
         ],
         "xaxis": "x",
         "y": [
          48
         ],
         "yaxis": "y"
        },
        {
         "alignmentgroup": "True",
         "hoverlabel": {
          "namelength": 0
         },
         "hovertemplate": "active_countries=Venezuela<br>astrological_sign=%{x}<br>victims=%{y}",
         "legendgroup": "Venezuela",
         "marker": {
          "color": "#636efa"
         },
         "name": "Venezuela",
         "offsetgroup": "Venezuela",
         "orientation": "v",
         "showlegend": true,
         "textposition": "auto",
         "type": "bar",
         "x": [
          "Taurus"
         ],
         "xaxis": "x",
         "y": [
          10
         ],
         "yaxis": "y"
        },
        {
         "alignmentgroup": "True",
         "hoverlabel": {
          "namelength": 0
         },
         "hovertemplate": "active_countries=United States,Czech Republic,Austria<br>astrological_sign=%{x}<br>victims=%{y}",
         "legendgroup": "United States,Czech Republic,Austria",
         "marker": {
          "color": "#EF553B"
         },
         "name": "United States,Czech Republic,Austria",
         "offsetgroup": "United States,Czech Republic,Austria",
         "orientation": "v",
         "showlegend": true,
         "textposition": "auto",
         "type": "bar",
         "x": [
          "Leo"
         ],
         "xaxis": "x",
         "y": [
          12
         ],
         "yaxis": "y"
        },
        {
         "alignmentgroup": "True",
         "hoverlabel": {
          "namelength": 0
         },
         "hovertemplate": "active_countries=North Macedonia<br>astrological_sign=%{x}<br>victims=%{y}",
         "legendgroup": "North Macedonia",
         "marker": {
          "color": "#00cc96"
         },
         "name": "North Macedonia",
         "offsetgroup": "North Macedonia",
         "orientation": "v",
         "showlegend": true,
         "textposition": "auto",
         "type": "bar",
         "x": [
          null
         ],
         "xaxis": "x",
         "y": [
          4
         ],
         "yaxis": "y"
        },
        {
         "alignmentgroup": "True",
         "hoverlabel": {
          "namelength": 0
         },
         "hovertemplate": "active_countries=France,Italy<br>astrological_sign=%{x}<br>victims=%{y}",
         "legendgroup": "France,Italy",
         "marker": {
          "color": "#ab63fa"
         },
         "name": "France,Italy",
         "offsetgroup": "France,Italy",
         "orientation": "v",
         "showlegend": true,
         "textposition": "auto",
         "type": "bar",
         "x": [
          "Aries"
         ],
         "xaxis": "x",
         "y": [
          7
         ],
         "yaxis": "y"
        },
        {
         "alignmentgroup": "True",
         "hoverlabel": {
          "namelength": 0
         },
         "hovertemplate": "active_countries=Czech Republic,Slovakia<br>astrological_sign=%{x}<br>victims=%{y}",
         "legendgroup": "Czech Republic,Slovakia",
         "marker": {
          "color": "#FFA15A"
         },
         "name": "Czech Republic,Slovakia",
         "offsetgroup": "Czech Republic,Slovakia",
         "orientation": "v",
         "showlegend": true,
         "textposition": "auto",
         "type": "bar",
         "x": [
          "Aries"
         ],
         "xaxis": "x",
         "y": [
          5
         ],
         "yaxis": "y"
        },
        {
         "alignmentgroup": "True",
         "hoverlabel": {
          "namelength": 0
         },
         "hovertemplate": "active_countries=Swaziland<br>astrological_sign=%{x}<br>victims=%{y}",
         "legendgroup": "Swaziland",
         "marker": {
          "color": "#19d3f3"
         },
         "name": "Swaziland",
         "offsetgroup": "Swaziland",
         "orientation": "v",
         "showlegend": true,
         "textposition": "auto",
         "type": "bar",
         "x": [
          null
         ],
         "xaxis": "x",
         "y": [
          45
         ],
         "yaxis": "y"
        },
        {
         "alignmentgroup": "True",
         "hoverlabel": {
          "namelength": 0
         },
         "hovertemplate": "active_countries=Chile<br>astrological_sign=%{x}<br>victims=%{y}",
         "legendgroup": "Chile",
         "marker": {
          "color": "#FF6692"
         },
         "name": "Chile",
         "offsetgroup": "Chile",
         "orientation": "v",
         "showlegend": true,
         "textposition": "auto",
         "type": "bar",
         "x": [
          "Cancer"
         ],
         "xaxis": "x",
         "y": [
          14
         ],
         "yaxis": "y"
        },
        {
         "alignmentgroup": "True",
         "hoverlabel": {
          "namelength": 0
         },
         "hovertemplate": "active_countries=Afghanistan<br>astrological_sign=%{x}<br>victims=%{y}",
         "legendgroup": "Afghanistan",
         "marker": {
          "color": "#B6E880"
         },
         "name": "Afghanistan",
         "offsetgroup": "Afghanistan",
         "orientation": "v",
         "showlegend": true,
         "textposition": "auto",
         "type": "bar",
         "x": [
          null
         ],
         "xaxis": "x",
         "y": [
          20
         ],
         "yaxis": "y"
        },
        {
         "alignmentgroup": "True",
         "hoverlabel": {
          "namelength": 0
         },
         "hovertemplate": "active_countries=Germany,Slovakia<br>astrological_sign=%{x}<br>victims=%{y}",
         "legendgroup": "Germany,Slovakia",
         "marker": {
          "color": "#FF97FF"
         },
         "name": "Germany,Slovakia",
         "offsetgroup": "Germany,Slovakia",
         "orientation": "v",
         "showlegend": true,
         "textposition": "auto",
         "type": "bar",
         "x": [
          "Sagittarius"
         ],
         "xaxis": "x",
         "y": [
          9
         ],
         "yaxis": "y"
        }
       ],
       "layout": {
        "barmode": "relative",
        "legend": {
         "title": {
          "text": "active_countries"
         },
         "tracegroupgap": 0
        },
        "margin": {
         "t": 60
        },
        "template": {
         "data": {
          "bar": [
           {
            "error_x": {
             "color": "#2a3f5f"
            },
            "error_y": {
             "color": "#2a3f5f"
            },
            "marker": {
             "line": {
              "color": "#E5ECF6",
              "width": 0.5
             }
            },
            "type": "bar"
           }
          ],
          "barpolar": [
           {
            "marker": {
             "line": {
              "color": "#E5ECF6",
              "width": 0.5
             }
            },
            "type": "barpolar"
           }
          ],
          "carpet": [
           {
            "aaxis": {
             "endlinecolor": "#2a3f5f",
             "gridcolor": "white",
             "linecolor": "white",
             "minorgridcolor": "white",
             "startlinecolor": "#2a3f5f"
            },
            "baxis": {
             "endlinecolor": "#2a3f5f",
             "gridcolor": "white",
             "linecolor": "white",
             "minorgridcolor": "white",
             "startlinecolor": "#2a3f5f"
            },
            "type": "carpet"
           }
          ],
          "choropleth": [
           {
            "colorbar": {
             "outlinewidth": 0,
             "ticks": ""
            },
            "type": "choropleth"
           }
          ],
          "contour": [
           {
            "colorbar": {
             "outlinewidth": 0,
             "ticks": ""
            },
            "colorscale": [
             [
              0,
              "#0d0887"
             ],
             [
              0.1111111111111111,
              "#46039f"
             ],
             [
              0.2222222222222222,
              "#7201a8"
             ],
             [
              0.3333333333333333,
              "#9c179e"
             ],
             [
              0.4444444444444444,
              "#bd3786"
             ],
             [
              0.5555555555555556,
              "#d8576b"
             ],
             [
              0.6666666666666666,
              "#ed7953"
             ],
             [
              0.7777777777777778,
              "#fb9f3a"
             ],
             [
              0.8888888888888888,
              "#fdca26"
             ],
             [
              1,
              "#f0f921"
             ]
            ],
            "type": "contour"
           }
          ],
          "contourcarpet": [
           {
            "colorbar": {
             "outlinewidth": 0,
             "ticks": ""
            },
            "type": "contourcarpet"
           }
          ],
          "heatmap": [
           {
            "colorbar": {
             "outlinewidth": 0,
             "ticks": ""
            },
            "colorscale": [
             [
              0,
              "#0d0887"
             ],
             [
              0.1111111111111111,
              "#46039f"
             ],
             [
              0.2222222222222222,
              "#7201a8"
             ],
             [
              0.3333333333333333,
              "#9c179e"
             ],
             [
              0.4444444444444444,
              "#bd3786"
             ],
             [
              0.5555555555555556,
              "#d8576b"
             ],
             [
              0.6666666666666666,
              "#ed7953"
             ],
             [
              0.7777777777777778,
              "#fb9f3a"
             ],
             [
              0.8888888888888888,
              "#fdca26"
             ],
             [
              1,
              "#f0f921"
             ]
            ],
            "type": "heatmap"
           }
          ],
          "heatmapgl": [
           {
            "colorbar": {
             "outlinewidth": 0,
             "ticks": ""
            },
            "colorscale": [
             [
              0,
              "#0d0887"
             ],
             [
              0.1111111111111111,
              "#46039f"
             ],
             [
              0.2222222222222222,
              "#7201a8"
             ],
             [
              0.3333333333333333,
              "#9c179e"
             ],
             [
              0.4444444444444444,
              "#bd3786"
             ],
             [
              0.5555555555555556,
              "#d8576b"
             ],
             [
              0.6666666666666666,
              "#ed7953"
             ],
             [
              0.7777777777777778,
              "#fb9f3a"
             ],
             [
              0.8888888888888888,
              "#fdca26"
             ],
             [
              1,
              "#f0f921"
             ]
            ],
            "type": "heatmapgl"
           }
          ],
          "histogram": [
           {
            "marker": {
             "colorbar": {
              "outlinewidth": 0,
              "ticks": ""
             }
            },
            "type": "histogram"
           }
          ],
          "histogram2d": [
           {
            "colorbar": {
             "outlinewidth": 0,
             "ticks": ""
            },
            "colorscale": [
             [
              0,
              "#0d0887"
             ],
             [
              0.1111111111111111,
              "#46039f"
             ],
             [
              0.2222222222222222,
              "#7201a8"
             ],
             [
              0.3333333333333333,
              "#9c179e"
             ],
             [
              0.4444444444444444,
              "#bd3786"
             ],
             [
              0.5555555555555556,
              "#d8576b"
             ],
             [
              0.6666666666666666,
              "#ed7953"
             ],
             [
              0.7777777777777778,
              "#fb9f3a"
             ],
             [
              0.8888888888888888,
              "#fdca26"
             ],
             [
              1,
              "#f0f921"
             ]
            ],
            "type": "histogram2d"
           }
          ],
          "histogram2dcontour": [
           {
            "colorbar": {
             "outlinewidth": 0,
             "ticks": ""
            },
            "colorscale": [
             [
              0,
              "#0d0887"
             ],
             [
              0.1111111111111111,
              "#46039f"
             ],
             [
              0.2222222222222222,
              "#7201a8"
             ],
             [
              0.3333333333333333,
              "#9c179e"
             ],
             [
              0.4444444444444444,
              "#bd3786"
             ],
             [
              0.5555555555555556,
              "#d8576b"
             ],
             [
              0.6666666666666666,
              "#ed7953"
             ],
             [
              0.7777777777777778,
              "#fb9f3a"
             ],
             [
              0.8888888888888888,
              "#fdca26"
             ],
             [
              1,
              "#f0f921"
             ]
            ],
            "type": "histogram2dcontour"
           }
          ],
          "mesh3d": [
           {
            "colorbar": {
             "outlinewidth": 0,
             "ticks": ""
            },
            "type": "mesh3d"
           }
          ],
          "parcoords": [
           {
            "line": {
             "colorbar": {
              "outlinewidth": 0,
              "ticks": ""
             }
            },
            "type": "parcoords"
           }
          ],
          "pie": [
           {
            "automargin": true,
            "type": "pie"
           }
          ],
          "scatter": [
           {
            "marker": {
             "colorbar": {
              "outlinewidth": 0,
              "ticks": ""
             }
            },
            "type": "scatter"
           }
          ],
          "scatter3d": [
           {
            "line": {
             "colorbar": {
              "outlinewidth": 0,
              "ticks": ""
             }
            },
            "marker": {
             "colorbar": {
              "outlinewidth": 0,
              "ticks": ""
             }
            },
            "type": "scatter3d"
           }
          ],
          "scattercarpet": [
           {
            "marker": {
             "colorbar": {
              "outlinewidth": 0,
              "ticks": ""
             }
            },
            "type": "scattercarpet"
           }
          ],
          "scattergeo": [
           {
            "marker": {
             "colorbar": {
              "outlinewidth": 0,
              "ticks": ""
             }
            },
            "type": "scattergeo"
           }
          ],
          "scattergl": [
           {
            "marker": {
             "colorbar": {
              "outlinewidth": 0,
              "ticks": ""
             }
            },
            "type": "scattergl"
           }
          ],
          "scattermapbox": [
           {
            "marker": {
             "colorbar": {
              "outlinewidth": 0,
              "ticks": ""
             }
            },
            "type": "scattermapbox"
           }
          ],
          "scatterpolar": [
           {
            "marker": {
             "colorbar": {
              "outlinewidth": 0,
              "ticks": ""
             }
            },
            "type": "scatterpolar"
           }
          ],
          "scatterpolargl": [
           {
            "marker": {
             "colorbar": {
              "outlinewidth": 0,
              "ticks": ""
             }
            },
            "type": "scatterpolargl"
           }
          ],
          "scatterternary": [
           {
            "marker": {
             "colorbar": {
              "outlinewidth": 0,
              "ticks": ""
             }
            },
            "type": "scatterternary"
           }
          ],
          "surface": [
           {
            "colorbar": {
             "outlinewidth": 0,
             "ticks": ""
            },
            "colorscale": [
             [
              0,
              "#0d0887"
             ],
             [
              0.1111111111111111,
              "#46039f"
             ],
             [
              0.2222222222222222,
              "#7201a8"
             ],
             [
              0.3333333333333333,
              "#9c179e"
             ],
             [
              0.4444444444444444,
              "#bd3786"
             ],
             [
              0.5555555555555556,
              "#d8576b"
             ],
             [
              0.6666666666666666,
              "#ed7953"
             ],
             [
              0.7777777777777778,
              "#fb9f3a"
             ],
             [
              0.8888888888888888,
              "#fdca26"
             ],
             [
              1,
              "#f0f921"
             ]
            ],
            "type": "surface"
           }
          ],
          "table": [
           {
            "cells": {
             "fill": {
              "color": "#EBF0F8"
             },
             "line": {
              "color": "white"
             }
            },
            "header": {
             "fill": {
              "color": "#C8D4E3"
             },
             "line": {
              "color": "white"
             }
            },
            "type": "table"
           }
          ]
         },
         "layout": {
          "annotationdefaults": {
           "arrowcolor": "#2a3f5f",
           "arrowhead": 0,
           "arrowwidth": 1
          },
          "coloraxis": {
           "colorbar": {
            "outlinewidth": 0,
            "ticks": ""
           }
          },
          "colorscale": {
           "diverging": [
            [
             0,
             "#8e0152"
            ],
            [
             0.1,
             "#c51b7d"
            ],
            [
             0.2,
             "#de77ae"
            ],
            [
             0.3,
             "#f1b6da"
            ],
            [
             0.4,
             "#fde0ef"
            ],
            [
             0.5,
             "#f7f7f7"
            ],
            [
             0.6,
             "#e6f5d0"
            ],
            [
             0.7,
             "#b8e186"
            ],
            [
             0.8,
             "#7fbc41"
            ],
            [
             0.9,
             "#4d9221"
            ],
            [
             1,
             "#276419"
            ]
           ],
           "sequential": [
            [
             0,
             "#0d0887"
            ],
            [
             0.1111111111111111,
             "#46039f"
            ],
            [
             0.2222222222222222,
             "#7201a8"
            ],
            [
             0.3333333333333333,
             "#9c179e"
            ],
            [
             0.4444444444444444,
             "#bd3786"
            ],
            [
             0.5555555555555556,
             "#d8576b"
            ],
            [
             0.6666666666666666,
             "#ed7953"
            ],
            [
             0.7777777777777778,
             "#fb9f3a"
            ],
            [
             0.8888888888888888,
             "#fdca26"
            ],
            [
             1,
             "#f0f921"
            ]
           ],
           "sequentialminus": [
            [
             0,
             "#0d0887"
            ],
            [
             0.1111111111111111,
             "#46039f"
            ],
            [
             0.2222222222222222,
             "#7201a8"
            ],
            [
             0.3333333333333333,
             "#9c179e"
            ],
            [
             0.4444444444444444,
             "#bd3786"
            ],
            [
             0.5555555555555556,
             "#d8576b"
            ],
            [
             0.6666666666666666,
             "#ed7953"
            ],
            [
             0.7777777777777778,
             "#fb9f3a"
            ],
            [
             0.8888888888888888,
             "#fdca26"
            ],
            [
             1,
             "#f0f921"
            ]
           ]
          },
          "colorway": [
           "#636efa",
           "#EF553B",
           "#00cc96",
           "#ab63fa",
           "#FFA15A",
           "#19d3f3",
           "#FF6692",
           "#B6E880",
           "#FF97FF",
           "#FECB52"
          ],
          "font": {
           "color": "#2a3f5f"
          },
          "geo": {
           "bgcolor": "white",
           "lakecolor": "white",
           "landcolor": "#E5ECF6",
           "showlakes": true,
           "showland": true,
           "subunitcolor": "white"
          },
          "hoverlabel": {
           "align": "left"
          },
          "hovermode": "closest",
          "mapbox": {
           "style": "light"
          },
          "paper_bgcolor": "white",
          "plot_bgcolor": "#E5ECF6",
          "polar": {
           "angularaxis": {
            "gridcolor": "white",
            "linecolor": "white",
            "ticks": ""
           },
           "bgcolor": "#E5ECF6",
           "radialaxis": {
            "gridcolor": "white",
            "linecolor": "white",
            "ticks": ""
           }
          },
          "scene": {
           "xaxis": {
            "backgroundcolor": "#E5ECF6",
            "gridcolor": "white",
            "gridwidth": 2,
            "linecolor": "white",
            "showbackground": true,
            "ticks": "",
            "zerolinecolor": "white"
           },
           "yaxis": {
            "backgroundcolor": "#E5ECF6",
            "gridcolor": "white",
            "gridwidth": 2,
            "linecolor": "white",
            "showbackground": true,
            "ticks": "",
            "zerolinecolor": "white"
           },
           "zaxis": {
            "backgroundcolor": "#E5ECF6",
            "gridcolor": "white",
            "gridwidth": 2,
            "linecolor": "white",
            "showbackground": true,
            "ticks": "",
            "zerolinecolor": "white"
           }
          },
          "shapedefaults": {
           "line": {
            "color": "#2a3f5f"
           }
          },
          "ternary": {
           "aaxis": {
            "gridcolor": "white",
            "linecolor": "white",
            "ticks": ""
           },
           "baxis": {
            "gridcolor": "white",
            "linecolor": "white",
            "ticks": ""
           },
           "bgcolor": "#E5ECF6",
           "caxis": {
            "gridcolor": "white",
            "linecolor": "white",
            "ticks": ""
           }
          },
          "title": {
           "x": 0.05
          },
          "xaxis": {
           "automargin": true,
           "gridcolor": "white",
           "linecolor": "white",
           "ticks": "",
           "title": {
            "standoff": 15
           },
           "zerolinecolor": "white",
           "zerolinewidth": 2
          },
          "yaxis": {
           "automargin": true,
           "gridcolor": "white",
           "linecolor": "white",
           "ticks": "",
           "title": {
            "standoff": 15
           },
           "zerolinecolor": "white",
           "zerolinewidth": 2
          }
         }
        },
        "xaxis": {
         "anchor": "y",
         "domain": [
          0,
          1
         ],
         "title": {
          "text": "astrological_sign"
         }
        },
        "yaxis": {
         "anchor": "x",
         "domain": [
          0,
          1
         ],
         "title": {
          "text": "victims"
         }
        }
       }
      },
      "text/html": [
       "<div>\n",
       "        \n",
       "        \n",
       "            <div id=\"e608e242-dc85-4985-adcc-0b8f328fb465\" class=\"plotly-graph-div\" style=\"height:525px; width:100%;\"></div>\n",
       "            <script type=\"text/javascript\">\n",
       "                require([\"plotly\"], function(Plotly) {\n",
       "                    window.PLOTLYENV=window.PLOTLYENV || {};\n",
       "                    \n",
       "                if (document.getElementById(\"e608e242-dc85-4985-adcc-0b8f328fb465\")) {\n",
       "                    Plotly.newPlot(\n",
       "                        'e608e242-dc85-4985-adcc-0b8f328fb465',\n",
       "                        [{\"alignmentgroup\": \"True\", \"hoverlabel\": {\"namelength\": 0}, \"hovertemplate\": \"active_countries=United States<br>astrological_sign=%{x}<br>victims=%{y}\", \"legendgroup\": \"United States\", \"marker\": {\"color\": \"#636efa\"}, \"name\": \"United States\", \"offsetgroup\": \"United States\", \"orientation\": \"v\", \"showlegend\": true, \"textposition\": \"auto\", \"type\": \"bar\", \"x\": [\"Aquarius\", \"Capricorn\", \"Cancer\", \"Leo\", \"Cancer\", null, \"Taurus\", \"Taurus\", \"Leo\", \"Sagittarius\", \"Libra\", \"Virgo\", null, \"Leo\", \"Scorpio\", \"Capricorn\", \"Sagittarius\", \"Aries\", \"Cancer\", null, null, \"Gemini\", \"Scorpio\", \"Taurus\", \"Aquarius\", \"Aquarius\", null, \"Scorpio\", null, \"Aries\", \"Cancer\", \"Capricorn\", null, \"Aquarius\", \"Cancer\", \"Sagittarius\", \"Aquarius\", \"Cancer\", \"Scorpio\", null, \"Cancer\", \"Leo\", \"Sagittarius\", \"Capricorn\", null, \"Scorpio\", \"Virgo\", \"Cancer\", \"Libra\", \"Pisces\", \"Aquarius\", \"Libra\", \"Pisces\", \"Libra\", \"Leo\", \"Cancer\", null, \"Gemini\", \"Sagittarius\", \"Leo\", \"Libra\", \"Gemini\", \"Virgo\", \"Aries\", \"Leo\", \"Sagittarius\", \"Pisces\", \"Pisces\", \"Aries\", \"Virgo\", \"Capricorn\", \"Sagittarius\", \"Gemini\", \"Virgo\", null, \"Leo\", null, \"Pisces\", \"Scorpio\", null, \"Cancer\", \"Virgo\", \"Virgo\", \"Cancer\", \"Libra\", \"Libra\", \"Sagittarius\", \"Gemini\", \"Virgo\", \"Gemini\", \"Aries\", \"Libra\", \"Capricorn\", \"Virgo\", \"Sagittarius\", \"Capricorn\", \"Leo\", \"Taurus\", \"Gemini\", \"Gemini\", \"Scorpio\", \"Taurus\", \"Capricorn\", null, \"Pisces\", \"Aquarius\", \"Aries\", \"Sagittarius\", \"Scorpio\", \"Capricorn\", \"Sagittarius\", \"Pisces\", \"Pisces\", \"Sagittarius\", \"Aries\", null, \"Leo\", \"Aquarius\", \"Capricorn\", \"Aries\", \"Scorpio\", \"Scorpio\", \"Aquarius\", \"Capricorn\", \"Leo\", \"Virgo\", \"Libra\", \"Gemini\", \"Aries\", \"Scorpio\", \"Sagittarius\", \"Virgo\", \"Libra\", \"Virgo\", \"Aquarius\", \"Leo\", \"Sagittarius\", \"Virgo\", \"Leo\", \"Leo\", \"Capricorn\", \"Aries\", \"Scorpio\", null, \"Taurus\", \"Sagittarius\", \"Capricorn\", \"Pisces\", \"Leo\", \"Scorpio\", \"Libra\", null, \"Sagittarius\", \"Scorpio\", \"Scorpio\", null, \"Scorpio\", null, \"Pisces\", null, \"Pisces\", \"Aquarius\", \"Taurus\", \"Leo\", null, \"Taurus\", \"Libra\", \"Capricorn\", \"Gemini\", null, \"Capricorn\", \"Scorpio\", null, \"Aquarius\", null, null, \"Virgo\", \"Aquarius\", \"Cancer\", \"Scorpio\", \"Aries\", \"Capricorn\", \"Aries\", \"Gemini\", null, null, null, \"Taurus\", \"Aries\", \"Aquarius\", \"Gemini\", \"Taurus\", \"Capricorn\", \"Sagittarius\", null, null, \"Libra\", \"Leo\", \"Sagittarius\", \"Libra\", \"Capricorn\", \"Sagittarius\", \"Capricorn\", \"Cancer\", \"Cancer\", \"Leo\", \"Pisces\", \"Gemini\", \"Libra\", \"Libra\", \"Leo\", \"Scorpio\", \"Leo\", \"Aries\", null, null, \"Sagittarius\", null, null, null, null, null, null, null, null, null, \"Aries\", null, null, \"Virgo\", \"Gemini\", \"Virgo\", null, null, \"Pisces\", \"Aquarius\", \"Capricorn\", \"Aries\", \"Leo\", \"Taurus\", null, \"Aquarius\", \"Scorpio\", \"Taurus\", \"Gemini\", \"Cancer\", \"Libra\", \"Capricorn\", \"Capricorn\", \"Scorpio\", null, \"Sagittarius\", \"Aries\", \"Libra\", null, \"Libra\", \"Gemini\", \"Capricorn\", \"Pisces\", \"Pisces\", \"Sagittarius\", \"Virgo\", \"Pisces\", \"Sagittarius\", \"Gemini\", \"Pisces\", \"Leo\", \"Scorpio\", \"Pisces\", null, \"Scorpio\", \"Aries\", \"Gemini\", \"Scorpio\", \"Pisces\", \"Aries\", \"Virgo\", \"Scorpio\", \"Aries\", null, \"Leo\", null, null, null, \"Virgo\", null, \"Leo\", \"Virgo\", \"Virgo\", \"Pisces\", \"Leo\", \"Leo\", \"Pisces\", \"Libra\", null, null, null, \"Pisces\", \"Cancer\", \"Gemini\", \"Gemini\", null, \"Cancer\", \"Capricorn\", \"Leo\", \"Aries\", \"Cancer\", \"Aquarius\", \"Capricorn\", \"Libra\", \"Scorpio\", \"Taurus\", null, \"Leo\", \"Leo\", \"Capricorn\", \"Aquarius\"], \"xaxis\": \"x\", \"y\": [4, 23, 3, 25, 5, 3, 11, 5, 12, 23, 3, 9, 100, 6, 12, 20, 4, 5, 8, 17, 6, 13, 4, 6, 11, 8, 50, 3, 50, 87, 16, 4, 5, 21, 5, 54, 24, 5, 40, 13, 4, 5, 3, 5, 5, 5, 7, 10, 7, 80, 6, 10, 34, 5, 3, 70, 32, 7, 3, 20, 18, 5, 25, 20, 9, 4, 9, 6, 6, 12, 4, 18, 6, 3, 3, 9, 4, 7, 11, 14, 6, 9, 5, 3, 5, 5, 46, 15, 11, 6, 5, 10, 29, 6, 36, 12, 12, 12, 6, 8, 8, 35, 5, 11, 6, 6, 25, 4, 6, 20, 5, 45, 3, 100, 11, 5, 7, 4, 25, 10, 48, 8, 6, 36, 4, 13, 8, 17, 8, 13, 18, 11, 50, 25, 3, 3, 7, 5, 100, 3, 6, 185, 6, 4, 17, 6, 25, 9, 6, 9, 4, 5, 2, 50, 7, 9, 60, 10, 20, 5, 10, 5, 4, 8, 5, 29, 3, 10, 3, 6, 7, 3, 6, 5, 4, 6, 3, 4, 22, 20, 6, 3, 14, 4, 3, 40, 8, 6, 13, 30, 6, 3, 6, 3, 130, 5, 3, 40, 10, 43, 11, 3, 4, 3, 60, 3, 7, 93, 6, 10, 3, 10, 4, 100, 5, 5, 9, 5, 7, 37, 4, 7, 8, 10, 16, 11, 35, 7, 11, 5, 38, 4, 2, 3, 67, 20, 5, 6, 4, 5, 8, 7, 6, 27, 8, 3, 8, 8, 3, 5, 5, 3, 5, 6, 3, 8, 23, 44, 8, 5, 12, 10, 6, 3, 25, 13, 6, 80, 5, 3, 10, 18, 8, 15, 108, 31, 8, 17, 7, 4, 22, 5, 4, 7, 3, 5, 4, 41, 3, 5, 11, 6, 7, 6, 4, 5, 9, 14, 5, 13, 14, 3, 70, 12, 3, 30, 3, 4, 3, 50, 5, 3, 21, 8, 7, 17, 90], \"yaxis\": \"y\"}, {\"alignmentgroup\": \"True\", \"hoverlabel\": {\"namelength\": 0}, \"hovertemplate\": \"active_countries=Canada<br>astrological_sign=%{x}<br>victims=%{y}\", \"legendgroup\": \"Canada\", \"marker\": {\"color\": \"#EF553B\"}, \"name\": \"Canada\", \"offsetgroup\": \"Canada\", \"orientation\": \"v\", \"showlegend\": true, \"textposition\": \"auto\", \"type\": \"bar\", \"x\": [\"Pisces\", \"Pisces\", \"Virgo\", \"Aries\", \"Capricorn\", null, \"Scorpio\", \"Capricorn\", \"Virgo\", \"Libra\", \"Sagittarius\", \"Aquarius\", \"Aquarius\", \"Taurus\", \"Pisces\", \"Gemini\"], \"xaxis\": \"x\", \"y\": [4, 9, 5, 4, 4, 7, 49, 11, 3, 8, 10, 7, 4, 3, 4, 15], \"yaxis\": \"y\"}, {\"alignmentgroup\": \"True\", \"hoverlabel\": {\"namelength\": 0}, \"hovertemplate\": \"active_countries=Greece<br>astrological_sign=%{x}<br>victims=%{y}\", \"legendgroup\": \"Greece\", \"marker\": {\"color\": \"#00cc96\"}, \"name\": \"Greece\", \"offsetgroup\": \"Greece\", \"orientation\": \"v\", \"showlegend\": true, \"textposition\": \"auto\", \"type\": \"bar\", \"x\": [null], \"xaxis\": \"x\", \"y\": [3], \"yaxis\": \"y\"}, {\"alignmentgroup\": \"True\", \"hoverlabel\": {\"namelength\": 0}, \"hovertemplate\": \"active_countries=United States,Mexico<br>astrological_sign=%{x}<br>victims=%{y}\", \"legendgroup\": \"United States,Mexico\", \"marker\": {\"color\": \"#ab63fa\"}, \"name\": \"United States,Mexico\", \"offsetgroup\": \"United States,Mexico\", \"orientation\": \"v\", \"showlegend\": true, \"textposition\": \"auto\", \"type\": \"bar\", \"x\": [null, \"Scorpio\", \"Leo\", \"Sagittarius\"], \"xaxis\": \"x\", \"y\": [6, 23, 18, 3], \"yaxis\": \"y\"}, {\"alignmentgroup\": \"True\", \"hoverlabel\": {\"namelength\": 0}, \"hovertemplate\": \"active_countries=Slovakia<br>astrological_sign=%{x}<br>victims=%{y}\", \"legendgroup\": \"Slovakia\", \"marker\": {\"color\": \"#FFA15A\"}, \"name\": \"Slovakia\", \"offsetgroup\": \"Slovakia\", \"orientation\": \"v\", \"showlegend\": true, \"textposition\": \"auto\", \"type\": \"bar\", \"x\": [null, \"Leo\"], \"xaxis\": \"x\", \"y\": [30, 650], \"yaxis\": \"y\"}, {\"alignmentgroup\": \"True\", \"hoverlabel\": {\"namelength\": 0}, \"hovertemplate\": \"active_countries=United Kingdom<br>astrological_sign=%{x}<br>victims=%{y}\", \"legendgroup\": \"United Kingdom\", \"marker\": {\"color\": \"#19d3f3\"}, \"name\": \"United Kingdom\", \"offsetgroup\": \"United Kingdom\", \"orientation\": \"v\", \"showlegend\": true, \"textposition\": \"auto\", \"type\": \"bar\", \"x\": [\"Sagittarius\", \"Gemini\", null, \"Gemini\", \"Cancer\", \"Leo\", \"Capricorn\", \"Cancer\", \"Aries\", \"Sagittarius\", null, \"Aries\", \"Sagittarius\", \"Aries\", null, \"Virgo\", \"Taurus\", \"Aquarius\", \"Gemini\", null, \"Libra\", null, \"Capricorn\", null, \"Libra\", \"Pisces\", null, \"Pisces\", \"Aquarius\", \"Sagittarius\", \"Leo\", \"Pisces\", \"Cancer\", null, null, \"Pisces\", \"Libra\", null, null, null, \"Virgo\", \"Pisces\", \"Leo\", null, \"Capricorn\", null, \"Virgo\", \"Taurus\", null, null, \"Libra\", \"Sagittarius\", null, \"Virgo\", \"Gemini\", null, \"Pisces\", null, \"Capricorn\", null, null], \"xaxis\": \"x\", \"y\": [5, 9, 16, 3, 5, 9, 14, 11, 8, 3, 100, 3, 3, 18, 16, 4, 3, 6, 4, 21, 3, 3, 5, 3, 4, 7, 3, 4, 4, 16, 4, 3, 4, 3, 4, 9, 11, 4, 3, 26, 11, 5, 5, 16, 3, 19, 3, 22, 3, 7, 13, 10, 12, 13, 15, 8, 3, 8, 250, 6, 12], \"yaxis\": \"y\"}, {\"alignmentgroup\": \"True\", \"hoverlabel\": {\"namelength\": 0}, \"hovertemplate\": \"active_countries=Japan<br>astrological_sign=%{x}<br>victims=%{y}\", \"legendgroup\": \"Japan\", \"marker\": {\"color\": \"#FF6692\"}, \"name\": \"Japan\", \"offsetgroup\": \"Japan\", \"orientation\": \"v\", \"showlegend\": true, \"textposition\": \"auto\", \"type\": \"bar\", \"x\": [\"Capricorn\", \"Pisces\", null, \"Sagittarius\", \"Capricorn\", \"Leo\", \"Leo\", \"Virgo\", \"Scorpio\", null, null, \"Leo\", null], \"xaxis\": \"x\", \"y\": [4, 7, 11, 5, 8, 4, 3, 22, 8, 12, 169, 3, 9], \"yaxis\": \"y\"}, {\"alignmentgroup\": \"True\", \"hoverlabel\": {\"namelength\": 0}, \"hovertemplate\": \"active_countries=Russia<br>astrological_sign=%{x}<br>victims=%{y}\", \"legendgroup\": \"Russia\", \"marker\": {\"color\": \"#B6E880\"}, \"name\": \"Russia\", \"offsetgroup\": \"Russia\", \"orientation\": \"v\", \"showlegend\": true, \"textposition\": \"auto\", \"type\": \"bar\", \"x\": [\"Sagittarius\", null, \"Libra\", null, \"Pisces\", \"Libra\", \"Scorpio\", \"Aquarius\", \"Aries\", null, null, null, \"Capricorn\", \"Pisces\", \"Aries\", \"Aries\", \"Taurus\", \"Gemini\", \"Capricorn\", \"Capricorn\", \"Leo\", \"Aries\", \"Pisces\", \"Capricorn\", \"Taurus\", \"Capricorn\"], \"xaxis\": \"x\", \"y\": [40, 5, 17, 19, 19, 56, 100, 5, 11, 30, 30, 3, 33, 81, 60, 55, 9, 9, 13, 9, 4, 7, 82, 7, 14, 19], \"yaxis\": \"y\"}, {\"alignmentgroup\": \"True\", \"hoverlabel\": {\"namelength\": 0}, \"hovertemplate\": \"active_countries=Australia<br>astrological_sign=%{x}<br>victims=%{y}\", \"legendgroup\": \"Australia\", \"marker\": {\"color\": \"#FF97FF\"}, \"name\": \"Australia\", \"offsetgroup\": \"Australia\", \"orientation\": \"v\", \"showlegend\": true, \"textposition\": \"auto\", \"type\": \"bar\", \"x\": [\"Sagittarius\", \"Cancer\", \"Virgo\", null, \"Cancer\", \"Gemini\", \"Cancer\", \"Virgo\", \"Pisces\", \"Scorpio\", \"Aries\", \"Cancer\", null, \"Leo\", \"Aquarius\", \"Capricorn\", \"Gemini\", \"Sagittarius\", \"Sagittarius\", \"Capricorn\", \"Sagittarius\"], \"xaxis\": \"x\", \"y\": [13, 3, 7, 4, 7, 4, 6, 11, 8, 3, 5, 5, 3, 3, 7, 7, 5, 3, 10, 4, 4], \"yaxis\": \"y\"}, {\"alignmentgroup\": \"True\", \"hoverlabel\": {\"namelength\": 0}, \"hovertemplate\": \"active_countries=Argentina<br>astrological_sign=%{x}<br>victims=%{y}\", \"legendgroup\": \"Argentina\", \"marker\": {\"color\": \"#FECB52\"}, \"name\": \"Argentina\", \"offsetgroup\": \"Argentina\", \"orientation\": \"v\", \"showlegend\": true, \"textposition\": \"auto\", \"type\": \"bar\", \"x\": [\"Scorpio\", null, null, null, \"Capricorn\", null], \"xaxis\": \"x\", \"y\": [4, 5, 5, 15, 11, 13], \"yaxis\": \"y\"}, {\"alignmentgroup\": \"True\", \"hoverlabel\": {\"namelength\": 0}, \"hovertemplate\": \"active_countries=Netherlands<br>astrological_sign=%{x}<br>victims=%{y}\", \"legendgroup\": \"Netherlands\", \"marker\": {\"color\": \"#636efa\"}, \"name\": \"Netherlands\", \"offsetgroup\": \"Netherlands\", \"orientation\": \"v\", \"showlegend\": true, \"textposition\": \"auto\", \"type\": \"bar\", \"x\": [\"Sagittarius\", \"Leo\", \"Virgo\"], \"xaxis\": \"x\", \"y\": [12, 8, 90], \"yaxis\": \"y\"}, {\"alignmentgroup\": \"True\", \"hoverlabel\": {\"namelength\": 0}, \"hovertemplate\": \"active_countries=France<br>astrological_sign=%{x}<br>victims=%{y}\", \"legendgroup\": \"France\", \"marker\": {\"color\": \"#EF553B\"}, \"name\": \"France\", \"offsetgroup\": \"France\", \"orientation\": \"v\", \"showlegend\": true, \"textposition\": \"auto\", \"type\": \"bar\", \"x\": [\"Pisces\", \"Libra\", \"Aries\", \"Scorpio\", null, \"Capricorn\", \"Sagittarius\", \"Aquarius\", null, \"Capricorn\", \"Aries\", null, \"Libra\", \"Aquarius\", \"Scorpio\", \"Taurus\"], \"xaxis\": \"x\", \"y\": [20, 7, 11, 8, 200, 63, 21, 7, 6, 5, 11, 36, 10, 6, 27, 1], \"yaxis\": \"y\"}, {\"alignmentgroup\": \"True\", \"hoverlabel\": {\"namelength\": 0}, \"hovertemplate\": \"active_countries=Indonesia<br>astrological_sign=%{x}<br>victims=%{y}\", \"legendgroup\": \"Indonesia\", \"marker\": {\"color\": \"#00cc96\"}, \"name\": \"Indonesia\", \"offsetgroup\": \"Indonesia\", \"orientation\": \"v\", \"showlegend\": true, \"textposition\": \"auto\", \"type\": \"bar\", \"x\": [\"Aquarius\", \"Capricorn\"], \"xaxis\": \"x\", \"y\": [11, 80], \"yaxis\": \"y\"}, {\"alignmentgroup\": \"True\", \"hoverlabel\": {\"namelength\": 0}, \"hovertemplate\": \"active_countries=Estonia<br>astrological_sign=%{x}<br>victims=%{y}\", \"legendgroup\": \"Estonia\", \"marker\": {\"color\": \"#ab63fa\"}, \"name\": \"Estonia\", \"offsetgroup\": \"Estonia\", \"orientation\": \"v\", \"showlegend\": true, \"textposition\": \"auto\", \"type\": \"bar\", \"x\": [null, \"Capricorn\"], \"xaxis\": \"x\", \"y\": [3, 7], \"yaxis\": \"y\"}, {\"alignmentgroup\": \"True\", \"hoverlabel\": {\"namelength\": 0}, \"hovertemplate\": \"active_countries=Iran<br>astrological_sign=%{x}<br>victims=%{y}\", \"legendgroup\": \"Iran\", \"marker\": {\"color\": \"#FFA15A\"}, \"name\": \"Iran\", \"offsetgroup\": \"Iran\", \"orientation\": \"v\", \"showlegend\": true, \"textposition\": \"auto\", \"type\": \"bar\", \"x\": [null, \"Aquarius\"], \"xaxis\": \"x\", \"y\": [16, 20], \"yaxis\": \"y\"}, {\"alignmentgroup\": \"True\", \"hoverlabel\": {\"namelength\": 0}, \"hovertemplate\": \"active_countries=Finland<br>astrological_sign=%{x}<br>victims=%{y}\", \"legendgroup\": \"Finland\", \"marker\": {\"color\": \"#19d3f3\"}, \"name\": \"Finland\", \"offsetgroup\": \"Finland\", \"orientation\": \"v\", \"showlegend\": true, \"textposition\": \"auto\", \"type\": \"bar\", \"x\": [\"Virgo\"], \"xaxis\": \"x\", \"y\": [25], \"yaxis\": \"y\"}, {\"alignmentgroup\": \"True\", \"hoverlabel\": {\"namelength\": 0}, \"hovertemplate\": \"active_countries=Germany<br>astrological_sign=%{x}<br>victims=%{y}\", \"legendgroup\": \"Germany\", \"marker\": {\"color\": \"#FF6692\"}, \"name\": \"Germany\", \"offsetgroup\": \"Germany\", \"orientation\": \"v\", \"showlegend\": true, \"textposition\": \"auto\", \"type\": \"bar\", \"x\": [\"Gemini\", \"Scorpio\", \"Aquarius\", \"Scorpio\", \"Leo\", \"Virgo\", \"Cancer\", \"Cancer\", \"Sagittarius\", \"Libra\", \"Gemini\", \"Aries\", \"Leo\", \"Capricorn\", \"Cancer\", \"Aquarius\", \"Libra\"], \"xaxis\": \"x\", \"y\": [4, 27, 3, 4, 42, 6, 25, 4, 5, 8, 9, 14, 4, 106, 5, 6, 6], \"yaxis\": \"y\"}, {\"alignmentgroup\": \"True\", \"hoverlabel\": {\"namelength\": 0}, \"hovertemplate\": \"active_countries=Spain<br>astrological_sign=%{x}<br>victims=%{y}\", \"legendgroup\": \"Spain\", \"marker\": {\"color\": \"#B6E880\"}, \"name\": \"Spain\", \"offsetgroup\": \"Spain\", \"orientation\": \"v\", \"showlegend\": true, \"textposition\": \"auto\", \"type\": \"bar\", \"x\": [\"Libra\", \"Gemini\", null, \"Capricorn\", \"Sagittarius\", \"Aquarius\", \"Sagittarius\", null], \"xaxis\": \"x\", \"y\": [6, 11, 9, 3, 3, 12, 16, 3], \"yaxis\": \"y\"}, {\"alignmentgroup\": \"True\", \"hoverlabel\": {\"namelength\": 0}, \"hovertemplate\": \"active_countries=United States,Canada<br>astrological_sign=%{x}<br>victims=%{y}\", \"legendgroup\": \"United States,Canada\", \"marker\": {\"color\": \"#FF97FF\"}, \"name\": \"United States,Canada\", \"offsetgroup\": \"United States,Canada\", \"orientation\": \"v\", \"showlegend\": true, \"textposition\": \"auto\", \"type\": \"bar\", \"x\": [\"Gemini\", \"Cancer\"], \"xaxis\": \"x\", \"y\": [20, 18], \"yaxis\": \"y\"}, {\"alignmentgroup\": \"True\", \"hoverlabel\": {\"namelength\": 0}, \"hovertemplate\": \"active_countries=Antigua<br>astrological_sign=%{x}<br>victims=%{y}\", \"legendgroup\": \"Antigua\", \"marker\": {\"color\": \"#FECB52\"}, \"name\": \"Antigua\", \"offsetgroup\": \"Antigua\", \"orientation\": \"v\", \"showlegend\": true, \"textposition\": \"auto\", \"type\": \"bar\", \"x\": [null], \"xaxis\": \"x\", \"y\": [4], \"yaxis\": \"y\"}, {\"alignmentgroup\": \"True\", \"hoverlabel\": {\"namelength\": 0}, \"hovertemplate\": \"active_countries=Brazil<br>astrological_sign=%{x}<br>victims=%{y}\", \"legendgroup\": \"Brazil\", \"marker\": {\"color\": \"#636efa\"}, \"name\": \"Brazil\", \"offsetgroup\": \"Brazil\", \"orientation\": \"v\", \"showlegend\": true, \"textposition\": \"auto\", \"type\": \"bar\", \"x\": [\"Gemini\", \"Capricorn\", \"Sagittarius\", null, \"Aquarius\"], \"xaxis\": \"x\", \"y\": [100, 14, 11, 13, 39], \"yaxis\": \"y\"}, {\"alignmentgroup\": \"True\", \"hoverlabel\": {\"namelength\": 0}, \"hovertemplate\": \"active_countries=Czech Republic<br>astrological_sign=%{x}<br>victims=%{y}\", \"legendgroup\": \"Czech Republic\", \"marker\": {\"color\": \"#EF553B\"}, \"name\": \"Czech Republic\", \"offsetgroup\": \"Czech Republic\", \"orientation\": \"v\", \"showlegend\": true, \"textposition\": \"auto\", \"type\": \"bar\", \"x\": [\"Virgo\", \"Libra\", \"Libra\", \"Scorpio\", \"Pisces\", \"Aries\", \"Gemini\"], \"xaxis\": \"x\", \"y\": [10, 10, 7, 11, 7, 3, 2], \"yaxis\": \"y\"}, {\"alignmentgroup\": \"True\", \"hoverlabel\": {\"namelength\": 0}, \"hovertemplate\": \"active_countries=Italy<br>astrological_sign=%{x}<br>victims=%{y}\", \"legendgroup\": \"Italy\", \"marker\": {\"color\": \"#00cc96\"}, \"name\": \"Italy\", \"offsetgroup\": \"Italy\", \"orientation\": \"v\", \"showlegend\": true, \"textposition\": \"auto\", \"type\": \"bar\", \"x\": [\"Aries\", \"Cancer\", \"Capricorn\", null], \"xaxis\": \"x\", \"y\": [3, 17, 16, 16], \"yaxis\": \"y\"}, {\"alignmentgroup\": \"True\", \"hoverlabel\": {\"namelength\": 0}, \"hovertemplate\": \"active_countries=China<br>astrological_sign=%{x}<br>victims=%{y}\", \"legendgroup\": \"China\", \"marker\": {\"color\": \"#ab63fa\"}, \"name\": \"China\", \"offsetgroup\": \"China\", \"orientation\": \"v\", \"showlegend\": true, \"textposition\": \"auto\", \"type\": \"bar\", \"x\": [\"Scorpio\", null, \"Capricorn\", \"Aquarius\", \"Leo\", \"Capricorn\", \"Scorpio\", \"Leo\", null], \"xaxis\": \"x\", \"y\": [11, 15, 45, 10, 28, 17, 25, 67, 20], \"yaxis\": \"y\"}, {\"alignmentgroup\": \"True\", \"hoverlabel\": {\"namelength\": 0}, \"hovertemplate\": \"active_countries=France,Germany,Spain,Czech Republic,Italy<br>astrological_sign=%{x}<br>victims=%{y}\", \"legendgroup\": \"France,Germany,Spain,Czech Republic,Italy\", \"marker\": {\"color\": \"#FFA15A\"}, \"name\": \"France,Germany,Spain,Czech Republic,Italy\", \"offsetgroup\": \"France,Germany,Spain,Czech Republic,Italy\", \"orientation\": \"v\", \"showlegend\": true, \"textposition\": \"auto\", \"type\": \"bar\", \"x\": [\"Cancer\"], \"xaxis\": \"x\", \"y\": [19], \"yaxis\": \"y\"}, {\"alignmentgroup\": \"True\", \"hoverlabel\": {\"namelength\": 0}, \"hovertemplate\": \"active_countries=Belgium<br>astrological_sign=%{x}<br>victims=%{y}\", \"legendgroup\": \"Belgium\", \"marker\": {\"color\": \"#19d3f3\"}, \"name\": \"Belgium\", \"offsetgroup\": \"Belgium\", \"orientation\": \"v\", \"showlegend\": true, \"textposition\": \"auto\", \"type\": \"bar\", \"x\": [\"Scorpio\", \"Gemini\"], \"xaxis\": \"x\", \"y\": [11, 14], \"yaxis\": \"y\"}, {\"alignmentgroup\": \"True\", \"hoverlabel\": {\"namelength\": 0}, \"hovertemplate\": \"active_countries=South Africa<br>astrological_sign=%{x}<br>victims=%{y}\", \"legendgroup\": \"South Africa\", \"marker\": {\"color\": \"#FF6692\"}, \"name\": \"South Africa\", \"offsetgroup\": \"South Africa\", \"orientation\": \"v\", \"showlegend\": true, \"textposition\": \"auto\", \"type\": \"bar\", \"x\": [\"Taurus\", null, null, null, \"Gemini\", null, null, null, null, null, null, null, null, \"Scorpio\", null, null, \"Scorpio\", \"Capricorn\", null, null], \"xaxis\": \"x\", \"y\": [7, 18, 10, 6, 3, 15, 16, 13, 16, 20, 35, 18, 16, 10, 19, 13, 38, 22, 7, 6], \"yaxis\": \"y\"}, {\"alignmentgroup\": \"True\", \"hoverlabel\": {\"namelength\": 0}, \"hovertemplate\": \"active_countries=Ukraine<br>astrological_sign=%{x}<br>victims=%{y}\", \"legendgroup\": \"Ukraine\", \"marker\": {\"color\": \"#B6E880\"}, \"name\": \"Ukraine\", \"offsetgroup\": \"Ukraine\", \"orientation\": \"v\", \"showlegend\": true, \"textposition\": \"auto\", \"type\": \"bar\", \"x\": [\"Cancer\"], \"xaxis\": \"x\", \"y\": [19], \"yaxis\": \"y\"}, {\"alignmentgroup\": \"True\", \"hoverlabel\": {\"namelength\": 0}, \"hovertemplate\": \"active_countries=Colombia<br>astrological_sign=%{x}<br>victims=%{y}\", \"legendgroup\": \"Colombia\", \"marker\": {\"color\": \"#FF97FF\"}, \"name\": \"Colombia\", \"offsetgroup\": \"Colombia\", \"orientation\": \"v\", \"showlegend\": true, \"textposition\": \"auto\", \"type\": \"bar\", \"x\": [\"Libra\", \"Aquarius\", \"Aquarius\", \"Libra\"], \"xaxis\": \"x\", \"y\": [50, 150, 300, 30], \"yaxis\": \"y\"}, {\"alignmentgroup\": \"True\", \"hoverlabel\": {\"namelength\": 0}, \"hovertemplate\": \"active_countries=Mexico<br>astrological_sign=%{x}<br>victims=%{y}\", \"legendgroup\": \"Mexico\", \"marker\": {\"color\": \"#FECB52\"}, \"name\": \"Mexico\", \"offsetgroup\": \"Mexico\", \"orientation\": \"v\", \"showlegend\": true, \"textposition\": \"auto\", \"type\": \"bar\", \"x\": [null, \"Gemini\", \"Capricorn\", null, null, null, \"Virgo\", null], \"xaxis\": \"x\", \"y\": [3, 8, 49, 21, 8, 6, 4, 3], \"yaxis\": \"y\"}, {\"alignmentgroup\": \"True\", \"hoverlabel\": {\"namelength\": 0}, \"hovertemplate\": \"active_countries=Namibia<br>astrological_sign=%{x}<br>victims=%{y}\", \"legendgroup\": \"Namibia\", \"marker\": {\"color\": \"#636efa\"}, \"name\": \"Namibia\", \"offsetgroup\": \"Namibia\", \"orientation\": \"v\", \"showlegend\": true, \"textposition\": \"auto\", \"type\": \"bar\", \"x\": [null], \"xaxis\": \"x\", \"y\": [5], \"yaxis\": \"y\"}, {\"alignmentgroup\": \"True\", \"hoverlabel\": {\"namelength\": 0}, \"hovertemplate\": \"active_countries=Turkey<br>astrological_sign=%{x}<br>victims=%{y}\", \"legendgroup\": \"Turkey\", \"marker\": {\"color\": \"#EF553B\"}, \"name\": \"Turkey\", \"offsetgroup\": \"Turkey\", \"orientation\": \"v\", \"showlegend\": true, \"textposition\": \"auto\", \"type\": \"bar\", \"x\": [\"Virgo\", \"Capricorn\", null, null, null, null], \"xaxis\": \"x\", \"y\": [11, 3, 5, 10, 8, 40], \"yaxis\": \"y\"}, {\"alignmentgroup\": \"True\", \"hoverlabel\": {\"namelength\": 0}, \"hovertemplate\": \"active_countries=United States,United Kingdom<br>astrological_sign=%{x}<br>victims=%{y}\", \"legendgroup\": \"United States,United Kingdom\", \"marker\": {\"color\": \"#00cc96\"}, \"name\": \"United States,United Kingdom\", \"offsetgroup\": \"United States,United Kingdom\", \"orientation\": \"v\", \"showlegend\": true, \"textposition\": \"auto\", \"type\": \"bar\", \"x\": [\"Gemini\"], \"xaxis\": \"x\", \"y\": [8], \"yaxis\": \"y\"}, {\"alignmentgroup\": \"True\", \"hoverlabel\": {\"namelength\": 0}, \"hovertemplate\": \"active_countries=Portugal<br>astrological_sign=%{x}<br>victims=%{y}\", \"legendgroup\": \"Portugal\", \"marker\": {\"color\": \"#ab63fa\"}, \"name\": \"Portugal\", \"offsetgroup\": \"Portugal\", \"orientation\": \"v\", \"showlegend\": true, \"textposition\": \"auto\", \"type\": \"bar\", \"x\": [null], \"xaxis\": \"x\", \"y\": [3], \"yaxis\": \"y\"}, {\"alignmentgroup\": \"True\", \"hoverlabel\": {\"namelength\": 0}, \"hovertemplate\": \"active_countries=Iraq<br>astrological_sign=%{x}<br>victims=%{y}\", \"legendgroup\": \"Iraq\", \"marker\": {\"color\": \"#FFA15A\"}, \"name\": \"Iraq\", \"offsetgroup\": \"Iraq\", \"orientation\": \"v\", \"showlegend\": true, \"textposition\": \"auto\", \"type\": \"bar\", \"x\": [null], \"xaxis\": \"x\", \"y\": [33], \"yaxis\": \"y\"}, {\"alignmentgroup\": \"True\", \"hoverlabel\": {\"namelength\": 0}, \"hovertemplate\": \"active_countries=Israel<br>astrological_sign=%{x}<br>victims=%{y}\", \"legendgroup\": \"Israel\", \"marker\": {\"color\": \"#19d3f3\"}, \"name\": \"Israel\", \"offsetgroup\": \"Israel\", \"orientation\": \"v\", \"showlegend\": true, \"textposition\": \"auto\", \"type\": \"bar\", \"x\": [null], \"xaxis\": \"x\", \"y\": [4], \"yaxis\": \"y\"}, {\"alignmentgroup\": \"True\", \"hoverlabel\": {\"namelength\": 0}, \"hovertemplate\": \"active_countries=Austria<br>astrological_sign=%{x}<br>victims=%{y}\", \"legendgroup\": \"Austria\", \"marker\": {\"color\": \"#FF6692\"}, \"name\": \"Austria\", \"offsetgroup\": \"Austria\", \"orientation\": \"v\", \"showlegend\": true, \"textposition\": \"auto\", \"type\": \"bar\", \"x\": [\"Aquarius\"], \"xaxis\": \"x\", \"y\": [5], \"yaxis\": \"y\"}, {\"alignmentgroup\": \"True\", \"hoverlabel\": {\"namelength\": 0}, \"hovertemplate\": \"active_countries=Pakistan<br>astrological_sign=%{x}<br>victims=%{y}\", \"legendgroup\": \"Pakistan\", \"marker\": {\"color\": \"#B6E880\"}, \"name\": \"Pakistan\", \"offsetgroup\": \"Pakistan\", \"orientation\": \"v\", \"showlegend\": true, \"textposition\": \"auto\", \"type\": \"bar\", \"x\": [null, null], \"xaxis\": \"x\", \"y\": [100, 14], \"yaxis\": \"y\"}, {\"alignmentgroup\": \"True\", \"hoverlabel\": {\"namelength\": 0}, \"hovertemplate\": \"active_countries=Poland<br>astrological_sign=%{x}<br>victims=%{y}\", \"legendgroup\": \"Poland\", \"marker\": {\"color\": \"#FF97FF\"}, \"name\": \"Poland\", \"offsetgroup\": \"Poland\", \"orientation\": \"v\", \"showlegend\": true, \"textposition\": \"auto\", \"type\": \"bar\", \"x\": [\"Virgo\", \"Aquarius\", \"Pisces\", \"Libra\"], \"xaxis\": \"x\", \"y\": [5, 30, 8, 21], \"yaxis\": \"y\"}, {\"alignmentgroup\": \"True\", \"hoverlabel\": {\"namelength\": 0}, \"hovertemplate\": \"active_countries=Hong Kong<br>astrological_sign=%{x}<br>victims=%{y}\", \"legendgroup\": \"Hong Kong\", \"marker\": {\"color\": \"#FECB52\"}, \"name\": \"Hong Kong\", \"offsetgroup\": \"Hong Kong\", \"orientation\": \"v\", \"showlegend\": true, \"textposition\": \"auto\", \"type\": \"bar\", \"x\": [\"Aries\", \"Aquarius\"], \"xaxis\": \"x\", \"y\": [4, 3], \"yaxis\": \"y\"}, {\"alignmentgroup\": \"True\", \"hoverlabel\": {\"namelength\": 0}, \"hovertemplate\": \"active_countries=India<br>astrological_sign=%{x}<br>victims=%{y}\", \"legendgroup\": \"India\", \"marker\": {\"color\": \"#636efa\"}, \"name\": \"India\", \"offsetgroup\": \"India\", \"orientation\": \"v\", \"showlegend\": true, \"textposition\": \"auto\", \"type\": \"bar\", \"x\": [null, null, null, null, null, \"Gemini\", null, null, null, null, null, null], \"xaxis\": \"x\", \"y\": [19, 18, 7, 10, 6, 20, 15, 34, 7, 19, 3, 10], \"yaxis\": \"y\"}, {\"alignmentgroup\": \"True\", \"hoverlabel\": {\"namelength\": 0}, \"hovertemplate\": \"active_countries=Russia,Ukraine<br>astrological_sign=%{x}<br>victims=%{y}\", \"legendgroup\": \"Russia,Ukraine\", \"marker\": {\"color\": \"#EF553B\"}, \"name\": \"Russia,Ukraine\", \"offsetgroup\": \"Russia,Ukraine\", \"orientation\": \"v\", \"showlegend\": true, \"textposition\": \"auto\", \"type\": \"bar\", \"x\": [null, \"Leo\", \"Virgo\"], \"xaxis\": \"x\", \"y\": [11, 52, 100], \"yaxis\": \"y\"}, {\"alignmentgroup\": \"True\", \"hoverlabel\": {\"namelength\": 0}, \"hovertemplate\": \"active_countries=Croatia<br>astrological_sign=%{x}<br>victims=%{y}\", \"legendgroup\": \"Croatia\", \"marker\": {\"color\": \"#00cc96\"}, \"name\": \"Croatia\", \"offsetgroup\": \"Croatia\", \"orientation\": \"v\", \"showlegend\": true, \"textposition\": \"auto\", \"type\": \"bar\", \"x\": [\"Aries\"], \"xaxis\": \"x\", \"y\": [5], \"yaxis\": \"y\"}, {\"alignmentgroup\": \"True\", \"hoverlabel\": {\"namelength\": 0}, \"hovertemplate\": \"active_countries=Slovenia<br>astrological_sign=%{x}<br>victims=%{y}\", \"legendgroup\": \"Slovenia\", \"marker\": {\"color\": \"#ab63fa\"}, \"name\": \"Slovenia\", \"offsetgroup\": \"Slovenia\", \"orientation\": \"v\", \"showlegend\": true, \"textposition\": \"auto\", \"type\": \"bar\", \"x\": [\"Gemini\", \"Cancer\"], \"xaxis\": \"x\", \"y\": [3, 5], \"yaxis\": \"y\"}, {\"alignmentgroup\": \"True\", \"hoverlabel\": {\"namelength\": 0}, \"hovertemplate\": \"active_countries=Latvia<br>astrological_sign=%{x}<br>victims=%{y}\", \"legendgroup\": \"Latvia\", \"marker\": {\"color\": \"#FFA15A\"}, \"name\": \"Latvia\", \"offsetgroup\": \"Latvia\", \"orientation\": \"v\", \"showlegend\": true, \"textposition\": \"auto\", \"type\": \"bar\", \"x\": [null], \"xaxis\": \"x\", \"y\": [38], \"yaxis\": \"y\"}, {\"alignmentgroup\": \"True\", \"hoverlabel\": {\"namelength\": 0}, \"hovertemplate\": \"active_countries=Denmark<br>astrological_sign=%{x}<br>victims=%{y}\", \"legendgroup\": \"Denmark\", \"marker\": {\"color\": \"#19d3f3\"}, \"name\": \"Denmark\", \"offsetgroup\": \"Denmark\", \"orientation\": \"v\", \"showlegend\": true, \"textposition\": \"auto\", \"type\": \"bar\", \"x\": [\"Taurus\", \"Aquarius\"], \"xaxis\": \"x\", \"y\": [15, 4], \"yaxis\": \"y\"}, {\"alignmentgroup\": \"True\", \"hoverlabel\": {\"namelength\": 0}, \"hovertemplate\": \"active_countries=Thailand<br>astrological_sign=%{x}<br>victims=%{y}\", \"legendgroup\": \"Thailand\", \"marker\": {\"color\": \"#FF6692\"}, \"name\": \"Thailand\", \"offsetgroup\": \"Thailand\", \"orientation\": \"v\", \"showlegend\": true, \"textposition\": \"auto\", \"type\": \"bar\", \"x\": [null], \"xaxis\": \"x\", \"y\": [3], \"yaxis\": \"y\"}, {\"alignmentgroup\": \"True\", \"hoverlabel\": {\"namelength\": 0}, \"hovertemplate\": \"active_countries=Cyprus<br>astrological_sign=%{x}<br>victims=%{y}\", \"legendgroup\": \"Cyprus\", \"marker\": {\"color\": \"#B6E880\"}, \"name\": \"Cyprus\", \"offsetgroup\": \"Cyprus\", \"orientation\": \"v\", \"showlegend\": true, \"textposition\": \"auto\", \"type\": \"bar\", \"x\": [null], \"xaxis\": \"x\", \"y\": [7], \"yaxis\": \"y\"}, {\"alignmentgroup\": \"True\", \"hoverlabel\": {\"namelength\": 0}, \"hovertemplate\": \"active_countries=United States,Germany<br>astrological_sign=%{x}<br>victims=%{y}\", \"legendgroup\": \"United States,Germany\", \"marker\": {\"color\": \"#FF97FF\"}, \"name\": \"United States,Germany\", \"offsetgroup\": \"United States,Germany\", \"orientation\": \"v\", \"showlegend\": true, \"textposition\": \"auto\", \"type\": \"bar\", \"x\": [\"Aries\"], \"xaxis\": \"x\", \"y\": [9], \"yaxis\": \"y\"}, {\"alignmentgroup\": \"True\", \"hoverlabel\": {\"namelength\": 0}, \"hovertemplate\": \"active_countries=Egypt<br>astrological_sign=%{x}<br>victims=%{y}\", \"legendgroup\": \"Egypt\", \"marker\": {\"color\": \"#FECB52\"}, \"name\": \"Egypt\", \"offsetgroup\": \"Egypt\", \"orientation\": \"v\", \"showlegend\": true, \"textposition\": \"auto\", \"type\": \"bar\", \"x\": [null], \"xaxis\": \"x\", \"y\": [32], \"yaxis\": \"y\"}, {\"alignmentgroup\": \"True\", \"hoverlabel\": {\"namelength\": 0}, \"hovertemplate\": \"active_countries=Peru<br>astrological_sign=%{x}<br>victims=%{y}\", \"legendgroup\": \"Peru\", \"marker\": {\"color\": \"#636efa\"}, \"name\": \"Peru\", \"offsetgroup\": \"Peru\", \"orientation\": \"v\", \"showlegend\": true, \"textposition\": \"auto\", \"type\": \"bar\", \"x\": [\"Pisces\"], \"xaxis\": \"x\", \"y\": [25], \"yaxis\": \"y\"}, {\"alignmentgroup\": \"True\", \"hoverlabel\": {\"namelength\": 0}, \"hovertemplate\": \"active_countries=Japan,China<br>astrological_sign=%{x}<br>victims=%{y}\", \"legendgroup\": \"Japan,China\", \"marker\": {\"color\": \"#EF553B\"}, \"name\": \"Japan,China\", \"offsetgroup\": \"Japan,China\", \"orientation\": \"v\", \"showlegend\": true, \"textposition\": \"auto\", \"type\": \"bar\", \"x\": [\"Aquarius\"], \"xaxis\": \"x\", \"y\": [11], \"yaxis\": \"y\"}, {\"alignmentgroup\": \"True\", \"hoverlabel\": {\"namelength\": 0}, \"hovertemplate\": \"active_countries=Colombia,Peru<br>astrological_sign=%{x}<br>victims=%{y}\", \"legendgroup\": \"Colombia,Peru\", \"marker\": {\"color\": \"#00cc96\"}, \"name\": \"Colombia,Peru\", \"offsetgroup\": \"Colombia,Peru\", \"orientation\": \"v\", \"showlegend\": true, \"textposition\": \"auto\", \"type\": \"bar\", \"x\": [\"Libra\"], \"xaxis\": \"x\", \"y\": [300], \"yaxis\": \"y\"}, {\"alignmentgroup\": \"True\", \"hoverlabel\": {\"namelength\": 0}, \"hovertemplate\": \"active_countries=Sweden<br>astrological_sign=%{x}<br>victims=%{y}\", \"legendgroup\": \"Sweden\", \"marker\": {\"color\": \"#ab63fa\"}, \"name\": \"Sweden\", \"offsetgroup\": \"Sweden\", \"orientation\": \"v\", \"showlegend\": true, \"textposition\": \"auto\", \"type\": \"bar\", \"x\": [\"Libra\"], \"xaxis\": \"x\", \"y\": [4], \"yaxis\": \"y\"}, {\"alignmentgroup\": \"True\", \"hoverlabel\": {\"namelength\": 0}, \"hovertemplate\": \"active_countries=South Korea<br>astrological_sign=%{x}<br>victims=%{y}\", \"legendgroup\": \"South Korea\", \"marker\": {\"color\": \"#FFA15A\"}, \"name\": \"South Korea\", \"offsetgroup\": \"South Korea\", \"orientation\": \"v\", \"showlegend\": true, \"textposition\": \"auto\", \"type\": \"bar\", \"x\": [null, \"Libra\", \"Aries\"], \"xaxis\": \"x\", \"y\": [10, 10, 26], \"yaxis\": \"y\"}, {\"alignmentgroup\": \"True\", \"hoverlabel\": {\"namelength\": 0}, \"hovertemplate\": \"active_countries=Hungary<br>astrological_sign=%{x}<br>victims=%{y}\", \"legendgroup\": \"Hungary\", \"marker\": {\"color\": \"#19d3f3\"}, \"name\": \"Hungary\", \"offsetgroup\": \"Hungary\", \"orientation\": \"v\", \"showlegend\": true, \"textposition\": \"auto\", \"type\": \"bar\", \"x\": [null], \"xaxis\": \"x\", \"y\": [24], \"yaxis\": \"y\"}, {\"alignmentgroup\": \"True\", \"hoverlabel\": {\"namelength\": 0}, \"hovertemplate\": \"active_countries=Panama<br>astrological_sign=%{x}<br>victims=%{y}\", \"legendgroup\": \"Panama\", \"marker\": {\"color\": \"#FF6692\"}, \"name\": \"Panama\", \"offsetgroup\": \"Panama\", \"orientation\": \"v\", \"showlegend\": true, \"textposition\": \"auto\", \"type\": \"bar\", \"x\": [\"Virgo\"], \"xaxis\": \"x\", \"y\": [5], \"yaxis\": \"y\"}, {\"alignmentgroup\": \"True\", \"hoverlabel\": {\"namelength\": 0}, \"hovertemplate\": \"active_countries=France,India,Turkey,Greece,Afghanistan,Thailand<br>astrological_sign=%{x}<br>victims=%{y}\", \"legendgroup\": \"France,India,Turkey,Greece,Afghanistan,Thailand\", \"marker\": {\"color\": \"#B6E880\"}, \"name\": \"France,India,Turkey,Greece,Afghanistan,Thailand\", \"offsetgroup\": \"France,India,Turkey,Greece,Afghanistan,Thailand\", \"orientation\": \"v\", \"showlegend\": true, \"textposition\": \"auto\", \"type\": \"bar\", \"x\": [\"Aries\"], \"xaxis\": \"x\", \"y\": [13], \"yaxis\": \"y\"}, {\"alignmentgroup\": \"True\", \"hoverlabel\": {\"namelength\": 0}, \"hovertemplate\": \"active_countries=Romania<br>astrological_sign=%{x}<br>victims=%{y}\", \"legendgroup\": \"Romania\", \"marker\": {\"color\": \"#FF97FF\"}, \"name\": \"Romania\", \"offsetgroup\": \"Romania\", \"orientation\": \"v\", \"showlegend\": true, \"textposition\": \"auto\", \"type\": \"bar\", \"x\": [null, \"Aquarius\", \"Libra\"], \"xaxis\": \"x\", \"y\": [26, 5, 4], \"yaxis\": \"y\"}, {\"alignmentgroup\": \"True\", \"hoverlabel\": {\"namelength\": 0}, \"hovertemplate\": \"active_countries=France,Spain,Italy<br>astrological_sign=%{x}<br>victims=%{y}\", \"legendgroup\": \"France,Spain,Italy\", \"marker\": {\"color\": \"#FECB52\"}, \"name\": \"France,Spain,Italy\", \"offsetgroup\": \"France,Spain,Italy\", \"orientation\": \"v\", \"showlegend\": true, \"textposition\": \"auto\", \"type\": \"bar\", \"x\": [\"Aquarius\"], \"xaxis\": \"x\", \"y\": [48], \"yaxis\": \"y\"}, {\"alignmentgroup\": \"True\", \"hoverlabel\": {\"namelength\": 0}, \"hovertemplate\": \"active_countries=Venezuela<br>astrological_sign=%{x}<br>victims=%{y}\", \"legendgroup\": \"Venezuela\", \"marker\": {\"color\": \"#636efa\"}, \"name\": \"Venezuela\", \"offsetgroup\": \"Venezuela\", \"orientation\": \"v\", \"showlegend\": true, \"textposition\": \"auto\", \"type\": \"bar\", \"x\": [\"Taurus\"], \"xaxis\": \"x\", \"y\": [10], \"yaxis\": \"y\"}, {\"alignmentgroup\": \"True\", \"hoverlabel\": {\"namelength\": 0}, \"hovertemplate\": \"active_countries=United States,Czech Republic,Austria<br>astrological_sign=%{x}<br>victims=%{y}\", \"legendgroup\": \"United States,Czech Republic,Austria\", \"marker\": {\"color\": \"#EF553B\"}, \"name\": \"United States,Czech Republic,Austria\", \"offsetgroup\": \"United States,Czech Republic,Austria\", \"orientation\": \"v\", \"showlegend\": true, \"textposition\": \"auto\", \"type\": \"bar\", \"x\": [\"Leo\"], \"xaxis\": \"x\", \"y\": [12], \"yaxis\": \"y\"}, {\"alignmentgroup\": \"True\", \"hoverlabel\": {\"namelength\": 0}, \"hovertemplate\": \"active_countries=North Macedonia<br>astrological_sign=%{x}<br>victims=%{y}\", \"legendgroup\": \"North Macedonia\", \"marker\": {\"color\": \"#00cc96\"}, \"name\": \"North Macedonia\", \"offsetgroup\": \"North Macedonia\", \"orientation\": \"v\", \"showlegend\": true, \"textposition\": \"auto\", \"type\": \"bar\", \"x\": [null], \"xaxis\": \"x\", \"y\": [4], \"yaxis\": \"y\"}, {\"alignmentgroup\": \"True\", \"hoverlabel\": {\"namelength\": 0}, \"hovertemplate\": \"active_countries=France,Italy<br>astrological_sign=%{x}<br>victims=%{y}\", \"legendgroup\": \"France,Italy\", \"marker\": {\"color\": \"#ab63fa\"}, \"name\": \"France,Italy\", \"offsetgroup\": \"France,Italy\", \"orientation\": \"v\", \"showlegend\": true, \"textposition\": \"auto\", \"type\": \"bar\", \"x\": [\"Aries\"], \"xaxis\": \"x\", \"y\": [7], \"yaxis\": \"y\"}, {\"alignmentgroup\": \"True\", \"hoverlabel\": {\"namelength\": 0}, \"hovertemplate\": \"active_countries=Czech Republic,Slovakia<br>astrological_sign=%{x}<br>victims=%{y}\", \"legendgroup\": \"Czech Republic,Slovakia\", \"marker\": {\"color\": \"#FFA15A\"}, \"name\": \"Czech Republic,Slovakia\", \"offsetgroup\": \"Czech Republic,Slovakia\", \"orientation\": \"v\", \"showlegend\": true, \"textposition\": \"auto\", \"type\": \"bar\", \"x\": [\"Aries\"], \"xaxis\": \"x\", \"y\": [5], \"yaxis\": \"y\"}, {\"alignmentgroup\": \"True\", \"hoverlabel\": {\"namelength\": 0}, \"hovertemplate\": \"active_countries=Swaziland<br>astrological_sign=%{x}<br>victims=%{y}\", \"legendgroup\": \"Swaziland\", \"marker\": {\"color\": \"#19d3f3\"}, \"name\": \"Swaziland\", \"offsetgroup\": \"Swaziland\", \"orientation\": \"v\", \"showlegend\": true, \"textposition\": \"auto\", \"type\": \"bar\", \"x\": [null], \"xaxis\": \"x\", \"y\": [45], \"yaxis\": \"y\"}, {\"alignmentgroup\": \"True\", \"hoverlabel\": {\"namelength\": 0}, \"hovertemplate\": \"active_countries=Chile<br>astrological_sign=%{x}<br>victims=%{y}\", \"legendgroup\": \"Chile\", \"marker\": {\"color\": \"#FF6692\"}, \"name\": \"Chile\", \"offsetgroup\": \"Chile\", \"orientation\": \"v\", \"showlegend\": true, \"textposition\": \"auto\", \"type\": \"bar\", \"x\": [\"Cancer\"], \"xaxis\": \"x\", \"y\": [14], \"yaxis\": \"y\"}, {\"alignmentgroup\": \"True\", \"hoverlabel\": {\"namelength\": 0}, \"hovertemplate\": \"active_countries=Afghanistan<br>astrological_sign=%{x}<br>victims=%{y}\", \"legendgroup\": \"Afghanistan\", \"marker\": {\"color\": \"#B6E880\"}, \"name\": \"Afghanistan\", \"offsetgroup\": \"Afghanistan\", \"orientation\": \"v\", \"showlegend\": true, \"textposition\": \"auto\", \"type\": \"bar\", \"x\": [null], \"xaxis\": \"x\", \"y\": [20], \"yaxis\": \"y\"}, {\"alignmentgroup\": \"True\", \"hoverlabel\": {\"namelength\": 0}, \"hovertemplate\": \"active_countries=Germany,Slovakia<br>astrological_sign=%{x}<br>victims=%{y}\", \"legendgroup\": \"Germany,Slovakia\", \"marker\": {\"color\": \"#FF97FF\"}, \"name\": \"Germany,Slovakia\", \"offsetgroup\": \"Germany,Slovakia\", \"orientation\": \"v\", \"showlegend\": true, \"textposition\": \"auto\", \"type\": \"bar\", \"x\": [\"Sagittarius\"], \"xaxis\": \"x\", \"y\": [9], \"yaxis\": \"y\"}],\n",
       "                        {\"barmode\": \"relative\", \"legend\": {\"title\": {\"text\": \"active_countries\"}, \"tracegroupgap\": 0}, \"margin\": {\"t\": 60}, \"template\": {\"data\": {\"bar\": [{\"error_x\": {\"color\": \"#2a3f5f\"}, \"error_y\": {\"color\": \"#2a3f5f\"}, \"marker\": {\"line\": {\"color\": \"#E5ECF6\", \"width\": 0.5}}, \"type\": \"bar\"}], \"barpolar\": [{\"marker\": {\"line\": {\"color\": \"#E5ECF6\", \"width\": 0.5}}, \"type\": \"barpolar\"}], \"carpet\": [{\"aaxis\": {\"endlinecolor\": \"#2a3f5f\", \"gridcolor\": \"white\", \"linecolor\": \"white\", \"minorgridcolor\": \"white\", \"startlinecolor\": \"#2a3f5f\"}, \"baxis\": {\"endlinecolor\": \"#2a3f5f\", \"gridcolor\": \"white\", \"linecolor\": \"white\", \"minorgridcolor\": \"white\", \"startlinecolor\": \"#2a3f5f\"}, \"type\": \"carpet\"}], \"choropleth\": [{\"colorbar\": {\"outlinewidth\": 0, \"ticks\": \"\"}, \"type\": \"choropleth\"}], \"contour\": [{\"colorbar\": {\"outlinewidth\": 0, \"ticks\": \"\"}, \"colorscale\": [[0.0, \"#0d0887\"], [0.1111111111111111, \"#46039f\"], [0.2222222222222222, \"#7201a8\"], [0.3333333333333333, \"#9c179e\"], [0.4444444444444444, \"#bd3786\"], [0.5555555555555556, \"#d8576b\"], [0.6666666666666666, \"#ed7953\"], [0.7777777777777778, \"#fb9f3a\"], [0.8888888888888888, \"#fdca26\"], [1.0, \"#f0f921\"]], \"type\": \"contour\"}], \"contourcarpet\": [{\"colorbar\": {\"outlinewidth\": 0, \"ticks\": \"\"}, \"type\": \"contourcarpet\"}], \"heatmap\": [{\"colorbar\": {\"outlinewidth\": 0, \"ticks\": \"\"}, \"colorscale\": [[0.0, \"#0d0887\"], [0.1111111111111111, \"#46039f\"], [0.2222222222222222, \"#7201a8\"], [0.3333333333333333, \"#9c179e\"], [0.4444444444444444, \"#bd3786\"], [0.5555555555555556, \"#d8576b\"], [0.6666666666666666, \"#ed7953\"], [0.7777777777777778, \"#fb9f3a\"], [0.8888888888888888, \"#fdca26\"], [1.0, \"#f0f921\"]], \"type\": \"heatmap\"}], \"heatmapgl\": [{\"colorbar\": {\"outlinewidth\": 0, \"ticks\": \"\"}, \"colorscale\": [[0.0, \"#0d0887\"], [0.1111111111111111, \"#46039f\"], [0.2222222222222222, \"#7201a8\"], [0.3333333333333333, \"#9c179e\"], [0.4444444444444444, \"#bd3786\"], [0.5555555555555556, \"#d8576b\"], [0.6666666666666666, \"#ed7953\"], [0.7777777777777778, \"#fb9f3a\"], [0.8888888888888888, \"#fdca26\"], [1.0, \"#f0f921\"]], \"type\": \"heatmapgl\"}], \"histogram\": [{\"marker\": {\"colorbar\": {\"outlinewidth\": 0, \"ticks\": \"\"}}, \"type\": \"histogram\"}], \"histogram2d\": [{\"colorbar\": {\"outlinewidth\": 0, \"ticks\": \"\"}, \"colorscale\": [[0.0, \"#0d0887\"], [0.1111111111111111, \"#46039f\"], [0.2222222222222222, \"#7201a8\"], [0.3333333333333333, \"#9c179e\"], [0.4444444444444444, \"#bd3786\"], [0.5555555555555556, \"#d8576b\"], [0.6666666666666666, \"#ed7953\"], [0.7777777777777778, \"#fb9f3a\"], [0.8888888888888888, \"#fdca26\"], [1.0, \"#f0f921\"]], \"type\": \"histogram2d\"}], \"histogram2dcontour\": [{\"colorbar\": {\"outlinewidth\": 0, \"ticks\": \"\"}, \"colorscale\": [[0.0, \"#0d0887\"], [0.1111111111111111, \"#46039f\"], [0.2222222222222222, \"#7201a8\"], [0.3333333333333333, \"#9c179e\"], [0.4444444444444444, \"#bd3786\"], [0.5555555555555556, \"#d8576b\"], [0.6666666666666666, \"#ed7953\"], [0.7777777777777778, \"#fb9f3a\"], [0.8888888888888888, \"#fdca26\"], [1.0, \"#f0f921\"]], \"type\": \"histogram2dcontour\"}], \"mesh3d\": [{\"colorbar\": {\"outlinewidth\": 0, \"ticks\": \"\"}, \"type\": \"mesh3d\"}], \"parcoords\": [{\"line\": {\"colorbar\": {\"outlinewidth\": 0, \"ticks\": \"\"}}, \"type\": \"parcoords\"}], \"pie\": [{\"automargin\": true, \"type\": \"pie\"}], \"scatter\": [{\"marker\": {\"colorbar\": {\"outlinewidth\": 0, \"ticks\": \"\"}}, \"type\": \"scatter\"}], \"scatter3d\": [{\"line\": {\"colorbar\": {\"outlinewidth\": 0, \"ticks\": \"\"}}, \"marker\": {\"colorbar\": {\"outlinewidth\": 0, \"ticks\": \"\"}}, \"type\": \"scatter3d\"}], \"scattercarpet\": [{\"marker\": {\"colorbar\": {\"outlinewidth\": 0, \"ticks\": \"\"}}, \"type\": \"scattercarpet\"}], \"scattergeo\": [{\"marker\": {\"colorbar\": {\"outlinewidth\": 0, \"ticks\": \"\"}}, \"type\": \"scattergeo\"}], \"scattergl\": [{\"marker\": {\"colorbar\": {\"outlinewidth\": 0, \"ticks\": \"\"}}, \"type\": \"scattergl\"}], \"scattermapbox\": [{\"marker\": {\"colorbar\": {\"outlinewidth\": 0, \"ticks\": \"\"}}, \"type\": \"scattermapbox\"}], \"scatterpolar\": [{\"marker\": {\"colorbar\": {\"outlinewidth\": 0, \"ticks\": \"\"}}, \"type\": \"scatterpolar\"}], \"scatterpolargl\": [{\"marker\": {\"colorbar\": {\"outlinewidth\": 0, \"ticks\": \"\"}}, \"type\": \"scatterpolargl\"}], \"scatterternary\": [{\"marker\": {\"colorbar\": {\"outlinewidth\": 0, \"ticks\": \"\"}}, \"type\": \"scatterternary\"}], \"surface\": [{\"colorbar\": {\"outlinewidth\": 0, \"ticks\": \"\"}, \"colorscale\": [[0.0, \"#0d0887\"], [0.1111111111111111, \"#46039f\"], [0.2222222222222222, \"#7201a8\"], [0.3333333333333333, \"#9c179e\"], [0.4444444444444444, \"#bd3786\"], [0.5555555555555556, \"#d8576b\"], [0.6666666666666666, \"#ed7953\"], [0.7777777777777778, \"#fb9f3a\"], [0.8888888888888888, \"#fdca26\"], [1.0, \"#f0f921\"]], \"type\": \"surface\"}], \"table\": [{\"cells\": {\"fill\": {\"color\": \"#EBF0F8\"}, \"line\": {\"color\": \"white\"}}, \"header\": {\"fill\": {\"color\": \"#C8D4E3\"}, \"line\": {\"color\": \"white\"}}, \"type\": \"table\"}]}, \"layout\": {\"annotationdefaults\": {\"arrowcolor\": \"#2a3f5f\", \"arrowhead\": 0, \"arrowwidth\": 1}, \"coloraxis\": {\"colorbar\": {\"outlinewidth\": 0, \"ticks\": \"\"}}, \"colorscale\": {\"diverging\": [[0, \"#8e0152\"], [0.1, \"#c51b7d\"], [0.2, \"#de77ae\"], [0.3, \"#f1b6da\"], [0.4, \"#fde0ef\"], [0.5, \"#f7f7f7\"], [0.6, \"#e6f5d0\"], [0.7, \"#b8e186\"], [0.8, \"#7fbc41\"], [0.9, \"#4d9221\"], [1, \"#276419\"]], \"sequential\": [[0.0, \"#0d0887\"], [0.1111111111111111, \"#46039f\"], [0.2222222222222222, \"#7201a8\"], [0.3333333333333333, \"#9c179e\"], [0.4444444444444444, \"#bd3786\"], [0.5555555555555556, \"#d8576b\"], [0.6666666666666666, \"#ed7953\"], [0.7777777777777778, \"#fb9f3a\"], [0.8888888888888888, \"#fdca26\"], [1.0, \"#f0f921\"]], \"sequentialminus\": [[0.0, \"#0d0887\"], [0.1111111111111111, \"#46039f\"], [0.2222222222222222, \"#7201a8\"], [0.3333333333333333, \"#9c179e\"], [0.4444444444444444, \"#bd3786\"], [0.5555555555555556, \"#d8576b\"], [0.6666666666666666, \"#ed7953\"], [0.7777777777777778, \"#fb9f3a\"], [0.8888888888888888, \"#fdca26\"], [1.0, \"#f0f921\"]]}, \"colorway\": [\"#636efa\", \"#EF553B\", \"#00cc96\", \"#ab63fa\", \"#FFA15A\", \"#19d3f3\", \"#FF6692\", \"#B6E880\", \"#FF97FF\", \"#FECB52\"], \"font\": {\"color\": \"#2a3f5f\"}, \"geo\": {\"bgcolor\": \"white\", \"lakecolor\": \"white\", \"landcolor\": \"#E5ECF6\", \"showlakes\": true, \"showland\": true, \"subunitcolor\": \"white\"}, \"hoverlabel\": {\"align\": \"left\"}, \"hovermode\": \"closest\", \"mapbox\": {\"style\": \"light\"}, \"paper_bgcolor\": \"white\", \"plot_bgcolor\": \"#E5ECF6\", \"polar\": {\"angularaxis\": {\"gridcolor\": \"white\", \"linecolor\": \"white\", \"ticks\": \"\"}, \"bgcolor\": \"#E5ECF6\", \"radialaxis\": {\"gridcolor\": \"white\", \"linecolor\": \"white\", \"ticks\": \"\"}}, \"scene\": {\"xaxis\": {\"backgroundcolor\": \"#E5ECF6\", \"gridcolor\": \"white\", \"gridwidth\": 2, \"linecolor\": \"white\", \"showbackground\": true, \"ticks\": \"\", \"zerolinecolor\": \"white\"}, \"yaxis\": {\"backgroundcolor\": \"#E5ECF6\", \"gridcolor\": \"white\", \"gridwidth\": 2, \"linecolor\": \"white\", \"showbackground\": true, \"ticks\": \"\", \"zerolinecolor\": \"white\"}, \"zaxis\": {\"backgroundcolor\": \"#E5ECF6\", \"gridcolor\": \"white\", \"gridwidth\": 2, \"linecolor\": \"white\", \"showbackground\": true, \"ticks\": \"\", \"zerolinecolor\": \"white\"}}, \"shapedefaults\": {\"line\": {\"color\": \"#2a3f5f\"}}, \"ternary\": {\"aaxis\": {\"gridcolor\": \"white\", \"linecolor\": \"white\", \"ticks\": \"\"}, \"baxis\": {\"gridcolor\": \"white\", \"linecolor\": \"white\", \"ticks\": \"\"}, \"bgcolor\": \"#E5ECF6\", \"caxis\": {\"gridcolor\": \"white\", \"linecolor\": \"white\", \"ticks\": \"\"}}, \"title\": {\"x\": 0.05}, \"xaxis\": {\"automargin\": true, \"gridcolor\": \"white\", \"linecolor\": \"white\", \"ticks\": \"\", \"title\": {\"standoff\": 15}, \"zerolinecolor\": \"white\", \"zerolinewidth\": 2}, \"yaxis\": {\"automargin\": true, \"gridcolor\": \"white\", \"linecolor\": \"white\", \"ticks\": \"\", \"title\": {\"standoff\": 15}, \"zerolinecolor\": \"white\", \"zerolinewidth\": 2}}}, \"xaxis\": {\"anchor\": \"y\", \"domain\": [0.0, 1.0], \"title\": {\"text\": \"astrological_sign\"}}, \"yaxis\": {\"anchor\": \"x\", \"domain\": [0.0, 1.0], \"title\": {\"text\": \"victims\"}}},\n",
       "                        {\"responsive\": true}\n",
       "                    ).then(function(){\n",
       "                            \n",
       "var gd = document.getElementById('e608e242-dc85-4985-adcc-0b8f328fb465');\n",
       "var x = new MutationObserver(function (mutations, observer) {{\n",
       "        var display = window.getComputedStyle(gd).display;\n",
       "        if (!display || display === 'none') {{\n",
       "            console.log([gd, 'removed!']);\n",
       "            Plotly.purge(gd);\n",
       "            observer.disconnect();\n",
       "        }}\n",
       "}});\n",
       "\n",
       "// Listen for the removal of the full notebook cells\n",
       "var notebookContainer = gd.closest('#notebook-container');\n",
       "if (notebookContainer) {{\n",
       "    x.observe(notebookContainer, {childList: true});\n",
       "}}\n",
       "\n",
       "// Listen for the clearing of the current output cell\n",
       "var outputEl = gd.closest('.output');\n",
       "if (outputEl) {{\n",
       "    x.observe(outputEl, {childList: true});\n",
       "}}\n",
       "\n",
       "                        })\n",
       "                };\n",
       "                });\n",
       "            </script>\n",
       "        </div>"
      ]
     },
     "metadata": {},
     "output_type": "display_data"
    }
   ],
   "source": [
    "px.bar(serial_killer, y = 'victims', x = 'astrological_sign', color = 'active_countries')"
   ]
  },
  {
   "cell_type": "code",
   "execution_count": 108,
   "metadata": {
    "ExecuteTime": {
     "end_time": "2020-03-14T22:43:00.246684Z",
     "start_time": "2020-03-14T22:42:59.010615Z"
    },
    "scrolled": false
   },
   "outputs": [
    {
     "data": {
      "application/vnd.plotly.v1+json": {
       "config": {
        "plotlyServerURL": "https://plot.ly"
       },
       "data": [
        {
         "alignmentgroup": "True",
         "hoverlabel": {
          "namelength": 0
         },
         "hovertemplate": "active_countries=United States<br>name=%{x}<br>victims=%{y}",
         "legendgroup": "United States",
         "marker": {
          "color": "#636efa"
         },
         "name": "United States",
         "offsetgroup": "United States",
         "orientation": "v",
         "showlegend": true,
         "textposition": "auto",
         "type": "bar",
         "x": [
          "Seminole Heights serial killer",
          "Ronald Dominique",
          "Westley Allan Dodd",
          "John Floyd Thomas, Jr.",
          "Thomas Dillon",
          "Michael Bear Carson",
          "David Carpenter",
          "Harvey Carignan",
          "Hadden Clark",
          "Larry Eyler",
          "William Clyde Gibson",
          "Mark Goudeau",
          "Billy Gohl",
          "David Alan Gore",
          "Sean Patrick Goble",
          "Billy Glaze",
          "Harvey Glatman",
          "Bernard Giles",
          "Sean Vincent Gillis",
          "Bertha Gifford",
          "Alex Henriquez",
          "Lorenzo Gilyard",
          "Kristen Gilbert",
          "Elmer Wayne Henley",
          "Boone Helm",
          "Dale Hausner",
          "Wiley Harpe",
          "William Heirens",
          "Micajah Harpe",
          "Donald Harvey",
          "Charles Ray Hatcher",
          "William Henry Hance",
          "Lizzie Halliday",
          "Robert Hansen",
          "Rodney Halbower",
          "The Springfield Three",
          "James Hall",
          "Anna Marie Hahn",
          "Belle Gunness",
          "Vaughn Greenwood",
          "murder of Rashawn Brazell",
          "Shawn Grate",
          "Dana Sue Gray",
          "Janie Lou Gibbs",
          "Gwendolyn Graham",
          "Hubert Geralds Jr.",
          "Harrison Graham",
          "Gerald Gallego",
          "Carlton Gary",
          "Donald Henry Gaskins",
          "Michael Gargiulo",
          "Charlene Gallego",
          "John Wayne Gacy",
          "Gary Evans",
          "Richard Evonitz",
          "Donald Leroy Evans",
          "Felipe Espinosa",
          "Ramon Escobar",
          "Scott Erskine",
          "Walter E. Ellis",
          "Mack Ray Edwards",
          "Edward Edwards",
          "Grim Sleeper",
          "Joseph Paul Franklin",
          "Kendall Francois",
          "Wayne Adam Ford",
          "Albert Fish",
          "Christine Laverne Falling",
          "Lorenzo Fayne",
          "Joseph Christopher",
          "Thor Nis Christiansen",
          "Billy Chemirmir",
          "Richard Chase",
          "Suzan Bear Carson",
          "Steven David Catlin",
          "Paul Durousseau",
          "Jon Scott Dunkle",
          "Joseph E. Duncan III",
          "Nannie Doss",
          "Doodler",
          "Daniel Blank",
          "Terry Blair",
          "Brian Dugan",
          "John Bittrolff",
          "Arthur Gary Bishop",
          "Lawrence Bittaker",
          "Jake Bird",
          "Kenneth Bianchi",
          "Richard Biegenwald",
          "David Berkowitz",
          "Judy Buenoano",
          "Angelo Buono",
          "Dean Corll",
          "Carol M. Bundy",
          "Ted Bundy",
          "Ray Copeland",
          "Ray and Faye Copeland",
          "Daniel Conahan",
          "Rory Enrique Conde",
          "John Norman Collins",
          "Alton Coleman",
          "Carroll Cole",
          "Cynthia Coffman",
          "Kelly Cochran",
          "Doug Clark",
          "Robert Berdella",
          "Herb Baumeister",
          "Cesar Barone",
          "Velma Barfield",
          "Joe Ball",
          "Johnny Avalos",
          "Charles Cullen",
          "Juan Covington",
          "Richard Cottingham",
          "Andre Crawford",
          "Louis Craine",
          "Tony Costa",
          "Jerry Brudos",
          "Juan Corona",
          "Lucious Boyd",
          "Robert Charles Browne",
          "Debra Brown",
          "Gary Ray Bowles",
          "William Bonin",
          "Dallen Bounds",
          "Albert DeSalvo",
          "Samuel Dieteman",
          "Jeffrey Dahmer",
          "Mike DeBardeleben",
          "Golden State Killer",
          "John Eric Armstrong",
          "Benjamin Atkins",
          "Amy Archer-Gilligan",
          "Richard Angelo",
          "Howard Allen",
          "Patricia Allanson",
          "Dale Anderson",
          "Elias Abuelazam",
          "Rodney Alcala",
          "Charles Albright",
          "Vincent Johnson",
          "Keith Hunter Jesperson",
          "Jerry Leon Johns",
          "Martha Ann Johnson",
          "Milton Johnson",
          "David Mason",
          "Dorothea Puente",
          "Stephen Richards",
          "Cleophus Prince Jr.",
          "Alfredo Prieto",
          "Craig Price",
          "Harry Powers",
          "Jesse Pomeroy",
          "Robert Ben Rhoades",
          "Paul Dennis Reid",
          "Melvin Rees",
          "David Parker Ray",
          "The Classified Ad Rapist",
          "Richard Ramirez",
          "Larry Ralston",
          "Dennis Rader",
          "Lawrence Bittaker and Roy Norris",
          "Mario Normore",
          "Marie Noe",
          "Robert Nixon",
          "Earle Nelson",
          "William Neal",
          "Joseph Naso",
          "Duke Pierson",
          "Freeway Phantom",
          "Christopher Peterson",
          "Salvatore Perrone",
          "Gerald Parker",
          "Alferd Packer",
          "Juan David Ortiz",
          "The Axeman of New Orleans",
          "Louise Peete",
          "Diane O'Dell",
          "Carl Panzram",
          "Gordon Northcott",
          "Bruce Mendenhall",
          "Patrick McCullough",
          "Kenneth McDuff",
          "David Meirhofer",
          "Lovers Lane Murders",
          "Cleveland Torso Murderer",
          "Frederick Mors",
          "Cory Deonn Morris",
          "Herbert Mullin",
          "Stephen Morin",
          "DeAngelo Martin",
          "Lee Roy Martin",
          "Rhonda Belle Martin",
          "Richard Laurence Marquette",
          "Orville Lynn Majors",
          "James Gregory Marlow",
          "Michael Madison",
          "Henry Lee Lucas",
          "Edmund Kemper",
          "Patrick Kearney",
          "Israel Keyes",
          "Joseph Kallinger",
          "Buddy Earl Justus",
          "John Joubert",
          "Genene Jones",
          "Jack Harold Jones",
          "Todd Christopher Kohlhepp",
          "Samuel Little",
          "Michael Lee Lockhart",
          "Bobbie Joe Long",
          "Adam Leroy Lane",
          "Derrick Todd Lee",
          "Peter Kudzinowski",
          "Richard Kuklinski",
          "Daytona Beach killer",
          "Phantom Killer",
          "Timothy Krajcir",
          "Flat-Tire murders",
          "Connecticut River Valley Killer",
          "Zodiac Killer",
          "Oakland County Child Killer",
          "Santa Rosa Hitchhiker Murders",
          "Colonial Parkway Murders",
          "Edgecombe County Serial Killer",
          "Long Island serial killer",
          "West Mesa murders",
          "Paul John Knowles",
          "Tillie Klimek",
          "New Bedford Highway Killer",
          "Anthony Kirkland",
          "Roger Kibbe",
          "Scott Lee Kimball",
          "Feb 9 Killer",
          "The Transgender Killer",
          "Randy Steven Kraft",
          "Vickie Dawn Jackson",
          "Phillip Carl Jablonski",
          "Leslie Irvin",
          "Thomas Huskey",
          "Waneta Hoyt",
          "Michael Hughes",
          "William Devin Howell",
          "Gary Hilton",
          "H. H. Holmes",
          "Danny Rolling",
          "Glen Edward Rogers",
          "Dayton Leroy Rogers",
          "John Edward Robinson",
          "Jose Rodriguez",
          "James Dale Ritchie",
          "Montie Rissell",
          "Harvey Miguel Robinson",
          "Robert Shulman",
          "Fred Waterfield",
          "Martha Wise",
          "Lesley Warren",
          "Robert Lee Yates",
          "Randall Woodfield",
          "Aileen Wuornos",
          "Cathy Wood",
          "James Edward Wood",
          "Robert Zarinsky",
          "Robert Joseph Zani",
          "Scott Williams",
          "Wayne Williams",
          "Christopher Wilder",
          "Nathaniel White",
          "Carl Eugene Watts",
          "Faryion Wardrip",
          "Karl F. Werner",
          "Henry Louis Wallace",
          "Darren Deon Vann",
          "Andrew Urdiales",
          "Chester Turner",
          "Ottis Toole",
          "Jane Toppan",
          "Marybeth Tinning",
          "Maury Travis",
          "Joseph \"Mad Dog\" Taborsky",
          "James Swann",
          "William Suff",
          "The Honolulu Strangler",
          "Eastbound Strangler",
          "Cincinnati Strangler",
          "Paul Michael Stephani",
          "Honolulu Strangler",
          "Cary Stayner",
          "Gerald Stano",
          "Jack Owen Spillman",
          "Timothy Wilson Spencer",
          "Anthony Sowell",
          "Lemuel Smith",
          "Morris Solomon, Jr.",
          "Lyda Southard",
          "Charlie Chop-off",
          "Gypsy Hill killings",
          "Frankford Slasher",
          "Robert Joseph Silveria, Jr.",
          "Anthony Allen Shore",
          "Daniel Lee Siebert",
          "Arthur Shawcross",
          "Ryan Sharpe",
          "Tommy Lynn Sells",
          "Lydia Sherman",
          "Heriberto Seda",
          "Gerard John Schaefer",
          "Charles Schmid",
          "Marc Sappington",
          "Altemio Sanchez",
          "Efren Saldivar",
          "Kimberly Clark Saenz",
          "Paul Rowles",
          "Atlanta Ripper",
          "Michael Bruce Ross",
          "Robert Rozier",
          "Joel Rifkin",
          "Gary Ridgway"
         ],
         "xaxis": "x",
         "y": [
          4,
          23,
          3,
          25,
          5,
          3,
          11,
          5,
          12,
          23,
          3,
          9,
          100,
          6,
          12,
          20,
          4,
          5,
          8,
          17,
          6,
          13,
          4,
          6,
          11,
          8,
          50,
          3,
          50,
          87,
          16,
          4,
          5,
          21,
          5,
          54,
          24,
          5,
          40,
          13,
          4,
          5,
          3,
          5,
          5,
          5,
          7,
          10,
          7,
          80,
          6,
          10,
          34,
          5,
          3,
          70,
          32,
          7,
          3,
          20,
          18,
          5,
          25,
          20,
          9,
          4,
          9,
          6,
          6,
          12,
          4,
          18,
          6,
          3,
          3,
          9,
          4,
          7,
          11,
          14,
          6,
          9,
          5,
          3,
          5,
          5,
          46,
          15,
          11,
          6,
          5,
          10,
          29,
          6,
          36,
          12,
          12,
          12,
          6,
          8,
          8,
          35,
          5,
          11,
          6,
          6,
          25,
          4,
          6,
          20,
          5,
          45,
          3,
          100,
          11,
          5,
          7,
          4,
          25,
          10,
          48,
          8,
          6,
          36,
          4,
          13,
          8,
          17,
          8,
          13,
          18,
          11,
          50,
          25,
          3,
          3,
          7,
          5,
          100,
          3,
          6,
          185,
          6,
          4,
          17,
          6,
          25,
          9,
          6,
          9,
          4,
          5,
          2,
          50,
          7,
          9,
          60,
          10,
          20,
          5,
          10,
          5,
          4,
          8,
          5,
          29,
          3,
          10,
          3,
          6,
          7,
          3,
          6,
          5,
          4,
          6,
          3,
          4,
          22,
          20,
          6,
          3,
          14,
          4,
          3,
          40,
          8,
          6,
          13,
          30,
          6,
          3,
          6,
          3,
          130,
          5,
          3,
          40,
          10,
          43,
          11,
          3,
          4,
          3,
          60,
          3,
          7,
          93,
          6,
          10,
          3,
          10,
          4,
          100,
          5,
          5,
          9,
          5,
          7,
          37,
          4,
          7,
          8,
          10,
          16,
          11,
          35,
          7,
          11,
          5,
          38,
          4,
          2,
          3,
          67,
          20,
          5,
          6,
          4,
          5,
          8,
          7,
          6,
          27,
          8,
          3,
          8,
          8,
          3,
          5,
          5,
          3,
          5,
          6,
          3,
          8,
          23,
          44,
          8,
          5,
          12,
          10,
          6,
          3,
          25,
          13,
          6,
          80,
          5,
          3,
          10,
          18,
          8,
          15,
          108,
          31,
          8,
          17,
          7,
          4,
          22,
          5,
          4,
          7,
          3,
          5,
          4,
          41,
          3,
          5,
          11,
          6,
          7,
          6,
          4,
          5,
          9,
          14,
          5,
          13,
          14,
          3,
          70,
          12,
          3,
          30,
          3,
          4,
          3,
          50,
          5,
          3,
          21,
          8,
          7,
          17,
          90
         ],
         "yaxis": "y"
        },
        {
         "alignmentgroup": "True",
         "hoverlabel": {
          "namelength": 0
         },
         "hovertemplate": "active_countries=Canada<br>name=%{x}<br>victims=%{y}",
         "legendgroup": "Canada",
         "marker": {
          "color": "#EF553B"
         },
         "name": "Canada",
         "offsetgroup": "Canada",
         "orientation": "v",
         "showlegend": true,
         "textposition": "auto",
         "type": "bar",
         "x": [
          "Léopold Dion",
          "William Patrick Fyfe",
          "Paul Bernardo",
          "John Martin Crawford",
          "Wayne Boden",
          "Russell Johnson",
          "Robert Pickton",
          "Clifford Olson",
          "Dellen Millard",
          "Bruce McArthur",
          "Gilbert Paul Jordan",
          "Allan Legere",
          "Cody Legebokoff",
          "Karla Homolka",
          "Peter Woodcock",
          "Elizabeth Wettlaufer"
         ],
         "xaxis": "x",
         "y": [
          4,
          9,
          5,
          4,
          4,
          7,
          49,
          11,
          3,
          8,
          10,
          7,
          4,
          3,
          4,
          15
         ],
         "yaxis": "y"
        },
        {
         "alignmentgroup": "True",
         "hoverlabel": {
          "namelength": 0
         },
         "hovertemplate": "active_countries=Greece<br>name=%{x}<br>victims=%{y}",
         "legendgroup": "Greece",
         "marker": {
          "color": "#00cc96"
         },
         "name": "Greece",
         "offsetgroup": "Greece",
         "orientation": "v",
         "showlegend": true,
         "textposition": "auto",
         "type": "bar",
         "x": [
          "Antonis Daglis"
         ],
         "xaxis": "x",
         "y": [
          3
         ],
         "yaxis": "y"
        },
        {
         "alignmentgroup": "True",
         "hoverlabel": {
          "namelength": 0
         },
         "hovertemplate": "active_countries=United States,Mexico<br>name=%{x}<br>victims=%{y}",
         "legendgroup": "United States,Mexico",
         "marker": {
          "color": "#ab63fa"
         },
         "name": "United States,Mexico",
         "offsetgroup": "United States,Mexico",
         "orientation": "v",
         "showlegend": true,
         "textposition": "auto",
         "type": "bar",
         "x": [
          "Ricardo Caputo",
          "Adolfo Constanzo",
          "Ángel Maturino Reséndiz",
          "Sharon Kinne"
         ],
         "xaxis": "x",
         "y": [
          6,
          23,
          18,
          3
         ],
         "yaxis": "y"
        },
        {
         "alignmentgroup": "True",
         "hoverlabel": {
          "namelength": 0
         },
         "hovertemplate": "active_countries=Slovakia<br>name=%{x}<br>victims=%{y}",
         "legendgroup": "Slovakia",
         "marker": {
          "color": "#FFA15A"
         },
         "name": "Slovakia",
         "offsetgroup": "Slovakia",
         "orientation": "v",
         "showlegend": true,
         "textposition": "auto",
         "type": "bar",
         "x": [
          "Matej Curko",
          "Elizabeth Báthory"
         ],
         "xaxis": "x",
         "y": [
          30,
          650
         ],
         "yaxis": "y"
        },
        {
         "alignmentgroup": "True",
         "hoverlabel": {
          "namelength": 0
         },
         "hovertemplate": "active_countries=United Kingdom<br>name=%{x}<br>victims=%{y}",
         "legendgroup": "United Kingdom",
         "marker": {
          "color": "#19d3f3"
         },
         "name": "United Kingdom",
         "offsetgroup": "United Kingdom",
         "orientation": "v",
         "showlegend": true,
         "textposition": "auto",
         "type": "bar",
         "x": [
          "Steven Grieveson",
          "Anthony Hardy",
          "William Hare",
          "Trevor Hardy",
          "Archibald Hall",
          "John George Haigh",
          "Bradford murders",
          "Kenneth Erskine",
          "John Christie",
          "George Chapman",
          "Amelia Dyer",
          "Martin Dumollard",
          "John Duffy",
          "Robert Black",
          "Burke and Hare murders",
          "John Cooper",
          "Levi Bellfield",
          "Gordon Cummins",
          "Dale Cregan",
          "Mary Ann Cotton",
          "Peter Bryan",
          "Mary Ann Britland",
          "Ian Brady",
          "Joanna Dennehy",
          "Beverley Allitt",
          "Stephen Akinmurele",
          "Bible John",
          "Stephen Port",
          "Colin Norris",
          "Dennis Nilsen",
          "Donald Neilson",
          "Robert Napper",
          "Robert Maudsley",
          "John Duffy and David Mulcahy",
          "Peter Moore",
          "Peter Manuel",
          "Patrick Mackay",
          "Michael Lupo",
          "Robin Ligus",
          "Bruce George Peter Lee",
          "Aaron Kosminski",
          "Colin Ireland",
          "Myra Hindley",
          "Jack the Ripper",
          "George Joseph Smith",
          "Margaret Waters",
          "Graham Young",
          "Steve Wright",
          "Graham Young",
          "Catherine Wilson",
          "Fred West",
          "Rosemary West",
          "Annie Walters",
          "Peter Tobin",
          "Peter Sutcliffe",
          "Jack the Stripper",
          "John Straffen",
          "Angus Sinclair",
          "Harold Shipman",
          "Fredrick Demond Scott",
          "Amelia Sach"
         ],
         "xaxis": "x",
         "y": [
          5,
          9,
          16,
          3,
          5,
          9,
          14,
          11,
          8,
          3,
          100,
          3,
          3,
          18,
          16,
          4,
          3,
          6,
          4,
          21,
          3,
          3,
          5,
          3,
          4,
          7,
          3,
          4,
          4,
          16,
          4,
          3,
          4,
          3,
          4,
          9,
          11,
          4,
          3,
          26,
          11,
          5,
          5,
          16,
          3,
          19,
          3,
          22,
          3,
          7,
          13,
          10,
          12,
          13,
          15,
          8,
          3,
          8,
          250,
          6,
          12
         ],
         "yaxis": "y"
        },
        {
         "alignmentgroup": "True",
         "hoverlabel": {
          "namelength": 0
         },
         "hovertemplate": "active_countries=Japan<br>name=%{x}<br>victims=%{y}",
         "legendgroup": "Japan",
         "marker": {
          "color": "#FF6692"
         },
         "name": "Japan",
         "offsetgroup": "Japan",
         "orientation": "v",
         "showlegend": true,
         "textposition": "auto",
         "type": "bar",
         "x": [
          "Hiroaki Hidaka",
          "Sataro Fukiage",
          "Seisaku Nakamura",
          "Akira Nishiguchi",
          "Kiyoshi Ōkubo",
          "Tsutomu Miyazaki",
          "Hiroshi Maeue",
          "Kiyotaka Katsuta",
          "Genzo Kurita",
          "Paraquat murders",
          "Miyuki Ishikawa",
          "Yukio Yamaji",
          "Zama Suicide Pact Slayings"
         ],
         "xaxis": "x",
         "y": [
          4,
          7,
          11,
          5,
          8,
          4,
          3,
          22,
          8,
          12,
          169,
          3,
          9
         ],
         "yaxis": "y"
        },
        {
         "alignmentgroup": "True",
         "hoverlabel": {
          "namelength": 0
         },
         "hovertemplate": "active_countries=Russia<br>name=%{x}<br>victims=%{y}",
         "legendgroup": "Russia",
         "marker": {
          "color": "#B6E880"
         },
         "name": "Russia",
         "offsetgroup": "Russia",
         "orientation": "v",
         "showlegend": true,
         "textposition": "auto",
         "type": "bar",
         "x": [
          "Sergey Golovkin",
          "Boris Gusakov",
          "Irina Gaidamachuk",
          "Vadim Ershov",
          "Novosibirsk Serial Killer",
          "Andrei Chikatilo",
          "Nikolai Dzhumagaliev",
          "Anatoly Biryukov",
          "Alexander Bychkov",
          "Natalia Baksheev",
          "Dmitry Baksheev",
          "Valery Asratyan",
          "Vasili Komaroff",
          "Mikhail Popkov",
          "Alexander Pichushkin",
          "Gennady Mikhasevich",
          "Vladimir Mukhankin",
          "Sergei Martynov",
          "Vasiliy Kulik",
          "Anatoly Utkin",
          "Alexander Tchayka",
          "Aleksey Sukletin",
          "Alexander Spesivtsev",
          "Anatoly Slivko",
          "Tamara Samsonova",
          "Sergei Ryakhovsky"
         ],
         "xaxis": "x",
         "y": [
          40,
          5,
          17,
          19,
          19,
          56,
          100,
          5,
          11,
          30,
          30,
          3,
          33,
          81,
          60,
          55,
          9,
          9,
          13,
          9,
          4,
          7,
          82,
          7,
          14,
          19
         ],
         "yaxis": "y"
        },
        {
         "alignmentgroup": "True",
         "hoverlabel": {
          "namelength": 0
         },
         "hovertemplate": "active_countries=Australia<br>name=%{x}<br>victims=%{y}",
         "legendgroup": "Australia",
         "marker": {
          "color": "#FF97FF"
         },
         "name": "Australia",
         "offsetgroup": "Australia",
         "orientation": "v",
         "showlegend": true,
         "textposition": "auto",
         "type": "bar",
         "x": [
          "John Wayne Glover",
          "Matthew James Harris",
          "Paul Steven Haigh",
          "Caroline Grills",
          "Leonard Fraser",
          "Kathleen Folbigg",
          "Peter Dupas",
          "John Bunting",
          "Eric Edgar Cooke",
          "Gregory Brazel",
          "Paula Denyer",
          "Bandali Debs",
          "Claremont serial murders",
          "Martha Rendell",
          "Truro murders",
          "Ivan Milat",
          "William MacDonald",
          "Eddie Leonski",
          "Robert Wagner",
          "James Vlassakis",
          "Arnold Sodeman"
         ],
         "xaxis": "x",
         "y": [
          13,
          3,
          7,
          4,
          7,
          4,
          6,
          11,
          8,
          3,
          5,
          5,
          3,
          3,
          7,
          7,
          5,
          3,
          10,
          4,
          4
         ],
         "yaxis": "y"
        },
        {
         "alignmentgroup": "True",
         "hoverlabel": {
          "namelength": 0
         },
         "hovertemplate": "active_countries=Argentina<br>name=%{x}<br>victims=%{y}",
         "legendgroup": "Argentina",
         "marker": {
          "color": "#FECB52"
         },
         "name": "Argentina",
         "offsetgroup": "Argentina",
         "orientation": "v",
         "showlegend": true,
         "textposition": "auto",
         "type": "bar",
         "x": [
          "Cayetano Santos Godino",
          "Walter Di Giusti",
          "Cayetano Domingo Grossi",
          "Florencio Fernández",
          "Robledo Puch",
          "Francisco Antonio Laureana"
         ],
         "xaxis": "x",
         "y": [
          4,
          5,
          5,
          15,
          11,
          13
         ],
         "yaxis": "y"
        },
        {
         "alignmentgroup": "True",
         "hoverlabel": {
          "namelength": 0
         },
         "hovertemplate": "active_countries=Netherlands<br>name=%{x}<br>victims=%{y}",
         "legendgroup": "Netherlands",
         "marker": {
          "color": "#636efa"
         },
         "name": "Netherlands",
         "offsetgroup": "Netherlands",
         "orientation": "v",
         "showlegend": true,
         "textposition": "auto",
         "type": "bar",
         "x": [
          "Koos Hertogs",
          "Willem van Eijk",
          "Maria Swanenburg"
         ],
         "xaxis": "x",
         "y": [
          12,
          8,
          90
         ],
         "yaxis": "y"
        },
        {
         "alignmentgroup": "True",
         "hoverlabel": {
          "namelength": 0
         },
         "hovertemplate": "active_countries=France<br>name=%{x}<br>victims=%{y}",
         "legendgroup": "France",
         "marker": {
          "color": "#EF553B"
         },
         "name": "France",
         "offsetgroup": "France",
         "orientation": "v",
         "showlegend": true,
         "textposition": "auto",
         "type": "bar",
         "x": [
          "Francis Heaulme",
          "Guy Georges",
          "Michel Fourniret",
          "Pierre Chanal",
          "Gilles de Rais",
          "Marcel Petiot",
          "Thierry Paulin",
          "Émile Louis",
          "Celine Lesage",
          "Claude Lastennet",
          "Henri Désiré Landru",
          "Hélène Jégado",
          "Jeanne Weber",
          "Eugen Weidmann",
          "Joseph Vacher",
          "Issei Sagawa"
         ],
         "xaxis": "x",
         "y": [
          20,
          7,
          11,
          8,
          200,
          63,
          21,
          7,
          6,
          5,
          11,
          36,
          10,
          6,
          27,
          1
         ],
         "yaxis": "y"
        },
        {
         "alignmentgroup": "True",
         "hoverlabel": {
          "namelength": 0
         },
         "hovertemplate": "active_countries=Indonesia<br>name=%{x}<br>victims=%{y}",
         "legendgroup": "Indonesia",
         "marker": {
          "color": "#00cc96"
         },
         "name": "Indonesia",
         "offsetgroup": "Indonesia",
         "orientation": "v",
         "showlegend": true,
         "textposition": "auto",
         "type": "bar",
         "x": [
          "Verry Idham Henyansyah",
          "Ahmad Suradji"
         ],
         "xaxis": "x",
         "y": [
          11,
          80
         ],
         "yaxis": "y"
        },
        {
         "alignmentgroup": "True",
         "hoverlabel": {
          "namelength": 0
         },
         "hovertemplate": "active_countries=Estonia<br>name=%{x}<br>victims=%{y}",
         "legendgroup": "Estonia",
         "marker": {
          "color": "#ab63fa"
         },
         "name": "Estonia",
         "offsetgroup": "Estonia",
         "orientation": "v",
         "showlegend": true,
         "textposition": "auto",
         "type": "bar",
         "x": [
          "Johannes-Andreas Hanni",
          "Aleksandr Rubel"
         ],
         "xaxis": "x",
         "y": [
          3,
          7
         ],
         "yaxis": "y"
        },
        {
         "alignmentgroup": "True",
         "hoverlabel": {
          "namelength": 0
         },
         "hovertemplate": "active_countries=Iran<br>name=%{x}<br>victims=%{y}",
         "legendgroup": "Iran",
         "marker": {
          "color": "#FFA15A"
         },
         "name": "Iran",
         "offsetgroup": "Iran",
         "orientation": "v",
         "showlegend": true,
         "textposition": "auto",
         "type": "bar",
         "x": [
          "Saeed Hanaei",
          "Mohammed Bijeh"
         ],
         "xaxis": "x",
         "y": [
          16,
          20
         ],
         "yaxis": "y"
        },
        {
         "alignmentgroup": "True",
         "hoverlabel": {
          "namelength": 0
         },
         "hovertemplate": "active_countries=Finland<br>name=%{x}<br>victims=%{y}",
         "legendgroup": "Finland",
         "marker": {
          "color": "#19d3f3"
         },
         "name": "Finland",
         "offsetgroup": "Finland",
         "orientation": "v",
         "showlegend": true,
         "textposition": "auto",
         "type": "bar",
         "x": [
          "Matti Haapoja"
         ],
         "xaxis": "x",
         "y": [
          25
         ],
         "yaxis": "y"
        },
        {
         "alignmentgroup": "True",
         "hoverlabel": {
          "namelength": 0
         },
         "hovertemplate": "active_countries=Germany<br>name=%{x}<br>victims=%{y}",
         "legendgroup": "Germany",
         "marker": {
          "color": "#FF6692"
         },
         "name": "Germany",
         "offsetgroup": "Germany",
         "orientation": "v",
         "showlegend": true,
         "textposition": "auto",
         "type": "bar",
         "x": [
          "Frank Gust",
          "Fritz Haarmann",
          "Erwin Hagedorn",
          "Jürgen Bartsch",
          "Karl Denke",
          "Norbert Poehlke",
          "Rudolf Pleil",
          "Heinrich Pommerenke",
          "Martin Ney",
          "Paul Ogorzow",
          "Peter Kürten",
          "Joachim Kroll",
          "Fritz Honka",
          "Niels Högel",
          "Elisabeth Wiese",
          "Friedrich Schumann",
          "Wolfgang Schmidt"
         ],
         "xaxis": "x",
         "y": [
          4,
          27,
          3,
          4,
          42,
          6,
          25,
          4,
          5,
          8,
          9,
          14,
          4,
          106,
          5,
          6,
          6
         ],
         "yaxis": "y"
        },
        {
         "alignmentgroup": "True",
         "hoverlabel": {
          "namelength": 0
         },
         "hovertemplate": "active_countries=Spain<br>name=%{x}<br>victims=%{y}",
         "legendgroup": "Spain",
         "marker": {
          "color": "#B6E880"
         },
         "name": "Spain",
         "offsetgroup": "Spain",
         "orientation": "v",
         "showlegend": true,
         "textposition": "auto",
         "type": "bar",
         "x": [
          "Juan Díaz de Garayo",
          "Francisco García Escalero",
          "Gilberto Chamba",
          "Francisca Ballesteros",
          "Dámaso Rodríguez Martín",
          "Enriqueta Martí",
          "Jose Antonio Rodriguez Vega",
          "Gustavo Romero Tercero"
         ],
         "xaxis": "x",
         "y": [
          6,
          11,
          9,
          3,
          3,
          12,
          16,
          3
         ],
         "yaxis": "y"
        },
        {
         "alignmentgroup": "True",
         "hoverlabel": {
          "namelength": 0
         },
         "hovertemplate": "active_countries=United States,Canada<br>name=%{x}<br>victims=%{y}",
         "legendgroup": "United States,Canada",
         "marker": {
          "color": "#FF97FF"
         },
         "name": "United States,Canada",
         "offsetgroup": "United States,Canada",
         "orientation": "v",
         "showlegend": true,
         "textposition": "auto",
         "type": "bar",
         "x": [
          "Bobby Jack Fowler",
          "Michael Wayne McGray"
         ],
         "xaxis": "x",
         "y": [
          20,
          18
         ],
         "yaxis": "y"
        },
        {
         "alignmentgroup": "True",
         "hoverlabel": {
          "namelength": 0
         },
         "hovertemplate": "active_countries=Antigua<br>name=%{x}<br>victims=%{y}",
         "legendgroup": "Antigua",
         "marker": {
          "color": "#FECB52"
         },
         "name": "Antigua",
         "offsetgroup": "Antigua",
         "orientation": "v",
         "showlegend": true,
         "textposition": "auto",
         "type": "bar",
         "x": [
          "Delano Forbes"
         ],
         "xaxis": "x",
         "y": [
          4
         ],
         "yaxis": "y"
        },
        {
         "alignmentgroup": "True",
         "hoverlabel": {
          "namelength": 0
         },
         "hovertemplate": "active_countries=Brazil<br>name=%{x}<br>victims=%{y}",
         "legendgroup": "Brazil",
         "marker": {
          "color": "#636efa"
         },
         "name": "Brazil",
         "offsetgroup": "Brazil",
         "orientation": "v",
         "showlegend": true,
         "textposition": "auto",
         "type": "bar",
         "x": [
          "Pedro Rodrigues Filho",
          "Marcelo Andrade",
          "Francisco de Assis Pereira",
          "Paturis Park murders",
          "Thiago Henrique Gomes da Rocha"
         ],
         "xaxis": "x",
         "y": [
          100,
          14,
          11,
          13,
          39
         ],
         "yaxis": "y"
        },
        {
         "alignmentgroup": "True",
         "hoverlabel": {
          "namelength": 0
         },
         "hovertemplate": "active_countries=Czech Republic<br>name=%{x}<br>victims=%{y}",
         "legendgroup": "Czech Republic",
         "marker": {
          "color": "#EF553B"
         },
         "name": "Czech Republic",
         "offsetgroup": "Czech Republic",
         "orientation": "v",
         "showlegend": true,
         "textposition": "auto",
         "type": "bar",
         "x": [
          "Marie Fikáčková",
          "Hubert Pilčík",
          "Václav Mrázek",
          "Martin Lecián",
          "Ladislav Hojer",
          "Jiri Straka",
          "Miroslav Stehlik"
         ],
         "xaxis": "x",
         "y": [
          10,
          10,
          7,
          11,
          7,
          3,
          2
         ],
         "yaxis": "y"
        },
        {
         "alignmentgroup": "True",
         "hoverlabel": {
          "namelength": 0
         },
         "hovertemplate": "active_countries=Italy<br>name=%{x}<br>victims=%{y}",
         "legendgroup": "Italy",
         "marker": {
          "color": "#00cc96"
         },
         "name": "Italy",
         "offsetgroup": "Italy",
         "orientation": "v",
         "showlegend": true,
         "textposition": "auto",
         "type": "bar",
         "x": [
          "Leonarda Cianciulli",
          "Donato Bilancia",
          "Pietro Pacciani",
          "Monster of Udine"
         ],
         "xaxis": "x",
         "y": [
          3,
          17,
          16,
          16
         ],
         "yaxis": "y"
        },
        {
         "alignmentgroup": "True",
         "hoverlabel": {
          "namelength": 0
         },
         "hovertemplate": "active_countries=China<br>name=%{x}<br>victims=%{y}",
         "legendgroup": "China",
         "marker": {
          "color": "#ab63fa"
         },
         "name": "China",
         "offsetgroup": "China",
         "orientation": "v",
         "showlegend": true,
         "textposition": "auto",
         "type": "bar",
         "x": [
          "Gao Chengyong",
          "Bai Baoshan",
          "Wang Qiang",
          "Zhou Kehua",
          "Zhang Jun",
          "Zhang Yongming",
          "Huang Yong",
          "Yang Xinhai",
          "Gong Runbo"
         ],
         "xaxis": "x",
         "y": [
          11,
          15,
          45,
          10,
          28,
          17,
          25,
          67,
          20
         ],
         "yaxis": "y"
        },
        {
         "alignmentgroup": "True",
         "hoverlabel": {
          "namelength": 0
         },
         "hovertemplate": "active_countries=France,Germany,Spain,Czech Republic,Italy<br>name=%{x}<br>victims=%{y}",
         "legendgroup": "France,Germany,Spain,Czech Republic,Italy",
         "marker": {
          "color": "#FFA15A"
         },
         "name": "France,Germany,Spain,Czech Republic,Italy",
         "offsetgroup": "France,Germany,Spain,Czech Republic,Italy",
         "orientation": "v",
         "showlegend": true,
         "textposition": "auto",
         "type": "bar",
         "x": [
          "Volker Eckert"
         ],
         "xaxis": "x",
         "y": [
          19
         ],
         "yaxis": "y"
        },
        {
         "alignmentgroup": "True",
         "hoverlabel": {
          "namelength": 0
         },
         "hovertemplate": "active_countries=Belgium<br>name=%{x}<br>victims=%{y}",
         "legendgroup": "Belgium",
         "marker": {
          "color": "#19d3f3"
         },
         "name": "Belgium",
         "offsetgroup": "Belgium",
         "orientation": "v",
         "showlegend": true,
         "textposition": "auto",
         "type": "bar",
         "x": [
          "Marc Dutroux",
          "András Pándy"
         ],
         "xaxis": "x",
         "y": [
          11,
          14
         ],
         "yaxis": "y"
        },
        {
         "alignmentgroup": "True",
         "hoverlabel": {
          "namelength": 0
         },
         "hovertemplate": "active_countries=South Africa<br>name=%{x}<br>victims=%{y}",
         "legendgroup": "South Africa",
         "marker": {
          "color": "#FF6692"
         },
         "name": "South Africa",
         "offsetgroup": "South Africa",
         "orientation": "v",
         "showlegend": true,
         "textposition": "auto",
         "type": "bar",
         "x": [
          "Sibusiso Duma",
          "Asande Baninzi",
          "David Randitsheni",
          "Nicholas Lungisa Ncama",
          "Daisy de Melker",
          "Elifasi Msomi",
          "Jack Mogale",
          "Johannes Mashiane",
          "Jimmy Maketta",
          "Bulelani Mabhayi",
          "Cedric Maake",
          "Christopher Mhlengwa Zikode",
          "Elias Xitavhudzi",
          "Stewart Wilken",
          "Sipho Thwala",
          "Thozamile Taki",
          "Moses Sithole",
          "Norman Afzal Simons",
          "Samuel Sidyno",
          "Khangayi Sedumedi"
         ],
         "xaxis": "x",
         "y": [
          7,
          18,
          10,
          6,
          3,
          15,
          16,
          13,
          16,
          20,
          35,
          18,
          16,
          10,
          19,
          13,
          38,
          22,
          7,
          6
         ],
         "yaxis": "y"
        },
        {
         "alignmentgroup": "True",
         "hoverlabel": {
          "namelength": 0
         },
         "hovertemplate": "active_countries=Ukraine<br>name=%{x}<br>victims=%{y}",
         "legendgroup": "Ukraine",
         "marker": {
          "color": "#B6E880"
         },
         "name": "Ukraine",
         "offsetgroup": "Ukraine",
         "orientation": "v",
         "showlegend": true,
         "textposition": "auto",
         "type": "bar",
         "x": [
          "Sergei Dovzhenko"
         ],
         "xaxis": "x",
         "y": [
          19
         ],
         "yaxis": "y"
        },
        {
         "alignmentgroup": "True",
         "hoverlabel": {
          "namelength": 0
         },
         "hovertemplate": "active_countries=Colombia<br>name=%{x}<br>victims=%{y}",
         "legendgroup": "Colombia",
         "marker": {
          "color": "#FF97FF"
         },
         "name": "Colombia",
         "offsetgroup": "Colombia",
         "orientation": "v",
         "showlegend": true,
         "textposition": "auto",
         "type": "bar",
         "x": [
          "Manuel Octavio Bermúdez Estrada",
          "Daniel Camargo Barbosa",
          "Luis Garavito",
          "Luis Gregorio Ramírez Maestre"
         ],
         "xaxis": "x",
         "y": [
          50,
          150,
          300,
          30
         ],
         "yaxis": "y"
        },
        {
         "alignmentgroup": "True",
         "hoverlabel": {
          "namelength": 0
         },
         "hovertemplate": "active_countries=Mexico<br>name=%{x}<br>victims=%{y}",
         "legendgroup": "Mexico",
         "marker": {
          "color": "#FECB52"
         },
         "name": "Mexico",
         "offsetgroup": "Mexico",
         "orientation": "v",
         "showlegend": true,
         "textposition": "auto",
         "type": "bar",
         "x": [
          "Mario Alberto Sulú Canché",
          "José Luis Calva",
          "Juana Barraza",
          "Francisco Guerrero",
          "Daniel Audiel López Martínez",
          "Filiberto Hernández Martínez",
          "Raúl Osiel Marroquín Reyes",
          "Gabriel Garza Hoth"
         ],
         "xaxis": "x",
         "y": [
          3,
          8,
          49,
          21,
          8,
          6,
          4,
          3
         ],
         "yaxis": "y"
        },
        {
         "alignmentgroup": "True",
         "hoverlabel": {
          "namelength": 0
         },
         "hovertemplate": "active_countries=Namibia<br>name=%{x}<br>victims=%{y}",
         "legendgroup": "Namibia",
         "marker": {
          "color": "#636efa"
         },
         "name": "Namibia",
         "offsetgroup": "Namibia",
         "orientation": "v",
         "showlegend": true,
         "textposition": "auto",
         "type": "bar",
         "x": [
          "B1-Butcher"
         ],
         "xaxis": "x",
         "y": [
          5
         ],
         "yaxis": "y"
        },
        {
         "alignmentgroup": "True",
         "hoverlabel": {
          "namelength": 0
         },
         "hovertemplate": "active_countries=Turkey<br>name=%{x}<br>victims=%{y}",
         "legendgroup": "Turkey",
         "marker": {
          "color": "#EF553B"
         },
         "name": "Turkey",
         "offsetgroup": "Turkey",
         "orientation": "v",
         "showlegend": true,
         "textposition": "auto",
         "type": "bar",
         "x": [
          "Adnan Çolak",
          "Özgür Dengiz",
          "Süleyman Aktaş",
          "Ali Kaya",
          "Hamdi Kayapınar",
          "Yavuz Yapıcıoğlu"
         ],
         "xaxis": "x",
         "y": [
          11,
          3,
          5,
          10,
          8,
          40
         ],
         "yaxis": "y"
        },
        {
         "alignmentgroup": "True",
         "hoverlabel": {
          "namelength": 0
         },
         "hovertemplate": "active_countries=United States,United Kingdom<br>name=%{x}<br>victims=%{y}",
         "legendgroup": "United States,United Kingdom",
         "marker": {
          "color": "#00cc96"
         },
         "name": "United States,United Kingdom",
         "offsetgroup": "United States,United Kingdom",
         "orientation": "v",
         "showlegend": true,
         "textposition": "auto",
         "type": "bar",
         "x": [
          "Thomas Neill Cream"
         ],
         "xaxis": "x",
         "y": [
          8
         ],
         "yaxis": "y"
        },
        {
         "alignmentgroup": "True",
         "hoverlabel": {
          "namelength": 0
         },
         "hovertemplate": "active_countries=Portugal<br>name=%{x}<br>victims=%{y}",
         "legendgroup": "Portugal",
         "marker": {
          "color": "#ab63fa"
         },
         "name": "Portugal",
         "offsetgroup": "Portugal",
         "orientation": "v",
         "showlegend": true,
         "textposition": "auto",
         "type": "bar",
         "x": [
          "António Luís Costa"
         ],
         "xaxis": "x",
         "y": [
          3
         ],
         "yaxis": "y"
        },
        {
         "alignmentgroup": "True",
         "hoverlabel": {
          "namelength": 0
         },
         "hovertemplate": "active_countries=Iraq<br>name=%{x}<br>victims=%{y}",
         "legendgroup": "Iraq",
         "marker": {
          "color": "#FFA15A"
         },
         "name": "Iraq",
         "offsetgroup": "Iraq",
         "orientation": "v",
         "showlegend": true,
         "textposition": "auto",
         "type": "bar",
         "x": [
          "Asghar the Murderer"
         ],
         "xaxis": "x",
         "y": [
          33
         ],
         "yaxis": "y"
        },
        {
         "alignmentgroup": "True",
         "hoverlabel": {
          "namelength": 0
         },
         "hovertemplate": "active_countries=Israel<br>name=%{x}<br>victims=%{y}",
         "legendgroup": "Israel",
         "marker": {
          "color": "#19d3f3"
         },
         "name": "Israel",
         "offsetgroup": "Israel",
         "orientation": "v",
         "showlegend": true,
         "textposition": "auto",
         "type": "bar",
         "x": [
          "Nicolai Bonner"
         ],
         "xaxis": "x",
         "y": [
          4
         ],
         "yaxis": "y"
        },
        {
         "alignmentgroup": "True",
         "hoverlabel": {
          "namelength": 0
         },
         "hovertemplate": "active_countries=Austria<br>name=%{x}<br>victims=%{y}",
         "legendgroup": "Austria",
         "marker": {
          "color": "#FF6692"
         },
         "name": "Austria",
         "offsetgroup": "Austria",
         "orientation": "v",
         "showlegend": true,
         "textposition": "auto",
         "type": "bar",
         "x": [
          "Elfriede Blauensteiner"
         ],
         "xaxis": "x",
         "y": [
          5
         ],
         "yaxis": "y"
        },
        {
         "alignmentgroup": "True",
         "hoverlabel": {
          "namelength": 0
         },
         "hovertemplate": "active_countries=Pakistan<br>name=%{x}<br>victims=%{y}",
         "legendgroup": "Pakistan",
         "marker": {
          "color": "#B6E880"
         },
         "name": "Pakistan",
         "offsetgroup": "Pakistan",
         "orientation": "v",
         "showlegend": true,
         "textposition": "auto",
         "type": "bar",
         "x": [
          "Javed Iqbal",
          "Amir Qayyum"
         ],
         "xaxis": "x",
         "y": [
          100,
          14
         ],
         "yaxis": "y"
        },
        {
         "alignmentgroup": "True",
         "hoverlabel": {
          "namelength": 0
         },
         "hovertemplate": "active_countries=Poland<br>name=%{x}<br>victims=%{y}",
         "legendgroup": "Poland",
         "marker": {
          "color": "#FF97FF"
         },
         "name": "Poland",
         "offsetgroup": "Poland",
         "orientation": "v",
         "showlegend": true,
         "textposition": "auto",
         "type": "bar",
         "x": [
          "Joachim Knychała",
          "Władysław Mazurkiewicz",
          "Stanisław Modzelewski",
          "Zdzisław Marchwicki"
         ],
         "xaxis": "x",
         "y": [
          5,
          30,
          8,
          21
         ],
         "yaxis": "y"
        },
        {
         "alignmentgroup": "True",
         "hoverlabel": {
          "namelength": 0
         },
         "hovertemplate": "active_countries=Hong Kong<br>name=%{x}<br>victims=%{y}",
         "legendgroup": "Hong Kong",
         "marker": {
          "color": "#FECB52"
         },
         "name": "Hong Kong",
         "offsetgroup": "Hong Kong",
         "orientation": "v",
         "showlegend": true,
         "textposition": "auto",
         "type": "bar",
         "x": [
          "Lam Kor-wan",
          "Lam Kwok-wai"
         ],
         "xaxis": "x",
         "y": [
          4,
          3
         ],
         "yaxis": "y"
        },
        {
         "alignmentgroup": "True",
         "hoverlabel": {
          "namelength": 0
         },
         "hovertemplate": "active_countries=India<br>name=%{x}<br>victims=%{y}",
         "legendgroup": "India",
         "marker": {
          "color": "#636efa"
         },
         "name": "India",
         "offsetgroup": "India",
         "orientation": "v",
         "showlegend": true,
         "textposition": "auto",
         "type": "bar",
         "x": [
          "Noida serial murders",
          "Umesh Reddy",
          "Motta Navas",
          "Kaluwa Patel",
          "KD Kempamma",
          "Mohan Kumar",
          "Sunil Kumar",
          "Aadesh Khamra",
          "Ripper Jayanandan",
          "M. Jaishankar",
          "Akku Yadav",
          "Satish"
         ],
         "xaxis": "x",
         "y": [
          19,
          18,
          7,
          10,
          6,
          20,
          15,
          34,
          7,
          19,
          3,
          10
         ],
         "yaxis": "y"
        },
        {
         "alignmentgroup": "True",
         "hoverlabel": {
          "namelength": 0
         },
         "hovertemplate": "active_countries=Russia,Ukraine<br>name=%{x}<br>victims=%{y}",
         "legendgroup": "Russia,Ukraine",
         "marker": {
          "color": "#EF553B"
         },
         "name": "Russia,Ukraine",
         "offsetgroup": "Russia,Ukraine",
         "orientation": "v",
         "showlegend": true,
         "textposition": "auto",
         "type": "bar",
         "x": [
          "Bakhtiyor Matyakubov",
          "Anatoly Onoprienko",
          "Serhiy Tkach"
         ],
         "xaxis": "x",
         "y": [
          11,
          52,
          100
         ],
         "yaxis": "y"
        },
        {
         "alignmentgroup": "True",
         "hoverlabel": {
          "namelength": 0
         },
         "hovertemplate": "active_countries=Croatia<br>name=%{x}<br>victims=%{y}",
         "legendgroup": "Croatia",
         "marker": {
          "color": "#00cc96"
         },
         "name": "Croatia",
         "offsetgroup": "Croatia",
         "orientation": "v",
         "showlegend": true,
         "textposition": "auto",
         "type": "bar",
         "x": [
          "Vinko Pintarić"
         ],
         "xaxis": "x",
         "y": [
          5
         ],
         "yaxis": "y"
        },
        {
         "alignmentgroup": "True",
         "hoverlabel": {
          "namelength": 0
         },
         "hovertemplate": "active_countries=Slovenia<br>name=%{x}<br>victims=%{y}",
         "legendgroup": "Slovenia",
         "marker": {
          "color": "#ab63fa"
         },
         "name": "Slovenia",
         "offsetgroup": "Slovenia",
         "orientation": "v",
         "showlegend": true,
         "textposition": "auto",
         "type": "bar",
         "x": [
          "Silvo Plut",
          "Metod Trobec"
         ],
         "xaxis": "x",
         "y": [
          3,
          5
         ],
         "yaxis": "y"
        },
        {
         "alignmentgroup": "True",
         "hoverlabel": {
          "namelength": 0
         },
         "hovertemplate": "active_countries=Latvia<br>name=%{x}<br>victims=%{y}",
         "legendgroup": "Latvia",
         "marker": {
          "color": "#FFA15A"
         },
         "name": "Latvia",
         "offsetgroup": "Latvia",
         "orientation": "v",
         "showlegend": true,
         "textposition": "auto",
         "type": "bar",
         "x": [
          "Kaspars Petrovs"
         ],
         "xaxis": "x",
         "y": [
          38
         ],
         "yaxis": "y"
        },
        {
         "alignmentgroup": "True",
         "hoverlabel": {
          "namelength": 0
         },
         "hovertemplate": "active_countries=Denmark<br>name=%{x}<br>victims=%{y}",
         "legendgroup": "Denmark",
         "marker": {
          "color": "#19d3f3"
         },
         "name": "Denmark",
         "offsetgroup": "Denmark",
         "orientation": "v",
         "showlegend": true,
         "textposition": "auto",
         "type": "bar",
         "x": [
          "Dagmar Overbye",
          "Peter Lundin"
         ],
         "xaxis": "x",
         "y": [
          15,
          4
         ],
         "yaxis": "y"
        },
        {
         "alignmentgroup": "True",
         "hoverlabel": {
          "namelength": 0
         },
         "hovertemplate": "active_countries=Thailand<br>name=%{x}<br>victims=%{y}",
         "legendgroup": "Thailand",
         "marker": {
          "color": "#FF6692"
         },
         "name": "Thailand",
         "offsetgroup": "Thailand",
         "orientation": "v",
         "showlegend": true,
         "textposition": "auto",
         "type": "bar",
         "x": [
          "Apichai Ongwisit"
         ],
         "xaxis": "x",
         "y": [
          3
         ],
         "yaxis": "y"
        },
        {
         "alignmentgroup": "True",
         "hoverlabel": {
          "namelength": 0
         },
         "hovertemplate": "active_countries=Cyprus<br>name=%{x}<br>victims=%{y}",
         "legendgroup": "Cyprus",
         "marker": {
          "color": "#B6E880"
         },
         "name": "Cyprus",
         "offsetgroup": "Cyprus",
         "orientation": "v",
         "showlegend": true,
         "textposition": "auto",
         "type": "bar",
         "x": [
          "Nikos Metaxas"
         ],
         "xaxis": "x",
         "y": [
          7
         ],
         "yaxis": "y"
        },
        {
         "alignmentgroup": "True",
         "hoverlabel": {
          "namelength": 0
         },
         "hovertemplate": "active_countries=United States,Germany<br>name=%{x}<br>victims=%{y}",
         "legendgroup": "United States,Germany",
         "marker": {
          "color": "#FF97FF"
         },
         "name": "United States,Germany",
         "offsetgroup": "United States,Germany",
         "orientation": "v",
         "showlegend": true,
         "textposition": "auto",
         "type": "bar",
         "x": [
          "David Edward Maust"
         ],
         "xaxis": "x",
         "y": [
          9
         ],
         "yaxis": "y"
        },
        {
         "alignmentgroup": "True",
         "hoverlabel": {
          "namelength": 0
         },
         "hovertemplate": "active_countries=Egypt<br>name=%{x}<br>victims=%{y}",
         "legendgroup": "Egypt",
         "marker": {
          "color": "#FECB52"
         },
         "name": "Egypt",
         "offsetgroup": "Egypt",
         "orientation": "v",
         "showlegend": true,
         "textposition": "auto",
         "type": "bar",
         "x": [
          "Ramadan Abdel Rehim Mansour"
         ],
         "xaxis": "x",
         "y": [
          32
         ],
         "yaxis": "y"
        },
        {
         "alignmentgroup": "True",
         "hoverlabel": {
          "namelength": 0
         },
         "hovertemplate": "active_countries=Peru<br>name=%{x}<br>victims=%{y}",
         "legendgroup": "Peru",
         "marker": {
          "color": "#636efa"
         },
         "name": "Peru",
         "offsetgroup": "Peru",
         "orientation": "v",
         "showlegend": true,
         "textposition": "auto",
         "type": "bar",
         "x": [
          "Pedro Pablo Nakada Ludeña"
         ],
         "xaxis": "x",
         "y": [
          25
         ],
         "yaxis": "y"
        },
        {
         "alignmentgroup": "True",
         "hoverlabel": {
          "namelength": 0
         },
         "hovertemplate": "active_countries=Japan,China<br>name=%{x}<br>victims=%{y}",
         "legendgroup": "Japan,China",
         "marker": {
          "color": "#EF553B"
         },
         "name": "Japan,China",
         "offsetgroup": "Japan,China",
         "orientation": "v",
         "showlegend": true,
         "textposition": "auto",
         "type": "bar",
         "x": [
          "Yoshio Kodaira"
         ],
         "xaxis": "x",
         "y": [
          11
         ],
         "yaxis": "y"
        },
        {
         "alignmentgroup": "True",
         "hoverlabel": {
          "namelength": 0
         },
         "hovertemplate": "active_countries=Colombia,Peru<br>name=%{x}<br>victims=%{y}",
         "legendgroup": "Colombia,Peru",
         "marker": {
          "color": "#00cc96"
         },
         "name": "Colombia,Peru",
         "offsetgroup": "Colombia,Peru",
         "orientation": "v",
         "showlegend": true,
         "textposition": "auto",
         "type": "bar",
         "x": [
          "Pedro López"
         ],
         "xaxis": "x",
         "y": [
          300
         ],
         "yaxis": "y"
        },
        {
         "alignmentgroup": "True",
         "hoverlabel": {
          "namelength": 0
         },
         "hovertemplate": "active_countries=Sweden<br>name=%{x}<br>victims=%{y}",
         "legendgroup": "Sweden",
         "marker": {
          "color": "#ab63fa"
         },
         "name": "Sweden",
         "offsetgroup": "Sweden",
         "orientation": "v",
         "showlegend": true,
         "textposition": "auto",
         "type": "bar",
         "x": [
          "John Ingvar Lövgren"
         ],
         "xaxis": "x",
         "y": [
          4
         ],
         "yaxis": "y"
        },
        {
         "alignmentgroup": "True",
         "hoverlabel": {
          "namelength": 0
         },
         "hovertemplate": "active_countries=South Korea<br>name=%{x}<br>victims=%{y}",
         "legendgroup": "South Korea",
         "marker": {
          "color": "#FFA15A"
         },
         "name": "South Korea",
         "offsetgroup": "South Korea",
         "orientation": "v",
         "showlegend": true,
         "textposition": "auto",
         "type": "bar",
         "x": [
          "Hwaseong serial murders",
          "Kang Ho-sun",
          "Yoo Young-chul"
         ],
         "xaxis": "x",
         "y": [
          10,
          10,
          26
         ],
         "yaxis": "y"
        },
        {
         "alignmentgroup": "True",
         "hoverlabel": {
          "namelength": 0
         },
         "hovertemplate": "active_countries=Hungary<br>name=%{x}<br>victims=%{y}",
         "legendgroup": "Hungary",
         "marker": {
          "color": "#19d3f3"
         },
         "name": "Hungary",
         "offsetgroup": "Hungary",
         "orientation": "v",
         "showlegend": true,
         "textposition": "auto",
         "type": "bar",
         "x": [
          "Béla Kiss"
         ],
         "xaxis": "x",
         "y": [
          24
         ],
         "yaxis": "y"
        },
        {
         "alignmentgroup": "True",
         "hoverlabel": {
          "namelength": 0
         },
         "hovertemplate": "active_countries=Panama<br>name=%{x}<br>victims=%{y}",
         "legendgroup": "Panama",
         "marker": {
          "color": "#FF6692"
         },
         "name": "Panama",
         "offsetgroup": "Panama",
         "orientation": "v",
         "showlegend": true,
         "textposition": "auto",
         "type": "bar",
         "x": [
          "William Dathan Holbert"
         ],
         "xaxis": "x",
         "y": [
          5
         ],
         "yaxis": "y"
        },
        {
         "alignmentgroup": "True",
         "hoverlabel": {
          "namelength": 0
         },
         "hovertemplate": "active_countries=France,India,Turkey,Greece,Afghanistan,Thailand<br>name=%{x}<br>victims=%{y}",
         "legendgroup": "France,India,Turkey,Greece,Afghanistan,Thailand",
         "marker": {
          "color": "#B6E880"
         },
         "name": "France,India,Turkey,Greece,Afghanistan,Thailand",
         "offsetgroup": "France,India,Turkey,Greece,Afghanistan,Thailand",
         "orientation": "v",
         "showlegend": true,
         "textposition": "auto",
         "type": "bar",
         "x": [
          "Charles Sobhraj"
         ],
         "xaxis": "x",
         "y": [
          13
         ],
         "yaxis": "y"
        },
        {
         "alignmentgroup": "True",
         "hoverlabel": {
          "namelength": 0
         },
         "hovertemplate": "active_countries=Romania<br>name=%{x}<br>victims=%{y}",
         "legendgroup": "Romania",
         "marker": {
          "color": "#FF97FF"
         },
         "name": "Romania",
         "offsetgroup": "Romania",
         "orientation": "v",
         "showlegend": true,
         "textposition": "auto",
         "type": "bar",
         "x": [
          "Vasile Tcaciuc",
          "Romulus Vereș",
          "Ion Rîmaru"
         ],
         "xaxis": "x",
         "y": [
          26,
          5,
          4
         ],
         "yaxis": "y"
        },
        {
         "alignmentgroup": "True",
         "hoverlabel": {
          "namelength": 0
         },
         "hovertemplate": "active_countries=France,Spain,Italy<br>name=%{x}<br>victims=%{y}",
         "legendgroup": "France,Spain,Italy",
         "marker": {
          "color": "#FECB52"
         },
         "name": "France,Spain,Italy",
         "offsetgroup": "France,Spain,Italy",
         "orientation": "v",
         "showlegend": true,
         "textposition": "auto",
         "type": "bar",
         "x": [
          "Manuel Delgado Villegas"
         ],
         "xaxis": "x",
         "y": [
          48
         ],
         "yaxis": "y"
        },
        {
         "alignmentgroup": "True",
         "hoverlabel": {
          "namelength": 0
         },
         "hovertemplate": "active_countries=Venezuela<br>name=%{x}<br>victims=%{y}",
         "legendgroup": "Venezuela",
         "marker": {
          "color": "#636efa"
         },
         "name": "Venezuela",
         "offsetgroup": "Venezuela",
         "orientation": "v",
         "showlegend": true,
         "textposition": "auto",
         "type": "bar",
         "x": [
          "Dorangel Vargas"
         ],
         "xaxis": "x",
         "y": [
          10
         ],
         "yaxis": "y"
        },
        {
         "alignmentgroup": "True",
         "hoverlabel": {
          "namelength": 0
         },
         "hovertemplate": "active_countries=United States,Czech Republic,Austria<br>name=%{x}<br>victims=%{y}",
         "legendgroup": "United States,Czech Republic,Austria",
         "marker": {
          "color": "#EF553B"
         },
         "name": "United States,Czech Republic,Austria",
         "offsetgroup": "United States,Czech Republic,Austria",
         "orientation": "v",
         "showlegend": true,
         "textposition": "auto",
         "type": "bar",
         "x": [
          "Jack Unterweger"
         ],
         "xaxis": "x",
         "y": [
          12
         ],
         "yaxis": "y"
        },
        {
         "alignmentgroup": "True",
         "hoverlabel": {
          "namelength": 0
         },
         "hovertemplate": "active_countries=North Macedonia<br>name=%{x}<br>victims=%{y}",
         "legendgroup": "North Macedonia",
         "marker": {
          "color": "#00cc96"
         },
         "name": "North Macedonia",
         "offsetgroup": "North Macedonia",
         "orientation": "v",
         "showlegend": true,
         "textposition": "auto",
         "type": "bar",
         "x": [
          "Vlado Taneski"
         ],
         "xaxis": "x",
         "y": [
          4
         ],
         "yaxis": "y"
        },
        {
         "alignmentgroup": "True",
         "hoverlabel": {
          "namelength": 0
         },
         "hovertemplate": "active_countries=France,Italy<br>name=%{x}<br>victims=%{y}",
         "legendgroup": "France,Italy",
         "marker": {
          "color": "#ab63fa"
         },
         "name": "France,Italy",
         "offsetgroup": "France,Italy",
         "orientation": "v",
         "showlegend": true,
         "textposition": "auto",
         "type": "bar",
         "x": [
          "Roberto Succo"
         ],
         "xaxis": "x",
         "y": [
          7
         ],
         "yaxis": "y"
        },
        {
         "alignmentgroup": "True",
         "hoverlabel": {
          "namelength": 0
         },
         "hovertemplate": "active_countries=Czech Republic,Slovakia<br>name=%{x}<br>victims=%{y}",
         "legendgroup": "Czech Republic,Slovakia",
         "marker": {
          "color": "#FFA15A"
         },
         "name": "Czech Republic,Slovakia",
         "offsetgroup": "Czech Republic,Slovakia",
         "orientation": "v",
         "showlegend": true,
         "textposition": "auto",
         "type": "bar",
         "x": [
          "Jozef Slovák"
         ],
         "xaxis": "x",
         "y": [
          5
         ],
         "yaxis": "y"
        },
        {
         "alignmentgroup": "True",
         "hoverlabel": {
          "namelength": 0
         },
         "hovertemplate": "active_countries=Swaziland<br>name=%{x}<br>victims=%{y}",
         "legendgroup": "Swaziland",
         "marker": {
          "color": "#19d3f3"
         },
         "name": "Swaziland",
         "offsetgroup": "Swaziland",
         "orientation": "v",
         "showlegend": true,
         "textposition": "auto",
         "type": "bar",
         "x": [
          "David Thabo Simelane"
         ],
         "xaxis": "x",
         "y": [
          45
         ],
         "yaxis": "y"
        },
        {
         "alignmentgroup": "True",
         "hoverlabel": {
          "namelength": 0
         },
         "hovertemplate": "active_countries=Chile<br>name=%{x}<br>victims=%{y}",
         "legendgroup": "Chile",
         "marker": {
          "color": "#FF6692"
         },
         "name": "Chile",
         "offsetgroup": "Chile",
         "orientation": "v",
         "showlegend": true,
         "textposition": "auto",
         "type": "bar",
         "x": [
          "Julio Pérez Silva"
         ],
         "xaxis": "x",
         "y": [
          14
         ],
         "yaxis": "y"
        },
        {
         "alignmentgroup": "True",
         "hoverlabel": {
          "namelength": 0
         },
         "hovertemplate": "active_countries=Afghanistan<br>name=%{x}<br>victims=%{y}",
         "legendgroup": "Afghanistan",
         "marker": {
          "color": "#B6E880"
         },
         "name": "Afghanistan",
         "offsetgroup": "Afghanistan",
         "orientation": "v",
         "showlegend": true,
         "textposition": "auto",
         "type": "bar",
         "x": [
          "Abdullah Shah"
         ],
         "xaxis": "x",
         "y": [
          20
         ],
         "yaxis": "y"
        },
        {
         "alignmentgroup": "True",
         "hoverlabel": {
          "namelength": 0
         },
         "hovertemplate": "active_countries=Germany,Slovakia<br>name=%{x}<br>victims=%{y}",
         "legendgroup": "Germany,Slovakia",
         "marker": {
          "color": "#FF97FF"
         },
         "name": "Germany,Slovakia",
         "offsetgroup": "Germany,Slovakia",
         "orientation": "v",
         "showlegend": true,
         "textposition": "auto",
         "type": "bar",
         "x": [
          "Ondrej Rigo"
         ],
         "xaxis": "x",
         "y": [
          9
         ],
         "yaxis": "y"
        }
       ],
       "layout": {
        "barmode": "relative",
        "height": 1000,
        "legend": {
         "title": {
          "text": "active_countries"
         },
         "tracegroupgap": 0
        },
        "margin": {
         "t": 60
        },
        "template": {
         "data": {
          "bar": [
           {
            "error_x": {
             "color": "#2a3f5f"
            },
            "error_y": {
             "color": "#2a3f5f"
            },
            "marker": {
             "line": {
              "color": "#E5ECF6",
              "width": 0.5
             }
            },
            "type": "bar"
           }
          ],
          "barpolar": [
           {
            "marker": {
             "line": {
              "color": "#E5ECF6",
              "width": 0.5
             }
            },
            "type": "barpolar"
           }
          ],
          "carpet": [
           {
            "aaxis": {
             "endlinecolor": "#2a3f5f",
             "gridcolor": "white",
             "linecolor": "white",
             "minorgridcolor": "white",
             "startlinecolor": "#2a3f5f"
            },
            "baxis": {
             "endlinecolor": "#2a3f5f",
             "gridcolor": "white",
             "linecolor": "white",
             "minorgridcolor": "white",
             "startlinecolor": "#2a3f5f"
            },
            "type": "carpet"
           }
          ],
          "choropleth": [
           {
            "colorbar": {
             "outlinewidth": 0,
             "ticks": ""
            },
            "type": "choropleth"
           }
          ],
          "contour": [
           {
            "colorbar": {
             "outlinewidth": 0,
             "ticks": ""
            },
            "colorscale": [
             [
              0,
              "#0d0887"
             ],
             [
              0.1111111111111111,
              "#46039f"
             ],
             [
              0.2222222222222222,
              "#7201a8"
             ],
             [
              0.3333333333333333,
              "#9c179e"
             ],
             [
              0.4444444444444444,
              "#bd3786"
             ],
             [
              0.5555555555555556,
              "#d8576b"
             ],
             [
              0.6666666666666666,
              "#ed7953"
             ],
             [
              0.7777777777777778,
              "#fb9f3a"
             ],
             [
              0.8888888888888888,
              "#fdca26"
             ],
             [
              1,
              "#f0f921"
             ]
            ],
            "type": "contour"
           }
          ],
          "contourcarpet": [
           {
            "colorbar": {
             "outlinewidth": 0,
             "ticks": ""
            },
            "type": "contourcarpet"
           }
          ],
          "heatmap": [
           {
            "colorbar": {
             "outlinewidth": 0,
             "ticks": ""
            },
            "colorscale": [
             [
              0,
              "#0d0887"
             ],
             [
              0.1111111111111111,
              "#46039f"
             ],
             [
              0.2222222222222222,
              "#7201a8"
             ],
             [
              0.3333333333333333,
              "#9c179e"
             ],
             [
              0.4444444444444444,
              "#bd3786"
             ],
             [
              0.5555555555555556,
              "#d8576b"
             ],
             [
              0.6666666666666666,
              "#ed7953"
             ],
             [
              0.7777777777777778,
              "#fb9f3a"
             ],
             [
              0.8888888888888888,
              "#fdca26"
             ],
             [
              1,
              "#f0f921"
             ]
            ],
            "type": "heatmap"
           }
          ],
          "heatmapgl": [
           {
            "colorbar": {
             "outlinewidth": 0,
             "ticks": ""
            },
            "colorscale": [
             [
              0,
              "#0d0887"
             ],
             [
              0.1111111111111111,
              "#46039f"
             ],
             [
              0.2222222222222222,
              "#7201a8"
             ],
             [
              0.3333333333333333,
              "#9c179e"
             ],
             [
              0.4444444444444444,
              "#bd3786"
             ],
             [
              0.5555555555555556,
              "#d8576b"
             ],
             [
              0.6666666666666666,
              "#ed7953"
             ],
             [
              0.7777777777777778,
              "#fb9f3a"
             ],
             [
              0.8888888888888888,
              "#fdca26"
             ],
             [
              1,
              "#f0f921"
             ]
            ],
            "type": "heatmapgl"
           }
          ],
          "histogram": [
           {
            "marker": {
             "colorbar": {
              "outlinewidth": 0,
              "ticks": ""
             }
            },
            "type": "histogram"
           }
          ],
          "histogram2d": [
           {
            "colorbar": {
             "outlinewidth": 0,
             "ticks": ""
            },
            "colorscale": [
             [
              0,
              "#0d0887"
             ],
             [
              0.1111111111111111,
              "#46039f"
             ],
             [
              0.2222222222222222,
              "#7201a8"
             ],
             [
              0.3333333333333333,
              "#9c179e"
             ],
             [
              0.4444444444444444,
              "#bd3786"
             ],
             [
              0.5555555555555556,
              "#d8576b"
             ],
             [
              0.6666666666666666,
              "#ed7953"
             ],
             [
              0.7777777777777778,
              "#fb9f3a"
             ],
             [
              0.8888888888888888,
              "#fdca26"
             ],
             [
              1,
              "#f0f921"
             ]
            ],
            "type": "histogram2d"
           }
          ],
          "histogram2dcontour": [
           {
            "colorbar": {
             "outlinewidth": 0,
             "ticks": ""
            },
            "colorscale": [
             [
              0,
              "#0d0887"
             ],
             [
              0.1111111111111111,
              "#46039f"
             ],
             [
              0.2222222222222222,
              "#7201a8"
             ],
             [
              0.3333333333333333,
              "#9c179e"
             ],
             [
              0.4444444444444444,
              "#bd3786"
             ],
             [
              0.5555555555555556,
              "#d8576b"
             ],
             [
              0.6666666666666666,
              "#ed7953"
             ],
             [
              0.7777777777777778,
              "#fb9f3a"
             ],
             [
              0.8888888888888888,
              "#fdca26"
             ],
             [
              1,
              "#f0f921"
             ]
            ],
            "type": "histogram2dcontour"
           }
          ],
          "mesh3d": [
           {
            "colorbar": {
             "outlinewidth": 0,
             "ticks": ""
            },
            "type": "mesh3d"
           }
          ],
          "parcoords": [
           {
            "line": {
             "colorbar": {
              "outlinewidth": 0,
              "ticks": ""
             }
            },
            "type": "parcoords"
           }
          ],
          "pie": [
           {
            "automargin": true,
            "type": "pie"
           }
          ],
          "scatter": [
           {
            "marker": {
             "colorbar": {
              "outlinewidth": 0,
              "ticks": ""
             }
            },
            "type": "scatter"
           }
          ],
          "scatter3d": [
           {
            "line": {
             "colorbar": {
              "outlinewidth": 0,
              "ticks": ""
             }
            },
            "marker": {
             "colorbar": {
              "outlinewidth": 0,
              "ticks": ""
             }
            },
            "type": "scatter3d"
           }
          ],
          "scattercarpet": [
           {
            "marker": {
             "colorbar": {
              "outlinewidth": 0,
              "ticks": ""
             }
            },
            "type": "scattercarpet"
           }
          ],
          "scattergeo": [
           {
            "marker": {
             "colorbar": {
              "outlinewidth": 0,
              "ticks": ""
             }
            },
            "type": "scattergeo"
           }
          ],
          "scattergl": [
           {
            "marker": {
             "colorbar": {
              "outlinewidth": 0,
              "ticks": ""
             }
            },
            "type": "scattergl"
           }
          ],
          "scattermapbox": [
           {
            "marker": {
             "colorbar": {
              "outlinewidth": 0,
              "ticks": ""
             }
            },
            "type": "scattermapbox"
           }
          ],
          "scatterpolar": [
           {
            "marker": {
             "colorbar": {
              "outlinewidth": 0,
              "ticks": ""
             }
            },
            "type": "scatterpolar"
           }
          ],
          "scatterpolargl": [
           {
            "marker": {
             "colorbar": {
              "outlinewidth": 0,
              "ticks": ""
             }
            },
            "type": "scatterpolargl"
           }
          ],
          "scatterternary": [
           {
            "marker": {
             "colorbar": {
              "outlinewidth": 0,
              "ticks": ""
             }
            },
            "type": "scatterternary"
           }
          ],
          "surface": [
           {
            "colorbar": {
             "outlinewidth": 0,
             "ticks": ""
            },
            "colorscale": [
             [
              0,
              "#0d0887"
             ],
             [
              0.1111111111111111,
              "#46039f"
             ],
             [
              0.2222222222222222,
              "#7201a8"
             ],
             [
              0.3333333333333333,
              "#9c179e"
             ],
             [
              0.4444444444444444,
              "#bd3786"
             ],
             [
              0.5555555555555556,
              "#d8576b"
             ],
             [
              0.6666666666666666,
              "#ed7953"
             ],
             [
              0.7777777777777778,
              "#fb9f3a"
             ],
             [
              0.8888888888888888,
              "#fdca26"
             ],
             [
              1,
              "#f0f921"
             ]
            ],
            "type": "surface"
           }
          ],
          "table": [
           {
            "cells": {
             "fill": {
              "color": "#EBF0F8"
             },
             "line": {
              "color": "white"
             }
            },
            "header": {
             "fill": {
              "color": "#C8D4E3"
             },
             "line": {
              "color": "white"
             }
            },
            "type": "table"
           }
          ]
         },
         "layout": {
          "annotationdefaults": {
           "arrowcolor": "#2a3f5f",
           "arrowhead": 0,
           "arrowwidth": 1
          },
          "coloraxis": {
           "colorbar": {
            "outlinewidth": 0,
            "ticks": ""
           }
          },
          "colorscale": {
           "diverging": [
            [
             0,
             "#8e0152"
            ],
            [
             0.1,
             "#c51b7d"
            ],
            [
             0.2,
             "#de77ae"
            ],
            [
             0.3,
             "#f1b6da"
            ],
            [
             0.4,
             "#fde0ef"
            ],
            [
             0.5,
             "#f7f7f7"
            ],
            [
             0.6,
             "#e6f5d0"
            ],
            [
             0.7,
             "#b8e186"
            ],
            [
             0.8,
             "#7fbc41"
            ],
            [
             0.9,
             "#4d9221"
            ],
            [
             1,
             "#276419"
            ]
           ],
           "sequential": [
            [
             0,
             "#0d0887"
            ],
            [
             0.1111111111111111,
             "#46039f"
            ],
            [
             0.2222222222222222,
             "#7201a8"
            ],
            [
             0.3333333333333333,
             "#9c179e"
            ],
            [
             0.4444444444444444,
             "#bd3786"
            ],
            [
             0.5555555555555556,
             "#d8576b"
            ],
            [
             0.6666666666666666,
             "#ed7953"
            ],
            [
             0.7777777777777778,
             "#fb9f3a"
            ],
            [
             0.8888888888888888,
             "#fdca26"
            ],
            [
             1,
             "#f0f921"
            ]
           ],
           "sequentialminus": [
            [
             0,
             "#0d0887"
            ],
            [
             0.1111111111111111,
             "#46039f"
            ],
            [
             0.2222222222222222,
             "#7201a8"
            ],
            [
             0.3333333333333333,
             "#9c179e"
            ],
            [
             0.4444444444444444,
             "#bd3786"
            ],
            [
             0.5555555555555556,
             "#d8576b"
            ],
            [
             0.6666666666666666,
             "#ed7953"
            ],
            [
             0.7777777777777778,
             "#fb9f3a"
            ],
            [
             0.8888888888888888,
             "#fdca26"
            ],
            [
             1,
             "#f0f921"
            ]
           ]
          },
          "colorway": [
           "#636efa",
           "#EF553B",
           "#00cc96",
           "#ab63fa",
           "#FFA15A",
           "#19d3f3",
           "#FF6692",
           "#B6E880",
           "#FF97FF",
           "#FECB52"
          ],
          "font": {
           "color": "#2a3f5f"
          },
          "geo": {
           "bgcolor": "white",
           "lakecolor": "white",
           "landcolor": "#E5ECF6",
           "showlakes": true,
           "showland": true,
           "subunitcolor": "white"
          },
          "hoverlabel": {
           "align": "left"
          },
          "hovermode": "closest",
          "mapbox": {
           "style": "light"
          },
          "paper_bgcolor": "white",
          "plot_bgcolor": "#E5ECF6",
          "polar": {
           "angularaxis": {
            "gridcolor": "white",
            "linecolor": "white",
            "ticks": ""
           },
           "bgcolor": "#E5ECF6",
           "radialaxis": {
            "gridcolor": "white",
            "linecolor": "white",
            "ticks": ""
           }
          },
          "scene": {
           "xaxis": {
            "backgroundcolor": "#E5ECF6",
            "gridcolor": "white",
            "gridwidth": 2,
            "linecolor": "white",
            "showbackground": true,
            "ticks": "",
            "zerolinecolor": "white"
           },
           "yaxis": {
            "backgroundcolor": "#E5ECF6",
            "gridcolor": "white",
            "gridwidth": 2,
            "linecolor": "white",
            "showbackground": true,
            "ticks": "",
            "zerolinecolor": "white"
           },
           "zaxis": {
            "backgroundcolor": "#E5ECF6",
            "gridcolor": "white",
            "gridwidth": 2,
            "linecolor": "white",
            "showbackground": true,
            "ticks": "",
            "zerolinecolor": "white"
           }
          },
          "shapedefaults": {
           "line": {
            "color": "#2a3f5f"
           }
          },
          "ternary": {
           "aaxis": {
            "gridcolor": "white",
            "linecolor": "white",
            "ticks": ""
           },
           "baxis": {
            "gridcolor": "white",
            "linecolor": "white",
            "ticks": ""
           },
           "bgcolor": "#E5ECF6",
           "caxis": {
            "gridcolor": "white",
            "linecolor": "white",
            "ticks": ""
           }
          },
          "title": {
           "x": 0.05
          },
          "xaxis": {
           "automargin": true,
           "gridcolor": "white",
           "linecolor": "white",
           "ticks": "",
           "title": {
            "standoff": 15
           },
           "zerolinecolor": "white",
           "zerolinewidth": 2
          },
          "yaxis": {
           "automargin": true,
           "gridcolor": "white",
           "linecolor": "white",
           "ticks": "",
           "title": {
            "standoff": 15
           },
           "zerolinecolor": "white",
           "zerolinewidth": 2
          }
         }
        },
        "xaxis": {
         "anchor": "y",
         "domain": [
          0,
          1
         ],
         "title": {
          "text": "name"
         }
        },
        "yaxis": {
         "anchor": "x",
         "domain": [
          0,
          1
         ],
         "title": {
          "text": "victims"
         }
        }
       }
      },
      "text/html": [
       "<div>\n",
       "        \n",
       "        \n",
       "            <div id=\"c8eab6a7-e594-463d-84f3-fe22757bde6e\" class=\"plotly-graph-div\" style=\"height:1000px; width:100%;\"></div>\n",
       "            <script type=\"text/javascript\">\n",
       "                require([\"plotly\"], function(Plotly) {\n",
       "                    window.PLOTLYENV=window.PLOTLYENV || {};\n",
       "                    \n",
       "                if (document.getElementById(\"c8eab6a7-e594-463d-84f3-fe22757bde6e\")) {\n",
       "                    Plotly.newPlot(\n",
       "                        'c8eab6a7-e594-463d-84f3-fe22757bde6e',\n",
       "                        [{\"alignmentgroup\": \"True\", \"hoverlabel\": {\"namelength\": 0}, \"hovertemplate\": \"active_countries=United States<br>name=%{x}<br>victims=%{y}\", \"legendgroup\": \"United States\", \"marker\": {\"color\": \"#636efa\"}, \"name\": \"United States\", \"offsetgroup\": \"United States\", \"orientation\": \"v\", \"showlegend\": true, \"textposition\": \"auto\", \"type\": \"bar\", \"x\": [\"Seminole Heights serial killer\", \"Ronald Dominique\", \"Westley Allan Dodd\", \"John Floyd Thomas, Jr.\", \"Thomas Dillon\", \"Michael Bear Carson\", \"David Carpenter\", \"Harvey Carignan\", \"Hadden Clark\", \"Larry Eyler\", \"William Clyde Gibson\", \"Mark Goudeau\", \"Billy Gohl\", \"David Alan Gore\", \"Sean Patrick Goble\", \"Billy Glaze\", \"Harvey Glatman\", \"Bernard Giles\", \"Sean Vincent Gillis\", \"Bertha Gifford\", \"Alex Henriquez\", \"Lorenzo Gilyard\", \"Kristen Gilbert\", \"Elmer Wayne Henley\", \"Boone Helm\", \"Dale Hausner\", \"Wiley Harpe\", \"William Heirens\", \"Micajah Harpe\", \"Donald Harvey\", \"Charles Ray Hatcher\", \"William Henry Hance\", \"Lizzie Halliday\", \"Robert Hansen\", \"Rodney Halbower\", \"The Springfield Three\", \"James Hall\", \"Anna Marie Hahn\", \"Belle Gunness\", \"Vaughn Greenwood\", \"murder of Rashawn Brazell\", \"Shawn Grate\", \"Dana Sue Gray\", \"Janie Lou Gibbs\", \"Gwendolyn Graham\", \"Hubert Geralds Jr.\", \"Harrison Graham\", \"Gerald Gallego\", \"Carlton Gary\", \"Donald Henry Gaskins\", \"Michael Gargiulo\", \"Charlene Gallego\", \"John Wayne Gacy\", \"Gary Evans\", \"Richard Evonitz\", \"Donald Leroy Evans\", \"Felipe Espinosa\", \"Ramon Escobar\", \"Scott Erskine\", \"Walter E. Ellis\", \"Mack Ray Edwards\", \"Edward Edwards\", \"Grim Sleeper\", \"Joseph Paul Franklin\", \"Kendall Francois\", \"Wayne Adam Ford\", \"Albert Fish\", \"Christine Laverne Falling\", \"Lorenzo Fayne\", \"Joseph Christopher\", \"Thor Nis Christiansen\", \"Billy Chemirmir\", \"Richard Chase\", \"Suzan Bear Carson\", \"Steven David Catlin\", \"Paul Durousseau\", \"Jon Scott Dunkle\", \"Joseph E. Duncan III\", \"Nannie Doss\", \"Doodler\", \"Daniel Blank\", \"Terry Blair\", \"Brian Dugan\", \"John Bittrolff\", \"Arthur Gary Bishop\", \"Lawrence Bittaker\", \"Jake Bird\", \"Kenneth Bianchi\", \"Richard Biegenwald\", \"David Berkowitz\", \"Judy Buenoano\", \"Angelo Buono\", \"Dean Corll\", \"Carol M. Bundy\", \"Ted Bundy\", \"Ray Copeland\", \"Ray and Faye Copeland\", \"Daniel Conahan\", \"Rory Enrique Conde\", \"John Norman Collins\", \"Alton Coleman\", \"Carroll Cole\", \"Cynthia Coffman\", \"Kelly Cochran\", \"Doug Clark\", \"Robert Berdella\", \"Herb Baumeister\", \"Cesar Barone\", \"Velma Barfield\", \"Joe Ball\", \"Johnny Avalos\", \"Charles Cullen\", \"Juan Covington\", \"Richard Cottingham\", \"Andre Crawford\", \"Louis Craine\", \"Tony Costa\", \"Jerry Brudos\", \"Juan Corona\", \"Lucious Boyd\", \"Robert Charles Browne\", \"Debra Brown\", \"Gary Ray Bowles\", \"William Bonin\", \"Dallen Bounds\", \"Albert DeSalvo\", \"Samuel Dieteman\", \"Jeffrey Dahmer\", \"Mike DeBardeleben\", \"Golden State Killer\", \"John Eric Armstrong\", \"Benjamin Atkins\", \"Amy Archer-Gilligan\", \"Richard Angelo\", \"Howard Allen\", \"Patricia Allanson\", \"Dale Anderson\", \"Elias Abuelazam\", \"Rodney Alcala\", \"Charles Albright\", \"Vincent Johnson\", \"Keith Hunter Jesperson\", \"Jerry Leon Johns\", \"Martha Ann Johnson\", \"Milton Johnson\", \"David Mason\", \"Dorothea Puente\", \"Stephen Richards\", \"Cleophus Prince Jr.\", \"Alfredo Prieto\", \"Craig Price\", \"Harry Powers\", \"Jesse Pomeroy\", \"Robert Ben Rhoades\", \"Paul Dennis Reid\", \"Melvin Rees\", \"David Parker Ray\", \"The Classified Ad Rapist\", \"Richard Ramirez\", \"Larry Ralston\", \"Dennis Rader\", \"Lawrence Bittaker and Roy Norris\", \"Mario Normore\", \"Marie Noe\", \"Robert Nixon\", \"Earle Nelson\", \"William Neal\", \"Joseph Naso\", \"Duke Pierson\", \"Freeway Phantom\", \"Christopher Peterson\", \"Salvatore Perrone\", \"Gerald Parker\", \"Alferd Packer\", \"Juan David Ortiz\", \"The Axeman of New Orleans\", \"Louise Peete\", \"Diane O'Dell\", \"Carl Panzram\", \"Gordon Northcott\", \"Bruce Mendenhall\", \"Patrick McCullough\", \"Kenneth McDuff\", \"David Meirhofer\", \"Lovers Lane Murders\", \"Cleveland Torso Murderer\", \"Frederick Mors\", \"Cory Deonn Morris\", \"Herbert Mullin\", \"Stephen Morin\", \"DeAngelo Martin\", \"Lee Roy Martin\", \"Rhonda Belle Martin\", \"Richard Laurence Marquette\", \"Orville Lynn Majors\", \"James Gregory Marlow\", \"Michael Madison\", \"Henry Lee Lucas\", \"Edmund Kemper\", \"Patrick Kearney\", \"Israel Keyes\", \"Joseph Kallinger\", \"Buddy Earl Justus\", \"John Joubert\", \"Genene Jones\", \"Jack Harold Jones\", \"Todd Christopher Kohlhepp\", \"Samuel Little\", \"Michael Lee Lockhart\", \"Bobbie Joe Long\", \"Adam Leroy Lane\", \"Derrick Todd Lee\", \"Peter Kudzinowski\", \"Richard Kuklinski\", \"Daytona Beach killer\", \"Phantom Killer\", \"Timothy Krajcir\", \"Flat-Tire murders\", \"Connecticut River Valley Killer\", \"Zodiac Killer\", \"Oakland County Child Killer\", \"Santa Rosa Hitchhiker Murders\", \"Colonial Parkway Murders\", \"Edgecombe County Serial Killer\", \"Long Island serial killer\", \"West Mesa murders\", \"Paul John Knowles\", \"Tillie Klimek\", \"New Bedford Highway Killer\", \"Anthony Kirkland\", \"Roger Kibbe\", \"Scott Lee Kimball\", \"Feb 9 Killer\", \"The Transgender Killer\", \"Randy Steven Kraft\", \"Vickie Dawn Jackson\", \"Phillip Carl Jablonski\", \"Leslie Irvin\", \"Thomas Huskey\", \"Waneta Hoyt\", \"Michael Hughes\", \"William Devin Howell\", \"Gary Hilton\", \"H. H. Holmes\", \"Danny Rolling\", \"Glen Edward Rogers\", \"Dayton Leroy Rogers\", \"John Edward Robinson\", \"Jose Rodriguez\", \"James Dale Ritchie\", \"Montie Rissell\", \"Harvey Miguel Robinson\", \"Robert Shulman\", \"Fred Waterfield\", \"Martha Wise\", \"Lesley Warren\", \"Robert Lee Yates\", \"Randall Woodfield\", \"Aileen Wuornos\", \"Cathy Wood\", \"James Edward Wood\", \"Robert Zarinsky\", \"Robert Joseph Zani\", \"Scott Williams\", \"Wayne Williams\", \"Christopher Wilder\", \"Nathaniel White\", \"Carl Eugene Watts\", \"Faryion Wardrip\", \"Karl F. Werner\", \"Henry Louis Wallace\", \"Darren Deon Vann\", \"Andrew Urdiales\", \"Chester Turner\", \"Ottis Toole\", \"Jane Toppan\", \"Marybeth Tinning\", \"Maury Travis\", \"Joseph \\\"Mad Dog\\\" Taborsky\", \"James Swann\", \"William Suff\", \"The Honolulu Strangler\", \"Eastbound Strangler\", \"Cincinnati Strangler\", \"Paul Michael Stephani\", \"Honolulu Strangler\", \"Cary Stayner\", \"Gerald Stano\", \"Jack Owen Spillman\", \"Timothy Wilson Spencer\", \"Anthony Sowell\", \"Lemuel Smith\", \"Morris Solomon, Jr.\", \"Lyda Southard\", \"Charlie Chop-off\", \"Gypsy Hill killings\", \"Frankford Slasher\", \"Robert Joseph Silveria, Jr.\", \"Anthony Allen Shore\", \"Daniel Lee Siebert\", \"Arthur Shawcross\", \"Ryan Sharpe\", \"Tommy Lynn Sells\", \"Lydia Sherman\", \"Heriberto Seda\", \"Gerard John Schaefer\", \"Charles Schmid\", \"Marc Sappington\", \"Altemio Sanchez\", \"Efren Saldivar\", \"Kimberly Clark Saenz\", \"Paul Rowles\", \"Atlanta Ripper\", \"Michael Bruce Ross\", \"Robert Rozier\", \"Joel Rifkin\", \"Gary Ridgway\"], \"xaxis\": \"x\", \"y\": [4, 23, 3, 25, 5, 3, 11, 5, 12, 23, 3, 9, 100, 6, 12, 20, 4, 5, 8, 17, 6, 13, 4, 6, 11, 8, 50, 3, 50, 87, 16, 4, 5, 21, 5, 54, 24, 5, 40, 13, 4, 5, 3, 5, 5, 5, 7, 10, 7, 80, 6, 10, 34, 5, 3, 70, 32, 7, 3, 20, 18, 5, 25, 20, 9, 4, 9, 6, 6, 12, 4, 18, 6, 3, 3, 9, 4, 7, 11, 14, 6, 9, 5, 3, 5, 5, 46, 15, 11, 6, 5, 10, 29, 6, 36, 12, 12, 12, 6, 8, 8, 35, 5, 11, 6, 6, 25, 4, 6, 20, 5, 45, 3, 100, 11, 5, 7, 4, 25, 10, 48, 8, 6, 36, 4, 13, 8, 17, 8, 13, 18, 11, 50, 25, 3, 3, 7, 5, 100, 3, 6, 185, 6, 4, 17, 6, 25, 9, 6, 9, 4, 5, 2, 50, 7, 9, 60, 10, 20, 5, 10, 5, 4, 8, 5, 29, 3, 10, 3, 6, 7, 3, 6, 5, 4, 6, 3, 4, 22, 20, 6, 3, 14, 4, 3, 40, 8, 6, 13, 30, 6, 3, 6, 3, 130, 5, 3, 40, 10, 43, 11, 3, 4, 3, 60, 3, 7, 93, 6, 10, 3, 10, 4, 100, 5, 5, 9, 5, 7, 37, 4, 7, 8, 10, 16, 11, 35, 7, 11, 5, 38, 4, 2, 3, 67, 20, 5, 6, 4, 5, 8, 7, 6, 27, 8, 3, 8, 8, 3, 5, 5, 3, 5, 6, 3, 8, 23, 44, 8, 5, 12, 10, 6, 3, 25, 13, 6, 80, 5, 3, 10, 18, 8, 15, 108, 31, 8, 17, 7, 4, 22, 5, 4, 7, 3, 5, 4, 41, 3, 5, 11, 6, 7, 6, 4, 5, 9, 14, 5, 13, 14, 3, 70, 12, 3, 30, 3, 4, 3, 50, 5, 3, 21, 8, 7, 17, 90], \"yaxis\": \"y\"}, {\"alignmentgroup\": \"True\", \"hoverlabel\": {\"namelength\": 0}, \"hovertemplate\": \"active_countries=Canada<br>name=%{x}<br>victims=%{y}\", \"legendgroup\": \"Canada\", \"marker\": {\"color\": \"#EF553B\"}, \"name\": \"Canada\", \"offsetgroup\": \"Canada\", \"orientation\": \"v\", \"showlegend\": true, \"textposition\": \"auto\", \"type\": \"bar\", \"x\": [\"L\\u00e9opold Dion\", \"William Patrick Fyfe\", \"Paul Bernardo\", \"John Martin Crawford\", \"Wayne Boden\", \"Russell Johnson\", \"Robert Pickton\", \"Clifford Olson\", \"Dellen Millard\", \"Bruce McArthur\", \"Gilbert Paul Jordan\", \"Allan Legere\", \"Cody Legebokoff\", \"Karla Homolka\", \"Peter Woodcock\", \"Elizabeth Wettlaufer\"], \"xaxis\": \"x\", \"y\": [4, 9, 5, 4, 4, 7, 49, 11, 3, 8, 10, 7, 4, 3, 4, 15], \"yaxis\": \"y\"}, {\"alignmentgroup\": \"True\", \"hoverlabel\": {\"namelength\": 0}, \"hovertemplate\": \"active_countries=Greece<br>name=%{x}<br>victims=%{y}\", \"legendgroup\": \"Greece\", \"marker\": {\"color\": \"#00cc96\"}, \"name\": \"Greece\", \"offsetgroup\": \"Greece\", \"orientation\": \"v\", \"showlegend\": true, \"textposition\": \"auto\", \"type\": \"bar\", \"x\": [\"Antonis Daglis\"], \"xaxis\": \"x\", \"y\": [3], \"yaxis\": \"y\"}, {\"alignmentgroup\": \"True\", \"hoverlabel\": {\"namelength\": 0}, \"hovertemplate\": \"active_countries=United States,Mexico<br>name=%{x}<br>victims=%{y}\", \"legendgroup\": \"United States,Mexico\", \"marker\": {\"color\": \"#ab63fa\"}, \"name\": \"United States,Mexico\", \"offsetgroup\": \"United States,Mexico\", \"orientation\": \"v\", \"showlegend\": true, \"textposition\": \"auto\", \"type\": \"bar\", \"x\": [\"Ricardo Caputo\", \"Adolfo Constanzo\", \"\\u00c1ngel Maturino Res\\u00e9ndiz\", \"Sharon Kinne\"], \"xaxis\": \"x\", \"y\": [6, 23, 18, 3], \"yaxis\": \"y\"}, {\"alignmentgroup\": \"True\", \"hoverlabel\": {\"namelength\": 0}, \"hovertemplate\": \"active_countries=Slovakia<br>name=%{x}<br>victims=%{y}\", \"legendgroup\": \"Slovakia\", \"marker\": {\"color\": \"#FFA15A\"}, \"name\": \"Slovakia\", \"offsetgroup\": \"Slovakia\", \"orientation\": \"v\", \"showlegend\": true, \"textposition\": \"auto\", \"type\": \"bar\", \"x\": [\"Matej Curko\", \"Elizabeth B\\u00e1thory\"], \"xaxis\": \"x\", \"y\": [30, 650], \"yaxis\": \"y\"}, {\"alignmentgroup\": \"True\", \"hoverlabel\": {\"namelength\": 0}, \"hovertemplate\": \"active_countries=United Kingdom<br>name=%{x}<br>victims=%{y}\", \"legendgroup\": \"United Kingdom\", \"marker\": {\"color\": \"#19d3f3\"}, \"name\": \"United Kingdom\", \"offsetgroup\": \"United Kingdom\", \"orientation\": \"v\", \"showlegend\": true, \"textposition\": \"auto\", \"type\": \"bar\", \"x\": [\"Steven Grieveson\", \"Anthony Hardy\", \"William Hare\", \"Trevor Hardy\", \"Archibald Hall\", \"John George Haigh\", \"Bradford murders\", \"Kenneth Erskine\", \"John Christie\", \"George Chapman\", \"Amelia Dyer\", \"Martin Dumollard\", \"John Duffy\", \"Robert Black\", \"Burke and Hare murders\", \"John Cooper\", \"Levi Bellfield\", \"Gordon Cummins\", \"Dale Cregan\", \"Mary Ann Cotton\", \"Peter Bryan\", \"Mary Ann Britland\", \"Ian Brady\", \"Joanna Dennehy\", \"Beverley Allitt\", \"Stephen Akinmurele\", \"Bible John\", \"Stephen Port\", \"Colin Norris\", \"Dennis Nilsen\", \"Donald Neilson\", \"Robert Napper\", \"Robert Maudsley\", \"John Duffy and David Mulcahy\", \"Peter Moore\", \"Peter Manuel\", \"Patrick Mackay\", \"Michael Lupo\", \"Robin Ligus\", \"Bruce George Peter Lee\", \"Aaron Kosminski\", \"Colin Ireland\", \"Myra Hindley\", \"Jack the Ripper\", \"George Joseph Smith\", \"Margaret Waters\", \"Graham Young\", \"Steve Wright\", \"Graham Young\", \"Catherine Wilson\", \"Fred West\", \"Rosemary West\", \"Annie Walters\", \"Peter Tobin\", \"Peter Sutcliffe\", \"Jack the Stripper\", \"John Straffen\", \"Angus Sinclair\", \"Harold Shipman\", \"Fredrick Demond Scott\", \"Amelia Sach\"], \"xaxis\": \"x\", \"y\": [5, 9, 16, 3, 5, 9, 14, 11, 8, 3, 100, 3, 3, 18, 16, 4, 3, 6, 4, 21, 3, 3, 5, 3, 4, 7, 3, 4, 4, 16, 4, 3, 4, 3, 4, 9, 11, 4, 3, 26, 11, 5, 5, 16, 3, 19, 3, 22, 3, 7, 13, 10, 12, 13, 15, 8, 3, 8, 250, 6, 12], \"yaxis\": \"y\"}, {\"alignmentgroup\": \"True\", \"hoverlabel\": {\"namelength\": 0}, \"hovertemplate\": \"active_countries=Japan<br>name=%{x}<br>victims=%{y}\", \"legendgroup\": \"Japan\", \"marker\": {\"color\": \"#FF6692\"}, \"name\": \"Japan\", \"offsetgroup\": \"Japan\", \"orientation\": \"v\", \"showlegend\": true, \"textposition\": \"auto\", \"type\": \"bar\", \"x\": [\"Hiroaki Hidaka\", \"Sataro Fukiage\", \"Seisaku Nakamura\", \"Akira Nishiguchi\", \"Kiyoshi \\u014ckubo\", \"Tsutomu Miyazaki\", \"Hiroshi Maeue\", \"Kiyotaka Katsuta\", \"Genzo Kurita\", \"Paraquat murders\", \"Miyuki Ishikawa\", \"Yukio Yamaji\", \"Zama Suicide Pact Slayings\"], \"xaxis\": \"x\", \"y\": [4, 7, 11, 5, 8, 4, 3, 22, 8, 12, 169, 3, 9], \"yaxis\": \"y\"}, {\"alignmentgroup\": \"True\", \"hoverlabel\": {\"namelength\": 0}, \"hovertemplate\": \"active_countries=Russia<br>name=%{x}<br>victims=%{y}\", \"legendgroup\": \"Russia\", \"marker\": {\"color\": \"#B6E880\"}, \"name\": \"Russia\", \"offsetgroup\": \"Russia\", \"orientation\": \"v\", \"showlegend\": true, \"textposition\": \"auto\", \"type\": \"bar\", \"x\": [\"Sergey Golovkin\", \"Boris Gusakov\", \"Irina Gaidamachuk\", \"Vadim Ershov\", \"Novosibirsk Serial Killer\", \"Andrei Chikatilo\", \"Nikolai Dzhumagaliev\", \"Anatoly Biryukov\", \"Alexander Bychkov\", \"Natalia Baksheev\", \"Dmitry Baksheev\", \"Valery Asratyan\", \"Vasili Komaroff\", \"Mikhail Popkov\", \"Alexander Pichushkin\", \"Gennady Mikhasevich\", \"Vladimir Mukhankin\", \"Sergei Martynov\", \"Vasiliy Kulik\", \"Anatoly Utkin\", \"Alexander Tchayka\", \"Aleksey Sukletin\", \"Alexander Spesivtsev\", \"Anatoly Slivko\", \"Tamara Samsonova\", \"Sergei Ryakhovsky\"], \"xaxis\": \"x\", \"y\": [40, 5, 17, 19, 19, 56, 100, 5, 11, 30, 30, 3, 33, 81, 60, 55, 9, 9, 13, 9, 4, 7, 82, 7, 14, 19], \"yaxis\": \"y\"}, {\"alignmentgroup\": \"True\", \"hoverlabel\": {\"namelength\": 0}, \"hovertemplate\": \"active_countries=Australia<br>name=%{x}<br>victims=%{y}\", \"legendgroup\": \"Australia\", \"marker\": {\"color\": \"#FF97FF\"}, \"name\": \"Australia\", \"offsetgroup\": \"Australia\", \"orientation\": \"v\", \"showlegend\": true, \"textposition\": \"auto\", \"type\": \"bar\", \"x\": [\"John Wayne Glover\", \"Matthew James Harris\", \"Paul Steven Haigh\", \"Caroline Grills\", \"Leonard Fraser\", \"Kathleen Folbigg\", \"Peter Dupas\", \"John Bunting\", \"Eric Edgar Cooke\", \"Gregory Brazel\", \"Paula Denyer\", \"Bandali Debs\", \"Claremont serial murders\", \"Martha Rendell\", \"Truro murders\", \"Ivan Milat\", \"William MacDonald\", \"Eddie Leonski\", \"Robert Wagner\", \"James Vlassakis\", \"Arnold Sodeman\"], \"xaxis\": \"x\", \"y\": [13, 3, 7, 4, 7, 4, 6, 11, 8, 3, 5, 5, 3, 3, 7, 7, 5, 3, 10, 4, 4], \"yaxis\": \"y\"}, {\"alignmentgroup\": \"True\", \"hoverlabel\": {\"namelength\": 0}, \"hovertemplate\": \"active_countries=Argentina<br>name=%{x}<br>victims=%{y}\", \"legendgroup\": \"Argentina\", \"marker\": {\"color\": \"#FECB52\"}, \"name\": \"Argentina\", \"offsetgroup\": \"Argentina\", \"orientation\": \"v\", \"showlegend\": true, \"textposition\": \"auto\", \"type\": \"bar\", \"x\": [\"Cayetano Santos Godino\", \"Walter Di Giusti\", \"Cayetano Domingo Grossi\", \"Florencio Fern\\u00e1ndez\", \"Robledo Puch\", \"Francisco Antonio Laureana\"], \"xaxis\": \"x\", \"y\": [4, 5, 5, 15, 11, 13], \"yaxis\": \"y\"}, {\"alignmentgroup\": \"True\", \"hoverlabel\": {\"namelength\": 0}, \"hovertemplate\": \"active_countries=Netherlands<br>name=%{x}<br>victims=%{y}\", \"legendgroup\": \"Netherlands\", \"marker\": {\"color\": \"#636efa\"}, \"name\": \"Netherlands\", \"offsetgroup\": \"Netherlands\", \"orientation\": \"v\", \"showlegend\": true, \"textposition\": \"auto\", \"type\": \"bar\", \"x\": [\"Koos Hertogs\", \"Willem van Eijk\", \"Maria Swanenburg\"], \"xaxis\": \"x\", \"y\": [12, 8, 90], \"yaxis\": \"y\"}, {\"alignmentgroup\": \"True\", \"hoverlabel\": {\"namelength\": 0}, \"hovertemplate\": \"active_countries=France<br>name=%{x}<br>victims=%{y}\", \"legendgroup\": \"France\", \"marker\": {\"color\": \"#EF553B\"}, \"name\": \"France\", \"offsetgroup\": \"France\", \"orientation\": \"v\", \"showlegend\": true, \"textposition\": \"auto\", \"type\": \"bar\", \"x\": [\"Francis Heaulme\", \"Guy Georges\", \"Michel Fourniret\", \"Pierre Chanal\", \"Gilles de Rais\", \"Marcel Petiot\", \"Thierry Paulin\", \"\\u00c9mile Louis\", \"Celine Lesage\", \"Claude Lastennet\", \"Henri D\\u00e9sir\\u00e9 Landru\", \"H\\u00e9l\\u00e8ne J\\u00e9gado\", \"Jeanne Weber\", \"Eugen Weidmann\", \"Joseph Vacher\", \"Issei Sagawa\"], \"xaxis\": \"x\", \"y\": [20, 7, 11, 8, 200, 63, 21, 7, 6, 5, 11, 36, 10, 6, 27, 1], \"yaxis\": \"y\"}, {\"alignmentgroup\": \"True\", \"hoverlabel\": {\"namelength\": 0}, \"hovertemplate\": \"active_countries=Indonesia<br>name=%{x}<br>victims=%{y}\", \"legendgroup\": \"Indonesia\", \"marker\": {\"color\": \"#00cc96\"}, \"name\": \"Indonesia\", \"offsetgroup\": \"Indonesia\", \"orientation\": \"v\", \"showlegend\": true, \"textposition\": \"auto\", \"type\": \"bar\", \"x\": [\"Verry Idham Henyansyah\", \"Ahmad Suradji\"], \"xaxis\": \"x\", \"y\": [11, 80], \"yaxis\": \"y\"}, {\"alignmentgroup\": \"True\", \"hoverlabel\": {\"namelength\": 0}, \"hovertemplate\": \"active_countries=Estonia<br>name=%{x}<br>victims=%{y}\", \"legendgroup\": \"Estonia\", \"marker\": {\"color\": \"#ab63fa\"}, \"name\": \"Estonia\", \"offsetgroup\": \"Estonia\", \"orientation\": \"v\", \"showlegend\": true, \"textposition\": \"auto\", \"type\": \"bar\", \"x\": [\"Johannes-Andreas Hanni\", \"Aleksandr Rubel\"], \"xaxis\": \"x\", \"y\": [3, 7], \"yaxis\": \"y\"}, {\"alignmentgroup\": \"True\", \"hoverlabel\": {\"namelength\": 0}, \"hovertemplate\": \"active_countries=Iran<br>name=%{x}<br>victims=%{y}\", \"legendgroup\": \"Iran\", \"marker\": {\"color\": \"#FFA15A\"}, \"name\": \"Iran\", \"offsetgroup\": \"Iran\", \"orientation\": \"v\", \"showlegend\": true, \"textposition\": \"auto\", \"type\": \"bar\", \"x\": [\"Saeed Hanaei\", \"Mohammed Bijeh\"], \"xaxis\": \"x\", \"y\": [16, 20], \"yaxis\": \"y\"}, {\"alignmentgroup\": \"True\", \"hoverlabel\": {\"namelength\": 0}, \"hovertemplate\": \"active_countries=Finland<br>name=%{x}<br>victims=%{y}\", \"legendgroup\": \"Finland\", \"marker\": {\"color\": \"#19d3f3\"}, \"name\": \"Finland\", \"offsetgroup\": \"Finland\", \"orientation\": \"v\", \"showlegend\": true, \"textposition\": \"auto\", \"type\": \"bar\", \"x\": [\"Matti Haapoja\"], \"xaxis\": \"x\", \"y\": [25], \"yaxis\": \"y\"}, {\"alignmentgroup\": \"True\", \"hoverlabel\": {\"namelength\": 0}, \"hovertemplate\": \"active_countries=Germany<br>name=%{x}<br>victims=%{y}\", \"legendgroup\": \"Germany\", \"marker\": {\"color\": \"#FF6692\"}, \"name\": \"Germany\", \"offsetgroup\": \"Germany\", \"orientation\": \"v\", \"showlegend\": true, \"textposition\": \"auto\", \"type\": \"bar\", \"x\": [\"Frank Gust\", \"Fritz Haarmann\", \"Erwin Hagedorn\", \"J\\u00fcrgen Bartsch\", \"Karl Denke\", \"Norbert Poehlke\", \"Rudolf Pleil\", \"Heinrich Pommerenke\", \"Martin Ney\", \"Paul Ogorzow\", \"Peter K\\u00fcrten\", \"Joachim Kroll\", \"Fritz Honka\", \"Niels H\\u00f6gel\", \"Elisabeth Wiese\", \"Friedrich Schumann\", \"Wolfgang Schmidt\"], \"xaxis\": \"x\", \"y\": [4, 27, 3, 4, 42, 6, 25, 4, 5, 8, 9, 14, 4, 106, 5, 6, 6], \"yaxis\": \"y\"}, {\"alignmentgroup\": \"True\", \"hoverlabel\": {\"namelength\": 0}, \"hovertemplate\": \"active_countries=Spain<br>name=%{x}<br>victims=%{y}\", \"legendgroup\": \"Spain\", \"marker\": {\"color\": \"#B6E880\"}, \"name\": \"Spain\", \"offsetgroup\": \"Spain\", \"orientation\": \"v\", \"showlegend\": true, \"textposition\": \"auto\", \"type\": \"bar\", \"x\": [\"Juan D\\u00edaz de Garayo\", \"Francisco Garc\\u00eda Escalero\", \"Gilberto Chamba\", \"Francisca Ballesteros\", \"D\\u00e1maso Rodr\\u00edguez Mart\\u00edn\", \"Enriqueta Mart\\u00ed\", \"Jose Antonio Rodriguez Vega\", \"Gustavo Romero Tercero\"], \"xaxis\": \"x\", \"y\": [6, 11, 9, 3, 3, 12, 16, 3], \"yaxis\": \"y\"}, {\"alignmentgroup\": \"True\", \"hoverlabel\": {\"namelength\": 0}, \"hovertemplate\": \"active_countries=United States,Canada<br>name=%{x}<br>victims=%{y}\", \"legendgroup\": \"United States,Canada\", \"marker\": {\"color\": \"#FF97FF\"}, \"name\": \"United States,Canada\", \"offsetgroup\": \"United States,Canada\", \"orientation\": \"v\", \"showlegend\": true, \"textposition\": \"auto\", \"type\": \"bar\", \"x\": [\"Bobby Jack Fowler\", \"Michael Wayne McGray\"], \"xaxis\": \"x\", \"y\": [20, 18], \"yaxis\": \"y\"}, {\"alignmentgroup\": \"True\", \"hoverlabel\": {\"namelength\": 0}, \"hovertemplate\": \"active_countries=Antigua<br>name=%{x}<br>victims=%{y}\", \"legendgroup\": \"Antigua\", \"marker\": {\"color\": \"#FECB52\"}, \"name\": \"Antigua\", \"offsetgroup\": \"Antigua\", \"orientation\": \"v\", \"showlegend\": true, \"textposition\": \"auto\", \"type\": \"bar\", \"x\": [\"Delano Forbes\"], \"xaxis\": \"x\", \"y\": [4], \"yaxis\": \"y\"}, {\"alignmentgroup\": \"True\", \"hoverlabel\": {\"namelength\": 0}, \"hovertemplate\": \"active_countries=Brazil<br>name=%{x}<br>victims=%{y}\", \"legendgroup\": \"Brazil\", \"marker\": {\"color\": \"#636efa\"}, \"name\": \"Brazil\", \"offsetgroup\": \"Brazil\", \"orientation\": \"v\", \"showlegend\": true, \"textposition\": \"auto\", \"type\": \"bar\", \"x\": [\"Pedro Rodrigues Filho\", \"Marcelo Andrade\", \"Francisco de Assis Pereira\", \"Paturis Park murders\", \"Thiago Henrique Gomes da Rocha\"], \"xaxis\": \"x\", \"y\": [100, 14, 11, 13, 39], \"yaxis\": \"y\"}, {\"alignmentgroup\": \"True\", \"hoverlabel\": {\"namelength\": 0}, \"hovertemplate\": \"active_countries=Czech Republic<br>name=%{x}<br>victims=%{y}\", \"legendgroup\": \"Czech Republic\", \"marker\": {\"color\": \"#EF553B\"}, \"name\": \"Czech Republic\", \"offsetgroup\": \"Czech Republic\", \"orientation\": \"v\", \"showlegend\": true, \"textposition\": \"auto\", \"type\": \"bar\", \"x\": [\"Marie Fik\\u00e1\\u010dkov\\u00e1\", \"Hubert Pil\\u010d\\u00edk\", \"V\\u00e1clav Mr\\u00e1zek\", \"Martin Leci\\u00e1n\", \"Ladislav Hojer\", \"Jiri Straka\", \"Miroslav Stehlik\"], \"xaxis\": \"x\", \"y\": [10, 10, 7, 11, 7, 3, 2], \"yaxis\": \"y\"}, {\"alignmentgroup\": \"True\", \"hoverlabel\": {\"namelength\": 0}, \"hovertemplate\": \"active_countries=Italy<br>name=%{x}<br>victims=%{y}\", \"legendgroup\": \"Italy\", \"marker\": {\"color\": \"#00cc96\"}, \"name\": \"Italy\", \"offsetgroup\": \"Italy\", \"orientation\": \"v\", \"showlegend\": true, \"textposition\": \"auto\", \"type\": \"bar\", \"x\": [\"Leonarda Cianciulli\", \"Donato Bilancia\", \"Pietro Pacciani\", \"Monster of Udine\"], \"xaxis\": \"x\", \"y\": [3, 17, 16, 16], \"yaxis\": \"y\"}, {\"alignmentgroup\": \"True\", \"hoverlabel\": {\"namelength\": 0}, \"hovertemplate\": \"active_countries=China<br>name=%{x}<br>victims=%{y}\", \"legendgroup\": \"China\", \"marker\": {\"color\": \"#ab63fa\"}, \"name\": \"China\", \"offsetgroup\": \"China\", \"orientation\": \"v\", \"showlegend\": true, \"textposition\": \"auto\", \"type\": \"bar\", \"x\": [\"Gao Chengyong\", \"Bai Baoshan\", \"Wang Qiang\", \"Zhou Kehua\", \"Zhang Jun\", \"Zhang Yongming\", \"Huang Yong\", \"Yang Xinhai\", \"Gong Runbo\"], \"xaxis\": \"x\", \"y\": [11, 15, 45, 10, 28, 17, 25, 67, 20], \"yaxis\": \"y\"}, {\"alignmentgroup\": \"True\", \"hoverlabel\": {\"namelength\": 0}, \"hovertemplate\": \"active_countries=France,Germany,Spain,Czech Republic,Italy<br>name=%{x}<br>victims=%{y}\", \"legendgroup\": \"France,Germany,Spain,Czech Republic,Italy\", \"marker\": {\"color\": \"#FFA15A\"}, \"name\": \"France,Germany,Spain,Czech Republic,Italy\", \"offsetgroup\": \"France,Germany,Spain,Czech Republic,Italy\", \"orientation\": \"v\", \"showlegend\": true, \"textposition\": \"auto\", \"type\": \"bar\", \"x\": [\"Volker Eckert\"], \"xaxis\": \"x\", \"y\": [19], \"yaxis\": \"y\"}, {\"alignmentgroup\": \"True\", \"hoverlabel\": {\"namelength\": 0}, \"hovertemplate\": \"active_countries=Belgium<br>name=%{x}<br>victims=%{y}\", \"legendgroup\": \"Belgium\", \"marker\": {\"color\": \"#19d3f3\"}, \"name\": \"Belgium\", \"offsetgroup\": \"Belgium\", \"orientation\": \"v\", \"showlegend\": true, \"textposition\": \"auto\", \"type\": \"bar\", \"x\": [\"Marc Dutroux\", \"Andr\\u00e1s P\\u00e1ndy\"], \"xaxis\": \"x\", \"y\": [11, 14], \"yaxis\": \"y\"}, {\"alignmentgroup\": \"True\", \"hoverlabel\": {\"namelength\": 0}, \"hovertemplate\": \"active_countries=South Africa<br>name=%{x}<br>victims=%{y}\", \"legendgroup\": \"South Africa\", \"marker\": {\"color\": \"#FF6692\"}, \"name\": \"South Africa\", \"offsetgroup\": \"South Africa\", \"orientation\": \"v\", \"showlegend\": true, \"textposition\": \"auto\", \"type\": \"bar\", \"x\": [\"Sibusiso Duma\", \"Asande Baninzi\", \"David Randitsheni\", \"Nicholas Lungisa Ncama\", \"Daisy de Melker\", \"Elifasi Msomi\", \"Jack Mogale\", \"Johannes Mashiane\", \"Jimmy Maketta\", \"Bulelani Mabhayi\", \"Cedric Maake\", \"Christopher Mhlengwa Zikode\", \"Elias Xitavhudzi\", \"Stewart Wilken\", \"Sipho Thwala\", \"Thozamile Taki\", \"Moses Sithole\", \"Norman Afzal Simons\", \"Samuel Sidyno\", \"Khangayi Sedumedi\"], \"xaxis\": \"x\", \"y\": [7, 18, 10, 6, 3, 15, 16, 13, 16, 20, 35, 18, 16, 10, 19, 13, 38, 22, 7, 6], \"yaxis\": \"y\"}, {\"alignmentgroup\": \"True\", \"hoverlabel\": {\"namelength\": 0}, \"hovertemplate\": \"active_countries=Ukraine<br>name=%{x}<br>victims=%{y}\", \"legendgroup\": \"Ukraine\", \"marker\": {\"color\": \"#B6E880\"}, \"name\": \"Ukraine\", \"offsetgroup\": \"Ukraine\", \"orientation\": \"v\", \"showlegend\": true, \"textposition\": \"auto\", \"type\": \"bar\", \"x\": [\"Sergei Dovzhenko\"], \"xaxis\": \"x\", \"y\": [19], \"yaxis\": \"y\"}, {\"alignmentgroup\": \"True\", \"hoverlabel\": {\"namelength\": 0}, \"hovertemplate\": \"active_countries=Colombia<br>name=%{x}<br>victims=%{y}\", \"legendgroup\": \"Colombia\", \"marker\": {\"color\": \"#FF97FF\"}, \"name\": \"Colombia\", \"offsetgroup\": \"Colombia\", \"orientation\": \"v\", \"showlegend\": true, \"textposition\": \"auto\", \"type\": \"bar\", \"x\": [\"Manuel Octavio Berm\\u00fadez Estrada\", \"Daniel Camargo Barbosa\", \"Luis Garavito\", \"Luis Gregorio Ram\\u00edrez Maestre\"], \"xaxis\": \"x\", \"y\": [50, 150, 300, 30], \"yaxis\": \"y\"}, {\"alignmentgroup\": \"True\", \"hoverlabel\": {\"namelength\": 0}, \"hovertemplate\": \"active_countries=Mexico<br>name=%{x}<br>victims=%{y}\", \"legendgroup\": \"Mexico\", \"marker\": {\"color\": \"#FECB52\"}, \"name\": \"Mexico\", \"offsetgroup\": \"Mexico\", \"orientation\": \"v\", \"showlegend\": true, \"textposition\": \"auto\", \"type\": \"bar\", \"x\": [\"Mario Alberto Sul\\u00fa Canch\\u00e9\", \"Jos\\u00e9 Luis Calva\", \"Juana Barraza\", \"Francisco Guerrero\", \"Daniel Audiel L\\u00f3pez Mart\\u00ednez\", \"Filiberto Hern\\u00e1ndez Mart\\u00ednez\", \"Ra\\u00fal Osiel Marroqu\\u00edn Reyes\", \"Gabriel Garza Hoth\"], \"xaxis\": \"x\", \"y\": [3, 8, 49, 21, 8, 6, 4, 3], \"yaxis\": \"y\"}, {\"alignmentgroup\": \"True\", \"hoverlabel\": {\"namelength\": 0}, \"hovertemplate\": \"active_countries=Namibia<br>name=%{x}<br>victims=%{y}\", \"legendgroup\": \"Namibia\", \"marker\": {\"color\": \"#636efa\"}, \"name\": \"Namibia\", \"offsetgroup\": \"Namibia\", \"orientation\": \"v\", \"showlegend\": true, \"textposition\": \"auto\", \"type\": \"bar\", \"x\": [\"B1-Butcher\"], \"xaxis\": \"x\", \"y\": [5], \"yaxis\": \"y\"}, {\"alignmentgroup\": \"True\", \"hoverlabel\": {\"namelength\": 0}, \"hovertemplate\": \"active_countries=Turkey<br>name=%{x}<br>victims=%{y}\", \"legendgroup\": \"Turkey\", \"marker\": {\"color\": \"#EF553B\"}, \"name\": \"Turkey\", \"offsetgroup\": \"Turkey\", \"orientation\": \"v\", \"showlegend\": true, \"textposition\": \"auto\", \"type\": \"bar\", \"x\": [\"Adnan \\u00c7olak\", \"\\u00d6zg\\u00fcr Dengiz\", \"S\\u00fcleyman Akta\\u015f\", \"Ali Kaya\", \"Hamdi Kayap\\u0131nar\", \"Yavuz Yap\\u0131c\\u0131o\\u011flu\"], \"xaxis\": \"x\", \"y\": [11, 3, 5, 10, 8, 40], \"yaxis\": \"y\"}, {\"alignmentgroup\": \"True\", \"hoverlabel\": {\"namelength\": 0}, \"hovertemplate\": \"active_countries=United States,United Kingdom<br>name=%{x}<br>victims=%{y}\", \"legendgroup\": \"United States,United Kingdom\", \"marker\": {\"color\": \"#00cc96\"}, \"name\": \"United States,United Kingdom\", \"offsetgroup\": \"United States,United Kingdom\", \"orientation\": \"v\", \"showlegend\": true, \"textposition\": \"auto\", \"type\": \"bar\", \"x\": [\"Thomas Neill Cream\"], \"xaxis\": \"x\", \"y\": [8], \"yaxis\": \"y\"}, {\"alignmentgroup\": \"True\", \"hoverlabel\": {\"namelength\": 0}, \"hovertemplate\": \"active_countries=Portugal<br>name=%{x}<br>victims=%{y}\", \"legendgroup\": \"Portugal\", \"marker\": {\"color\": \"#ab63fa\"}, \"name\": \"Portugal\", \"offsetgroup\": \"Portugal\", \"orientation\": \"v\", \"showlegend\": true, \"textposition\": \"auto\", \"type\": \"bar\", \"x\": [\"Ant\\u00f3nio Lu\\u00eds Costa\"], \"xaxis\": \"x\", \"y\": [3], \"yaxis\": \"y\"}, {\"alignmentgroup\": \"True\", \"hoverlabel\": {\"namelength\": 0}, \"hovertemplate\": \"active_countries=Iraq<br>name=%{x}<br>victims=%{y}\", \"legendgroup\": \"Iraq\", \"marker\": {\"color\": \"#FFA15A\"}, \"name\": \"Iraq\", \"offsetgroup\": \"Iraq\", \"orientation\": \"v\", \"showlegend\": true, \"textposition\": \"auto\", \"type\": \"bar\", \"x\": [\"Asghar the Murderer\"], \"xaxis\": \"x\", \"y\": [33], \"yaxis\": \"y\"}, {\"alignmentgroup\": \"True\", \"hoverlabel\": {\"namelength\": 0}, \"hovertemplate\": \"active_countries=Israel<br>name=%{x}<br>victims=%{y}\", \"legendgroup\": \"Israel\", \"marker\": {\"color\": \"#19d3f3\"}, \"name\": \"Israel\", \"offsetgroup\": \"Israel\", \"orientation\": \"v\", \"showlegend\": true, \"textposition\": \"auto\", \"type\": \"bar\", \"x\": [\"Nicolai Bonner\"], \"xaxis\": \"x\", \"y\": [4], \"yaxis\": \"y\"}, {\"alignmentgroup\": \"True\", \"hoverlabel\": {\"namelength\": 0}, \"hovertemplate\": \"active_countries=Austria<br>name=%{x}<br>victims=%{y}\", \"legendgroup\": \"Austria\", \"marker\": {\"color\": \"#FF6692\"}, \"name\": \"Austria\", \"offsetgroup\": \"Austria\", \"orientation\": \"v\", \"showlegend\": true, \"textposition\": \"auto\", \"type\": \"bar\", \"x\": [\"Elfriede Blauensteiner\"], \"xaxis\": \"x\", \"y\": [5], \"yaxis\": \"y\"}, {\"alignmentgroup\": \"True\", \"hoverlabel\": {\"namelength\": 0}, \"hovertemplate\": \"active_countries=Pakistan<br>name=%{x}<br>victims=%{y}\", \"legendgroup\": \"Pakistan\", \"marker\": {\"color\": \"#B6E880\"}, \"name\": \"Pakistan\", \"offsetgroup\": \"Pakistan\", \"orientation\": \"v\", \"showlegend\": true, \"textposition\": \"auto\", \"type\": \"bar\", \"x\": [\"Javed Iqbal\", \"Amir Qayyum\"], \"xaxis\": \"x\", \"y\": [100, 14], \"yaxis\": \"y\"}, {\"alignmentgroup\": \"True\", \"hoverlabel\": {\"namelength\": 0}, \"hovertemplate\": \"active_countries=Poland<br>name=%{x}<br>victims=%{y}\", \"legendgroup\": \"Poland\", \"marker\": {\"color\": \"#FF97FF\"}, \"name\": \"Poland\", \"offsetgroup\": \"Poland\", \"orientation\": \"v\", \"showlegend\": true, \"textposition\": \"auto\", \"type\": \"bar\", \"x\": [\"Joachim Knycha\\u0142a\", \"W\\u0142adys\\u0142aw Mazurkiewicz\", \"Stanis\\u0142aw Modzelewski\", \"Zdzis\\u0142aw Marchwicki\"], \"xaxis\": \"x\", \"y\": [5, 30, 8, 21], \"yaxis\": \"y\"}, {\"alignmentgroup\": \"True\", \"hoverlabel\": {\"namelength\": 0}, \"hovertemplate\": \"active_countries=Hong Kong<br>name=%{x}<br>victims=%{y}\", \"legendgroup\": \"Hong Kong\", \"marker\": {\"color\": \"#FECB52\"}, \"name\": \"Hong Kong\", \"offsetgroup\": \"Hong Kong\", \"orientation\": \"v\", \"showlegend\": true, \"textposition\": \"auto\", \"type\": \"bar\", \"x\": [\"Lam Kor-wan\", \"Lam Kwok-wai\"], \"xaxis\": \"x\", \"y\": [4, 3], \"yaxis\": \"y\"}, {\"alignmentgroup\": \"True\", \"hoverlabel\": {\"namelength\": 0}, \"hovertemplate\": \"active_countries=India<br>name=%{x}<br>victims=%{y}\", \"legendgroup\": \"India\", \"marker\": {\"color\": \"#636efa\"}, \"name\": \"India\", \"offsetgroup\": \"India\", \"orientation\": \"v\", \"showlegend\": true, \"textposition\": \"auto\", \"type\": \"bar\", \"x\": [\"Noida serial murders\", \"Umesh Reddy\", \"Motta Navas\", \"Kaluwa Patel\", \"KD Kempamma\", \"Mohan Kumar\", \"Sunil Kumar\", \"Aadesh Khamra\", \"Ripper Jayanandan\", \"M. Jaishankar\", \"Akku Yadav\", \"Satish\"], \"xaxis\": \"x\", \"y\": [19, 18, 7, 10, 6, 20, 15, 34, 7, 19, 3, 10], \"yaxis\": \"y\"}, {\"alignmentgroup\": \"True\", \"hoverlabel\": {\"namelength\": 0}, \"hovertemplate\": \"active_countries=Russia,Ukraine<br>name=%{x}<br>victims=%{y}\", \"legendgroup\": \"Russia,Ukraine\", \"marker\": {\"color\": \"#EF553B\"}, \"name\": \"Russia,Ukraine\", \"offsetgroup\": \"Russia,Ukraine\", \"orientation\": \"v\", \"showlegend\": true, \"textposition\": \"auto\", \"type\": \"bar\", \"x\": [\"Bakhtiyor Matyakubov\", \"Anatoly Onoprienko\", \"Serhiy Tkach\"], \"xaxis\": \"x\", \"y\": [11, 52, 100], \"yaxis\": \"y\"}, {\"alignmentgroup\": \"True\", \"hoverlabel\": {\"namelength\": 0}, \"hovertemplate\": \"active_countries=Croatia<br>name=%{x}<br>victims=%{y}\", \"legendgroup\": \"Croatia\", \"marker\": {\"color\": \"#00cc96\"}, \"name\": \"Croatia\", \"offsetgroup\": \"Croatia\", \"orientation\": \"v\", \"showlegend\": true, \"textposition\": \"auto\", \"type\": \"bar\", \"x\": [\"Vinko Pintari\\u0107\"], \"xaxis\": \"x\", \"y\": [5], \"yaxis\": \"y\"}, {\"alignmentgroup\": \"True\", \"hoverlabel\": {\"namelength\": 0}, \"hovertemplate\": \"active_countries=Slovenia<br>name=%{x}<br>victims=%{y}\", \"legendgroup\": \"Slovenia\", \"marker\": {\"color\": \"#ab63fa\"}, \"name\": \"Slovenia\", \"offsetgroup\": \"Slovenia\", \"orientation\": \"v\", \"showlegend\": true, \"textposition\": \"auto\", \"type\": \"bar\", \"x\": [\"Silvo Plut\", \"Metod Trobec\"], \"xaxis\": \"x\", \"y\": [3, 5], \"yaxis\": \"y\"}, {\"alignmentgroup\": \"True\", \"hoverlabel\": {\"namelength\": 0}, \"hovertemplate\": \"active_countries=Latvia<br>name=%{x}<br>victims=%{y}\", \"legendgroup\": \"Latvia\", \"marker\": {\"color\": \"#FFA15A\"}, \"name\": \"Latvia\", \"offsetgroup\": \"Latvia\", \"orientation\": \"v\", \"showlegend\": true, \"textposition\": \"auto\", \"type\": \"bar\", \"x\": [\"Kaspars Petrovs\"], \"xaxis\": \"x\", \"y\": [38], \"yaxis\": \"y\"}, {\"alignmentgroup\": \"True\", \"hoverlabel\": {\"namelength\": 0}, \"hovertemplate\": \"active_countries=Denmark<br>name=%{x}<br>victims=%{y}\", \"legendgroup\": \"Denmark\", \"marker\": {\"color\": \"#19d3f3\"}, \"name\": \"Denmark\", \"offsetgroup\": \"Denmark\", \"orientation\": \"v\", \"showlegend\": true, \"textposition\": \"auto\", \"type\": \"bar\", \"x\": [\"Dagmar Overbye\", \"Peter Lundin\"], \"xaxis\": \"x\", \"y\": [15, 4], \"yaxis\": \"y\"}, {\"alignmentgroup\": \"True\", \"hoverlabel\": {\"namelength\": 0}, \"hovertemplate\": \"active_countries=Thailand<br>name=%{x}<br>victims=%{y}\", \"legendgroup\": \"Thailand\", \"marker\": {\"color\": \"#FF6692\"}, \"name\": \"Thailand\", \"offsetgroup\": \"Thailand\", \"orientation\": \"v\", \"showlegend\": true, \"textposition\": \"auto\", \"type\": \"bar\", \"x\": [\"Apichai Ongwisit\"], \"xaxis\": \"x\", \"y\": [3], \"yaxis\": \"y\"}, {\"alignmentgroup\": \"True\", \"hoverlabel\": {\"namelength\": 0}, \"hovertemplate\": \"active_countries=Cyprus<br>name=%{x}<br>victims=%{y}\", \"legendgroup\": \"Cyprus\", \"marker\": {\"color\": \"#B6E880\"}, \"name\": \"Cyprus\", \"offsetgroup\": \"Cyprus\", \"orientation\": \"v\", \"showlegend\": true, \"textposition\": \"auto\", \"type\": \"bar\", \"x\": [\"Nikos Metaxas\"], \"xaxis\": \"x\", \"y\": [7], \"yaxis\": \"y\"}, {\"alignmentgroup\": \"True\", \"hoverlabel\": {\"namelength\": 0}, \"hovertemplate\": \"active_countries=United States,Germany<br>name=%{x}<br>victims=%{y}\", \"legendgroup\": \"United States,Germany\", \"marker\": {\"color\": \"#FF97FF\"}, \"name\": \"United States,Germany\", \"offsetgroup\": \"United States,Germany\", \"orientation\": \"v\", \"showlegend\": true, \"textposition\": \"auto\", \"type\": \"bar\", \"x\": [\"David Edward Maust\"], \"xaxis\": \"x\", \"y\": [9], \"yaxis\": \"y\"}, {\"alignmentgroup\": \"True\", \"hoverlabel\": {\"namelength\": 0}, \"hovertemplate\": \"active_countries=Egypt<br>name=%{x}<br>victims=%{y}\", \"legendgroup\": \"Egypt\", \"marker\": {\"color\": \"#FECB52\"}, \"name\": \"Egypt\", \"offsetgroup\": \"Egypt\", \"orientation\": \"v\", \"showlegend\": true, \"textposition\": \"auto\", \"type\": \"bar\", \"x\": [\"Ramadan Abdel Rehim Mansour\"], \"xaxis\": \"x\", \"y\": [32], \"yaxis\": \"y\"}, {\"alignmentgroup\": \"True\", \"hoverlabel\": {\"namelength\": 0}, \"hovertemplate\": \"active_countries=Peru<br>name=%{x}<br>victims=%{y}\", \"legendgroup\": \"Peru\", \"marker\": {\"color\": \"#636efa\"}, \"name\": \"Peru\", \"offsetgroup\": \"Peru\", \"orientation\": \"v\", \"showlegend\": true, \"textposition\": \"auto\", \"type\": \"bar\", \"x\": [\"Pedro Pablo Nakada Lude\\u00f1a\"], \"xaxis\": \"x\", \"y\": [25], \"yaxis\": \"y\"}, {\"alignmentgroup\": \"True\", \"hoverlabel\": {\"namelength\": 0}, \"hovertemplate\": \"active_countries=Japan,China<br>name=%{x}<br>victims=%{y}\", \"legendgroup\": \"Japan,China\", \"marker\": {\"color\": \"#EF553B\"}, \"name\": \"Japan,China\", \"offsetgroup\": \"Japan,China\", \"orientation\": \"v\", \"showlegend\": true, \"textposition\": \"auto\", \"type\": \"bar\", \"x\": [\"Yoshio Kodaira\"], \"xaxis\": \"x\", \"y\": [11], \"yaxis\": \"y\"}, {\"alignmentgroup\": \"True\", \"hoverlabel\": {\"namelength\": 0}, \"hovertemplate\": \"active_countries=Colombia,Peru<br>name=%{x}<br>victims=%{y}\", \"legendgroup\": \"Colombia,Peru\", \"marker\": {\"color\": \"#00cc96\"}, \"name\": \"Colombia,Peru\", \"offsetgroup\": \"Colombia,Peru\", \"orientation\": \"v\", \"showlegend\": true, \"textposition\": \"auto\", \"type\": \"bar\", \"x\": [\"Pedro L\\u00f3pez\"], \"xaxis\": \"x\", \"y\": [300], \"yaxis\": \"y\"}, {\"alignmentgroup\": \"True\", \"hoverlabel\": {\"namelength\": 0}, \"hovertemplate\": \"active_countries=Sweden<br>name=%{x}<br>victims=%{y}\", \"legendgroup\": \"Sweden\", \"marker\": {\"color\": \"#ab63fa\"}, \"name\": \"Sweden\", \"offsetgroup\": \"Sweden\", \"orientation\": \"v\", \"showlegend\": true, \"textposition\": \"auto\", \"type\": \"bar\", \"x\": [\"John Ingvar L\\u00f6vgren\"], \"xaxis\": \"x\", \"y\": [4], \"yaxis\": \"y\"}, {\"alignmentgroup\": \"True\", \"hoverlabel\": {\"namelength\": 0}, \"hovertemplate\": \"active_countries=South Korea<br>name=%{x}<br>victims=%{y}\", \"legendgroup\": \"South Korea\", \"marker\": {\"color\": \"#FFA15A\"}, \"name\": \"South Korea\", \"offsetgroup\": \"South Korea\", \"orientation\": \"v\", \"showlegend\": true, \"textposition\": \"auto\", \"type\": \"bar\", \"x\": [\"Hwaseong serial murders\", \"Kang Ho-sun\", \"Yoo Young-chul\"], \"xaxis\": \"x\", \"y\": [10, 10, 26], \"yaxis\": \"y\"}, {\"alignmentgroup\": \"True\", \"hoverlabel\": {\"namelength\": 0}, \"hovertemplate\": \"active_countries=Hungary<br>name=%{x}<br>victims=%{y}\", \"legendgroup\": \"Hungary\", \"marker\": {\"color\": \"#19d3f3\"}, \"name\": \"Hungary\", \"offsetgroup\": \"Hungary\", \"orientation\": \"v\", \"showlegend\": true, \"textposition\": \"auto\", \"type\": \"bar\", \"x\": [\"B\\u00e9la Kiss\"], \"xaxis\": \"x\", \"y\": [24], \"yaxis\": \"y\"}, {\"alignmentgroup\": \"True\", \"hoverlabel\": {\"namelength\": 0}, \"hovertemplate\": \"active_countries=Panama<br>name=%{x}<br>victims=%{y}\", \"legendgroup\": \"Panama\", \"marker\": {\"color\": \"#FF6692\"}, \"name\": \"Panama\", \"offsetgroup\": \"Panama\", \"orientation\": \"v\", \"showlegend\": true, \"textposition\": \"auto\", \"type\": \"bar\", \"x\": [\"William Dathan Holbert\"], \"xaxis\": \"x\", \"y\": [5], \"yaxis\": \"y\"}, {\"alignmentgroup\": \"True\", \"hoverlabel\": {\"namelength\": 0}, \"hovertemplate\": \"active_countries=France,India,Turkey,Greece,Afghanistan,Thailand<br>name=%{x}<br>victims=%{y}\", \"legendgroup\": \"France,India,Turkey,Greece,Afghanistan,Thailand\", \"marker\": {\"color\": \"#B6E880\"}, \"name\": \"France,India,Turkey,Greece,Afghanistan,Thailand\", \"offsetgroup\": \"France,India,Turkey,Greece,Afghanistan,Thailand\", \"orientation\": \"v\", \"showlegend\": true, \"textposition\": \"auto\", \"type\": \"bar\", \"x\": [\"Charles Sobhraj\"], \"xaxis\": \"x\", \"y\": [13], \"yaxis\": \"y\"}, {\"alignmentgroup\": \"True\", \"hoverlabel\": {\"namelength\": 0}, \"hovertemplate\": \"active_countries=Romania<br>name=%{x}<br>victims=%{y}\", \"legendgroup\": \"Romania\", \"marker\": {\"color\": \"#FF97FF\"}, \"name\": \"Romania\", \"offsetgroup\": \"Romania\", \"orientation\": \"v\", \"showlegend\": true, \"textposition\": \"auto\", \"type\": \"bar\", \"x\": [\"Vasile Tcaciuc\", \"Romulus Vere\\u0219\", \"Ion R\\u00eemaru\"], \"xaxis\": \"x\", \"y\": [26, 5, 4], \"yaxis\": \"y\"}, {\"alignmentgroup\": \"True\", \"hoverlabel\": {\"namelength\": 0}, \"hovertemplate\": \"active_countries=France,Spain,Italy<br>name=%{x}<br>victims=%{y}\", \"legendgroup\": \"France,Spain,Italy\", \"marker\": {\"color\": \"#FECB52\"}, \"name\": \"France,Spain,Italy\", \"offsetgroup\": \"France,Spain,Italy\", \"orientation\": \"v\", \"showlegend\": true, \"textposition\": \"auto\", \"type\": \"bar\", \"x\": [\"Manuel Delgado Villegas\"], \"xaxis\": \"x\", \"y\": [48], \"yaxis\": \"y\"}, {\"alignmentgroup\": \"True\", \"hoverlabel\": {\"namelength\": 0}, \"hovertemplate\": \"active_countries=Venezuela<br>name=%{x}<br>victims=%{y}\", \"legendgroup\": \"Venezuela\", \"marker\": {\"color\": \"#636efa\"}, \"name\": \"Venezuela\", \"offsetgroup\": \"Venezuela\", \"orientation\": \"v\", \"showlegend\": true, \"textposition\": \"auto\", \"type\": \"bar\", \"x\": [\"Dorangel Vargas\"], \"xaxis\": \"x\", \"y\": [10], \"yaxis\": \"y\"}, {\"alignmentgroup\": \"True\", \"hoverlabel\": {\"namelength\": 0}, \"hovertemplate\": \"active_countries=United States,Czech Republic,Austria<br>name=%{x}<br>victims=%{y}\", \"legendgroup\": \"United States,Czech Republic,Austria\", \"marker\": {\"color\": \"#EF553B\"}, \"name\": \"United States,Czech Republic,Austria\", \"offsetgroup\": \"United States,Czech Republic,Austria\", \"orientation\": \"v\", \"showlegend\": true, \"textposition\": \"auto\", \"type\": \"bar\", \"x\": [\"Jack Unterweger\"], \"xaxis\": \"x\", \"y\": [12], \"yaxis\": \"y\"}, {\"alignmentgroup\": \"True\", \"hoverlabel\": {\"namelength\": 0}, \"hovertemplate\": \"active_countries=North Macedonia<br>name=%{x}<br>victims=%{y}\", \"legendgroup\": \"North Macedonia\", \"marker\": {\"color\": \"#00cc96\"}, \"name\": \"North Macedonia\", \"offsetgroup\": \"North Macedonia\", \"orientation\": \"v\", \"showlegend\": true, \"textposition\": \"auto\", \"type\": \"bar\", \"x\": [\"Vlado Taneski\"], \"xaxis\": \"x\", \"y\": [4], \"yaxis\": \"y\"}, {\"alignmentgroup\": \"True\", \"hoverlabel\": {\"namelength\": 0}, \"hovertemplate\": \"active_countries=France,Italy<br>name=%{x}<br>victims=%{y}\", \"legendgroup\": \"France,Italy\", \"marker\": {\"color\": \"#ab63fa\"}, \"name\": \"France,Italy\", \"offsetgroup\": \"France,Italy\", \"orientation\": \"v\", \"showlegend\": true, \"textposition\": \"auto\", \"type\": \"bar\", \"x\": [\"Roberto Succo\"], \"xaxis\": \"x\", \"y\": [7], \"yaxis\": \"y\"}, {\"alignmentgroup\": \"True\", \"hoverlabel\": {\"namelength\": 0}, \"hovertemplate\": \"active_countries=Czech Republic,Slovakia<br>name=%{x}<br>victims=%{y}\", \"legendgroup\": \"Czech Republic,Slovakia\", \"marker\": {\"color\": \"#FFA15A\"}, \"name\": \"Czech Republic,Slovakia\", \"offsetgroup\": \"Czech Republic,Slovakia\", \"orientation\": \"v\", \"showlegend\": true, \"textposition\": \"auto\", \"type\": \"bar\", \"x\": [\"Jozef Slov\\u00e1k\"], \"xaxis\": \"x\", \"y\": [5], \"yaxis\": \"y\"}, {\"alignmentgroup\": \"True\", \"hoverlabel\": {\"namelength\": 0}, \"hovertemplate\": \"active_countries=Swaziland<br>name=%{x}<br>victims=%{y}\", \"legendgroup\": \"Swaziland\", \"marker\": {\"color\": \"#19d3f3\"}, \"name\": \"Swaziland\", \"offsetgroup\": \"Swaziland\", \"orientation\": \"v\", \"showlegend\": true, \"textposition\": \"auto\", \"type\": \"bar\", \"x\": [\"David Thabo Simelane\"], \"xaxis\": \"x\", \"y\": [45], \"yaxis\": \"y\"}, {\"alignmentgroup\": \"True\", \"hoverlabel\": {\"namelength\": 0}, \"hovertemplate\": \"active_countries=Chile<br>name=%{x}<br>victims=%{y}\", \"legendgroup\": \"Chile\", \"marker\": {\"color\": \"#FF6692\"}, \"name\": \"Chile\", \"offsetgroup\": \"Chile\", \"orientation\": \"v\", \"showlegend\": true, \"textposition\": \"auto\", \"type\": \"bar\", \"x\": [\"Julio P\\u00e9rez Silva\"], \"xaxis\": \"x\", \"y\": [14], \"yaxis\": \"y\"}, {\"alignmentgroup\": \"True\", \"hoverlabel\": {\"namelength\": 0}, \"hovertemplate\": \"active_countries=Afghanistan<br>name=%{x}<br>victims=%{y}\", \"legendgroup\": \"Afghanistan\", \"marker\": {\"color\": \"#B6E880\"}, \"name\": \"Afghanistan\", \"offsetgroup\": \"Afghanistan\", \"orientation\": \"v\", \"showlegend\": true, \"textposition\": \"auto\", \"type\": \"bar\", \"x\": [\"Abdullah Shah\"], \"xaxis\": \"x\", \"y\": [20], \"yaxis\": \"y\"}, {\"alignmentgroup\": \"True\", \"hoverlabel\": {\"namelength\": 0}, \"hovertemplate\": \"active_countries=Germany,Slovakia<br>name=%{x}<br>victims=%{y}\", \"legendgroup\": \"Germany,Slovakia\", \"marker\": {\"color\": \"#FF97FF\"}, \"name\": \"Germany,Slovakia\", \"offsetgroup\": \"Germany,Slovakia\", \"orientation\": \"v\", \"showlegend\": true, \"textposition\": \"auto\", \"type\": \"bar\", \"x\": [\"Ondrej Rigo\"], \"xaxis\": \"x\", \"y\": [9], \"yaxis\": \"y\"}],\n",
       "                        {\"barmode\": \"relative\", \"height\": 1000, \"legend\": {\"title\": {\"text\": \"active_countries\"}, \"tracegroupgap\": 0}, \"margin\": {\"t\": 60}, \"template\": {\"data\": {\"bar\": [{\"error_x\": {\"color\": \"#2a3f5f\"}, \"error_y\": {\"color\": \"#2a3f5f\"}, \"marker\": {\"line\": {\"color\": \"#E5ECF6\", \"width\": 0.5}}, \"type\": \"bar\"}], \"barpolar\": [{\"marker\": {\"line\": {\"color\": \"#E5ECF6\", \"width\": 0.5}}, \"type\": \"barpolar\"}], \"carpet\": [{\"aaxis\": {\"endlinecolor\": \"#2a3f5f\", \"gridcolor\": \"white\", \"linecolor\": \"white\", \"minorgridcolor\": \"white\", \"startlinecolor\": \"#2a3f5f\"}, \"baxis\": {\"endlinecolor\": \"#2a3f5f\", \"gridcolor\": \"white\", \"linecolor\": \"white\", \"minorgridcolor\": \"white\", \"startlinecolor\": \"#2a3f5f\"}, \"type\": \"carpet\"}], \"choropleth\": [{\"colorbar\": {\"outlinewidth\": 0, \"ticks\": \"\"}, \"type\": \"choropleth\"}], \"contour\": [{\"colorbar\": {\"outlinewidth\": 0, \"ticks\": \"\"}, \"colorscale\": [[0.0, \"#0d0887\"], [0.1111111111111111, \"#46039f\"], [0.2222222222222222, \"#7201a8\"], [0.3333333333333333, \"#9c179e\"], [0.4444444444444444, \"#bd3786\"], [0.5555555555555556, \"#d8576b\"], [0.6666666666666666, \"#ed7953\"], [0.7777777777777778, \"#fb9f3a\"], [0.8888888888888888, \"#fdca26\"], [1.0, \"#f0f921\"]], \"type\": \"contour\"}], \"contourcarpet\": [{\"colorbar\": {\"outlinewidth\": 0, \"ticks\": \"\"}, \"type\": \"contourcarpet\"}], \"heatmap\": [{\"colorbar\": {\"outlinewidth\": 0, \"ticks\": \"\"}, \"colorscale\": [[0.0, \"#0d0887\"], [0.1111111111111111, \"#46039f\"], [0.2222222222222222, \"#7201a8\"], [0.3333333333333333, \"#9c179e\"], [0.4444444444444444, \"#bd3786\"], [0.5555555555555556, \"#d8576b\"], [0.6666666666666666, \"#ed7953\"], [0.7777777777777778, \"#fb9f3a\"], [0.8888888888888888, \"#fdca26\"], [1.0, \"#f0f921\"]], \"type\": \"heatmap\"}], \"heatmapgl\": [{\"colorbar\": {\"outlinewidth\": 0, \"ticks\": \"\"}, \"colorscale\": [[0.0, \"#0d0887\"], [0.1111111111111111, \"#46039f\"], [0.2222222222222222, \"#7201a8\"], [0.3333333333333333, \"#9c179e\"], [0.4444444444444444, \"#bd3786\"], [0.5555555555555556, \"#d8576b\"], [0.6666666666666666, \"#ed7953\"], [0.7777777777777778, \"#fb9f3a\"], [0.8888888888888888, \"#fdca26\"], [1.0, \"#f0f921\"]], \"type\": \"heatmapgl\"}], \"histogram\": [{\"marker\": {\"colorbar\": {\"outlinewidth\": 0, \"ticks\": \"\"}}, \"type\": \"histogram\"}], \"histogram2d\": [{\"colorbar\": {\"outlinewidth\": 0, \"ticks\": \"\"}, \"colorscale\": [[0.0, \"#0d0887\"], [0.1111111111111111, \"#46039f\"], [0.2222222222222222, \"#7201a8\"], [0.3333333333333333, \"#9c179e\"], [0.4444444444444444, \"#bd3786\"], [0.5555555555555556, \"#d8576b\"], [0.6666666666666666, \"#ed7953\"], [0.7777777777777778, \"#fb9f3a\"], [0.8888888888888888, \"#fdca26\"], [1.0, \"#f0f921\"]], \"type\": \"histogram2d\"}], \"histogram2dcontour\": [{\"colorbar\": {\"outlinewidth\": 0, \"ticks\": \"\"}, \"colorscale\": [[0.0, \"#0d0887\"], [0.1111111111111111, \"#46039f\"], [0.2222222222222222, \"#7201a8\"], [0.3333333333333333, \"#9c179e\"], [0.4444444444444444, \"#bd3786\"], [0.5555555555555556, \"#d8576b\"], [0.6666666666666666, \"#ed7953\"], [0.7777777777777778, \"#fb9f3a\"], [0.8888888888888888, \"#fdca26\"], [1.0, \"#f0f921\"]], \"type\": \"histogram2dcontour\"}], \"mesh3d\": [{\"colorbar\": {\"outlinewidth\": 0, \"ticks\": \"\"}, \"type\": \"mesh3d\"}], \"parcoords\": [{\"line\": {\"colorbar\": {\"outlinewidth\": 0, \"ticks\": \"\"}}, \"type\": \"parcoords\"}], \"pie\": [{\"automargin\": true, \"type\": \"pie\"}], \"scatter\": [{\"marker\": {\"colorbar\": {\"outlinewidth\": 0, \"ticks\": \"\"}}, \"type\": \"scatter\"}], \"scatter3d\": [{\"line\": {\"colorbar\": {\"outlinewidth\": 0, \"ticks\": \"\"}}, \"marker\": {\"colorbar\": {\"outlinewidth\": 0, \"ticks\": \"\"}}, \"type\": \"scatter3d\"}], \"scattercarpet\": [{\"marker\": {\"colorbar\": {\"outlinewidth\": 0, \"ticks\": \"\"}}, \"type\": \"scattercarpet\"}], \"scattergeo\": [{\"marker\": {\"colorbar\": {\"outlinewidth\": 0, \"ticks\": \"\"}}, \"type\": \"scattergeo\"}], \"scattergl\": [{\"marker\": {\"colorbar\": {\"outlinewidth\": 0, \"ticks\": \"\"}}, \"type\": \"scattergl\"}], \"scattermapbox\": [{\"marker\": {\"colorbar\": {\"outlinewidth\": 0, \"ticks\": \"\"}}, \"type\": \"scattermapbox\"}], \"scatterpolar\": [{\"marker\": {\"colorbar\": {\"outlinewidth\": 0, \"ticks\": \"\"}}, \"type\": \"scatterpolar\"}], \"scatterpolargl\": [{\"marker\": {\"colorbar\": {\"outlinewidth\": 0, \"ticks\": \"\"}}, \"type\": \"scatterpolargl\"}], \"scatterternary\": [{\"marker\": {\"colorbar\": {\"outlinewidth\": 0, \"ticks\": \"\"}}, \"type\": \"scatterternary\"}], \"surface\": [{\"colorbar\": {\"outlinewidth\": 0, \"ticks\": \"\"}, \"colorscale\": [[0.0, \"#0d0887\"], [0.1111111111111111, \"#46039f\"], [0.2222222222222222, \"#7201a8\"], [0.3333333333333333, \"#9c179e\"], [0.4444444444444444, \"#bd3786\"], [0.5555555555555556, \"#d8576b\"], [0.6666666666666666, \"#ed7953\"], [0.7777777777777778, \"#fb9f3a\"], [0.8888888888888888, \"#fdca26\"], [1.0, \"#f0f921\"]], \"type\": \"surface\"}], \"table\": [{\"cells\": {\"fill\": {\"color\": \"#EBF0F8\"}, \"line\": {\"color\": \"white\"}}, \"header\": {\"fill\": {\"color\": \"#C8D4E3\"}, \"line\": {\"color\": \"white\"}}, \"type\": \"table\"}]}, \"layout\": {\"annotationdefaults\": {\"arrowcolor\": \"#2a3f5f\", \"arrowhead\": 0, \"arrowwidth\": 1}, \"coloraxis\": {\"colorbar\": {\"outlinewidth\": 0, \"ticks\": \"\"}}, \"colorscale\": {\"diverging\": [[0, \"#8e0152\"], [0.1, \"#c51b7d\"], [0.2, \"#de77ae\"], [0.3, \"#f1b6da\"], [0.4, \"#fde0ef\"], [0.5, \"#f7f7f7\"], [0.6, \"#e6f5d0\"], [0.7, \"#b8e186\"], [0.8, \"#7fbc41\"], [0.9, \"#4d9221\"], [1, \"#276419\"]], \"sequential\": [[0.0, \"#0d0887\"], [0.1111111111111111, \"#46039f\"], [0.2222222222222222, \"#7201a8\"], [0.3333333333333333, \"#9c179e\"], [0.4444444444444444, \"#bd3786\"], [0.5555555555555556, \"#d8576b\"], [0.6666666666666666, \"#ed7953\"], [0.7777777777777778, \"#fb9f3a\"], [0.8888888888888888, \"#fdca26\"], [1.0, \"#f0f921\"]], \"sequentialminus\": [[0.0, \"#0d0887\"], [0.1111111111111111, \"#46039f\"], [0.2222222222222222, \"#7201a8\"], [0.3333333333333333, \"#9c179e\"], [0.4444444444444444, \"#bd3786\"], [0.5555555555555556, \"#d8576b\"], [0.6666666666666666, \"#ed7953\"], [0.7777777777777778, \"#fb9f3a\"], [0.8888888888888888, \"#fdca26\"], [1.0, \"#f0f921\"]]}, \"colorway\": [\"#636efa\", \"#EF553B\", \"#00cc96\", \"#ab63fa\", \"#FFA15A\", \"#19d3f3\", \"#FF6692\", \"#B6E880\", \"#FF97FF\", \"#FECB52\"], \"font\": {\"color\": \"#2a3f5f\"}, \"geo\": {\"bgcolor\": \"white\", \"lakecolor\": \"white\", \"landcolor\": \"#E5ECF6\", \"showlakes\": true, \"showland\": true, \"subunitcolor\": \"white\"}, \"hoverlabel\": {\"align\": \"left\"}, \"hovermode\": \"closest\", \"mapbox\": {\"style\": \"light\"}, \"paper_bgcolor\": \"white\", \"plot_bgcolor\": \"#E5ECF6\", \"polar\": {\"angularaxis\": {\"gridcolor\": \"white\", \"linecolor\": \"white\", \"ticks\": \"\"}, \"bgcolor\": \"#E5ECF6\", \"radialaxis\": {\"gridcolor\": \"white\", \"linecolor\": \"white\", \"ticks\": \"\"}}, \"scene\": {\"xaxis\": {\"backgroundcolor\": \"#E5ECF6\", \"gridcolor\": \"white\", \"gridwidth\": 2, \"linecolor\": \"white\", \"showbackground\": true, \"ticks\": \"\", \"zerolinecolor\": \"white\"}, \"yaxis\": {\"backgroundcolor\": \"#E5ECF6\", \"gridcolor\": \"white\", \"gridwidth\": 2, \"linecolor\": \"white\", \"showbackground\": true, \"ticks\": \"\", \"zerolinecolor\": \"white\"}, \"zaxis\": {\"backgroundcolor\": \"#E5ECF6\", \"gridcolor\": \"white\", \"gridwidth\": 2, \"linecolor\": \"white\", \"showbackground\": true, \"ticks\": \"\", \"zerolinecolor\": \"white\"}}, \"shapedefaults\": {\"line\": {\"color\": \"#2a3f5f\"}}, \"ternary\": {\"aaxis\": {\"gridcolor\": \"white\", \"linecolor\": \"white\", \"ticks\": \"\"}, \"baxis\": {\"gridcolor\": \"white\", \"linecolor\": \"white\", \"ticks\": \"\"}, \"bgcolor\": \"#E5ECF6\", \"caxis\": {\"gridcolor\": \"white\", \"linecolor\": \"white\", \"ticks\": \"\"}}, \"title\": {\"x\": 0.05}, \"xaxis\": {\"automargin\": true, \"gridcolor\": \"white\", \"linecolor\": \"white\", \"ticks\": \"\", \"title\": {\"standoff\": 15}, \"zerolinecolor\": \"white\", \"zerolinewidth\": 2}, \"yaxis\": {\"automargin\": true, \"gridcolor\": \"white\", \"linecolor\": \"white\", \"ticks\": \"\", \"title\": {\"standoff\": 15}, \"zerolinecolor\": \"white\", \"zerolinewidth\": 2}}}, \"xaxis\": {\"anchor\": \"y\", \"domain\": [0.0, 1.0], \"title\": {\"text\": \"name\"}}, \"yaxis\": {\"anchor\": \"x\", \"domain\": [0.0, 1.0], \"title\": {\"text\": \"victims\"}}},\n",
       "                        {\"responsive\": true}\n",
       "                    ).then(function(){\n",
       "                            \n",
       "var gd = document.getElementById('c8eab6a7-e594-463d-84f3-fe22757bde6e');\n",
       "var x = new MutationObserver(function (mutations, observer) {{\n",
       "        var display = window.getComputedStyle(gd).display;\n",
       "        if (!display || display === 'none') {{\n",
       "            console.log([gd, 'removed!']);\n",
       "            Plotly.purge(gd);\n",
       "            observer.disconnect();\n",
       "        }}\n",
       "}});\n",
       "\n",
       "// Listen for the removal of the full notebook cells\n",
       "var notebookContainer = gd.closest('#notebook-container');\n",
       "if (notebookContainer) {{\n",
       "    x.observe(notebookContainer, {childList: true});\n",
       "}}\n",
       "\n",
       "// Listen for the clearing of the current output cell\n",
       "var outputEl = gd.closest('.output');\n",
       "if (outputEl) {{\n",
       "    x.observe(outputEl, {childList: true});\n",
       "}}\n",
       "\n",
       "                        })\n",
       "                };\n",
       "                });\n",
       "            </script>\n",
       "        </div>"
      ]
     },
     "metadata": {},
     "output_type": "display_data"
    }
   ],
   "source": [
    "px.bar(serial_killer,  y = 'victims', x = 'name', color = 'active_countries', height = 1000)"
   ]
  }
 ],
 "metadata": {
  "kernelspec": {
   "display_name": "Python 3",
   "language": "python",
   "name": "python3"
  },
  "language_info": {
   "codemirror_mode": {
    "name": "ipython",
    "version": 3
   },
   "file_extension": ".py",
   "mimetype": "text/x-python",
   "name": "python",
   "nbconvert_exporter": "python",
   "pygments_lexer": "ipython3",
   "version": "3.7.6"
  }
 },
 "nbformat": 4,
 "nbformat_minor": 2
}
